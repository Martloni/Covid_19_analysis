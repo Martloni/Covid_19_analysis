{
 "cells": [
  {
   "cell_type": "markdown",
   "metadata": {},
   "source": [
    "### Note on project"
   ]
  },
  {
   "cell_type": "code",
   "execution_count": 1,
   "metadata": {},
   "outputs": [
    {
     "data": {
      "text/html": [
       "        <script type=\"text/javascript\">\n",
       "        window.PlotlyConfig = {MathJaxConfig: 'local'};\n",
       "        if (window.MathJax) {MathJax.Hub.Config({SVG: {font: \"STIX-Web\"}});}\n",
       "        if (typeof require !== 'undefined') {\n",
       "        require.undef(\"plotly\");\n",
       "        requirejs.config({\n",
       "            paths: {\n",
       "                'plotly': ['https://cdn.plot.ly/plotly-latest.min']\n",
       "            }\n",
       "        });\n",
       "        require(['plotly'], function(Plotly) {\n",
       "            window._Plotly = Plotly;\n",
       "        });\n",
       "        }\n",
       "        </script>\n",
       "        "
      ]
     },
     "metadata": {},
     "output_type": "display_data"
    }
   ],
   "source": [
    "#necessary imports for data collection and visualization\n",
    "import requests,json\n",
    "import pandas as pd\n",
    "import numpy as np \n",
    "import matplotlib.pyplot as plt\n",
    "import seaborn as sns\n",
    "%matplotlib inline\n",
    "import plotly.express as px\n",
    "import plotly.graph_objects as go \n",
    "from plotly.offline import download_plotlyjs, init_notebook_mode, plot, iplot\n",
    "import plotly.io as pio\n",
    "\n",
    "#import for country code\n",
    "import country_converter as coco\n",
    "import pycountry\n",
    "\n",
    "#additional imports\n",
    "import warnings\n",
    "warnings.filterwarnings(\"ignore\")\n",
    "init_notebook_mode(connected=True)\n",
    "from IPython.display import HTML\n"
   ]
  },
  {
   "cell_type": "markdown",
   "metadata": {},
   "source": [
    "## Obtain Data"
   ]
  },
  {
   "cell_type": "code",
   "execution_count": 2,
   "metadata": {},
   "outputs": [],
   "source": [
    "#Get daily number of new reported cases of covid19 by country worldwide\n",
    "response = json.loads(requests.get(\"https://opendata.ecdc.europa.eu/covid19/casedistribution/json/\").text)"
   ]
  },
  {
   "cell_type": "code",
   "execution_count": 3,
   "metadata": {},
   "outputs": [
    {
     "name": "stdout",
     "output_type": "stream",
     "text": [
      "<class 'dict'>\n"
     ]
    }
   ],
   "source": [
    "print(type(response))"
   ]
  },
  {
   "cell_type": "code",
   "execution_count": 4,
   "metadata": {},
   "outputs": [
    {
     "name": "stdout",
     "output_type": "stream",
     "text": [
      "dict_keys(['records'])\n"
     ]
    }
   ],
   "source": [
    "print(response.keys())"
   ]
  },
  {
   "cell_type": "code",
   "execution_count": 5,
   "metadata": {},
   "outputs": [
    {
     "name": "stdout",
     "output_type": "stream",
     "text": [
      "44763\n"
     ]
    }
   ],
   "source": [
    "print(len(response['records']))"
   ]
  },
  {
   "cell_type": "code",
   "execution_count": 6,
   "metadata": {},
   "outputs": [],
   "source": [
    "#load dataframe\n",
    "data = pd.DataFrame(response['records'])"
   ]
  },
  {
   "cell_type": "code",
   "execution_count": 7,
   "metadata": {},
   "outputs": [
    {
     "data": {
      "text/html": [
       "<div>\n",
       "<style scoped>\n",
       "    .dataframe tbody tr th:only-of-type {\n",
       "        vertical-align: middle;\n",
       "    }\n",
       "\n",
       "    .dataframe tbody tr th {\n",
       "        vertical-align: top;\n",
       "    }\n",
       "\n",
       "    .dataframe thead th {\n",
       "        text-align: right;\n",
       "    }\n",
       "</style>\n",
       "<table border=\"1\" class=\"dataframe\">\n",
       "  <thead>\n",
       "    <tr style=\"text-align: right;\">\n",
       "      <th></th>\n",
       "      <th>dateRep</th>\n",
       "      <th>day</th>\n",
       "      <th>month</th>\n",
       "      <th>year</th>\n",
       "      <th>cases</th>\n",
       "      <th>deaths</th>\n",
       "      <th>countriesAndTerritories</th>\n",
       "      <th>geoId</th>\n",
       "      <th>countryterritoryCode</th>\n",
       "      <th>popData2019</th>\n",
       "      <th>continentExp</th>\n",
       "      <th>Cumulative_number_for_14_days_of_COVID-19_cases_per_100000</th>\n",
       "    </tr>\n",
       "  </thead>\n",
       "  <tbody>\n",
       "    <tr>\n",
       "      <th>0</th>\n",
       "      <td>24/09/2020</td>\n",
       "      <td>24</td>\n",
       "      <td>09</td>\n",
       "      <td>2020</td>\n",
       "      <td>25</td>\n",
       "      <td>5</td>\n",
       "      <td>Afghanistan</td>\n",
       "      <td>AF</td>\n",
       "      <td>AFG</td>\n",
       "      <td>38041757.0</td>\n",
       "      <td>Asia</td>\n",
       "      <td>1.64556017</td>\n",
       "    </tr>\n",
       "    <tr>\n",
       "      <th>1</th>\n",
       "      <td>23/09/2020</td>\n",
       "      <td>23</td>\n",
       "      <td>09</td>\n",
       "      <td>2020</td>\n",
       "      <td>71</td>\n",
       "      <td>2</td>\n",
       "      <td>Afghanistan</td>\n",
       "      <td>AF</td>\n",
       "      <td>AFG</td>\n",
       "      <td>38041757.0</td>\n",
       "      <td>Asia</td>\n",
       "      <td>1.64293148</td>\n",
       "    </tr>\n",
       "    <tr>\n",
       "      <th>2</th>\n",
       "      <td>22/09/2020</td>\n",
       "      <td>22</td>\n",
       "      <td>09</td>\n",
       "      <td>2020</td>\n",
       "      <td>30</td>\n",
       "      <td>3</td>\n",
       "      <td>Afghanistan</td>\n",
       "      <td>AF</td>\n",
       "      <td>AFG</td>\n",
       "      <td>38041757.0</td>\n",
       "      <td>Asia</td>\n",
       "      <td>1.52464041</td>\n",
       "    </tr>\n",
       "    <tr>\n",
       "      <th>3</th>\n",
       "      <td>21/09/2020</td>\n",
       "      <td>21</td>\n",
       "      <td>09</td>\n",
       "      <td>2020</td>\n",
       "      <td>0</td>\n",
       "      <td>0</td>\n",
       "      <td>Afghanistan</td>\n",
       "      <td>AF</td>\n",
       "      <td>AFG</td>\n",
       "      <td>38041757.0</td>\n",
       "      <td>Asia</td>\n",
       "      <td>1.69813397</td>\n",
       "    </tr>\n",
       "    <tr>\n",
       "      <th>4</th>\n",
       "      <td>20/09/2020</td>\n",
       "      <td>20</td>\n",
       "      <td>09</td>\n",
       "      <td>2020</td>\n",
       "      <td>125</td>\n",
       "      <td>4</td>\n",
       "      <td>Afghanistan</td>\n",
       "      <td>AF</td>\n",
       "      <td>AFG</td>\n",
       "      <td>38041757.0</td>\n",
       "      <td>Asia</td>\n",
       "      <td>1.89265706</td>\n",
       "    </tr>\n",
       "    <tr>\n",
       "      <th>5</th>\n",
       "      <td>19/09/2020</td>\n",
       "      <td>19</td>\n",
       "      <td>09</td>\n",
       "      <td>2020</td>\n",
       "      <td>47</td>\n",
       "      <td>1</td>\n",
       "      <td>Afghanistan</td>\n",
       "      <td>AF</td>\n",
       "      <td>AFG</td>\n",
       "      <td>38041757.0</td>\n",
       "      <td>Asia</td>\n",
       "      <td>1.61664457</td>\n",
       "    </tr>\n",
       "    <tr>\n",
       "      <th>6</th>\n",
       "      <td>18/09/2020</td>\n",
       "      <td>18</td>\n",
       "      <td>09</td>\n",
       "      <td>2020</td>\n",
       "      <td>0</td>\n",
       "      <td>0</td>\n",
       "      <td>Afghanistan</td>\n",
       "      <td>AF</td>\n",
       "      <td>AFG</td>\n",
       "      <td>38041757.0</td>\n",
       "      <td>Asia</td>\n",
       "      <td>1.53515517</td>\n",
       "    </tr>\n",
       "    <tr>\n",
       "      <th>7</th>\n",
       "      <td>17/09/2020</td>\n",
       "      <td>17</td>\n",
       "      <td>09</td>\n",
       "      <td>2020</td>\n",
       "      <td>17</td>\n",
       "      <td>0</td>\n",
       "      <td>Afghanistan</td>\n",
       "      <td>AF</td>\n",
       "      <td>AFG</td>\n",
       "      <td>38041757.0</td>\n",
       "      <td>Asia</td>\n",
       "      <td>1.65344624</td>\n",
       "    </tr>\n",
       "    <tr>\n",
       "      <th>8</th>\n",
       "      <td>16/09/2020</td>\n",
       "      <td>16</td>\n",
       "      <td>09</td>\n",
       "      <td>2020</td>\n",
       "      <td>40</td>\n",
       "      <td>10</td>\n",
       "      <td>Afghanistan</td>\n",
       "      <td>AF</td>\n",
       "      <td>AFG</td>\n",
       "      <td>38041757.0</td>\n",
       "      <td>Asia</td>\n",
       "      <td>1.70864874</td>\n",
       "    </tr>\n",
       "    <tr>\n",
       "      <th>9</th>\n",
       "      <td>15/09/2020</td>\n",
       "      <td>15</td>\n",
       "      <td>09</td>\n",
       "      <td>2020</td>\n",
       "      <td>99</td>\n",
       "      <td>6</td>\n",
       "      <td>Afghanistan</td>\n",
       "      <td>AF</td>\n",
       "      <td>AFG</td>\n",
       "      <td>38041757.0</td>\n",
       "      <td>Asia</td>\n",
       "      <td>1.62715933</td>\n",
       "    </tr>\n",
       "  </tbody>\n",
       "</table>\n",
       "</div>"
      ],
      "text/plain": [
       "      dateRep day month  year  cases  deaths countriesAndTerritories geoId  \\\n",
       "0  24/09/2020  24    09  2020     25       5             Afghanistan    AF   \n",
       "1  23/09/2020  23    09  2020     71       2             Afghanistan    AF   \n",
       "2  22/09/2020  22    09  2020     30       3             Afghanistan    AF   \n",
       "3  21/09/2020  21    09  2020      0       0             Afghanistan    AF   \n",
       "4  20/09/2020  20    09  2020    125       4             Afghanistan    AF   \n",
       "5  19/09/2020  19    09  2020     47       1             Afghanistan    AF   \n",
       "6  18/09/2020  18    09  2020      0       0             Afghanistan    AF   \n",
       "7  17/09/2020  17    09  2020     17       0             Afghanistan    AF   \n",
       "8  16/09/2020  16    09  2020     40      10             Afghanistan    AF   \n",
       "9  15/09/2020  15    09  2020     99       6             Afghanistan    AF   \n",
       "\n",
       "  countryterritoryCode  popData2019 continentExp  \\\n",
       "0                  AFG   38041757.0         Asia   \n",
       "1                  AFG   38041757.0         Asia   \n",
       "2                  AFG   38041757.0         Asia   \n",
       "3                  AFG   38041757.0         Asia   \n",
       "4                  AFG   38041757.0         Asia   \n",
       "5                  AFG   38041757.0         Asia   \n",
       "6                  AFG   38041757.0         Asia   \n",
       "7                  AFG   38041757.0         Asia   \n",
       "8                  AFG   38041757.0         Asia   \n",
       "9                  AFG   38041757.0         Asia   \n",
       "\n",
       "  Cumulative_number_for_14_days_of_COVID-19_cases_per_100000  \n",
       "0                                         1.64556017          \n",
       "1                                         1.64293148          \n",
       "2                                         1.52464041          \n",
       "3                                         1.69813397          \n",
       "4                                         1.89265706          \n",
       "5                                         1.61664457          \n",
       "6                                         1.53515517          \n",
       "7                                         1.65344624          \n",
       "8                                         1.70864874          \n",
       "9                                         1.62715933          "
      ]
     },
     "execution_count": 7,
     "metadata": {},
     "output_type": "execute_result"
    }
   ],
   "source": [
    "#check the first 10 rows\n",
    "data.head(10)"
   ]
  },
  {
   "cell_type": "markdown",
   "metadata": {},
   "source": [
    "## Data Cleaning"
   ]
  },
  {
   "cell_type": "code",
   "execution_count": 8,
   "metadata": {},
   "outputs": [],
   "source": [
    "#change to datetime format\n",
    "data['dateRep'] = pd.to_datetime(data['dateRep'], infer_datetime_format=True)"
   ]
  },
  {
   "cell_type": "code",
   "execution_count": 9,
   "metadata": {},
   "outputs": [
    {
     "data": {
      "text/plain": [
       "dtype('<M8[ns]')"
      ]
     },
     "execution_count": 9,
     "metadata": {},
     "output_type": "execute_result"
    }
   ],
   "source": [
    "#check column type\n",
    "data['dateRep'].dtype"
   ]
  },
  {
   "cell_type": "code",
   "execution_count": 10,
   "metadata": {},
   "outputs": [
    {
     "data": {
      "text/plain": [
       "array([ 9,  8,  7,  6,  5,  4,  3,  2,  1, 12])"
      ]
     },
     "execution_count": 10,
     "metadata": {},
     "output_type": "execute_result"
    }
   ],
   "source": [
    "#check for unique month column\n",
    "data['dateRep'].dt.month.unique()"
   ]
  },
  {
   "cell_type": "code",
   "execution_count": 11,
   "metadata": {},
   "outputs": [],
   "source": [
    "#change to string for a different time format\n",
    "data['dateRep'] = data['dateRep'].dt.strftime('%d-%b-%Y')"
   ]
  },
  {
   "cell_type": "code",
   "execution_count": 12,
   "metadata": {},
   "outputs": [
    {
     "data": {
      "text/plain": [
       "0    24-Sep-2020\n",
       "1    23-Sep-2020\n",
       "2    22-Sep-2020\n",
       "3    21-Sep-2020\n",
       "4    20-Sep-2020\n",
       "Name: dateRep, dtype: object"
      ]
     },
     "execution_count": 12,
     "metadata": {},
     "output_type": "execute_result"
    }
   ],
   "source": [
    "#current date\n",
    "data['dateRep'].head()"
   ]
  },
  {
   "cell_type": "code",
   "execution_count": 13,
   "metadata": {},
   "outputs": [
    {
     "data": {
      "text/plain": [
       "(44763, 12)"
      ]
     },
     "execution_count": 13,
     "metadata": {},
     "output_type": "execute_result"
    }
   ],
   "source": [
    "#Get shape of data\n",
    "data.shape"
   ]
  },
  {
   "cell_type": "code",
   "execution_count": 14,
   "metadata": {},
   "outputs": [
    {
     "name": "stdout",
     "output_type": "stream",
     "text": [
      "<class 'pandas.core.frame.DataFrame'>\n",
      "RangeIndex: 44763 entries, 0 to 44762\n",
      "Data columns (total 12 columns):\n",
      " #   Column                                                      Non-Null Count  Dtype  \n",
      "---  ------                                                      --------------  -----  \n",
      " 0   dateRep                                                     44763 non-null  object \n",
      " 1   day                                                         44763 non-null  object \n",
      " 2   month                                                       44763 non-null  object \n",
      " 3   year                                                        44763 non-null  object \n",
      " 4   cases                                                       44763 non-null  int64  \n",
      " 5   deaths                                                      44763 non-null  int64  \n",
      " 6   countriesAndTerritories                                     44763 non-null  object \n",
      " 7   geoId                                                       44763 non-null  object \n",
      " 8   countryterritoryCode                                        44699 non-null  object \n",
      " 9   popData2019                                                 44699 non-null  float64\n",
      " 10  continentExp                                                44763 non-null  object \n",
      " 11  Cumulative_number_for_14_days_of_COVID-19_cases_per_100000  44763 non-null  object \n",
      "dtypes: float64(1), int64(2), object(9)\n",
      "memory usage: 4.1+ MB\n"
     ]
    }
   ],
   "source": [
    "#quick info on the data \n",
    "data.info()"
   ]
  },
  {
   "cell_type": "code",
   "execution_count": 15,
   "metadata": {},
   "outputs": [
    {
     "data": {
      "text/html": [
       "<div>\n",
       "<style scoped>\n",
       "    .dataframe tbody tr th:only-of-type {\n",
       "        vertical-align: middle;\n",
       "    }\n",
       "\n",
       "    .dataframe tbody tr th {\n",
       "        vertical-align: top;\n",
       "    }\n",
       "\n",
       "    .dataframe thead th {\n",
       "        text-align: right;\n",
       "    }\n",
       "</style>\n",
       "<table border=\"1\" class=\"dataframe\">\n",
       "  <thead>\n",
       "    <tr style=\"text-align: right;\">\n",
       "      <th></th>\n",
       "      <th>count</th>\n",
       "      <th>mean</th>\n",
       "      <th>std</th>\n",
       "      <th>min</th>\n",
       "      <th>25%</th>\n",
       "      <th>50%</th>\n",
       "      <th>75%</th>\n",
       "      <th>max</th>\n",
       "    </tr>\n",
       "  </thead>\n",
       "  <tbody>\n",
       "    <tr>\n",
       "      <th>cases</th>\n",
       "      <td>44763.0</td>\n",
       "      <td>7.141934e+02</td>\n",
       "      <td>4.433377e+03</td>\n",
       "      <td>-8261.0</td>\n",
       "      <td>0.0</td>\n",
       "      <td>10.0</td>\n",
       "      <td>154.0</td>\n",
       "      <td>9.789400e+04</td>\n",
       "    </tr>\n",
       "    <tr>\n",
       "      <th>deaths</th>\n",
       "      <td>44763.0</td>\n",
       "      <td>2.185475e+01</td>\n",
       "      <td>1.261882e+02</td>\n",
       "      <td>-1918.0</td>\n",
       "      <td>0.0</td>\n",
       "      <td>0.0</td>\n",
       "      <td>3.0</td>\n",
       "      <td>4.928000e+03</td>\n",
       "    </tr>\n",
       "    <tr>\n",
       "      <th>popData2019</th>\n",
       "      <td>44699.0</td>\n",
       "      <td>4.272616e+07</td>\n",
       "      <td>1.575111e+08</td>\n",
       "      <td>815.0</td>\n",
       "      <td>1355982.0</td>\n",
       "      <td>8082359.0</td>\n",
       "      <td>29161922.0</td>\n",
       "      <td>1.433784e+09</td>\n",
       "    </tr>\n",
       "  </tbody>\n",
       "</table>\n",
       "</div>"
      ],
      "text/plain": [
       "               count          mean           std     min        25%  \\\n",
       "cases        44763.0  7.141934e+02  4.433377e+03 -8261.0        0.0   \n",
       "deaths       44763.0  2.185475e+01  1.261882e+02 -1918.0        0.0   \n",
       "popData2019  44699.0  4.272616e+07  1.575111e+08   815.0  1355982.0   \n",
       "\n",
       "                   50%         75%           max  \n",
       "cases             10.0       154.0  9.789400e+04  \n",
       "deaths             0.0         3.0  4.928000e+03  \n",
       "popData2019  8082359.0  29161922.0  1.433784e+09  "
      ]
     },
     "execution_count": 15,
     "metadata": {},
     "output_type": "execute_result"
    }
   ],
   "source": [
    "#numeric data description: cases, death, country_population\n",
    "data.describe().transpose()"
   ]
  },
  {
   "cell_type": "code",
   "execution_count": 16,
   "metadata": {},
   "outputs": [
    {
     "data": {
      "text/plain": [
       "countriesAndTerritories    210\n",
       "geoId                      210\n",
       "countryterritoryCode       209\n",
       "continentExp                 6\n",
       "dtype: int64"
      ]
     },
     "execution_count": 16,
     "metadata": {},
     "output_type": "execute_result"
    }
   ],
   "source": [
    "#checking for number of uniqe territories, and country code\n",
    "data[['countriesAndTerritories', 'geoId', 'countryterritoryCode', 'continentExp']].nunique()"
   ]
  },
  {
   "cell_type": "markdown",
   "metadata": {},
   "source": [
    "## Exploratory Data analysis\n",
    "\n",
    "***"
   ]
  },
  {
   "cell_type": "markdown",
   "metadata": {},
   "source": [
    "### Global reported number of cases and deaths till date"
   ]
  },
  {
   "cell_type": "code",
   "execution_count": 17,
   "metadata": {},
   "outputs": [
    {
     "data": {
      "text/html": [
       "<style  type=\"text/css\" >\n",
       "    #T_dac64c78_fef4_11ea_be99_88e9fe4c695erow0_col0 {\n",
       "            background-color:  #313695;\n",
       "            color:  #f1f1f1;\n",
       "        }    #T_dac64c78_fef4_11ea_be99_88e9fe4c695erow0_col1 {\n",
       "            background-color:  #b30d26;\n",
       "            color:  #f1f1f1;\n",
       "        }    #T_dac64c78_fef4_11ea_be99_88e9fe4c695erow0_col2 {\n",
       "            background-color:  #a50026;\n",
       "            color:  #f1f1f1;\n",
       "        }</style><table id=\"T_dac64c78_fef4_11ea_be99_88e9fe4c695e\" ><thead>    <tr>        <th class=\"blank level0\" ></th>        <th class=\"col_heading level0 col0\" >cases</th>        <th class=\"col_heading level0 col1\" >deaths</th>        <th class=\"col_heading level0 col2\" >Mortality rate (per 100)</th>    </tr></thead><tbody>\n",
       "                <tr>\n",
       "                        <th id=\"T_dac64c78_fef4_11ea_be99_88e9fe4c695elevel0_row0\" class=\"row_heading level0 row0\" >Global</th>\n",
       "                        <td id=\"T_dac64c78_fef4_11ea_be99_88e9fe4c695erow0_col0\" class=\"data row0 col0\" >31969439</td>\n",
       "                        <td id=\"T_dac64c78_fef4_11ea_be99_88e9fe4c695erow0_col1\" class=\"data row0 col1\" >978284</td>\n",
       "                        <td id=\"T_dac64c78_fef4_11ea_be99_88e9fe4c695erow0_col2\" class=\"data row0 col2\" >3.06</td>\n",
       "            </tr>\n",
       "    </tbody></table>"
      ],
      "text/plain": [
       "<pandas.io.formats.style.Styler at 0x1239d1590>"
      ]
     },
     "execution_count": 17,
     "metadata": {},
     "output_type": "execute_result"
    }
   ],
   "source": [
    "#Global cases and death, with mortality rate of covid 19\n",
    "global_df = pd.DataFrame(data[['cases', 'deaths']].sum()).transpose()\n",
    "global_df['Mortality rate (per 100)'] = np.round(100*global_df[\"deaths\"]/global_df[\"cases\"],2)\n",
    "global_df = global_df.rename({0: 'Global'})\n",
    "global_df.style.background_gradient(cmap='RdYlBu',axis=1).format(\"{:.2f}\").format(\"{:.0f}\",subset=[\"cases\",\"deaths\"])"
   ]
  },
  {
   "cell_type": "markdown",
   "metadata": {},
   "source": [
    "### Covid 19 **cases** in each continent"
   ]
  },
  {
   "cell_type": "code",
   "execution_count": 18,
   "metadata": {},
   "outputs": [
    {
     "data": {
      "text/plain": [
       "Text(0, 0.5, 'Total number of people with confirmed cases/Death (in million)')"
      ]
     },
     "execution_count": 18,
     "metadata": {},
     "output_type": "execute_result"
    },
    {
     "data": {
      "image/png": "[encoded data removed]",
      "text/plain": [
       "<Figure size 720x576 with 1 Axes>"
      ]
     },
     "metadata": {
      "needs_background": "light"
     },
     "output_type": "display_data"
    }
   ],
   "source": [
    "cases_and_death_in_each_continent = data.groupby('continentExp')[['cases']].sum() #Get total number of cases per continent\n",
    "ax = cases_and_death_in_each_continent[['cases']].plot(kind='bar', figsize = (10, 8), color = 'darkblue') #bar plot\n",
    "for p in ax.patches:\n",
    "    ax.annotate(str(p.get_height()), (p.get_x() * 1.005, p.get_height() * 1.005)) #for annotating the bars\n",
    "plt.xlabel('Continent', fontsize = 16)\n",
    "plt.ylabel('Total number of people with confirmed cases/Death (in million)', fontsize = 12)"
   ]
  },
  {
   "cell_type": "markdown",
   "metadata": {},
   "source": [
    "### Covid 19 **death** in each continent"
   ]
  },
  {
   "cell_type": "code",
   "execution_count": 19,
   "metadata": {},
   "outputs": [],
   "source": [
    "death_and_cases_per_continent = data.groupby('continentExp')['cases', 'deaths'].sum()"
   ]
  },
  {
   "cell_type": "code",
   "execution_count": 20,
   "metadata": {},
   "outputs": [],
   "source": [
    "death_and_cases_per_continent['Mortality Rate (per 100)'] = np.round(100 * death_and_cases_per_continent['deaths']/death_and_cases_per_continent['cases'], 2) #calculating mortality rate "
   ]
  },
  {
   "cell_type": "code",
   "execution_count": 21,
   "metadata": {},
   "outputs": [
    {
     "data": {
      "text/html": [
       "<style  type=\"text/css\" >\n",
       "    #T_daf9c940_fef4_11ea_be99_88e9fe4c695erow0_col0 {\n",
       "            background-color:  #08306b;\n",
       "            color:  #f1f1f1;\n",
       "        }    #T_daf9c940_fef4_11ea_be99_88e9fe4c695erow0_col1 {\n",
       "            background-color:  #67000d;\n",
       "            color:  #f1f1f1;\n",
       "        }    #T_daf9c940_fef4_11ea_be99_88e9fe4c695erow0_col2 {\n",
       "            background-color:  #e66a11;\n",
       "            color:  #000000;\n",
       "        }    #T_daf9c940_fef4_11ea_be99_88e9fe4c695erow1_col0 {\n",
       "            background-color:  #4896c8;\n",
       "            color:  #000000;\n",
       "        }    #T_daf9c940_fef4_11ea_be99_88e9fe4c695erow1_col1 {\n",
       "            background-color:  #fca082;\n",
       "            color:  #000000;\n",
       "        }    #T_daf9c940_fef4_11ea_be99_88e9fe4c695erow1_col2 {\n",
       "            background-color:  #fee697;\n",
       "            color:  #000000;\n",
       "        }    #T_daf9c940_fef4_11ea_be99_88e9fe4c695erow2_col0 {\n",
       "            background-color:  #b8d5ea;\n",
       "            color:  #000000;\n",
       "        }    #T_daf9c940_fef4_11ea_be99_88e9fe4c695erow2_col1 {\n",
       "            background-color:  #fc8969;\n",
       "            color:  #000000;\n",
       "        }    #T_daf9c940_fef4_11ea_be99_88e9fe4c695erow2_col2 {\n",
       "            background-color:  #662506;\n",
       "            color:  #f1f1f1;\n",
       "        }    #T_daf9c940_fef4_11ea_be99_88e9fe4c695erow3_col0 {\n",
       "            background-color:  #e6f0f9;\n",
       "            color:  #000000;\n",
       "        }    #T_daf9c940_fef4_11ea_be99_88e9fe4c695erow3_col1 {\n",
       "            background-color:  #feeae1;\n",
       "            color:  #000000;\n",
       "        }    #T_daf9c940_fef4_11ea_be99_88e9fe4c695erow3_col2 {\n",
       "            background-color:  #fec24d;\n",
       "            color:  #000000;\n",
       "        }    #T_daf9c940_fef4_11ea_be99_88e9fe4c695erow4_col0 {\n",
       "            background-color:  #f7fbff;\n",
       "            color:  #000000;\n",
       "        }    #T_daf9c940_fef4_11ea_be99_88e9fe4c695erow4_col1 {\n",
       "            background-color:  #fff5f0;\n",
       "            color:  #000000;\n",
       "        }    #T_daf9c940_fef4_11ea_be99_88e9fe4c695erow4_col2 {\n",
       "            background-color:  #fd9627;\n",
       "            color:  #000000;\n",
       "        }    #T_daf9c940_fef4_11ea_be99_88e9fe4c695erow5_col0 {\n",
       "            background-color:  #f7fbff;\n",
       "            color:  #000000;\n",
       "        }    #T_daf9c940_fef4_11ea_be99_88e9fe4c695erow5_col1 {\n",
       "            background-color:  #fff5f0;\n",
       "            color:  #000000;\n",
       "        }    #T_daf9c940_fef4_11ea_be99_88e9fe4c695erow5_col2 {\n",
       "            background-color:  #ffffe5;\n",
       "            color:  #000000;\n",
       "        }</style><table id=\"T_daf9c940_fef4_11ea_be99_88e9fe4c695e\" ><thead>    <tr>        <th class=\"blank level0\" ></th>        <th class=\"col_heading level0 col0\" >cases</th>        <th class=\"col_heading level0 col1\" >deaths</th>        <th class=\"col_heading level0 col2\" >Mortality Rate (per 100)</th>    </tr>    <tr>        <th class=\"index_name level0\" >continentExp</th>        <th class=\"blank\" ></th>        <th class=\"blank\" ></th>        <th class=\"blank\" ></th>    </tr></thead><tbody>\n",
       "                <tr>\n",
       "                        <th id=\"T_daf9c940_fef4_11ea_be99_88e9fe4c695elevel0_row0\" class=\"row_heading level0 row0\" >America</th>\n",
       "                        <td id=\"T_daf9c940_fef4_11ea_be99_88e9fe4c695erow0_col0\" class=\"data row0 col0\" >16032673</td>\n",
       "                        <td id=\"T_daf9c940_fef4_11ea_be99_88e9fe4c695erow0_col1\" class=\"data row0 col1\" >541624</td>\n",
       "                        <td id=\"T_daf9c940_fef4_11ea_be99_88e9fe4c695erow0_col2\" class=\"data row0 col2\" >3.380000</td>\n",
       "            </tr>\n",
       "            <tr>\n",
       "                        <th id=\"T_daf9c940_fef4_11ea_be99_88e9fe4c695elevel0_row1\" class=\"row_heading level0 row1\" >Asia</th>\n",
       "                        <td id=\"T_daf9c940_fef4_11ea_be99_88e9fe4c695erow1_col0\" class=\"data row1 col0\" >9766032</td>\n",
       "                        <td id=\"T_daf9c940_fef4_11ea_be99_88e9fe4c695erow1_col1\" class=\"data row1 col1\" >181268</td>\n",
       "                        <td id=\"T_daf9c940_fef4_11ea_be99_88e9fe4c695erow1_col2\" class=\"data row1 col2\" >1.860000</td>\n",
       "            </tr>\n",
       "            <tr>\n",
       "                        <th id=\"T_daf9c940_fef4_11ea_be99_88e9fe4c695elevel0_row2\" class=\"row_heading level0 row2\" >Europe</th>\n",
       "                        <td id=\"T_daf9c940_fef4_11ea_be99_88e9fe4c695erow2_col0\" class=\"data row2 col0\" >4707458</td>\n",
       "                        <td id=\"T_daf9c940_fef4_11ea_be99_88e9fe4c695erow2_col1\" class=\"data row2 col1\" >219918</td>\n",
       "                        <td id=\"T_daf9c940_fef4_11ea_be99_88e9fe4c695erow2_col2\" class=\"data row2 col2\" >4.670000</td>\n",
       "            </tr>\n",
       "            <tr>\n",
       "                        <th id=\"T_daf9c940_fef4_11ea_be99_88e9fe4c695elevel0_row3\" class=\"row_heading level0 row3\" >Africa</th>\n",
       "                        <td id=\"T_daf9c940_fef4_11ea_be99_88e9fe4c695erow3_col0\" class=\"data row3 col0\" >1429911</td>\n",
       "                        <td id=\"T_daf9c940_fef4_11ea_be99_88e9fe4c695erow3_col1\" class=\"data row3 col1\" >34529</td>\n",
       "                        <td id=\"T_daf9c940_fef4_11ea_be99_88e9fe4c695erow3_col2\" class=\"data row3 col2\" >2.410000</td>\n",
       "            </tr>\n",
       "            <tr>\n",
       "                        <th id=\"T_daf9c940_fef4_11ea_be99_88e9fe4c695elevel0_row4\" class=\"row_heading level0 row4\" >Oceania</th>\n",
       "                        <td id=\"T_daf9c940_fef4_11ea_be99_88e9fe4c695erow4_col0\" class=\"data row4 col0\" >32669</td>\n",
       "                        <td id=\"T_daf9c940_fef4_11ea_be99_88e9fe4c695erow4_col1\" class=\"data row4 col1\" >938</td>\n",
       "                        <td id=\"T_daf9c940_fef4_11ea_be99_88e9fe4c695erow4_col2\" class=\"data row4 col2\" >2.870000</td>\n",
       "            </tr>\n",
       "            <tr>\n",
       "                        <th id=\"T_daf9c940_fef4_11ea_be99_88e9fe4c695elevel0_row5\" class=\"row_heading level0 row5\" >Other</th>\n",
       "                        <td id=\"T_daf9c940_fef4_11ea_be99_88e9fe4c695erow5_col0\" class=\"data row5 col0\" >696</td>\n",
       "                        <td id=\"T_daf9c940_fef4_11ea_be99_88e9fe4c695erow5_col1\" class=\"data row5 col1\" >7</td>\n",
       "                        <td id=\"T_daf9c940_fef4_11ea_be99_88e9fe4c695erow5_col2\" class=\"data row5 col2\" >1.010000</td>\n",
       "            </tr>\n",
       "    </tbody></table>"
      ],
      "text/plain": [
       "<pandas.io.formats.style.Styler at 0x11e9adb10>"
      ]
     },
     "execution_count": 21,
     "metadata": {},
     "output_type": "execute_result"
    }
   ],
   "source": [
    "death_and_cases_per_continent.sort_values('cases', ascending = False).style.background_gradient(cmap='Blues', subset=['cases'])\\\n",
    "                        .background_gradient(cmap='Reds',subset=[\"deaths\"])\\\n",
    "                        .background_gradient(cmap='YlOrBr',subset=[\"Mortality Rate (per 100)\"])\\\n"
   ]
  },
  {
   "cell_type": "code",
   "execution_count": 22,
   "metadata": {},
   "outputs": [
    {
     "data": {
      "text/plain": [
       "Text(0.5, 1.0, 'Total deaths in each continent')"
      ]
     },
     "execution_count": 22,
     "metadata": {},
     "output_type": "execute_result"
    },
    {
     "data": {
      "image/png": "[encoded data removed]",
      "text/plain": [
       "<Figure size 720x576 with 1 Axes>"
      ]
     },
     "metadata": {
      "needs_background": "light"
     },
     "output_type": "display_data"
    }
   ],
   "source": [
    "#check for number of de\n",
    "plt.figure(figsize=(10, 8))\n",
    "ax2 = data.groupby('continentExp')['deaths'].sum().plot(kind='bar', color = 'red') #grouby continent, calculate total deaths and plot bar\n",
    "for p2 in ax2.patches:\n",
    "    ax2.annotate(str(p2.get_height()), (p2.get_x() * 1.005, p2.get_height() * 1.005))\n",
    "plt.xlabel('Continent', fontsize = 16)\n",
    "plt.ylabel('Total death', fontsize = 16)\n",
    "plt.title('Total deaths in each continent', fontsize=20)"
   ]
  },
  {
   "cell_type": "markdown",
   "metadata": {},
   "source": [
    "##### The America continent has the total number of death"
   ]
  },
  {
   "cell_type": "markdown",
   "metadata": {},
   "source": [
    "### Trend of covid19 death trend in each continent"
   ]
  },
  {
   "cell_type": "code",
   "execution_count": 23,
   "metadata": {},
   "outputs": [],
   "source": [
    "#convert initial columns of date, year, and month to datetime object\n",
    "data['day'] = data['dateRep'].apply(lambda x: int(x.split('-')[0]))\n",
    "data['month'] = data['dateRep'].apply(lambda x: x.split('-')[1])\n",
    "data['year'] = data['dateRep'].apply(lambda x: int(x.split('-')[2]))"
   ]
  },
  {
   "cell_type": "code",
   "execution_count": 24,
   "metadata": {},
   "outputs": [
    {
     "data": {
      "text/plain": [
       "dateRep                                                        object\n",
       "day                                                             int64\n",
       "month                                                          object\n",
       "year                                                            int64\n",
       "cases                                                           int64\n",
       "deaths                                                          int64\n",
       "countriesAndTerritories                                        object\n",
       "geoId                                                          object\n",
       "countryterritoryCode                                           object\n",
       "popData2019                                                   float64\n",
       "continentExp                                                   object\n",
       "Cumulative_number_for_14_days_of_COVID-19_cases_per_100000     object\n",
       "dtype: object"
      ]
     },
     "execution_count": 24,
     "metadata": {},
     "output_type": "execute_result"
    }
   ],
   "source": [
    "#check data type\n",
    "data.dtypes"
   ]
  },
  {
   "cell_type": "code",
   "execution_count": 25,
   "metadata": {},
   "outputs": [],
   "source": [
    "#pivot table to get the number of deaths in each month relative to each continent\n",
    "deaths_per_month_per_continent = pd.pivot_table(data = data, values = 'deaths', index = 'month', columns = 'continentExp', fill_value=0, aggfunc = 'sum')"
   ]
  },
  {
   "cell_type": "code",
   "execution_count": 26,
   "metadata": {},
   "outputs": [],
   "source": [
    "#rearrange index row\n",
    "deaths_per_month_per_continent = deaths_per_month_per_continent.reindex([\"Jan\", \"Feb\", \"Mar\", 'Apr', 'May', 'Jun', 'Jul', 'Aug', 'Sep'])"
   ]
  },
  {
   "cell_type": "code",
   "execution_count": 27,
   "metadata": {},
   "outputs": [],
   "source": [
    "deaths_per_month_per_continent = deaths_per_month_per_continent[deaths_per_month_per_continent.sum().sort_values(ascending = False).index]"
   ]
  },
  {
   "cell_type": "code",
   "execution_count": 28,
   "metadata": {},
   "outputs": [
    {
     "data": {
      "text/html": [
       "<style  type=\"text/css\" >\n",
       "    #T_db56a674_fef4_11ea_be99_88e9fe4c695erow0_col0 {\n",
       "            background-color:  #e41a1c;\n",
       "            color:  #f1f1f1;\n",
       "        }    #T_db56a674_fef4_11ea_be99_88e9fe4c695erow0_col1 {\n",
       "            background-color:  #e41a1c;\n",
       "            color:  #f1f1f1;\n",
       "        }    #T_db56a674_fef4_11ea_be99_88e9fe4c695erow0_col2 {\n",
       "            background-color:  #e41a1c;\n",
       "            color:  #f1f1f1;\n",
       "        }    #T_db56a674_fef4_11ea_be99_88e9fe4c695erow0_col3 {\n",
       "            background-color:  #e41a1c;\n",
       "            color:  #f1f1f1;\n",
       "        }    #T_db56a674_fef4_11ea_be99_88e9fe4c695erow0_col4 {\n",
       "            background-color:  #e41a1c;\n",
       "            color:  #f1f1f1;\n",
       "        }    #T_db56a674_fef4_11ea_be99_88e9fe4c695erow0_col5 {\n",
       "            background-color:  #e41a1c;\n",
       "            color:  #f1f1f1;\n",
       "        }    #T_db56a674_fef4_11ea_be99_88e9fe4c695erow1_col0 {\n",
       "            background-color:  #e41a1c;\n",
       "            color:  #f1f1f1;\n",
       "        }    #T_db56a674_fef4_11ea_be99_88e9fe4c695erow1_col1 {\n",
       "            background-color:  #e41a1c;\n",
       "            color:  #f1f1f1;\n",
       "        }    #T_db56a674_fef4_11ea_be99_88e9fe4c695erow1_col2 {\n",
       "            background-color:  #e41a1c;\n",
       "            color:  #f1f1f1;\n",
       "        }    #T_db56a674_fef4_11ea_be99_88e9fe4c695erow1_col3 {\n",
       "            background-color:  #e41a1c;\n",
       "            color:  #f1f1f1;\n",
       "        }    #T_db56a674_fef4_11ea_be99_88e9fe4c695erow1_col4 {\n",
       "            background-color:  #e41a1c;\n",
       "            color:  #f1f1f1;\n",
       "        }    #T_db56a674_fef4_11ea_be99_88e9fe4c695erow1_col5 {\n",
       "            background-color:  #999999;\n",
       "            color:  #000000;\n",
       "        }    #T_db56a674_fef4_11ea_be99_88e9fe4c695erow2_col0 {\n",
       "            background-color:  #e41a1c;\n",
       "            color:  #f1f1f1;\n",
       "        }    #T_db56a674_fef4_11ea_be99_88e9fe4c695erow2_col1 {\n",
       "            background-color:  #4daf4a;\n",
       "            color:  #000000;\n",
       "        }    #T_db56a674_fef4_11ea_be99_88e9fe4c695erow2_col2 {\n",
       "            background-color:  #e41a1c;\n",
       "            color:  #f1f1f1;\n",
       "        }    #T_db56a674_fef4_11ea_be99_88e9fe4c695erow2_col3 {\n",
       "            background-color:  #e41a1c;\n",
       "            color:  #f1f1f1;\n",
       "        }    #T_db56a674_fef4_11ea_be99_88e9fe4c695erow2_col4 {\n",
       "            background-color:  #e41a1c;\n",
       "            color:  #f1f1f1;\n",
       "        }    #T_db56a674_fef4_11ea_be99_88e9fe4c695erow2_col5 {\n",
       "            background-color:  #377eb8;\n",
       "            color:  #000000;\n",
       "        }    #T_db56a674_fef4_11ea_be99_88e9fe4c695erow3_col0 {\n",
       "            background-color:  #ffff33;\n",
       "            color:  #000000;\n",
       "        }    #T_db56a674_fef4_11ea_be99_88e9fe4c695erow3_col1 {\n",
       "            background-color:  #999999;\n",
       "            color:  #000000;\n",
       "        }    #T_db56a674_fef4_11ea_be99_88e9fe4c695erow3_col2 {\n",
       "            background-color:  #4daf4a;\n",
       "            color:  #000000;\n",
       "        }    #T_db56a674_fef4_11ea_be99_88e9fe4c695erow3_col3 {\n",
       "            background-color:  #377eb8;\n",
       "            color:  #000000;\n",
       "        }    #T_db56a674_fef4_11ea_be99_88e9fe4c695erow3_col4 {\n",
       "            background-color:  #377eb8;\n",
       "            color:  #000000;\n",
       "        }    #T_db56a674_fef4_11ea_be99_88e9fe4c695erow3_col5 {\n",
       "            background-color:  #e41a1c;\n",
       "            color:  #f1f1f1;\n",
       "        }    #T_db56a674_fef4_11ea_be99_88e9fe4c695erow4_col0 {\n",
       "            background-color:  #a65628;\n",
       "            color:  #f1f1f1;\n",
       "        }    #T_db56a674_fef4_11ea_be99_88e9fe4c695erow4_col1 {\n",
       "            background-color:  #984ea3;\n",
       "            color:  #f1f1f1;\n",
       "        }    #T_db56a674_fef4_11ea_be99_88e9fe4c695erow4_col2 {\n",
       "            background-color:  #4daf4a;\n",
       "            color:  #000000;\n",
       "        }    #T_db56a674_fef4_11ea_be99_88e9fe4c695erow4_col3 {\n",
       "            background-color:  #4daf4a;\n",
       "            color:  #000000;\n",
       "        }    #T_db56a674_fef4_11ea_be99_88e9fe4c695erow4_col4 {\n",
       "            background-color:  #e41a1c;\n",
       "            color:  #f1f1f1;\n",
       "        }    #T_db56a674_fef4_11ea_be99_88e9fe4c695erow4_col5 {\n",
       "            background-color:  #e41a1c;\n",
       "            color:  #f1f1f1;\n",
       "        }    #T_db56a674_fef4_11ea_be99_88e9fe4c695erow5_col0 {\n",
       "            background-color:  #a65628;\n",
       "            color:  #f1f1f1;\n",
       "        }    #T_db56a674_fef4_11ea_be99_88e9fe4c695erow5_col1 {\n",
       "            background-color:  #377eb8;\n",
       "            color:  #000000;\n",
       "        }    #T_db56a674_fef4_11ea_be99_88e9fe4c695erow5_col2 {\n",
       "            background-color:  #ff7f00;\n",
       "            color:  #000000;\n",
       "        }    #T_db56a674_fef4_11ea_be99_88e9fe4c695erow5_col3 {\n",
       "            background-color:  #ffff33;\n",
       "            color:  #000000;\n",
       "        }    #T_db56a674_fef4_11ea_be99_88e9fe4c695erow5_col4 {\n",
       "            background-color:  #e41a1c;\n",
       "            color:  #f1f1f1;\n",
       "        }    #T_db56a674_fef4_11ea_be99_88e9fe4c695erow5_col5 {\n",
       "            background-color:  #e41a1c;\n",
       "            color:  #f1f1f1;\n",
       "        }    #T_db56a674_fef4_11ea_be99_88e9fe4c695erow6_col0 {\n",
       "            background-color:  #999999;\n",
       "            color:  #000000;\n",
       "        }    #T_db56a674_fef4_11ea_be99_88e9fe4c695erow6_col1 {\n",
       "            background-color:  #e41a1c;\n",
       "            color:  #f1f1f1;\n",
       "        }    #T_db56a674_fef4_11ea_be99_88e9fe4c695erow6_col2 {\n",
       "            background-color:  #f781bf;\n",
       "            color:  #000000;\n",
       "        }    #T_db56a674_fef4_11ea_be99_88e9fe4c695erow6_col3 {\n",
       "            background-color:  #999999;\n",
       "            color:  #000000;\n",
       "        }    #T_db56a674_fef4_11ea_be99_88e9fe4c695erow6_col4 {\n",
       "            background-color:  #377eb8;\n",
       "            color:  #000000;\n",
       "        }    #T_db56a674_fef4_11ea_be99_88e9fe4c695erow6_col5 {\n",
       "            background-color:  #e41a1c;\n",
       "            color:  #f1f1f1;\n",
       "        }    #T_db56a674_fef4_11ea_be99_88e9fe4c695erow7_col0 {\n",
       "            background-color:  #999999;\n",
       "            color:  #000000;\n",
       "        }    #T_db56a674_fef4_11ea_be99_88e9fe4c695erow7_col1 {\n",
       "            background-color:  #e41a1c;\n",
       "            color:  #f1f1f1;\n",
       "        }    #T_db56a674_fef4_11ea_be99_88e9fe4c695erow7_col2 {\n",
       "            background-color:  #999999;\n",
       "            color:  #000000;\n",
       "        }    #T_db56a674_fef4_11ea_be99_88e9fe4c695erow7_col3 {\n",
       "            background-color:  #999999;\n",
       "            color:  #000000;\n",
       "        }    #T_db56a674_fef4_11ea_be99_88e9fe4c695erow7_col4 {\n",
       "            background-color:  #999999;\n",
       "            color:  #000000;\n",
       "        }    #T_db56a674_fef4_11ea_be99_88e9fe4c695erow7_col5 {\n",
       "            background-color:  #e41a1c;\n",
       "            color:  #f1f1f1;\n",
       "        }    #T_db56a674_fef4_11ea_be99_88e9fe4c695erow8_col0 {\n",
       "            background-color:  #ffff33;\n",
       "            color:  #000000;\n",
       "        }    #T_db56a674_fef4_11ea_be99_88e9fe4c695erow8_col1 {\n",
       "            background-color:  #e41a1c;\n",
       "            color:  #f1f1f1;\n",
       "        }    #T_db56a674_fef4_11ea_be99_88e9fe4c695erow8_col2 {\n",
       "            background-color:  #999999;\n",
       "            color:  #000000;\n",
       "        }    #T_db56a674_fef4_11ea_be99_88e9fe4c695erow8_col3 {\n",
       "            background-color:  #ff7f00;\n",
       "            color:  #000000;\n",
       "        }    #T_db56a674_fef4_11ea_be99_88e9fe4c695erow8_col4 {\n",
       "            background-color:  #ffff33;\n",
       "            color:  #000000;\n",
       "        }    #T_db56a674_fef4_11ea_be99_88e9fe4c695erow8_col5 {\n",
       "            background-color:  #e41a1c;\n",
       "            color:  #f1f1f1;\n",
       "        }</style><table id=\"T_db56a674_fef4_11ea_be99_88e9fe4c695e\" ><thead>    <tr>        <th class=\"index_name level0\" >continentExp</th>        <th class=\"col_heading level0 col0\" >America</th>        <th class=\"col_heading level0 col1\" >Europe</th>        <th class=\"col_heading level0 col2\" >Asia</th>        <th class=\"col_heading level0 col3\" >Africa</th>        <th class=\"col_heading level0 col4\" >Oceania</th>        <th class=\"col_heading level0 col5\" >Other</th>    </tr>    <tr>        <th class=\"index_name level0\" >month</th>        <th class=\"blank\" ></th>        <th class=\"blank\" ></th>        <th class=\"blank\" ></th>        <th class=\"blank\" ></th>        <th class=\"blank\" ></th>        <th class=\"blank\" ></th>    </tr></thead><tbody>\n",
       "                <tr>\n",
       "                        <th id=\"T_db56a674_fef4_11ea_be99_88e9fe4c695elevel0_row0\" class=\"row_heading level0 row0\" >Jan</th>\n",
       "                        <td id=\"T_db56a674_fef4_11ea_be99_88e9fe4c695erow0_col0\" class=\"data row0 col0\" >0.000</td>\n",
       "                        <td id=\"T_db56a674_fef4_11ea_be99_88e9fe4c695erow0_col1\" class=\"data row0 col1\" >0.000</td>\n",
       "                        <td id=\"T_db56a674_fef4_11ea_be99_88e9fe4c695erow0_col2\" class=\"data row0 col2\" >213.000</td>\n",
       "                        <td id=\"T_db56a674_fef4_11ea_be99_88e9fe4c695erow0_col3\" class=\"data row0 col3\" >0.000</td>\n",
       "                        <td id=\"T_db56a674_fef4_11ea_be99_88e9fe4c695erow0_col4\" class=\"data row0 col4\" >0.000</td>\n",
       "                        <td id=\"T_db56a674_fef4_11ea_be99_88e9fe4c695erow0_col5\" class=\"data row0 col5\" >0.000</td>\n",
       "            </tr>\n",
       "            <tr>\n",
       "                        <th id=\"T_db56a674_fef4_11ea_be99_88e9fe4c695elevel0_row1\" class=\"row_heading level0 row1\" >Feb</th>\n",
       "                        <td id=\"T_db56a674_fef4_11ea_be99_88e9fe4c695erow1_col0\" class=\"data row1 col0\" >0.000</td>\n",
       "                        <td id=\"T_db56a674_fef4_11ea_be99_88e9fe4c695erow1_col1\" class=\"data row1 col1\" >23.000</td>\n",
       "                        <td id=\"T_db56a674_fef4_11ea_be99_88e9fe4c695erow1_col2\" class=\"data row1 col2\" >2679.000</td>\n",
       "                        <td id=\"T_db56a674_fef4_11ea_be99_88e9fe4c695erow1_col3\" class=\"data row1 col3\" >0.000</td>\n",
       "                        <td id=\"T_db56a674_fef4_11ea_be99_88e9fe4c695erow1_col4\" class=\"data row1 col4\" >0.000</td>\n",
       "                        <td id=\"T_db56a674_fef4_11ea_be99_88e9fe4c695erow1_col5\" class=\"data row1 col5\" >6.000</td>\n",
       "            </tr>\n",
       "            <tr>\n",
       "                        <th id=\"T_db56a674_fef4_11ea_be99_88e9fe4c695elevel0_row2\" class=\"row_heading level0 row2\" >Mar</th>\n",
       "                        <td id=\"T_db56a674_fef4_11ea_be99_88e9fe4c695erow2_col0\" class=\"data row2 col0\" >3687.000</td>\n",
       "                        <td id=\"T_db56a674_fef4_11ea_be99_88e9fe4c695erow2_col1\" class=\"data row2 col1\" >27933.000</td>\n",
       "                        <td id=\"T_db56a674_fef4_11ea_be99_88e9fe4c695erow2_col2\" class=\"data row2 col2\" >3990.000</td>\n",
       "                        <td id=\"T_db56a674_fef4_11ea_be99_88e9fe4c695erow2_col3\" class=\"data row2 col3\" >166.000</td>\n",
       "                        <td id=\"T_db56a674_fef4_11ea_be99_88e9fe4c695erow2_col4\" class=\"data row2 col4\" >21.000</td>\n",
       "                        <td id=\"T_db56a674_fef4_11ea_be99_88e9fe4c695erow2_col5\" class=\"data row2 col5\" >1.000</td>\n",
       "            </tr>\n",
       "            <tr>\n",
       "                        <th id=\"T_db56a674_fef4_11ea_be99_88e9fe4c695elevel0_row3\" class=\"row_heading level0 row3\" >Apr</th>\n",
       "                        <td id=\"T_db56a674_fef4_11ea_be99_88e9fe4c695erow3_col0\" class=\"data row3 col0\" >70904.000</td>\n",
       "                        <td id=\"T_db56a674_fef4_11ea_be99_88e9fe4c695erow3_col1\" class=\"data row3 col1\" >105431.000</td>\n",
       "                        <td id=\"T_db56a674_fef4_11ea_be99_88e9fe4c695erow3_col2\" class=\"data row3 col2\" >11321.000</td>\n",
       "                        <td id=\"T_db56a674_fef4_11ea_be99_88e9fe4c695erow3_col3\" class=\"data row3 col3\" >1425.000</td>\n",
       "                        <td id=\"T_db56a674_fef4_11ea_be99_88e9fe4c695erow3_col4\" class=\"data row3 col4\" >95.000</td>\n",
       "                        <td id=\"T_db56a674_fef4_11ea_be99_88e9fe4c695erow3_col5\" class=\"data row3 col5\" >0.000</td>\n",
       "            </tr>\n",
       "            <tr>\n",
       "                        <th id=\"T_db56a674_fef4_11ea_be99_88e9fe4c695elevel0_row4\" class=\"row_heading level0 row4\" >May</th>\n",
       "                        <td id=\"T_db56a674_fef4_11ea_be99_88e9fe4c695erow4_col0\" class=\"data row4 col0\" >86923.000</td>\n",
       "                        <td id=\"T_db56a674_fef4_11ea_be99_88e9fe4c695erow4_col1\" class=\"data row4 col1\" >38869.000</td>\n",
       "                        <td id=\"T_db56a674_fef4_11ea_be99_88e9fe4c695erow4_col2\" class=\"data row4 col2\" >11862.000</td>\n",
       "                        <td id=\"T_db56a674_fef4_11ea_be99_88e9fe4c695erow4_col3\" class=\"data row4 col3\" >2480.000</td>\n",
       "                        <td id=\"T_db56a674_fef4_11ea_be99_88e9fe4c695erow4_col4\" class=\"data row4 col4\" >15.000</td>\n",
       "                        <td id=\"T_db56a674_fef4_11ea_be99_88e9fe4c695erow4_col5\" class=\"data row4 col5\" >0.000</td>\n",
       "            </tr>\n",
       "            <tr>\n",
       "                        <th id=\"T_db56a674_fef4_11ea_be99_88e9fe4c695elevel0_row5\" class=\"row_heading level0 row5\" >Jun</th>\n",
       "                        <td id=\"T_db56a674_fef4_11ea_be99_88e9fe4c695erow5_col0\" class=\"data row5 col0\" >87158.000</td>\n",
       "                        <td id=\"T_db56a674_fef4_11ea_be99_88e9fe4c695erow5_col1\" class=\"data row5 col1\" >15982.000</td>\n",
       "                        <td id=\"T_db56a674_fef4_11ea_be99_88e9fe4c695erow5_col2\" class=\"data row5 col2\" >25129.000</td>\n",
       "                        <td id=\"T_db56a674_fef4_11ea_be99_88e9fe4c695erow5_col3\" class=\"data row5 col3\" >5807.000</td>\n",
       "                        <td id=\"T_db56a674_fef4_11ea_be99_88e9fe4c695erow5_col4\" class=\"data row5 col4\" >2.000</td>\n",
       "                        <td id=\"T_db56a674_fef4_11ea_be99_88e9fe4c695erow5_col5\" class=\"data row5 col5\" >0.000</td>\n",
       "            </tr>\n",
       "            <tr>\n",
       "                        <th id=\"T_db56a674_fef4_11ea_be99_88e9fe4c695elevel0_row6\" class=\"row_heading level0 row6\" >Jul</th>\n",
       "                        <td id=\"T_db56a674_fef4_11ea_be99_88e9fe4c695erow6_col0\" class=\"data row6 col0\" >106910.000</td>\n",
       "                        <td id=\"T_db56a674_fef4_11ea_be99_88e9fe4c695erow6_col1\" class=\"data row6 col1\" >10745.000</td>\n",
       "                        <td id=\"T_db56a674_fef4_11ea_be99_88e9fe4c695erow6_col2\" class=\"data row6 col2\" >39033.000</td>\n",
       "                        <td id=\"T_db56a674_fef4_11ea_be99_88e9fe4c695erow6_col3\" class=\"data row6 col3\" >9433.000</td>\n",
       "                        <td id=\"T_db56a674_fef4_11ea_be99_88e9fe4c695erow6_col4\" class=\"data row6 col4\" >87.000</td>\n",
       "                        <td id=\"T_db56a674_fef4_11ea_be99_88e9fe4c695erow6_col5\" class=\"data row6 col5\" >0.000</td>\n",
       "            </tr>\n",
       "            <tr>\n",
       "                        <th id=\"T_db56a674_fef4_11ea_be99_88e9fe4c695elevel0_row7\" class=\"row_heading level0 row7\" >Aug</th>\n",
       "                        <td id=\"T_db56a674_fef4_11ea_be99_88e9fe4c695erow7_col0\" class=\"data row7 col0\" >112185.000</td>\n",
       "                        <td id=\"T_db56a674_fef4_11ea_be99_88e9fe4c695erow7_col1\" class=\"data row7 col1\" >10094.000</td>\n",
       "                        <td id=\"T_db56a674_fef4_11ea_be99_88e9fe4c695erow7_col2\" class=\"data row7 col2\" >45643.000</td>\n",
       "                        <td id=\"T_db56a674_fef4_11ea_be99_88e9fe4c695erow7_col3\" class=\"data row7 col3\" >10274.000</td>\n",
       "                        <td id=\"T_db56a674_fef4_11ea_be99_88e9fe4c695erow7_col4\" class=\"data row7 col4\" >432.000</td>\n",
       "                        <td id=\"T_db56a674_fef4_11ea_be99_88e9fe4c695erow7_col5\" class=\"data row7 col5\" >0.000</td>\n",
       "            </tr>\n",
       "            <tr>\n",
       "                        <th id=\"T_db56a674_fef4_11ea_be99_88e9fe4c695elevel0_row8\" class=\"row_heading level0 row8\" >Sep</th>\n",
       "                        <td id=\"T_db56a674_fef4_11ea_be99_88e9fe4c695erow8_col0\" class=\"data row8 col0\" >73857.000</td>\n",
       "                        <td id=\"T_db56a674_fef4_11ea_be99_88e9fe4c695erow8_col1\" class=\"data row8 col1\" >10841.000</td>\n",
       "                        <td id=\"T_db56a674_fef4_11ea_be99_88e9fe4c695erow8_col2\" class=\"data row8 col2\" >41398.000</td>\n",
       "                        <td id=\"T_db56a674_fef4_11ea_be99_88e9fe4c695erow8_col3\" class=\"data row8 col3\" >4944.000</td>\n",
       "                        <td id=\"T_db56a674_fef4_11ea_be99_88e9fe4c695erow8_col4\" class=\"data row8 col4\" >286.000</td>\n",
       "                        <td id=\"T_db56a674_fef4_11ea_be99_88e9fe4c695erow8_col5\" class=\"data row8 col5\" >0.000</td>\n",
       "            </tr>\n",
       "    </tbody></table>"
      ],
      "text/plain": [
       "<pandas.io.formats.style.Styler at 0x11f9f0250>"
      ]
     },
     "execution_count": 28,
     "metadata": {},
     "output_type": "execute_result"
    }
   ],
   "source": [
    "deaths_per_month_per_continent.style.background_gradient(cmap='Set1').format(\"{:.3f}\")"
   ]
  },
  {
   "cell_type": "code",
   "execution_count": 29,
   "metadata": {},
   "outputs": [
    {
     "data": {
      "image/png": "[encoded data removed]",
      "text/plain": [
       "<Figure size 720x576 with 1 Axes>"
      ]
     },
     "metadata": {
      "needs_background": "light"
     },
     "output_type": "display_data"
    },
    {
     "data": {
      "image/png": "[encoded data removed]",
      "text/plain": [
       "<Figure size 720x576 with 1 Axes>"
      ]
     },
     "metadata": {
      "needs_background": "light"
     },
     "output_type": "display_data"
    },
    {
     "data": {
      "image/png": "[encoded data removed]",
      "text/plain": [
       "<Figure size 720x576 with 1 Axes>"
      ]
     },
     "metadata": {
      "needs_background": "light"
     },
     "output_type": "display_data"
    },
    {
     "data": {
      "image/png": "[encoded data removed]",
      "text/plain": [
       "<Figure size 720x576 with 1 Axes>"
      ]
     },
     "metadata": {
      "needs_background": "light"
     },
     "output_type": "display_data"
    },
    {
     "data": {
      "image/png": "[encoded data removed]",
      "text/plain": [
       "<Figure size 720x576 with 1 Axes>"
      ]
     },
     "metadata": {
      "needs_background": "light"
     },
     "output_type": "display_data"
    },
    {
     "data": {
      "image/png": "[encoded data removed]",
      "text/plain": [
       "<Figure size 720x576 with 1 Axes>"
      ]
     },
     "metadata": {
      "needs_background": "light"
     },
     "output_type": "display_data"
    }
   ],
   "source": [
    "#plotting the number of death in each month relative per continent\n",
    "for col in deaths_per_month_per_continent.columns: \n",
    "    fig, ax = plt.subplots(figsize = (10, 8))\n",
    "    ax.plot(deaths_per_month_per_continent.index, deaths_per_month_per_continent[col], marker = 'v', color = 'r', )\n",
    "    ax.set_xlabel('Month', fontsize = 14)\n",
    "    ax.set_ylabel('Number of Deaths', fontsize = 14)\n",
    "    ax.set_title('Covid 19 death in '+str(col), fontsize = 18)"
   ]
  },
  {
   "cell_type": "markdown",
   "metadata": {},
   "source": [
    "### Country wide reported cases"
   ]
  },
  {
   "cell_type": "code",
   "execution_count": 30,
   "metadata": {},
   "outputs": [],
   "source": [
    "#get number of cases per country\n",
    "cases_and_deaths_in_each_country = data.groupby('countriesAndTerritories')['cases', 'deaths'].sum()"
   ]
  },
  {
   "cell_type": "code",
   "execution_count": 31,
   "metadata": {},
   "outputs": [],
   "source": [
    "#calculate mortality rate for each country\n",
    "cases_and_deaths_in_each_country['Mortality Rate (per 100)'] = np.round(100 * cases_and_deaths_in_each_country['deaths']/cases_and_deaths_in_each_country['cases'], 2)"
   ]
  },
  {
   "cell_type": "code",
   "execution_count": 32,
   "metadata": {},
   "outputs": [
    {
     "data": {
      "text/html": [
       "<style  type=\"text/css\" >\n",
       "    #T_dbf3d462_fef4_11ea_be99_88e9fe4c695erow0_col0 {\n",
       "            background-color:  #08306b;\n",
       "            color:  #f1f1f1;\n",
       "        }    #T_dbf3d462_fef4_11ea_be99_88e9fe4c695erow0_col1 {\n",
       "            background-color:  #67000d;\n",
       "            color:  #f1f1f1;\n",
       "        }    #T_dbf3d462_fef4_11ea_be99_88e9fe4c695erow0_col2 {\n",
       "            background-color:  #fff9c5;\n",
       "            color:  #000000;\n",
       "        }    #T_dbf3d462_fef4_11ea_be99_88e9fe4c695erow1_col0 {\n",
       "            background-color:  #125da6;\n",
       "            color:  #f1f1f1;\n",
       "        }    #T_dbf3d462_fef4_11ea_be99_88e9fe4c695erow1_col1 {\n",
       "            background-color:  #fb7a5a;\n",
       "            color:  #000000;\n",
       "        }    #T_dbf3d462_fef4_11ea_be99_88e9fe4c695erow1_col2 {\n",
       "            background-color:  #fffbd3;\n",
       "            color:  #000000;\n",
       "        }    #T_dbf3d462_fef4_11ea_be99_88e9fe4c695erow2_col0 {\n",
       "            background-color:  #3787c0;\n",
       "            color:  #000000;\n",
       "        }    #T_dbf3d462_fef4_11ea_be99_88e9fe4c695erow2_col1 {\n",
       "            background-color:  #dc2924;\n",
       "            color:  #f1f1f1;\n",
       "        }    #T_dbf3d462_fef4_11ea_be99_88e9fe4c695erow2_col2 {\n",
       "            background-color:  #fff8c4;\n",
       "            color:  #000000;\n",
       "        }    #T_dbf3d462_fef4_11ea_be99_88e9fe4c695erow3_col0 {\n",
       "            background-color:  #d7e6f5;\n",
       "            color:  #000000;\n",
       "        }    #T_dbf3d462_fef4_11ea_be99_88e9fe4c695erow3_col1 {\n",
       "            background-color:  #fee5d8;\n",
       "            color:  #000000;\n",
       "        }    #T_dbf3d462_fef4_11ea_be99_88e9fe4c695erow3_col2 {\n",
       "            background-color:  #fffbd2;\n",
       "            color:  #000000;\n",
       "        }    #T_dbf3d462_fef4_11ea_be99_88e9fe4c695erow4_col0 {\n",
       "            background-color:  #e1edf8;\n",
       "            color:  #000000;\n",
       "        }    #T_dbf3d462_fef4_11ea_be99_88e9fe4c695erow4_col1 {\n",
       "            background-color:  #fee1d3;\n",
       "            color:  #000000;\n",
       "        }    #T_dbf3d462_fef4_11ea_be99_88e9fe4c695erow4_col2 {\n",
       "            background-color:  #fff8c1;\n",
       "            color:  #000000;\n",
       "        }    #T_dbf3d462_fef4_11ea_be99_88e9fe4c695erow5_col0 {\n",
       "            background-color:  #e1edf8;\n",
       "            color:  #000000;\n",
       "        }    #T_dbf3d462_fef4_11ea_be99_88e9fe4c695erow5_col1 {\n",
       "            background-color:  #fdd7c6;\n",
       "            color:  #000000;\n",
       "        }    #T_dbf3d462_fef4_11ea_be99_88e9fe4c695erow5_col2 {\n",
       "            background-color:  #fff4b6;\n",
       "            color:  #000000;\n",
       "        }    #T_dbf3d462_fef4_11ea_be99_88e9fe4c695erow6_col0 {\n",
       "            background-color:  #e3eef8;\n",
       "            color:  #000000;\n",
       "        }    #T_dbf3d462_fef4_11ea_be99_88e9fe4c695erow6_col1 {\n",
       "            background-color:  #fc9373;\n",
       "            color:  #000000;\n",
       "        }    #T_dbf3d462_fef4_11ea_be99_88e9fe4c695erow6_col2 {\n",
       "            background-color:  #fec754;\n",
       "            color:  #000000;\n",
       "        }    #T_dbf3d462_fef4_11ea_be99_88e9fe4c695erow7_col0 {\n",
       "            background-color:  #e3eef9;\n",
       "            color:  #000000;\n",
       "        }    #T_dbf3d462_fef4_11ea_be99_88e9fe4c695erow7_col1 {\n",
       "            background-color:  #fed8c7;\n",
       "            color:  #000000;\n",
       "        }    #T_dbf3d462_fef4_11ea_be99_88e9fe4c695erow7_col2 {\n",
       "            background-color:  #fff3b2;\n",
       "            color:  #000000;\n",
       "        }    #T_dbf3d462_fef4_11ea_be99_88e9fe4c695erow8_col0 {\n",
       "            background-color:  #e4eff9;\n",
       "            color:  #000000;\n",
       "        }    #T_dbf3d462_fef4_11ea_be99_88e9fe4c695erow8_col1 {\n",
       "            background-color:  #fee8dd;\n",
       "            color:  #000000;\n",
       "        }    #T_dbf3d462_fef4_11ea_be99_88e9fe4c695erow8_col2 {\n",
       "            background-color:  #fffaca;\n",
       "            color:  #000000;\n",
       "        }    #T_dbf3d462_fef4_11ea_be99_88e9fe4c695erow9_col0 {\n",
       "            background-color:  #e4eff9;\n",
       "            color:  #000000;\n",
       "        }    #T_dbf3d462_fef4_11ea_be99_88e9fe4c695erow9_col1 {\n",
       "            background-color:  #fee9df;\n",
       "            color:  #000000;\n",
       "        }    #T_dbf3d462_fef4_11ea_be99_88e9fe4c695erow9_col2 {\n",
       "            background-color:  #fffacd;\n",
       "            color:  #000000;\n",
       "        }    #T_dbf3d462_fef4_11ea_be99_88e9fe4c695erow10_col0 {\n",
       "            background-color:  #eaf2fb;\n",
       "            color:  #000000;\n",
       "        }    #T_dbf3d462_fef4_11ea_be99_88e9fe4c695erow10_col1 {\n",
       "            background-color:  #fed8c7;\n",
       "            color:  #000000;\n",
       "        }    #T_dbf3d462_fef4_11ea_be99_88e9fe4c695erow10_col2 {\n",
       "            background-color:  #fee79a;\n",
       "            color:  #000000;\n",
       "        }    #T_dbf3d462_fef4_11ea_be99_88e9fe4c695erow11_col0 {\n",
       "            background-color:  #eaf3fb;\n",
       "            color:  #000000;\n",
       "        }    #T_dbf3d462_fef4_11ea_be99_88e9fe4c695erow11_col1 {\n",
       "            background-color:  #ffebe2;\n",
       "            color:  #000000;\n",
       "        }    #T_dbf3d462_fef4_11ea_be99_88e9fe4c695erow11_col2 {\n",
       "            background-color:  #fff9c6;\n",
       "            color:  #000000;\n",
       "        }    #T_dbf3d462_fef4_11ea_be99_88e9fe4c695erow12_col0 {\n",
       "            background-color:  #ebf3fb;\n",
       "            color:  #000000;\n",
       "        }    #T_dbf3d462_fef4_11ea_be99_88e9fe4c695erow12_col1 {\n",
       "            background-color:  #fee1d3;\n",
       "            color:  #000000;\n",
       "        }    #T_dbf3d462_fef4_11ea_be99_88e9fe4c695erow12_col2 {\n",
       "            background-color:  #feeca4;\n",
       "            color:  #000000;\n",
       "        }    #T_dbf3d462_fef4_11ea_be99_88e9fe4c695erow13_col0 {\n",
       "            background-color:  #ebf3fb;\n",
       "            color:  #000000;\n",
       "        }    #T_dbf3d462_fef4_11ea_be99_88e9fe4c695erow13_col1 {\n",
       "            background-color:  #fdc7b2;\n",
       "            color:  #000000;\n",
       "        }    #T_dbf3d462_fef4_11ea_be99_88e9fe4c695erow13_col2 {\n",
       "            background-color:  #fec95b;\n",
       "            color:  #000000;\n",
       "        }    #T_dbf3d462_fef4_11ea_be99_88e9fe4c695erow14_col0 {\n",
       "            background-color:  #edf4fc;\n",
       "            color:  #000000;\n",
       "        }    #T_dbf3d462_fef4_11ea_be99_88e9fe4c695erow14_col1 {\n",
       "            background-color:  #fff1ea;\n",
       "            color:  #000000;\n",
       "        }    #T_dbf3d462_fef4_11ea_be99_88e9fe4c695erow14_col2 {\n",
       "            background-color:  #fffcd6;\n",
       "            color:  #000000;\n",
       "        }    #T_dbf3d462_fef4_11ea_be99_88e9fe4c695erow15_col0 {\n",
       "            background-color:  #eef5fc;\n",
       "            color:  #000000;\n",
       "        }    #T_dbf3d462_fef4_11ea_be99_88e9fe4c695erow15_col1 {\n",
       "            background-color:  #ffeee6;\n",
       "            color:  #000000;\n",
       "        }    #T_dbf3d462_fef4_11ea_be99_88e9fe4c695erow15_col2 {\n",
       "            background-color:  #fff9c7;\n",
       "            color:  #000000;\n",
       "        }    #T_dbf3d462_fef4_11ea_be99_88e9fe4c695erow16_col0 {\n",
       "            background-color:  #eef5fc;\n",
       "            color:  #000000;\n",
       "        }    #T_dbf3d462_fef4_11ea_be99_88e9fe4c695erow16_col1 {\n",
       "            background-color:  #fff2eb;\n",
       "            color:  #000000;\n",
       "        }    #T_dbf3d462_fef4_11ea_be99_88e9fe4c695erow16_col2 {\n",
       "            background-color:  #fffcd6;\n",
       "            color:  #000000;\n",
       "        }    #T_dbf3d462_fef4_11ea_be99_88e9fe4c695erow17_col0 {\n",
       "            background-color:  #eef5fc;\n",
       "            color:  #000000;\n",
       "        }    #T_dbf3d462_fef4_11ea_be99_88e9fe4c695erow17_col1 {\n",
       "            background-color:  #fff0e8;\n",
       "            color:  #000000;\n",
       "        }    #T_dbf3d462_fef4_11ea_be99_88e9fe4c695erow17_col2 {\n",
       "            background-color:  #ffface;\n",
       "            color:  #000000;\n",
       "        }    #T_dbf3d462_fef4_11ea_be99_88e9fe4c695erow18_col0 {\n",
       "            background-color:  #eef5fc;\n",
       "            color:  #000000;\n",
       "        }    #T_dbf3d462_fef4_11ea_be99_88e9fe4c695erow18_col1 {\n",
       "            background-color:  #ffefe8;\n",
       "            color:  #000000;\n",
       "        }    #T_dbf3d462_fef4_11ea_be99_88e9fe4c695erow18_col2 {\n",
       "            background-color:  #fff9c9;\n",
       "            color:  #000000;\n",
       "        }    #T_dbf3d462_fef4_11ea_be99_88e9fe4c695erow19_col0 {\n",
       "            background-color:  #eef5fc;\n",
       "            color:  #000000;\n",
       "        }    #T_dbf3d462_fef4_11ea_be99_88e9fe4c695erow19_col1 {\n",
       "            background-color:  #fdd1be;\n",
       "            color:  #000000;\n",
       "        }    #T_dbf3d462_fef4_11ea_be99_88e9fe4c695erow19_col2 {\n",
       "            background-color:  #feb945;\n",
       "            color:  #000000;\n",
       "        }    #T_dbf3d462_fef4_11ea_be99_88e9fe4c695erow20_col0 {\n",
       "            background-color:  #eff6fc;\n",
       "            color:  #000000;\n",
       "        }    #T_dbf3d462_fef4_11ea_be99_88e9fe4c695erow20_col1 {\n",
       "            background-color:  #fff1ea;\n",
       "            color:  #000000;\n",
       "        }    #T_dbf3d462_fef4_11ea_be99_88e9fe4c695erow20_col2 {\n",
       "            background-color:  #fffbd2;\n",
       "            color:  #000000;\n",
       "        }    #T_dbf3d462_fef4_11ea_be99_88e9fe4c695erow21_col0 {\n",
       "            background-color:  #eff6fc;\n",
       "            color:  #000000;\n",
       "        }    #T_dbf3d462_fef4_11ea_be99_88e9fe4c695erow21_col1 {\n",
       "            background-color:  #ffeee6;\n",
       "            color:  #000000;\n",
       "        }    #T_dbf3d462_fef4_11ea_be99_88e9fe4c695erow21_col2 {\n",
       "            background-color:  #fff7be;\n",
       "            color:  #000000;\n",
       "        }    #T_dbf3d462_fef4_11ea_be99_88e9fe4c695erow22_col0 {\n",
       "            background-color:  #f0f6fd;\n",
       "            color:  #000000;\n",
       "        }    #T_dbf3d462_fef4_11ea_be99_88e9fe4c695erow22_col1 {\n",
       "            background-color:  #ffede5;\n",
       "            color:  #000000;\n",
       "        }    #T_dbf3d462_fef4_11ea_be99_88e9fe4c695erow22_col2 {\n",
       "            background-color:  #fff6b9;\n",
       "            color:  #000000;\n",
       "        }    #T_dbf3d462_fef4_11ea_be99_88e9fe4c695erow23_col0 {\n",
       "            background-color:  #f2f7fd;\n",
       "            color:  #000000;\n",
       "        }    #T_dbf3d462_fef4_11ea_be99_88e9fe4c695erow23_col1 {\n",
       "            background-color:  #fff4ef;\n",
       "            color:  #000000;\n",
       "        }    #T_dbf3d462_fef4_11ea_be99_88e9fe4c695erow23_col2 {\n",
       "            background-color:  #fffedf;\n",
       "            color:  #000000;\n",
       "        }    #T_dbf3d462_fef4_11ea_be99_88e9fe4c695erow24_col0 {\n",
       "            background-color:  #f2f8fd;\n",
       "            color:  #000000;\n",
       "        }    #T_dbf3d462_fef4_11ea_be99_88e9fe4c695erow24_col1 {\n",
       "            background-color:  #fff2ec;\n",
       "            color:  #000000;\n",
       "        }    #T_dbf3d462_fef4_11ea_be99_88e9fe4c695erow24_col2 {\n",
       "            background-color:  #fffbcf;\n",
       "            color:  #000000;\n",
       "        }    #T_dbf3d462_fef4_11ea_be99_88e9fe4c695erow25_col0 {\n",
       "            background-color:  #f3f8fe;\n",
       "            color:  #000000;\n",
       "        }    #T_dbf3d462_fef4_11ea_be99_88e9fe4c695erow25_col1 {\n",
       "            background-color:  #ffeee6;\n",
       "            color:  #000000;\n",
       "        }    #T_dbf3d462_fef4_11ea_be99_88e9fe4c695erow25_col2 {\n",
       "            background-color:  #fee89d;\n",
       "            color:  #000000;\n",
       "        }    #T_dbf3d462_fef4_11ea_be99_88e9fe4c695erow26_col0 {\n",
       "            background-color:  #f3f8fe;\n",
       "            color:  #000000;\n",
       "        }    #T_dbf3d462_fef4_11ea_be99_88e9fe4c695erow26_col1 {\n",
       "            background-color:  #fff4ee;\n",
       "            color:  #000000;\n",
       "        }    #T_dbf3d462_fef4_11ea_be99_88e9fe4c695erow26_col2 {\n",
       "            background-color:  #fffcd4;\n",
       "            color:  #000000;\n",
       "        }    #T_dbf3d462_fef4_11ea_be99_88e9fe4c695erow27_col0 {\n",
       "            background-color:  #f4f9fe;\n",
       "            color:  #000000;\n",
       "        }    #T_dbf3d462_fef4_11ea_be99_88e9fe4c695erow27_col1 {\n",
       "            background-color:  #ffefe8;\n",
       "            color:  #000000;\n",
       "        }    #T_dbf3d462_fef4_11ea_be99_88e9fe4c695erow27_col2 {\n",
       "            background-color:  #feeba2;\n",
       "            color:  #000000;\n",
       "        }    #T_dbf3d462_fef4_11ea_be99_88e9fe4c695erow28_col0 {\n",
       "            background-color:  #f4f9fe;\n",
       "            color:  #000000;\n",
       "        }    #T_dbf3d462_fef4_11ea_be99_88e9fe4c695erow28_col1 {\n",
       "            background-color:  #ffece3;\n",
       "            color:  #000000;\n",
       "        }    #T_dbf3d462_fef4_11ea_be99_88e9fe4c695erow28_col2 {\n",
       "            background-color:  #fed778;\n",
       "            color:  #000000;\n",
       "        }    #T_dbf3d462_fef4_11ea_be99_88e9fe4c695erow29_col0 {\n",
       "            background-color:  #f4f9fe;\n",
       "            color:  #000000;\n",
       "        }    #T_dbf3d462_fef4_11ea_be99_88e9fe4c695erow29_col1 {\n",
       "            background-color:  #fff5f0;\n",
       "            color:  #000000;\n",
       "        }    #T_dbf3d462_fef4_11ea_be99_88e9fe4c695erow29_col2 {\n",
       "            background-color:  #ffffe4;\n",
       "            color:  #000000;\n",
       "        }    #T_dbf3d462_fef4_11ea_be99_88e9fe4c695erow30_col0 {\n",
       "            background-color:  #f4f9fe;\n",
       "            color:  #000000;\n",
       "        }    #T_dbf3d462_fef4_11ea_be99_88e9fe4c695erow30_col1 {\n",
       "            background-color:  #fff2eb;\n",
       "            color:  #000000;\n",
       "        }    #T_dbf3d462_fef4_11ea_be99_88e9fe4c695erow30_col2 {\n",
       "            background-color:  #fff6b9;\n",
       "            color:  #000000;\n",
       "        }    #T_dbf3d462_fef4_11ea_be99_88e9fe4c695erow31_col0 {\n",
       "            background-color:  #f4f9fe;\n",
       "            color:  #000000;\n",
       "        }    #T_dbf3d462_fef4_11ea_be99_88e9fe4c695erow31_col1 {\n",
       "            background-color:  #fff4ee;\n",
       "            color:  #000000;\n",
       "        }    #T_dbf3d462_fef4_11ea_be99_88e9fe4c695erow31_col2 {\n",
       "            background-color:  #fffbd0;\n",
       "            color:  #000000;\n",
       "        }    #T_dbf3d462_fef4_11ea_be99_88e9fe4c695erow32_col0 {\n",
       "            background-color:  #f5f9fe;\n",
       "            color:  #000000;\n",
       "        }    #T_dbf3d462_fef4_11ea_be99_88e9fe4c695erow32_col1 {\n",
       "            background-color:  #fff4ee;\n",
       "            color:  #000000;\n",
       "        }    #T_dbf3d462_fef4_11ea_be99_88e9fe4c695erow32_col2 {\n",
       "            background-color:  #ffface;\n",
       "            color:  #000000;\n",
       "        }    #T_dbf3d462_fef4_11ea_be99_88e9fe4c695erow33_col0 {\n",
       "            background-color:  #f5f9fe;\n",
       "            color:  #000000;\n",
       "        }    #T_dbf3d462_fef4_11ea_be99_88e9fe4c695erow33_col1 {\n",
       "            background-color:  #fff4ee;\n",
       "            color:  #000000;\n",
       "        }    #T_dbf3d462_fef4_11ea_be99_88e9fe4c695erow33_col2 {\n",
       "            background-color:  #fffbd2;\n",
       "            color:  #000000;\n",
       "        }    #T_dbf3d462_fef4_11ea_be99_88e9fe4c695erow34_col0 {\n",
       "            background-color:  #f5f9fe;\n",
       "            color:  #000000;\n",
       "        }    #T_dbf3d462_fef4_11ea_be99_88e9fe4c695erow34_col1 {\n",
       "            background-color:  #ffede5;\n",
       "            color:  #000000;\n",
       "        }    #T_dbf3d462_fef4_11ea_be99_88e9fe4c695erow34_col2 {\n",
       "            background-color:  #fed16b;\n",
       "            color:  #000000;\n",
       "        }    #T_dbf3d462_fef4_11ea_be99_88e9fe4c695erow35_col0 {\n",
       "            background-color:  #f5f9fe;\n",
       "            color:  #000000;\n",
       "        }    #T_dbf3d462_fef4_11ea_be99_88e9fe4c695erow35_col1 {\n",
       "            background-color:  #fff0e9;\n",
       "            color:  #000000;\n",
       "        }    #T_dbf3d462_fef4_11ea_be99_88e9fe4c695erow35_col2 {\n",
       "            background-color:  #feeca4;\n",
       "            color:  #000000;\n",
       "        }    #T_dbf3d462_fef4_11ea_be99_88e9fe4c695erow36_col0 {\n",
       "            background-color:  #f5f9fe;\n",
       "            color:  #000000;\n",
       "        }    #T_dbf3d462_fef4_11ea_be99_88e9fe4c695erow36_col1 {\n",
       "            background-color:  #fff5f0;\n",
       "            color:  #000000;\n",
       "        }    #T_dbf3d462_fef4_11ea_be99_88e9fe4c695erow36_col2 {\n",
       "            background-color:  #fffedf;\n",
       "            color:  #000000;\n",
       "        }    #T_dbf3d462_fef4_11ea_be99_88e9fe4c695erow37_col0 {\n",
       "            background-color:  #f5f9fe;\n",
       "            color:  #000000;\n",
       "        }    #T_dbf3d462_fef4_11ea_be99_88e9fe4c695erow37_col1 {\n",
       "            background-color:  #fff0e9;\n",
       "            color:  #000000;\n",
       "        }    #T_dbf3d462_fef4_11ea_be99_88e9fe4c695erow37_col2 {\n",
       "            background-color:  #fee89d;\n",
       "            color:  #000000;\n",
       "        }    #T_dbf3d462_fef4_11ea_be99_88e9fe4c695erow38_col0 {\n",
       "            background-color:  #f5f9fe;\n",
       "            color:  #000000;\n",
       "        }    #T_dbf3d462_fef4_11ea_be99_88e9fe4c695erow38_col1 {\n",
       "            background-color:  #fff4ef;\n",
       "            color:  #000000;\n",
       "        }    #T_dbf3d462_fef4_11ea_be99_88e9fe4c695erow38_col2 {\n",
       "            background-color:  #fffddb;\n",
       "            color:  #000000;\n",
       "        }    #T_dbf3d462_fef4_11ea_be99_88e9fe4c695erow39_col0 {\n",
       "            background-color:  #f5f9fe;\n",
       "            color:  #000000;\n",
       "        }    #T_dbf3d462_fef4_11ea_be99_88e9fe4c695erow39_col1 {\n",
       "            background-color:  #fff1ea;\n",
       "            color:  #000000;\n",
       "        }    #T_dbf3d462_fef4_11ea_be99_88e9fe4c695erow39_col2 {\n",
       "            background-color:  #ffeea9;\n",
       "            color:  #000000;\n",
       "        }    #T_dbf3d462_fef4_11ea_be99_88e9fe4c695erow40_col0 {\n",
       "            background-color:  #f5f9fe;\n",
       "            color:  #000000;\n",
       "        }    #T_dbf3d462_fef4_11ea_be99_88e9fe4c695erow40_col1 {\n",
       "            background-color:  #fff0e9;\n",
       "            color:  #000000;\n",
       "        }    #T_dbf3d462_fef4_11ea_be99_88e9fe4c695erow40_col2 {\n",
       "            background-color:  #fee799;\n",
       "            color:  #000000;\n",
       "        }    #T_dbf3d462_fef4_11ea_be99_88e9fe4c695erow41_col0 {\n",
       "            background-color:  #f5f9fe;\n",
       "            color:  #000000;\n",
       "        }    #T_dbf3d462_fef4_11ea_be99_88e9fe4c695erow41_col1 {\n",
       "            background-color:  #fff5f0;\n",
       "            color:  #000000;\n",
       "        }    #T_dbf3d462_fef4_11ea_be99_88e9fe4c695erow41_col2 {\n",
       "            background-color:  #fffee0;\n",
       "            color:  #000000;\n",
       "        }    #T_dbf3d462_fef4_11ea_be99_88e9fe4c695erow42_col0 {\n",
       "            background-color:  #f5f9fe;\n",
       "            color:  #000000;\n",
       "        }    #T_dbf3d462_fef4_11ea_be99_88e9fe4c695erow42_col1 {\n",
       "            background-color:  #fff3ed;\n",
       "            color:  #000000;\n",
       "        }    #T_dbf3d462_fef4_11ea_be99_88e9fe4c695erow42_col2 {\n",
       "            background-color:  #fff7bd;\n",
       "            color:  #000000;\n",
       "        }    #T_dbf3d462_fef4_11ea_be99_88e9fe4c695erow43_col0 {\n",
       "            background-color:  #f5f9fe;\n",
       "            color:  #000000;\n",
       "        }    #T_dbf3d462_fef4_11ea_be99_88e9fe4c695erow43_col1 {\n",
       "            background-color:  #fff4ee;\n",
       "            color:  #000000;\n",
       "        }    #T_dbf3d462_fef4_11ea_be99_88e9fe4c695erow43_col2 {\n",
       "            background-color:  #fff9c5;\n",
       "            color:  #000000;\n",
       "        }    #T_dbf3d462_fef4_11ea_be99_88e9fe4c695erow44_col0 {\n",
       "            background-color:  #f5fafe;\n",
       "            color:  #000000;\n",
       "        }    #T_dbf3d462_fef4_11ea_be99_88e9fe4c695erow44_col1 {\n",
       "            background-color:  #fff4ef;\n",
       "            color:  #000000;\n",
       "        }    #T_dbf3d462_fef4_11ea_be99_88e9fe4c695erow44_col2 {\n",
       "            background-color:  #fffbd0;\n",
       "            color:  #000000;\n",
       "        }    #T_dbf3d462_fef4_11ea_be99_88e9fe4c695erow45_col0 {\n",
       "            background-color:  #f5fafe;\n",
       "            color:  #000000;\n",
       "        }    #T_dbf3d462_fef4_11ea_be99_88e9fe4c695erow45_col1 {\n",
       "            background-color:  #fff4ef;\n",
       "            color:  #000000;\n",
       "        }    #T_dbf3d462_fef4_11ea_be99_88e9fe4c695erow45_col2 {\n",
       "            background-color:  #fffdd9;\n",
       "            color:  #000000;\n",
       "        }    #T_dbf3d462_fef4_11ea_be99_88e9fe4c695erow46_col0 {\n",
       "            background-color:  #f5fafe;\n",
       "            color:  #000000;\n",
       "        }    #T_dbf3d462_fef4_11ea_be99_88e9fe4c695erow46_col1 {\n",
       "            background-color:  #fff4ee;\n",
       "            color:  #000000;\n",
       "        }    #T_dbf3d462_fef4_11ea_be99_88e9fe4c695erow46_col2 {\n",
       "            background-color:  #fff8c2;\n",
       "            color:  #000000;\n",
       "        }    #T_dbf3d462_fef4_11ea_be99_88e9fe4c695erow47_col0 {\n",
       "            background-color:  #f5fafe;\n",
       "            color:  #000000;\n",
       "        }    #T_dbf3d462_fef4_11ea_be99_88e9fe4c695erow47_col1 {\n",
       "            background-color:  #fff4ef;\n",
       "            color:  #000000;\n",
       "        }    #T_dbf3d462_fef4_11ea_be99_88e9fe4c695erow47_col2 {\n",
       "            background-color:  #fffbd3;\n",
       "            color:  #000000;\n",
       "        }    #T_dbf3d462_fef4_11ea_be99_88e9fe4c695erow48_col0 {\n",
       "            background-color:  #f5fafe;\n",
       "            color:  #000000;\n",
       "        }    #T_dbf3d462_fef4_11ea_be99_88e9fe4c695erow48_col1 {\n",
       "            background-color:  #fff4ee;\n",
       "            color:  #000000;\n",
       "        }    #T_dbf3d462_fef4_11ea_be99_88e9fe4c695erow48_col2 {\n",
       "            background-color:  #fff9c6;\n",
       "            color:  #000000;\n",
       "        }    #T_dbf3d462_fef4_11ea_be99_88e9fe4c695erow49_col0 {\n",
       "            background-color:  #f5fafe;\n",
       "            color:  #000000;\n",
       "        }    #T_dbf3d462_fef4_11ea_be99_88e9fe4c695erow49_col1 {\n",
       "            background-color:  #fff5f0;\n",
       "            color:  #000000;\n",
       "        }    #T_dbf3d462_fef4_11ea_be99_88e9fe4c695erow49_col2 {\n",
       "            background-color:  #fffddc;\n",
       "            color:  #000000;\n",
       "        }    #T_dbf3d462_fef4_11ea_be99_88e9fe4c695erow50_col0 {\n",
       "            background-color:  #f5fafe;\n",
       "            color:  #000000;\n",
       "        }    #T_dbf3d462_fef4_11ea_be99_88e9fe4c695erow50_col1 {\n",
       "            background-color:  #fff5f0;\n",
       "            color:  #000000;\n",
       "        }    #T_dbf3d462_fef4_11ea_be99_88e9fe4c695erow50_col2 {\n",
       "            background-color:  #fffcd8;\n",
       "            color:  #000000;\n",
       "        }    #T_dbf3d462_fef4_11ea_be99_88e9fe4c695erow51_col0 {\n",
       "            background-color:  #f5fafe;\n",
       "            color:  #000000;\n",
       "        }    #T_dbf3d462_fef4_11ea_be99_88e9fe4c695erow51_col1 {\n",
       "            background-color:  #fff5f0;\n",
       "            color:  #000000;\n",
       "        }    #T_dbf3d462_fef4_11ea_be99_88e9fe4c695erow51_col2 {\n",
       "            background-color:  #fffedf;\n",
       "            color:  #000000;\n",
       "        }    #T_dbf3d462_fef4_11ea_be99_88e9fe4c695erow52_col0 {\n",
       "            background-color:  #f5fafe;\n",
       "            color:  #000000;\n",
       "        }    #T_dbf3d462_fef4_11ea_be99_88e9fe4c695erow52_col1 {\n",
       "            background-color:  #fff5f0;\n",
       "            color:  #000000;\n",
       "        }    #T_dbf3d462_fef4_11ea_be99_88e9fe4c695erow52_col2 {\n",
       "            background-color:  #fffee1;\n",
       "            color:  #000000;\n",
       "        }    #T_dbf3d462_fef4_11ea_be99_88e9fe4c695erow53_col0 {\n",
       "            background-color:  #f5fafe;\n",
       "            color:  #000000;\n",
       "        }    #T_dbf3d462_fef4_11ea_be99_88e9fe4c695erow53_col1 {\n",
       "            background-color:  #fff4ef;\n",
       "            color:  #000000;\n",
       "        }    #T_dbf3d462_fef4_11ea_be99_88e9fe4c695erow53_col2 {\n",
       "            background-color:  #fffbd0;\n",
       "            color:  #000000;\n",
       "        }    #T_dbf3d462_fef4_11ea_be99_88e9fe4c695erow54_col0 {\n",
       "            background-color:  #f5fafe;\n",
       "            color:  #000000;\n",
       "        }    #T_dbf3d462_fef4_11ea_be99_88e9fe4c695erow54_col1 {\n",
       "            background-color:  #fff5f0;\n",
       "            color:  #000000;\n",
       "        }    #T_dbf3d462_fef4_11ea_be99_88e9fe4c695erow54_col2 {\n",
       "            background-color:  #ffffe5;\n",
       "            color:  #000000;\n",
       "        }    #T_dbf3d462_fef4_11ea_be99_88e9fe4c695erow55_col0 {\n",
       "            background-color:  #f5fafe;\n",
       "            color:  #000000;\n",
       "        }    #T_dbf3d462_fef4_11ea_be99_88e9fe4c695erow55_col1 {\n",
       "            background-color:  #fff5f0;\n",
       "            color:  #000000;\n",
       "        }    #T_dbf3d462_fef4_11ea_be99_88e9fe4c695erow55_col2 {\n",
       "            background-color:  #fffddb;\n",
       "            color:  #000000;\n",
       "        }    #T_dbf3d462_fef4_11ea_be99_88e9fe4c695erow56_col0 {\n",
       "            background-color:  #f6faff;\n",
       "            color:  #000000;\n",
       "        }    #T_dbf3d462_fef4_11ea_be99_88e9fe4c695erow56_col1 {\n",
       "            background-color:  #fff5f0;\n",
       "            color:  #000000;\n",
       "        }    #T_dbf3d462_fef4_11ea_be99_88e9fe4c695erow56_col2 {\n",
       "            background-color:  #fffddc;\n",
       "            color:  #000000;\n",
       "        }    #T_dbf3d462_fef4_11ea_be99_88e9fe4c695erow57_col0 {\n",
       "            background-color:  #f6faff;\n",
       "            color:  #000000;\n",
       "        }    #T_dbf3d462_fef4_11ea_be99_88e9fe4c695erow57_col1 {\n",
       "            background-color:  #fff4ee;\n",
       "            color:  #000000;\n",
       "        }    #T_dbf3d462_fef4_11ea_be99_88e9fe4c695erow57_col2 {\n",
       "            background-color:  #fff7be;\n",
       "            color:  #000000;\n",
       "        }    #T_dbf3d462_fef4_11ea_be99_88e9fe4c695erow58_col0 {\n",
       "            background-color:  #f6faff;\n",
       "            color:  #000000;\n",
       "        }    #T_dbf3d462_fef4_11ea_be99_88e9fe4c695erow58_col1 {\n",
       "            background-color:  #fff4ee;\n",
       "            color:  #000000;\n",
       "        }    #T_dbf3d462_fef4_11ea_be99_88e9fe4c695erow58_col2 {\n",
       "            background-color:  #fff8c0;\n",
       "            color:  #000000;\n",
       "        }    #T_dbf3d462_fef4_11ea_be99_88e9fe4c695erow59_col0 {\n",
       "            background-color:  #f6faff;\n",
       "            color:  #000000;\n",
       "        }    #T_dbf3d462_fef4_11ea_be99_88e9fe4c695erow59_col1 {\n",
       "            background-color:  #fff4ef;\n",
       "            color:  #000000;\n",
       "        }    #T_dbf3d462_fef4_11ea_be99_88e9fe4c695erow59_col2 {\n",
       "            background-color:  #fff9c9;\n",
       "            color:  #000000;\n",
       "        }    #T_dbf3d462_fef4_11ea_be99_88e9fe4c695erow60_col0 {\n",
       "            background-color:  #f6faff;\n",
       "            color:  #000000;\n",
       "        }    #T_dbf3d462_fef4_11ea_be99_88e9fe4c695erow60_col1 {\n",
       "            background-color:  #fff4ef;\n",
       "            color:  #000000;\n",
       "        }    #T_dbf3d462_fef4_11ea_be99_88e9fe4c695erow60_col2 {\n",
       "            background-color:  #fffbcf;\n",
       "            color:  #000000;\n",
       "        }    #T_dbf3d462_fef4_11ea_be99_88e9fe4c695erow61_col0 {\n",
       "            background-color:  #f6faff;\n",
       "            color:  #000000;\n",
       "        }    #T_dbf3d462_fef4_11ea_be99_88e9fe4c695erow61_col1 {\n",
       "            background-color:  #fff5f0;\n",
       "            color:  #000000;\n",
       "        }    #T_dbf3d462_fef4_11ea_be99_88e9fe4c695erow61_col2 {\n",
       "            background-color:  #fffedf;\n",
       "            color:  #000000;\n",
       "        }    #T_dbf3d462_fef4_11ea_be99_88e9fe4c695erow62_col0 {\n",
       "            background-color:  #f6faff;\n",
       "            color:  #000000;\n",
       "        }    #T_dbf3d462_fef4_11ea_be99_88e9fe4c695erow62_col1 {\n",
       "            background-color:  #fff5f0;\n",
       "            color:  #000000;\n",
       "        }    #T_dbf3d462_fef4_11ea_be99_88e9fe4c695erow62_col2 {\n",
       "            background-color:  #fffedf;\n",
       "            color:  #000000;\n",
       "        }    #T_dbf3d462_fef4_11ea_be99_88e9fe4c695erow63_col0 {\n",
       "            background-color:  #f6faff;\n",
       "            color:  #000000;\n",
       "        }    #T_dbf3d462_fef4_11ea_be99_88e9fe4c695erow63_col1 {\n",
       "            background-color:  #fff4ef;\n",
       "            color:  #000000;\n",
       "        }    #T_dbf3d462_fef4_11ea_be99_88e9fe4c695erow63_col2 {\n",
       "            background-color:  #fffacb;\n",
       "            color:  #000000;\n",
       "        }    #T_dbf3d462_fef4_11ea_be99_88e9fe4c695erow64_col0 {\n",
       "            background-color:  #f6faff;\n",
       "            color:  #000000;\n",
       "        }    #T_dbf3d462_fef4_11ea_be99_88e9fe4c695erow64_col1 {\n",
       "            background-color:  #fff5f0;\n",
       "            color:  #000000;\n",
       "        }    #T_dbf3d462_fef4_11ea_be99_88e9fe4c695erow64_col2 {\n",
       "            background-color:  #fffcd6;\n",
       "            color:  #000000;\n",
       "        }    #T_dbf3d462_fef4_11ea_be99_88e9fe4c695erow65_col0 {\n",
       "            background-color:  #f6faff;\n",
       "            color:  #000000;\n",
       "        }    #T_dbf3d462_fef4_11ea_be99_88e9fe4c695erow65_col1 {\n",
       "            background-color:  #fff5f0;\n",
       "            color:  #000000;\n",
       "        }    #T_dbf3d462_fef4_11ea_be99_88e9fe4c695erow65_col2 {\n",
       "            background-color:  #fffbcf;\n",
       "            color:  #000000;\n",
       "        }    #T_dbf3d462_fef4_11ea_be99_88e9fe4c695erow66_col0 {\n",
       "            background-color:  #f6faff;\n",
       "            color:  #000000;\n",
       "        }    #T_dbf3d462_fef4_11ea_be99_88e9fe4c695erow66_col1 {\n",
       "            background-color:  #fff5f0;\n",
       "            color:  #000000;\n",
       "        }    #T_dbf3d462_fef4_11ea_be99_88e9fe4c695erow66_col2 {\n",
       "            background-color:  #fffcd4;\n",
       "            color:  #000000;\n",
       "        }    #T_dbf3d462_fef4_11ea_be99_88e9fe4c695erow67_col0 {\n",
       "            background-color:  #f6faff;\n",
       "            color:  #000000;\n",
       "        }    #T_dbf3d462_fef4_11ea_be99_88e9fe4c695erow67_col1 {\n",
       "            background-color:  #fff4ef;\n",
       "            color:  #000000;\n",
       "        }    #T_dbf3d462_fef4_11ea_be99_88e9fe4c695erow67_col2 {\n",
       "            background-color:  #fff7bc;\n",
       "            color:  #000000;\n",
       "        }    #T_dbf3d462_fef4_11ea_be99_88e9fe4c695erow68_col0 {\n",
       "            background-color:  #f6faff;\n",
       "            color:  #000000;\n",
       "        }    #T_dbf3d462_fef4_11ea_be99_88e9fe4c695erow68_col1 {\n",
       "            background-color:  #fff5f0;\n",
       "            color:  #000000;\n",
       "        }    #T_dbf3d462_fef4_11ea_be99_88e9fe4c695erow68_col2 {\n",
       "            background-color:  #fffbd2;\n",
       "            color:  #000000;\n",
       "        }    #T_dbf3d462_fef4_11ea_be99_88e9fe4c695erow69_col0 {\n",
       "            background-color:  #f6faff;\n",
       "            color:  #000000;\n",
       "        }    #T_dbf3d462_fef4_11ea_be99_88e9fe4c695erow69_col1 {\n",
       "            background-color:  #fff5f0;\n",
       "            color:  #000000;\n",
       "        }    #T_dbf3d462_fef4_11ea_be99_88e9fe4c695erow69_col2 {\n",
       "            background-color:  #ffface;\n",
       "            color:  #000000;\n",
       "        }    #T_dbf3d462_fef4_11ea_be99_88e9fe4c695erow70_col0 {\n",
       "            background-color:  #f6faff;\n",
       "            color:  #000000;\n",
       "        }    #T_dbf3d462_fef4_11ea_be99_88e9fe4c695erow70_col1 {\n",
       "            background-color:  #fff4ee;\n",
       "            color:  #000000;\n",
       "        }    #T_dbf3d462_fef4_11ea_be99_88e9fe4c695erow70_col2 {\n",
       "            background-color:  #ffeea8;\n",
       "            color:  #000000;\n",
       "        }    #T_dbf3d462_fef4_11ea_be99_88e9fe4c695erow71_col0 {\n",
       "            background-color:  #f6faff;\n",
       "            color:  #000000;\n",
       "        }    #T_dbf3d462_fef4_11ea_be99_88e9fe4c695erow71_col1 {\n",
       "            background-color:  #fff5f0;\n",
       "            color:  #000000;\n",
       "        }    #T_dbf3d462_fef4_11ea_be99_88e9fe4c695erow71_col2 {\n",
       "            background-color:  #fffacd;\n",
       "            color:  #000000;\n",
       "        }    #T_dbf3d462_fef4_11ea_be99_88e9fe4c695erow72_col0 {\n",
       "            background-color:  #f6faff;\n",
       "            color:  #000000;\n",
       "        }    #T_dbf3d462_fef4_11ea_be99_88e9fe4c695erow72_col1 {\n",
       "            background-color:  #fff5f0;\n",
       "            color:  #000000;\n",
       "        }    #T_dbf3d462_fef4_11ea_be99_88e9fe4c695erow72_col2 {\n",
       "            background-color:  #fffdd9;\n",
       "            color:  #000000;\n",
       "        }    #T_dbf3d462_fef4_11ea_be99_88e9fe4c695erow73_col0 {\n",
       "            background-color:  #f6faff;\n",
       "            color:  #000000;\n",
       "        }    #T_dbf3d462_fef4_11ea_be99_88e9fe4c695erow73_col1 {\n",
       "            background-color:  #fff5f0;\n",
       "            color:  #000000;\n",
       "        }    #T_dbf3d462_fef4_11ea_be99_88e9fe4c695erow73_col2 {\n",
       "            background-color:  #fffcd4;\n",
       "            color:  #000000;\n",
       "        }    #T_dbf3d462_fef4_11ea_be99_88e9fe4c695erow74_col0 {\n",
       "            background-color:  #f6faff;\n",
       "            color:  #000000;\n",
       "        }    #T_dbf3d462_fef4_11ea_be99_88e9fe4c695erow74_col1 {\n",
       "            background-color:  #fff4ef;\n",
       "            color:  #000000;\n",
       "        }    #T_dbf3d462_fef4_11ea_be99_88e9fe4c695erow74_col2 {\n",
       "            background-color:  #fff9c5;\n",
       "            color:  #000000;\n",
       "        }    #T_dbf3d462_fef4_11ea_be99_88e9fe4c695erow75_col0 {\n",
       "            background-color:  #f7fbff;\n",
       "            color:  #000000;\n",
       "        }    #T_dbf3d462_fef4_11ea_be99_88e9fe4c695erow75_col1 {\n",
       "            background-color:  #fff4ef;\n",
       "            color:  #000000;\n",
       "        }    #T_dbf3d462_fef4_11ea_be99_88e9fe4c695erow75_col2 {\n",
       "            background-color:  #fff8c1;\n",
       "            color:  #000000;\n",
       "        }    #T_dbf3d462_fef4_11ea_be99_88e9fe4c695erow76_col0 {\n",
       "            background-color:  #f7fbff;\n",
       "            color:  #000000;\n",
       "        }    #T_dbf3d462_fef4_11ea_be99_88e9fe4c695erow76_col1 {\n",
       "            background-color:  #fff4ef;\n",
       "            color:  #000000;\n",
       "        }    #T_dbf3d462_fef4_11ea_be99_88e9fe4c695erow76_col2 {\n",
       "            background-color:  #fff8c4;\n",
       "            color:  #000000;\n",
       "        }    #T_dbf3d462_fef4_11ea_be99_88e9fe4c695erow77_col0 {\n",
       "            background-color:  #f7fbff;\n",
       "            color:  #000000;\n",
       "        }    #T_dbf3d462_fef4_11ea_be99_88e9fe4c695erow77_col1 {\n",
       "            background-color:  #fff5f0;\n",
       "            color:  #000000;\n",
       "        }    #T_dbf3d462_fef4_11ea_be99_88e9fe4c695erow77_col2 {\n",
       "            background-color:  #fff9c7;\n",
       "            color:  #000000;\n",
       "        }    #T_dbf3d462_fef4_11ea_be99_88e9fe4c695erow78_col0 {\n",
       "            background-color:  #f7fbff;\n",
       "            color:  #000000;\n",
       "        }    #T_dbf3d462_fef4_11ea_be99_88e9fe4c695erow78_col1 {\n",
       "            background-color:  #fff5f0;\n",
       "            color:  #000000;\n",
       "        }    #T_dbf3d462_fef4_11ea_be99_88e9fe4c695erow78_col2 {\n",
       "            background-color:  #fffbd3;\n",
       "            color:  #000000;\n",
       "        }    #T_dbf3d462_fef4_11ea_be99_88e9fe4c695erow79_col0 {\n",
       "            background-color:  #f7fbff;\n",
       "            color:  #000000;\n",
       "        }    #T_dbf3d462_fef4_11ea_be99_88e9fe4c695erow79_col1 {\n",
       "            background-color:  #fff5f0;\n",
       "            color:  #000000;\n",
       "        }    #T_dbf3d462_fef4_11ea_be99_88e9fe4c695erow79_col2 {\n",
       "            background-color:  #fff8c0;\n",
       "            color:  #000000;\n",
       "        }    #T_dbf3d462_fef4_11ea_be99_88e9fe4c695erow80_col0 {\n",
       "            background-color:  #f7fbff;\n",
       "            color:  #000000;\n",
       "        }    #T_dbf3d462_fef4_11ea_be99_88e9fe4c695erow80_col1 {\n",
       "            background-color:  #fff5f0;\n",
       "            color:  #000000;\n",
       "        }    #T_dbf3d462_fef4_11ea_be99_88e9fe4c695erow80_col2 {\n",
       "            background-color:  #fffbcf;\n",
       "            color:  #000000;\n",
       "        }    #T_dbf3d462_fef4_11ea_be99_88e9fe4c695erow81_col0 {\n",
       "            background-color:  #f7fbff;\n",
       "            color:  #000000;\n",
       "        }    #T_dbf3d462_fef4_11ea_be99_88e9fe4c695erow81_col1 {\n",
       "            background-color:  #fff5f0;\n",
       "            color:  #000000;\n",
       "        }    #T_dbf3d462_fef4_11ea_be99_88e9fe4c695erow81_col2 {\n",
       "            background-color:  #fffedf;\n",
       "            color:  #000000;\n",
       "        }    #T_dbf3d462_fef4_11ea_be99_88e9fe4c695erow82_col0 {\n",
       "            background-color:  #f7fbff;\n",
       "            color:  #000000;\n",
       "        }    #T_dbf3d462_fef4_11ea_be99_88e9fe4c695erow82_col1 {\n",
       "            background-color:  #fff5f0;\n",
       "            color:  #000000;\n",
       "        }    #T_dbf3d462_fef4_11ea_be99_88e9fe4c695erow82_col2 {\n",
       "            background-color:  #fff5b8;\n",
       "            color:  #000000;\n",
       "        }    #T_dbf3d462_fef4_11ea_be99_88e9fe4c695erow83_col0 {\n",
       "            background-color:  #f7fbff;\n",
       "            color:  #000000;\n",
       "        }    #T_dbf3d462_fef4_11ea_be99_88e9fe4c695erow83_col1 {\n",
       "            background-color:  #fff5f0;\n",
       "            color:  #000000;\n",
       "        }    #T_dbf3d462_fef4_11ea_be99_88e9fe4c695erow83_col2 {\n",
       "            background-color:  #fff4b6;\n",
       "            color:  #000000;\n",
       "        }    #T_dbf3d462_fef4_11ea_be99_88e9fe4c695erow84_col0 {\n",
       "            background-color:  #f7fbff;\n",
       "            color:  #000000;\n",
       "        }    #T_dbf3d462_fef4_11ea_be99_88e9fe4c695erow84_col1 {\n",
       "            background-color:  #fff5f0;\n",
       "            color:  #000000;\n",
       "        }    #T_dbf3d462_fef4_11ea_be99_88e9fe4c695erow84_col2 {\n",
       "            background-color:  #fffacd;\n",
       "            color:  #000000;\n",
       "        }    #T_dbf3d462_fef4_11ea_be99_88e9fe4c695erow85_col0 {\n",
       "            background-color:  #f7fbff;\n",
       "            color:  #000000;\n",
       "        }    #T_dbf3d462_fef4_11ea_be99_88e9fe4c695erow85_col1 {\n",
       "            background-color:  #fff5f0;\n",
       "            color:  #000000;\n",
       "        }    #T_dbf3d462_fef4_11ea_be99_88e9fe4c695erow85_col2 {\n",
       "            background-color:  #fffcd6;\n",
       "            color:  #000000;\n",
       "        }    #T_dbf3d462_fef4_11ea_be99_88e9fe4c695erow86_col0 {\n",
       "            background-color:  #f7fbff;\n",
       "            color:  #000000;\n",
       "        }    #T_dbf3d462_fef4_11ea_be99_88e9fe4c695erow86_col1 {\n",
       "            background-color:  #fff5f0;\n",
       "            color:  #000000;\n",
       "        }    #T_dbf3d462_fef4_11ea_be99_88e9fe4c695erow86_col2 {\n",
       "            background-color:  #fffbd3;\n",
       "            color:  #000000;\n",
       "        }    #T_dbf3d462_fef4_11ea_be99_88e9fe4c695erow87_col0 {\n",
       "            background-color:  #f7fbff;\n",
       "            color:  #000000;\n",
       "        }    #T_dbf3d462_fef4_11ea_be99_88e9fe4c695erow87_col1 {\n",
       "            background-color:  #fff5f0;\n",
       "            color:  #000000;\n",
       "        }    #T_dbf3d462_fef4_11ea_be99_88e9fe4c695erow87_col2 {\n",
       "            background-color:  #fff5b8;\n",
       "            color:  #000000;\n",
       "        }    #T_dbf3d462_fef4_11ea_be99_88e9fe4c695erow88_col0 {\n",
       "            background-color:  #f7fbff;\n",
       "            color:  #000000;\n",
       "        }    #T_dbf3d462_fef4_11ea_be99_88e9fe4c695erow88_col1 {\n",
       "            background-color:  #fff5f0;\n",
       "            color:  #000000;\n",
       "        }    #T_dbf3d462_fef4_11ea_be99_88e9fe4c695erow88_col2 {\n",
       "            background-color:  #ffface;\n",
       "            color:  #000000;\n",
       "        }    #T_dbf3d462_fef4_11ea_be99_88e9fe4c695erow89_col0 {\n",
       "            background-color:  #f7fbff;\n",
       "            color:  #000000;\n",
       "        }    #T_dbf3d462_fef4_11ea_be99_88e9fe4c695erow89_col1 {\n",
       "            background-color:  #fff5f0;\n",
       "            color:  #000000;\n",
       "        }    #T_dbf3d462_fef4_11ea_be99_88e9fe4c695erow89_col2 {\n",
       "            background-color:  #fffacb;\n",
       "            color:  #000000;\n",
       "        }    #T_dbf3d462_fef4_11ea_be99_88e9fe4c695erow90_col0 {\n",
       "            background-color:  #f7fbff;\n",
       "            color:  #000000;\n",
       "        }    #T_dbf3d462_fef4_11ea_be99_88e9fe4c695erow90_col1 {\n",
       "            background-color:  #fff4ef;\n",
       "            color:  #000000;\n",
       "        }    #T_dbf3d462_fef4_11ea_be99_88e9fe4c695erow90_col2 {\n",
       "            background-color:  #fee99e;\n",
       "            color:  #000000;\n",
       "        }    #T_dbf3d462_fef4_11ea_be99_88e9fe4c695erow91_col0 {\n",
       "            background-color:  #f7fbff;\n",
       "            color:  #000000;\n",
       "        }    #T_dbf3d462_fef4_11ea_be99_88e9fe4c695erow91_col1 {\n",
       "            background-color:  #fff5f0;\n",
       "            color:  #000000;\n",
       "        }    #T_dbf3d462_fef4_11ea_be99_88e9fe4c695erow91_col2 {\n",
       "            background-color:  #fffbcf;\n",
       "            color:  #000000;\n",
       "        }    #T_dbf3d462_fef4_11ea_be99_88e9fe4c695erow92_col0 {\n",
       "            background-color:  #f7fbff;\n",
       "            color:  #000000;\n",
       "        }    #T_dbf3d462_fef4_11ea_be99_88e9fe4c695erow92_col1 {\n",
       "            background-color:  #fff5f0;\n",
       "            color:  #000000;\n",
       "        }    #T_dbf3d462_fef4_11ea_be99_88e9fe4c695erow92_col2 {\n",
       "            background-color:  #fff9c5;\n",
       "            color:  #000000;\n",
       "        }    #T_dbf3d462_fef4_11ea_be99_88e9fe4c695erow93_col0 {\n",
       "            background-color:  #f7fbff;\n",
       "            color:  #000000;\n",
       "        }    #T_dbf3d462_fef4_11ea_be99_88e9fe4c695erow93_col1 {\n",
       "            background-color:  #fff5f0;\n",
       "            color:  #000000;\n",
       "        }    #T_dbf3d462_fef4_11ea_be99_88e9fe4c695erow93_col2 {\n",
       "            background-color:  #fffcd6;\n",
       "            color:  #000000;\n",
       "        }    #T_dbf3d462_fef4_11ea_be99_88e9fe4c695erow94_col0 {\n",
       "            background-color:  #f7fbff;\n",
       "            color:  #000000;\n",
       "        }    #T_dbf3d462_fef4_11ea_be99_88e9fe4c695erow94_col1 {\n",
       "            background-color:  #fff5f0;\n",
       "            color:  #000000;\n",
       "        }    #T_dbf3d462_fef4_11ea_be99_88e9fe4c695erow94_col2 {\n",
       "            background-color:  #fffdd9;\n",
       "            color:  #000000;\n",
       "        }    #T_dbf3d462_fef4_11ea_be99_88e9fe4c695erow95_col0 {\n",
       "            background-color:  #f7fbff;\n",
       "            color:  #000000;\n",
       "        }    #T_dbf3d462_fef4_11ea_be99_88e9fe4c695erow95_col1 {\n",
       "            background-color:  #fff5f0;\n",
       "            color:  #000000;\n",
       "        }    #T_dbf3d462_fef4_11ea_be99_88e9fe4c695erow95_col2 {\n",
       "            background-color:  #fff9c9;\n",
       "            color:  #000000;\n",
       "        }    #T_dbf3d462_fef4_11ea_be99_88e9fe4c695erow96_col0 {\n",
       "            background-color:  #f7fbff;\n",
       "            color:  #000000;\n",
       "        }    #T_dbf3d462_fef4_11ea_be99_88e9fe4c695erow96_col1 {\n",
       "            background-color:  #fff5f0;\n",
       "            color:  #000000;\n",
       "        }    #T_dbf3d462_fef4_11ea_be99_88e9fe4c695erow96_col2 {\n",
       "            background-color:  #fffcd7;\n",
       "            color:  #000000;\n",
       "        }    #T_dbf3d462_fef4_11ea_be99_88e9fe4c695erow97_col0 {\n",
       "            background-color:  #f7fbff;\n",
       "            color:  #000000;\n",
       "        }    #T_dbf3d462_fef4_11ea_be99_88e9fe4c695erow97_col1 {\n",
       "            background-color:  #fff5f0;\n",
       "            color:  #000000;\n",
       "        }    #T_dbf3d462_fef4_11ea_be99_88e9fe4c695erow97_col2 {\n",
       "            background-color:  #fffedf;\n",
       "            color:  #000000;\n",
       "        }    #T_dbf3d462_fef4_11ea_be99_88e9fe4c695erow98_col0 {\n",
       "            background-color:  #f7fbff;\n",
       "            color:  #000000;\n",
       "        }    #T_dbf3d462_fef4_11ea_be99_88e9fe4c695erow98_col1 {\n",
       "            background-color:  #fff5f0;\n",
       "            color:  #000000;\n",
       "        }    #T_dbf3d462_fef4_11ea_be99_88e9fe4c695erow98_col2 {\n",
       "            background-color:  #fffee1;\n",
       "            color:  #000000;\n",
       "        }    #T_dbf3d462_fef4_11ea_be99_88e9fe4c695erow99_col0 {\n",
       "            background-color:  #f7fbff;\n",
       "            color:  #000000;\n",
       "        }    #T_dbf3d462_fef4_11ea_be99_88e9fe4c695erow99_col1 {\n",
       "            background-color:  #fff5f0;\n",
       "            color:  #000000;\n",
       "        }    #T_dbf3d462_fef4_11ea_be99_88e9fe4c695erow99_col2 {\n",
       "            background-color:  #fffddd;\n",
       "            color:  #000000;\n",
       "        }    #T_dbf3d462_fef4_11ea_be99_88e9fe4c695erow100_col0 {\n",
       "            background-color:  #f7fbff;\n",
       "            color:  #000000;\n",
       "        }    #T_dbf3d462_fef4_11ea_be99_88e9fe4c695erow100_col1 {\n",
       "            background-color:  #fff5f0;\n",
       "            color:  #000000;\n",
       "        }    #T_dbf3d462_fef4_11ea_be99_88e9fe4c695erow100_col2 {\n",
       "            background-color:  #fffbd3;\n",
       "            color:  #000000;\n",
       "        }    #T_dbf3d462_fef4_11ea_be99_88e9fe4c695erow101_col0 {\n",
       "            background-color:  #f7fbff;\n",
       "            color:  #000000;\n",
       "        }    #T_dbf3d462_fef4_11ea_be99_88e9fe4c695erow101_col1 {\n",
       "            background-color:  #fff5f0;\n",
       "            color:  #000000;\n",
       "        }    #T_dbf3d462_fef4_11ea_be99_88e9fe4c695erow101_col2 {\n",
       "            background-color:  #fff7bc;\n",
       "            color:  #000000;\n",
       "        }    #T_dbf3d462_fef4_11ea_be99_88e9fe4c695erow102_col0 {\n",
       "            background-color:  #f7fbff;\n",
       "            color:  #000000;\n",
       "        }    #T_dbf3d462_fef4_11ea_be99_88e9fe4c695erow102_col1 {\n",
       "            background-color:  #fff5f0;\n",
       "            color:  #000000;\n",
       "        }    #T_dbf3d462_fef4_11ea_be99_88e9fe4c695erow102_col2 {\n",
       "            background-color:  #fffedf;\n",
       "            color:  #000000;\n",
       "        }    #T_dbf3d462_fef4_11ea_be99_88e9fe4c695erow103_col0 {\n",
       "            background-color:  #f7fbff;\n",
       "            color:  #000000;\n",
       "        }    #T_dbf3d462_fef4_11ea_be99_88e9fe4c695erow103_col1 {\n",
       "            background-color:  #fff5f0;\n",
       "            color:  #000000;\n",
       "        }    #T_dbf3d462_fef4_11ea_be99_88e9fe4c695erow103_col2 {\n",
       "            background-color:  #fff9c7;\n",
       "            color:  #000000;\n",
       "        }    #T_dbf3d462_fef4_11ea_be99_88e9fe4c695erow104_col0 {\n",
       "            background-color:  #f7fbff;\n",
       "            color:  #000000;\n",
       "        }    #T_dbf3d462_fef4_11ea_be99_88e9fe4c695erow104_col1 {\n",
       "            background-color:  #fff5f0;\n",
       "            color:  #000000;\n",
       "        }    #T_dbf3d462_fef4_11ea_be99_88e9fe4c695erow104_col2 {\n",
       "            background-color:  #fffcd4;\n",
       "            color:  #000000;\n",
       "        }    #T_dbf3d462_fef4_11ea_be99_88e9fe4c695erow105_col0 {\n",
       "            background-color:  #f7fbff;\n",
       "            color:  #000000;\n",
       "        }    #T_dbf3d462_fef4_11ea_be99_88e9fe4c695erow105_col1 {\n",
       "            background-color:  #fff5f0;\n",
       "            color:  #000000;\n",
       "        }    #T_dbf3d462_fef4_11ea_be99_88e9fe4c695erow105_col2 {\n",
       "            background-color:  #fffbd2;\n",
       "            color:  #000000;\n",
       "        }    #T_dbf3d462_fef4_11ea_be99_88e9fe4c695erow106_col0 {\n",
       "            background-color:  #f7fbff;\n",
       "            color:  #000000;\n",
       "        }    #T_dbf3d462_fef4_11ea_be99_88e9fe4c695erow106_col1 {\n",
       "            background-color:  #fff5f0;\n",
       "            color:  #000000;\n",
       "        }    #T_dbf3d462_fef4_11ea_be99_88e9fe4c695erow106_col2 {\n",
       "            background-color:  #fff8c4;\n",
       "            color:  #000000;\n",
       "        }    #T_dbf3d462_fef4_11ea_be99_88e9fe4c695erow107_col0 {\n",
       "            background-color:  #f7fbff;\n",
       "            color:  #000000;\n",
       "        }    #T_dbf3d462_fef4_11ea_be99_88e9fe4c695erow107_col1 {\n",
       "            background-color:  #fff5f0;\n",
       "            color:  #000000;\n",
       "        }    #T_dbf3d462_fef4_11ea_be99_88e9fe4c695erow107_col2 {\n",
       "            background-color:  #fffacd;\n",
       "            color:  #000000;\n",
       "        }    #T_dbf3d462_fef4_11ea_be99_88e9fe4c695erow108_col0 {\n",
       "            background-color:  #f7fbff;\n",
       "            color:  #000000;\n",
       "        }    #T_dbf3d462_fef4_11ea_be99_88e9fe4c695erow108_col1 {\n",
       "            background-color:  #fff5f0;\n",
       "            color:  #000000;\n",
       "        }    #T_dbf3d462_fef4_11ea_be99_88e9fe4c695erow108_col2 {\n",
       "            background-color:  #fffee0;\n",
       "            color:  #000000;\n",
       "        }    #T_dbf3d462_fef4_11ea_be99_88e9fe4c695erow109_col0 {\n",
       "            background-color:  #f7fbff;\n",
       "            color:  #000000;\n",
       "        }    #T_dbf3d462_fef4_11ea_be99_88e9fe4c695erow109_col1 {\n",
       "            background-color:  #fff5f0;\n",
       "            color:  #000000;\n",
       "        }    #T_dbf3d462_fef4_11ea_be99_88e9fe4c695erow109_col2 {\n",
       "            background-color:  #fffedf;\n",
       "            color:  #000000;\n",
       "        }    #T_dbf3d462_fef4_11ea_be99_88e9fe4c695erow110_col0 {\n",
       "            background-color:  #f7fbff;\n",
       "            color:  #000000;\n",
       "        }    #T_dbf3d462_fef4_11ea_be99_88e9fe4c695erow110_col1 {\n",
       "            background-color:  #fff5f0;\n",
       "            color:  #000000;\n",
       "        }    #T_dbf3d462_fef4_11ea_be99_88e9fe4c695erow110_col2 {\n",
       "            background-color:  #fffddb;\n",
       "            color:  #000000;\n",
       "        }    #T_dbf3d462_fef4_11ea_be99_88e9fe4c695erow111_col0 {\n",
       "            background-color:  #f7fbff;\n",
       "            color:  #000000;\n",
       "        }    #T_dbf3d462_fef4_11ea_be99_88e9fe4c695erow111_col1 {\n",
       "            background-color:  #fff5f0;\n",
       "            color:  #000000;\n",
       "        }    #T_dbf3d462_fef4_11ea_be99_88e9fe4c695erow111_col2 {\n",
       "            background-color:  #fffedf;\n",
       "            color:  #000000;\n",
       "        }    #T_dbf3d462_fef4_11ea_be99_88e9fe4c695erow112_col0 {\n",
       "            background-color:  #f7fbff;\n",
       "            color:  #000000;\n",
       "        }    #T_dbf3d462_fef4_11ea_be99_88e9fe4c695erow112_col1 {\n",
       "            background-color:  #fff5f0;\n",
       "            color:  #000000;\n",
       "        }    #T_dbf3d462_fef4_11ea_be99_88e9fe4c695erow112_col2 {\n",
       "            background-color:  #fff8c2;\n",
       "            color:  #000000;\n",
       "        }    #T_dbf3d462_fef4_11ea_be99_88e9fe4c695erow113_col0 {\n",
       "            background-color:  #f7fbff;\n",
       "            color:  #000000;\n",
       "        }    #T_dbf3d462_fef4_11ea_be99_88e9fe4c695erow113_col1 {\n",
       "            background-color:  #fff5f0;\n",
       "            color:  #000000;\n",
       "        }    #T_dbf3d462_fef4_11ea_be99_88e9fe4c695erow113_col2 {\n",
       "            background-color:  #fffddb;\n",
       "            color:  #000000;\n",
       "        }    #T_dbf3d462_fef4_11ea_be99_88e9fe4c695erow114_col0 {\n",
       "            background-color:  #f7fbff;\n",
       "            color:  #000000;\n",
       "        }    #T_dbf3d462_fef4_11ea_be99_88e9fe4c695erow114_col1 {\n",
       "            background-color:  #fff5f0;\n",
       "            color:  #000000;\n",
       "        }    #T_dbf3d462_fef4_11ea_be99_88e9fe4c695erow114_col2 {\n",
       "            background-color:  #fffcd8;\n",
       "            color:  #000000;\n",
       "        }    #T_dbf3d462_fef4_11ea_be99_88e9fe4c695erow115_col0 {\n",
       "            background-color:  #f7fbff;\n",
       "            color:  #000000;\n",
       "        }    #T_dbf3d462_fef4_11ea_be99_88e9fe4c695erow115_col1 {\n",
       "            background-color:  #fff5f0;\n",
       "            color:  #000000;\n",
       "        }    #T_dbf3d462_fef4_11ea_be99_88e9fe4c695erow115_col2 {\n",
       "            background-color:  #fffcd6;\n",
       "            color:  #000000;\n",
       "        }    #T_dbf3d462_fef4_11ea_be99_88e9fe4c695erow116_col0 {\n",
       "            background-color:  #f7fbff;\n",
       "            color:  #000000;\n",
       "        }    #T_dbf3d462_fef4_11ea_be99_88e9fe4c695erow116_col1 {\n",
       "            background-color:  #fff5f0;\n",
       "            color:  #000000;\n",
       "        }    #T_dbf3d462_fef4_11ea_be99_88e9fe4c695erow116_col2 {\n",
       "            background-color:  #fffbcf;\n",
       "            color:  #000000;\n",
       "        }    #T_dbf3d462_fef4_11ea_be99_88e9fe4c695erow117_col0 {\n",
       "            background-color:  #f7fbff;\n",
       "            color:  #000000;\n",
       "        }    #T_dbf3d462_fef4_11ea_be99_88e9fe4c695erow117_col1 {\n",
       "            background-color:  #fff5f0;\n",
       "            color:  #000000;\n",
       "        }    #T_dbf3d462_fef4_11ea_be99_88e9fe4c695erow117_col2 {\n",
       "            background-color:  #fffacd;\n",
       "            color:  #000000;\n",
       "        }    #T_dbf3d462_fef4_11ea_be99_88e9fe4c695erow118_col0 {\n",
       "            background-color:  #f7fbff;\n",
       "            color:  #000000;\n",
       "        }    #T_dbf3d462_fef4_11ea_be99_88e9fe4c695erow118_col1 {\n",
       "            background-color:  #fff5f0;\n",
       "            color:  #000000;\n",
       "        }    #T_dbf3d462_fef4_11ea_be99_88e9fe4c695erow118_col2 {\n",
       "            background-color:  #fff9c5;\n",
       "            color:  #000000;\n",
       "        }    #T_dbf3d462_fef4_11ea_be99_88e9fe4c695erow119_col0 {\n",
       "            background-color:  #f7fbff;\n",
       "            color:  #000000;\n",
       "        }    #T_dbf3d462_fef4_11ea_be99_88e9fe4c695erow119_col1 {\n",
       "            background-color:  #fff5f0;\n",
       "            color:  #000000;\n",
       "        }    #T_dbf3d462_fef4_11ea_be99_88e9fe4c695erow119_col2 {\n",
       "            background-color:  #fffbd3;\n",
       "            color:  #000000;\n",
       "        }    #T_dbf3d462_fef4_11ea_be99_88e9fe4c695erow120_col0 {\n",
       "            background-color:  #f7fbff;\n",
       "            color:  #000000;\n",
       "        }    #T_dbf3d462_fef4_11ea_be99_88e9fe4c695erow120_col1 {\n",
       "            background-color:  #fff5f0;\n",
       "            color:  #000000;\n",
       "        }    #T_dbf3d462_fef4_11ea_be99_88e9fe4c695erow120_col2 {\n",
       "            background-color:  #fffbd2;\n",
       "            color:  #000000;\n",
       "        }    #T_dbf3d462_fef4_11ea_be99_88e9fe4c695erow121_col0 {\n",
       "            background-color:  #f7fbff;\n",
       "            color:  #000000;\n",
       "        }    #T_dbf3d462_fef4_11ea_be99_88e9fe4c695erow121_col1 {\n",
       "            background-color:  #fff5f0;\n",
       "            color:  #000000;\n",
       "        }    #T_dbf3d462_fef4_11ea_be99_88e9fe4c695erow121_col2 {\n",
       "            background-color:  #fffcd7;\n",
       "            color:  #000000;\n",
       "        }    #T_dbf3d462_fef4_11ea_be99_88e9fe4c695erow122_col0 {\n",
       "            background-color:  #f7fbff;\n",
       "            color:  #000000;\n",
       "        }    #T_dbf3d462_fef4_11ea_be99_88e9fe4c695erow122_col1 {\n",
       "            background-color:  #fff5f0;\n",
       "            color:  #000000;\n",
       "        }    #T_dbf3d462_fef4_11ea_be99_88e9fe4c695erow122_col2 {\n",
       "            background-color:  #ffface;\n",
       "            color:  #000000;\n",
       "        }    #T_dbf3d462_fef4_11ea_be99_88e9fe4c695erow123_col0 {\n",
       "            background-color:  #f7fbff;\n",
       "            color:  #000000;\n",
       "        }    #T_dbf3d462_fef4_11ea_be99_88e9fe4c695erow123_col1 {\n",
       "            background-color:  #fff5f0;\n",
       "            color:  #000000;\n",
       "        }    #T_dbf3d462_fef4_11ea_be99_88e9fe4c695erow123_col2 {\n",
       "            background-color:  #fffee0;\n",
       "            color:  #000000;\n",
       "        }    #T_dbf3d462_fef4_11ea_be99_88e9fe4c695erow124_col0 {\n",
       "            background-color:  #f7fbff;\n",
       "            color:  #000000;\n",
       "        }    #T_dbf3d462_fef4_11ea_be99_88e9fe4c695erow124_col1 {\n",
       "            background-color:  #fff5f0;\n",
       "            color:  #000000;\n",
       "        }    #T_dbf3d462_fef4_11ea_be99_88e9fe4c695erow124_col2 {\n",
       "            background-color:  #fff9c5;\n",
       "            color:  #000000;\n",
       "        }    #T_dbf3d462_fef4_11ea_be99_88e9fe4c695erow125_col0 {\n",
       "            background-color:  #f7fbff;\n",
       "            color:  #000000;\n",
       "        }    #T_dbf3d462_fef4_11ea_be99_88e9fe4c695erow125_col1 {\n",
       "            background-color:  #fff5f0;\n",
       "            color:  #000000;\n",
       "        }    #T_dbf3d462_fef4_11ea_be99_88e9fe4c695erow125_col2 {\n",
       "            background-color:  #fffedf;\n",
       "            color:  #000000;\n",
       "        }    #T_dbf3d462_fef4_11ea_be99_88e9fe4c695erow126_col0 {\n",
       "            background-color:  #f7fbff;\n",
       "            color:  #000000;\n",
       "        }    #T_dbf3d462_fef4_11ea_be99_88e9fe4c695erow126_col1 {\n",
       "            background-color:  #fff5f0;\n",
       "            color:  #000000;\n",
       "        }    #T_dbf3d462_fef4_11ea_be99_88e9fe4c695erow126_col2 {\n",
       "            background-color:  #fff7bc;\n",
       "            color:  #000000;\n",
       "        }    #T_dbf3d462_fef4_11ea_be99_88e9fe4c695erow127_col0 {\n",
       "            background-color:  #f7fbff;\n",
       "            color:  #000000;\n",
       "        }    #T_dbf3d462_fef4_11ea_be99_88e9fe4c695erow127_col1 {\n",
       "            background-color:  #fff5f0;\n",
       "            color:  #000000;\n",
       "        }    #T_dbf3d462_fef4_11ea_be99_88e9fe4c695erow127_col2 {\n",
       "            background-color:  #fffbd3;\n",
       "            color:  #000000;\n",
       "        }    #T_dbf3d462_fef4_11ea_be99_88e9fe4c695erow128_col0 {\n",
       "            background-color:  #f7fbff;\n",
       "            color:  #000000;\n",
       "        }    #T_dbf3d462_fef4_11ea_be99_88e9fe4c695erow128_col1 {\n",
       "            background-color:  #fff5f0;\n",
       "            color:  #000000;\n",
       "        }    #T_dbf3d462_fef4_11ea_be99_88e9fe4c695erow128_col2 {\n",
       "            background-color:  #fffacd;\n",
       "            color:  #000000;\n",
       "        }    #T_dbf3d462_fef4_11ea_be99_88e9fe4c695erow129_col0 {\n",
       "            background-color:  #f7fbff;\n",
       "            color:  #000000;\n",
       "        }    #T_dbf3d462_fef4_11ea_be99_88e9fe4c695erow129_col1 {\n",
       "            background-color:  #fff5f0;\n",
       "            color:  #000000;\n",
       "        }    #T_dbf3d462_fef4_11ea_be99_88e9fe4c695erow129_col2 {\n",
       "            background-color:  #fff2b1;\n",
       "            color:  #000000;\n",
       "        }    #T_dbf3d462_fef4_11ea_be99_88e9fe4c695erow130_col0 {\n",
       "            background-color:  #f7fbff;\n",
       "            color:  #000000;\n",
       "        }    #T_dbf3d462_fef4_11ea_be99_88e9fe4c695erow130_col1 {\n",
       "            background-color:  #fff5f0;\n",
       "            color:  #000000;\n",
       "        }    #T_dbf3d462_fef4_11ea_be99_88e9fe4c695erow130_col2 {\n",
       "            background-color:  #fffedf;\n",
       "            color:  #000000;\n",
       "        }    #T_dbf3d462_fef4_11ea_be99_88e9fe4c695erow131_col0 {\n",
       "            background-color:  #f7fbff;\n",
       "            color:  #000000;\n",
       "        }    #T_dbf3d462_fef4_11ea_be99_88e9fe4c695erow131_col1 {\n",
       "            background-color:  #fff5f0;\n",
       "            color:  #000000;\n",
       "        }    #T_dbf3d462_fef4_11ea_be99_88e9fe4c695erow131_col2 {\n",
       "            background-color:  #fffacd;\n",
       "            color:  #000000;\n",
       "        }    #T_dbf3d462_fef4_11ea_be99_88e9fe4c695erow132_col0 {\n",
       "            background-color:  #f7fbff;\n",
       "            color:  #000000;\n",
       "        }    #T_dbf3d462_fef4_11ea_be99_88e9fe4c695erow132_col1 {\n",
       "            background-color:  #fff5f0;\n",
       "            color:  #000000;\n",
       "        }    #T_dbf3d462_fef4_11ea_be99_88e9fe4c695erow132_col2 {\n",
       "            background-color:  #fff8c2;\n",
       "            color:  #000000;\n",
       "        }    #T_dbf3d462_fef4_11ea_be99_88e9fe4c695erow133_col0 {\n",
       "            background-color:  #f7fbff;\n",
       "            color:  #000000;\n",
       "        }    #T_dbf3d462_fef4_11ea_be99_88e9fe4c695erow133_col1 {\n",
       "            background-color:  #fff5f0;\n",
       "            color:  #000000;\n",
       "        }    #T_dbf3d462_fef4_11ea_be99_88e9fe4c695erow133_col2 {\n",
       "            background-color:  #fffbd3;\n",
       "            color:  #000000;\n",
       "        }    #T_dbf3d462_fef4_11ea_be99_88e9fe4c695erow134_col0 {\n",
       "            background-color:  #f7fbff;\n",
       "            color:  #000000;\n",
       "        }    #T_dbf3d462_fef4_11ea_be99_88e9fe4c695erow134_col1 {\n",
       "            background-color:  #fff5f0;\n",
       "            color:  #000000;\n",
       "        }    #T_dbf3d462_fef4_11ea_be99_88e9fe4c695erow134_col2 {\n",
       "            background-color:  #fff9c5;\n",
       "            color:  #000000;\n",
       "        }    #T_dbf3d462_fef4_11ea_be99_88e9fe4c695erow135_col0 {\n",
       "            background-color:  #f7fbff;\n",
       "            color:  #000000;\n",
       "        }    #T_dbf3d462_fef4_11ea_be99_88e9fe4c695erow135_col1 {\n",
       "            background-color:  #fff5f0;\n",
       "            color:  #000000;\n",
       "        }    #T_dbf3d462_fef4_11ea_be99_88e9fe4c695erow135_col2 {\n",
       "            background-color:  #fffee1;\n",
       "            color:  #000000;\n",
       "        }    #T_dbf3d462_fef4_11ea_be99_88e9fe4c695erow136_col0 {\n",
       "            background-color:  #f7fbff;\n",
       "            color:  #000000;\n",
       "        }    #T_dbf3d462_fef4_11ea_be99_88e9fe4c695erow136_col1 {\n",
       "            background-color:  #fff5f0;\n",
       "            color:  #000000;\n",
       "        }    #T_dbf3d462_fef4_11ea_be99_88e9fe4c695erow136_col2 {\n",
       "            background-color:  #fff4b5;\n",
       "            color:  #000000;\n",
       "        }    #T_dbf3d462_fef4_11ea_be99_88e9fe4c695erow137_col0 {\n",
       "            background-color:  #f7fbff;\n",
       "            color:  #000000;\n",
       "        }    #T_dbf3d462_fef4_11ea_be99_88e9fe4c695erow137_col1 {\n",
       "            background-color:  #fff5f0;\n",
       "            color:  #000000;\n",
       "        }    #T_dbf3d462_fef4_11ea_be99_88e9fe4c695erow137_col2 {\n",
       "            background-color:  #ffface;\n",
       "            color:  #000000;\n",
       "        }    #T_dbf3d462_fef4_11ea_be99_88e9fe4c695erow138_col0 {\n",
       "            background-color:  #f7fbff;\n",
       "            color:  #000000;\n",
       "        }    #T_dbf3d462_fef4_11ea_be99_88e9fe4c695erow138_col1 {\n",
       "            background-color:  #fff5f0;\n",
       "            color:  #000000;\n",
       "        }    #T_dbf3d462_fef4_11ea_be99_88e9fe4c695erow138_col2 {\n",
       "            background-color:  #fffddc;\n",
       "            color:  #000000;\n",
       "        }    #T_dbf3d462_fef4_11ea_be99_88e9fe4c695erow139_col0 {\n",
       "            background-color:  #f7fbff;\n",
       "            color:  #000000;\n",
       "        }    #T_dbf3d462_fef4_11ea_be99_88e9fe4c695erow139_col1 {\n",
       "            background-color:  #fff5f0;\n",
       "            color:  #000000;\n",
       "        }    #T_dbf3d462_fef4_11ea_be99_88e9fe4c695erow139_col2 {\n",
       "            background-color:  #fffbd0;\n",
       "            color:  #000000;\n",
       "        }    #T_dbf3d462_fef4_11ea_be99_88e9fe4c695erow140_col0 {\n",
       "            background-color:  #f7fbff;\n",
       "            color:  #000000;\n",
       "        }    #T_dbf3d462_fef4_11ea_be99_88e9fe4c695erow140_col1 {\n",
       "            background-color:  #fff5f0;\n",
       "            color:  #000000;\n",
       "        }    #T_dbf3d462_fef4_11ea_be99_88e9fe4c695erow140_col2 {\n",
       "            background-color:  #fffee0;\n",
       "            color:  #000000;\n",
       "        }    #T_dbf3d462_fef4_11ea_be99_88e9fe4c695erow141_col0 {\n",
       "            background-color:  #f7fbff;\n",
       "            color:  #000000;\n",
       "        }    #T_dbf3d462_fef4_11ea_be99_88e9fe4c695erow141_col1 {\n",
       "            background-color:  #fff5f0;\n",
       "            color:  #000000;\n",
       "        }    #T_dbf3d462_fef4_11ea_be99_88e9fe4c695erow141_col2 {\n",
       "            background-color:  #fff9c6;\n",
       "            color:  #000000;\n",
       "        }    #T_dbf3d462_fef4_11ea_be99_88e9fe4c695erow142_col0 {\n",
       "            background-color:  #f7fbff;\n",
       "            color:  #000000;\n",
       "        }    #T_dbf3d462_fef4_11ea_be99_88e9fe4c695erow142_col1 {\n",
       "            background-color:  #fff5f0;\n",
       "            color:  #000000;\n",
       "        }    #T_dbf3d462_fef4_11ea_be99_88e9fe4c695erow142_col2 {\n",
       "            background-color:  #fffee1;\n",
       "            color:  #000000;\n",
       "        }    #T_dbf3d462_fef4_11ea_be99_88e9fe4c695erow143_col0 {\n",
       "            background-color:  #f7fbff;\n",
       "            color:  #000000;\n",
       "        }    #T_dbf3d462_fef4_11ea_be99_88e9fe4c695erow143_col1 {\n",
       "            background-color:  #fff5f0;\n",
       "            color:  #000000;\n",
       "        }    #T_dbf3d462_fef4_11ea_be99_88e9fe4c695erow143_col2 {\n",
       "            background-color:  #fffbd2;\n",
       "            color:  #000000;\n",
       "        }    #T_dbf3d462_fef4_11ea_be99_88e9fe4c695erow144_col0 {\n",
       "            background-color:  #f7fbff;\n",
       "            color:  #000000;\n",
       "        }    #T_dbf3d462_fef4_11ea_be99_88e9fe4c695erow144_col1 {\n",
       "            background-color:  #fff5f0;\n",
       "            color:  #000000;\n",
       "        }    #T_dbf3d462_fef4_11ea_be99_88e9fe4c695erow144_col2 {\n",
       "            background-color:  #fffbd3;\n",
       "            color:  #000000;\n",
       "        }    #T_dbf3d462_fef4_11ea_be99_88e9fe4c695erow145_col0 {\n",
       "            background-color:  #f7fbff;\n",
       "            color:  #000000;\n",
       "        }    #T_dbf3d462_fef4_11ea_be99_88e9fe4c695erow145_col1 {\n",
       "            background-color:  #fff5f0;\n",
       "            color:  #000000;\n",
       "        }    #T_dbf3d462_fef4_11ea_be99_88e9fe4c695erow145_col2 {\n",
       "            background-color:  #fffbd2;\n",
       "            color:  #000000;\n",
       "        }    #T_dbf3d462_fef4_11ea_be99_88e9fe4c695erow146_col0 {\n",
       "            background-color:  #f7fbff;\n",
       "            color:  #000000;\n",
       "        }    #T_dbf3d462_fef4_11ea_be99_88e9fe4c695erow146_col1 {\n",
       "            background-color:  #fff5f0;\n",
       "            color:  #000000;\n",
       "        }    #T_dbf3d462_fef4_11ea_be99_88e9fe4c695erow146_col2 {\n",
       "            background-color:  #fff8c0;\n",
       "            color:  #000000;\n",
       "        }    #T_dbf3d462_fef4_11ea_be99_88e9fe4c695erow147_col0 {\n",
       "            background-color:  #f7fbff;\n",
       "            color:  #000000;\n",
       "        }    #T_dbf3d462_fef4_11ea_be99_88e9fe4c695erow147_col1 {\n",
       "            background-color:  #fff5f0;\n",
       "            color:  #000000;\n",
       "        }    #T_dbf3d462_fef4_11ea_be99_88e9fe4c695erow147_col2 {\n",
       "            background-color:  #662506;\n",
       "            color:  #f1f1f1;\n",
       "        }    #T_dbf3d462_fef4_11ea_be99_88e9fe4c695erow148_col0 {\n",
       "            background-color:  #f7fbff;\n",
       "            color:  #000000;\n",
       "        }    #T_dbf3d462_fef4_11ea_be99_88e9fe4c695erow148_col1 {\n",
       "            background-color:  #fff5f0;\n",
       "            color:  #000000;\n",
       "        }    #T_dbf3d462_fef4_11ea_be99_88e9fe4c695erow148_col2 {\n",
       "            background-color:  #fffaca;\n",
       "            color:  #000000;\n",
       "        }    #T_dbf3d462_fef4_11ea_be99_88e9fe4c695erow149_col0 {\n",
       "            background-color:  #f7fbff;\n",
       "            color:  #000000;\n",
       "        }    #T_dbf3d462_fef4_11ea_be99_88e9fe4c695erow149_col1 {\n",
       "            background-color:  #fff5f0;\n",
       "            color:  #000000;\n",
       "        }    #T_dbf3d462_fef4_11ea_be99_88e9fe4c695erow149_col2 {\n",
       "            background-color:  #fff9c5;\n",
       "            color:  #000000;\n",
       "        }    #T_dbf3d462_fef4_11ea_be99_88e9fe4c695erow150_col0 {\n",
       "            background-color:  #f7fbff;\n",
       "            color:  #000000;\n",
       "        }    #T_dbf3d462_fef4_11ea_be99_88e9fe4c695erow150_col1 {\n",
       "            background-color:  #fff5f0;\n",
       "            color:  #000000;\n",
       "        }    #T_dbf3d462_fef4_11ea_be99_88e9fe4c695erow150_col2 {\n",
       "            background-color:  #fff8c4;\n",
       "            color:  #000000;\n",
       "        }    #T_dbf3d462_fef4_11ea_be99_88e9fe4c695erow151_col0 {\n",
       "            background-color:  #f7fbff;\n",
       "            color:  #000000;\n",
       "        }    #T_dbf3d462_fef4_11ea_be99_88e9fe4c695erow151_col1 {\n",
       "            background-color:  #fff5f0;\n",
       "            color:  #000000;\n",
       "        }    #T_dbf3d462_fef4_11ea_be99_88e9fe4c695erow151_col2 {\n",
       "            background-color:  #fffcd7;\n",
       "            color:  #000000;\n",
       "        }    #T_dbf3d462_fef4_11ea_be99_88e9fe4c695erow152_col0 {\n",
       "            background-color:  #f7fbff;\n",
       "            color:  #000000;\n",
       "        }    #T_dbf3d462_fef4_11ea_be99_88e9fe4c695erow152_col1 {\n",
       "            background-color:  #fff5f0;\n",
       "            color:  #000000;\n",
       "        }    #T_dbf3d462_fef4_11ea_be99_88e9fe4c695erow152_col2 {\n",
       "            background-color:  #fffaca;\n",
       "            color:  #000000;\n",
       "        }    #T_dbf3d462_fef4_11ea_be99_88e9fe4c695erow153_col0 {\n",
       "            background-color:  #f7fbff;\n",
       "            color:  #000000;\n",
       "        }    #T_dbf3d462_fef4_11ea_be99_88e9fe4c695erow153_col1 {\n",
       "            background-color:  #fff5f0;\n",
       "            color:  #000000;\n",
       "        }    #T_dbf3d462_fef4_11ea_be99_88e9fe4c695erow153_col2 {\n",
       "            background-color:  #fffcd7;\n",
       "            color:  #000000;\n",
       "        }    #T_dbf3d462_fef4_11ea_be99_88e9fe4c695erow154_col0 {\n",
       "            background-color:  #f7fbff;\n",
       "            color:  #000000;\n",
       "        }    #T_dbf3d462_fef4_11ea_be99_88e9fe4c695erow154_col1 {\n",
       "            background-color:  #fff5f0;\n",
       "            color:  #000000;\n",
       "        }    #T_dbf3d462_fef4_11ea_be99_88e9fe4c695erow154_col2 {\n",
       "            background-color:  #fffacb;\n",
       "            color:  #000000;\n",
       "        }    #T_dbf3d462_fef4_11ea_be99_88e9fe4c695erow155_col0 {\n",
       "            background-color:  #f7fbff;\n",
       "            color:  #000000;\n",
       "        }    #T_dbf3d462_fef4_11ea_be99_88e9fe4c695erow155_col1 {\n",
       "            background-color:  #fff5f0;\n",
       "            color:  #000000;\n",
       "        }    #T_dbf3d462_fef4_11ea_be99_88e9fe4c695erow155_col2 {\n",
       "            background-color:  #fffbd2;\n",
       "            color:  #000000;\n",
       "        }    #T_dbf3d462_fef4_11ea_be99_88e9fe4c695erow156_col0 {\n",
       "            background-color:  #f7fbff;\n",
       "            color:  #000000;\n",
       "        }    #T_dbf3d462_fef4_11ea_be99_88e9fe4c695erow156_col1 {\n",
       "            background-color:  #fff5f0;\n",
       "            color:  #000000;\n",
       "        }    #T_dbf3d462_fef4_11ea_be99_88e9fe4c695erow156_col2 {\n",
       "            background-color:  #fffacb;\n",
       "            color:  #000000;\n",
       "        }    #T_dbf3d462_fef4_11ea_be99_88e9fe4c695erow157_col0 {\n",
       "            background-color:  #f7fbff;\n",
       "            color:  #000000;\n",
       "        }    #T_dbf3d462_fef4_11ea_be99_88e9fe4c695erow157_col1 {\n",
       "            background-color:  #fff5f0;\n",
       "            color:  #000000;\n",
       "        }    #T_dbf3d462_fef4_11ea_be99_88e9fe4c695erow157_col2 {\n",
       "            background-color:  #fee99e;\n",
       "            color:  #000000;\n",
       "        }    #T_dbf3d462_fef4_11ea_be99_88e9fe4c695erow158_col0 {\n",
       "            background-color:  #f7fbff;\n",
       "            color:  #000000;\n",
       "        }    #T_dbf3d462_fef4_11ea_be99_88e9fe4c695erow158_col1 {\n",
       "            background-color:  #fff5f0;\n",
       "            color:  #000000;\n",
       "        }    #T_dbf3d462_fef4_11ea_be99_88e9fe4c695erow158_col2 {\n",
       "            background-color:  #fffee1;\n",
       "            color:  #000000;\n",
       "        }    #T_dbf3d462_fef4_11ea_be99_88e9fe4c695erow159_col0 {\n",
       "            background-color:  #f7fbff;\n",
       "            color:  #000000;\n",
       "        }    #T_dbf3d462_fef4_11ea_be99_88e9fe4c695erow159_col1 {\n",
       "            background-color:  #fff5f0;\n",
       "            color:  #000000;\n",
       "        }    #T_dbf3d462_fef4_11ea_be99_88e9fe4c695erow159_col2 {\n",
       "            background-color:  #fffcd4;\n",
       "            color:  #000000;\n",
       "        }    #T_dbf3d462_fef4_11ea_be99_88e9fe4c695erow160_col0 {\n",
       "            background-color:  #f7fbff;\n",
       "            color:  #000000;\n",
       "        }    #T_dbf3d462_fef4_11ea_be99_88e9fe4c695erow160_col1 {\n",
       "            background-color:  #fff5f0;\n",
       "            color:  #000000;\n",
       "        }    #T_dbf3d462_fef4_11ea_be99_88e9fe4c695erow160_col2 {\n",
       "            background-color:  #feeba2;\n",
       "            color:  #000000;\n",
       "        }    #T_dbf3d462_fef4_11ea_be99_88e9fe4c695erow161_col0 {\n",
       "            background-color:  #f7fbff;\n",
       "            color:  #000000;\n",
       "        }    #T_dbf3d462_fef4_11ea_be99_88e9fe4c695erow161_col1 {\n",
       "            background-color:  #fff5f0;\n",
       "            color:  #000000;\n",
       "        }    #T_dbf3d462_fef4_11ea_be99_88e9fe4c695erow161_col2 {\n",
       "            background-color:  #fee493;\n",
       "            color:  #000000;\n",
       "        }    #T_dbf3d462_fef4_11ea_be99_88e9fe4c695erow162_col0 {\n",
       "            background-color:  #f7fbff;\n",
       "            color:  #000000;\n",
       "        }    #T_dbf3d462_fef4_11ea_be99_88e9fe4c695erow162_col1 {\n",
       "            background-color:  #fff5f0;\n",
       "            color:  #000000;\n",
       "        }    #T_dbf3d462_fef4_11ea_be99_88e9fe4c695erow162_col2 {\n",
       "            background-color:  #fff8c1;\n",
       "            color:  #000000;\n",
       "        }    #T_dbf3d462_fef4_11ea_be99_88e9fe4c695erow163_col0 {\n",
       "            background-color:  #f7fbff;\n",
       "            color:  #000000;\n",
       "        }    #T_dbf3d462_fef4_11ea_be99_88e9fe4c695erow163_col1 {\n",
       "            background-color:  #fff5f0;\n",
       "            color:  #000000;\n",
       "        }    #T_dbf3d462_fef4_11ea_be99_88e9fe4c695erow163_col2 {\n",
       "            background-color:  #fffbd3;\n",
       "            color:  #000000;\n",
       "        }    #T_dbf3d462_fef4_11ea_be99_88e9fe4c695erow164_col0 {\n",
       "            background-color:  #f7fbff;\n",
       "            color:  #000000;\n",
       "        }    #T_dbf3d462_fef4_11ea_be99_88e9fe4c695erow164_col1 {\n",
       "            background-color:  #fff5f0;\n",
       "            color:  #000000;\n",
       "        }    #T_dbf3d462_fef4_11ea_be99_88e9fe4c695erow164_col2 {\n",
       "            background-color:  #ffffe4;\n",
       "            color:  #000000;\n",
       "        }    #T_dbf3d462_fef4_11ea_be99_88e9fe4c695erow165_col0 {\n",
       "            background-color:  #f7fbff;\n",
       "            color:  #000000;\n",
       "        }    #T_dbf3d462_fef4_11ea_be99_88e9fe4c695erow165_col1 {\n",
       "            background-color:  #fff5f0;\n",
       "            color:  #000000;\n",
       "        }    #T_dbf3d462_fef4_11ea_be99_88e9fe4c695erow165_col2 {\n",
       "            background-color:  #feeba2;\n",
       "            color:  #000000;\n",
       "        }    #T_dbf3d462_fef4_11ea_be99_88e9fe4c695erow166_col0 {\n",
       "            background-color:  #f7fbff;\n",
       "            color:  #000000;\n",
       "        }    #T_dbf3d462_fef4_11ea_be99_88e9fe4c695erow166_col1 {\n",
       "            background-color:  #fff5f0;\n",
       "            color:  #000000;\n",
       "        }    #T_dbf3d462_fef4_11ea_be99_88e9fe4c695erow166_col2 {\n",
       "            background-color:  #fffddb;\n",
       "            color:  #000000;\n",
       "        }    #T_dbf3d462_fef4_11ea_be99_88e9fe4c695erow167_col0 {\n",
       "            background-color:  #f7fbff;\n",
       "            color:  #000000;\n",
       "        }    #T_dbf3d462_fef4_11ea_be99_88e9fe4c695erow167_col1 {\n",
       "            background-color:  #fff5f0;\n",
       "            color:  #000000;\n",
       "        }    #T_dbf3d462_fef4_11ea_be99_88e9fe4c695erow167_col2 {\n",
       "            background-color:  #fffddd;\n",
       "            color:  #000000;\n",
       "        }    #T_dbf3d462_fef4_11ea_be99_88e9fe4c695erow168_col0 {\n",
       "            background-color:  #f7fbff;\n",
       "            color:  #000000;\n",
       "        }    #T_dbf3d462_fef4_11ea_be99_88e9fe4c695erow168_col1 {\n",
       "            background-color:  #fff5f0;\n",
       "            color:  #000000;\n",
       "        }    #T_dbf3d462_fef4_11ea_be99_88e9fe4c695erow168_col2 {\n",
       "            background-color:  #fff7be;\n",
       "            color:  #000000;\n",
       "        }    #T_dbf3d462_fef4_11ea_be99_88e9fe4c695erow169_col0 {\n",
       "            background-color:  #f7fbff;\n",
       "            color:  #000000;\n",
       "        }    #T_dbf3d462_fef4_11ea_be99_88e9fe4c695erow169_col1 {\n",
       "            background-color:  #fff5f0;\n",
       "            color:  #000000;\n",
       "        }    #T_dbf3d462_fef4_11ea_be99_88e9fe4c695erow169_col2 {\n",
       "            background-color:  #fffcd7;\n",
       "            color:  #000000;\n",
       "        }    #T_dbf3d462_fef4_11ea_be99_88e9fe4c695erow170_col0 {\n",
       "            background-color:  #f7fbff;\n",
       "            color:  #000000;\n",
       "        }    #T_dbf3d462_fef4_11ea_be99_88e9fe4c695erow170_col1 {\n",
       "            background-color:  #fff5f0;\n",
       "            color:  #000000;\n",
       "        }    #T_dbf3d462_fef4_11ea_be99_88e9fe4c695erow170_col2 {\n",
       "            background-color:  #fffcd6;\n",
       "            color:  #000000;\n",
       "        }    #T_dbf3d462_fef4_11ea_be99_88e9fe4c695erow171_col0 {\n",
       "            background-color:  #f7fbff;\n",
       "            color:  #000000;\n",
       "        }    #T_dbf3d462_fef4_11ea_be99_88e9fe4c695erow171_col1 {\n",
       "            background-color:  #fff5f0;\n",
       "            color:  #000000;\n",
       "        }    #T_dbf3d462_fef4_11ea_be99_88e9fe4c695erow171_col2 {\n",
       "            background-color:  #fff4b6;\n",
       "            color:  #000000;\n",
       "        }    #T_dbf3d462_fef4_11ea_be99_88e9fe4c695erow172_col0 {\n",
       "            background-color:  #f7fbff;\n",
       "            color:  #000000;\n",
       "        }    #T_dbf3d462_fef4_11ea_be99_88e9fe4c695erow172_col1 {\n",
       "            background-color:  #fff5f0;\n",
       "            color:  #000000;\n",
       "        }    #T_dbf3d462_fef4_11ea_be99_88e9fe4c695erow172_col2 {\n",
       "            background-color:  #ffffe4;\n",
       "            color:  #000000;\n",
       "        }    #T_dbf3d462_fef4_11ea_be99_88e9fe4c695erow173_col0 {\n",
       "            background-color:  #f7fbff;\n",
       "            color:  #000000;\n",
       "        }    #T_dbf3d462_fef4_11ea_be99_88e9fe4c695erow173_col1 {\n",
       "            background-color:  #fff5f0;\n",
       "            color:  #000000;\n",
       "        }    #T_dbf3d462_fef4_11ea_be99_88e9fe4c695erow173_col2 {\n",
       "            background-color:  #fffcd4;\n",
       "            color:  #000000;\n",
       "        }    #T_dbf3d462_fef4_11ea_be99_88e9fe4c695erow174_col0 {\n",
       "            background-color:  #f7fbff;\n",
       "            color:  #000000;\n",
       "        }    #T_dbf3d462_fef4_11ea_be99_88e9fe4c695erow174_col1 {\n",
       "            background-color:  #fff5f0;\n",
       "            color:  #000000;\n",
       "        }    #T_dbf3d462_fef4_11ea_be99_88e9fe4c695erow174_col2 {\n",
       "            background-color:  #ffffe5;\n",
       "            color:  #000000;\n",
       "        }    #T_dbf3d462_fef4_11ea_be99_88e9fe4c695erow175_col0 {\n",
       "            background-color:  #f7fbff;\n",
       "            color:  #000000;\n",
       "        }    #T_dbf3d462_fef4_11ea_be99_88e9fe4c695erow175_col1 {\n",
       "            background-color:  #fff5f0;\n",
       "            color:  #000000;\n",
       "        }    #T_dbf3d462_fef4_11ea_be99_88e9fe4c695erow175_col2 {\n",
       "            background-color:  #fedc82;\n",
       "            color:  #000000;\n",
       "        }    #T_dbf3d462_fef4_11ea_be99_88e9fe4c695erow176_col0 {\n",
       "            background-color:  #f7fbff;\n",
       "            color:  #000000;\n",
       "        }    #T_dbf3d462_fef4_11ea_be99_88e9fe4c695erow176_col1 {\n",
       "            background-color:  #fff5f0;\n",
       "            color:  #000000;\n",
       "        }    #T_dbf3d462_fef4_11ea_be99_88e9fe4c695erow176_col2 {\n",
       "            background-color:  #fff9c6;\n",
       "            color:  #000000;\n",
       "        }    #T_dbf3d462_fef4_11ea_be99_88e9fe4c695erow177_col0 {\n",
       "            background-color:  #f7fbff;\n",
       "            color:  #000000;\n",
       "        }    #T_dbf3d462_fef4_11ea_be99_88e9fe4c695erow177_col1 {\n",
       "            background-color:  #fff5f0;\n",
       "            color:  #000000;\n",
       "        }    #T_dbf3d462_fef4_11ea_be99_88e9fe4c695erow177_col2 {\n",
       "            background-color:  #ffffe5;\n",
       "            color:  #000000;\n",
       "        }    #T_dbf3d462_fef4_11ea_be99_88e9fe4c695erow178_col0 {\n",
       "            background-color:  #f7fbff;\n",
       "            color:  #000000;\n",
       "        }    #T_dbf3d462_fef4_11ea_be99_88e9fe4c695erow178_col1 {\n",
       "            background-color:  #fff5f0;\n",
       "            color:  #000000;\n",
       "        }    #T_dbf3d462_fef4_11ea_be99_88e9fe4c695erow178_col2 {\n",
       "            background-color:  #ffffe5;\n",
       "            color:  #000000;\n",
       "        }    #T_dbf3d462_fef4_11ea_be99_88e9fe4c695erow179_col0 {\n",
       "            background-color:  #f7fbff;\n",
       "            color:  #000000;\n",
       "        }    #T_dbf3d462_fef4_11ea_be99_88e9fe4c695erow179_col1 {\n",
       "            background-color:  #fff5f0;\n",
       "            color:  #000000;\n",
       "        }    #T_dbf3d462_fef4_11ea_be99_88e9fe4c695erow179_col2 {\n",
       "            background-color:  #fee493;\n",
       "            color:  #000000;\n",
       "        }    #T_dbf3d462_fef4_11ea_be99_88e9fe4c695erow180_col0 {\n",
       "            background-color:  #f7fbff;\n",
       "            color:  #000000;\n",
       "        }    #T_dbf3d462_fef4_11ea_be99_88e9fe4c695erow180_col1 {\n",
       "            background-color:  #fff5f0;\n",
       "            color:  #000000;\n",
       "        }    #T_dbf3d462_fef4_11ea_be99_88e9fe4c695erow180_col2 {\n",
       "            background-color:  #ffffe5;\n",
       "            color:  #000000;\n",
       "        }    #T_dbf3d462_fef4_11ea_be99_88e9fe4c695erow181_col0 {\n",
       "            background-color:  #f7fbff;\n",
       "            color:  #000000;\n",
       "        }    #T_dbf3d462_fef4_11ea_be99_88e9fe4c695erow181_col1 {\n",
       "            background-color:  #fff5f0;\n",
       "            color:  #000000;\n",
       "        }    #T_dbf3d462_fef4_11ea_be99_88e9fe4c695erow181_col2 {\n",
       "            background-color:  #fffee2;\n",
       "            color:  #000000;\n",
       "        }    #T_dbf3d462_fef4_11ea_be99_88e9fe4c695erow182_col0 {\n",
       "            background-color:  #f7fbff;\n",
       "            color:  #000000;\n",
       "        }    #T_dbf3d462_fef4_11ea_be99_88e9fe4c695erow182_col1 {\n",
       "            background-color:  #fff5f0;\n",
       "            color:  #000000;\n",
       "        }    #T_dbf3d462_fef4_11ea_be99_88e9fe4c695erow182_col2 {\n",
       "            background-color:  #ffffe5;\n",
       "            color:  #000000;\n",
       "        }    #T_dbf3d462_fef4_11ea_be99_88e9fe4c695erow183_col0 {\n",
       "            background-color:  #f7fbff;\n",
       "            color:  #000000;\n",
       "        }    #T_dbf3d462_fef4_11ea_be99_88e9fe4c695erow183_col1 {\n",
       "            background-color:  #fff5f0;\n",
       "            color:  #000000;\n",
       "        }    #T_dbf3d462_fef4_11ea_be99_88e9fe4c695erow183_col2 {\n",
       "            background-color:  #ffffe5;\n",
       "            color:  #000000;\n",
       "        }    #T_dbf3d462_fef4_11ea_be99_88e9fe4c695erow184_col0 {\n",
       "            background-color:  #f7fbff;\n",
       "            color:  #000000;\n",
       "        }    #T_dbf3d462_fef4_11ea_be99_88e9fe4c695erow184_col1 {\n",
       "            background-color:  #fff5f0;\n",
       "            color:  #000000;\n",
       "        }    #T_dbf3d462_fef4_11ea_be99_88e9fe4c695erow184_col2 {\n",
       "            background-color:  #ffefaa;\n",
       "            color:  #000000;\n",
       "        }    #T_dbf3d462_fef4_11ea_be99_88e9fe4c695erow185_col0 {\n",
       "            background-color:  #f7fbff;\n",
       "            color:  #000000;\n",
       "        }    #T_dbf3d462_fef4_11ea_be99_88e9fe4c695erow185_col1 {\n",
       "            background-color:  #fff5f0;\n",
       "            color:  #000000;\n",
       "        }    #T_dbf3d462_fef4_11ea_be99_88e9fe4c695erow185_col2 {\n",
       "            background-color:  #fffee0;\n",
       "            color:  #000000;\n",
       "        }    #T_dbf3d462_fef4_11ea_be99_88e9fe4c695erow186_col0 {\n",
       "            background-color:  #f7fbff;\n",
       "            color:  #000000;\n",
       "        }    #T_dbf3d462_fef4_11ea_be99_88e9fe4c695erow186_col1 {\n",
       "            background-color:  #fff5f0;\n",
       "            color:  #000000;\n",
       "        }    #T_dbf3d462_fef4_11ea_be99_88e9fe4c695erow186_col2 {\n",
       "            background-color:  #fffee0;\n",
       "            color:  #000000;\n",
       "        }    #T_dbf3d462_fef4_11ea_be99_88e9fe4c695erow187_col0 {\n",
       "            background-color:  #f7fbff;\n",
       "            color:  #000000;\n",
       "        }    #T_dbf3d462_fef4_11ea_be99_88e9fe4c695erow187_col1 {\n",
       "            background-color:  #fff5f0;\n",
       "            color:  #000000;\n",
       "        }    #T_dbf3d462_fef4_11ea_be99_88e9fe4c695erow187_col2 {\n",
       "            background-color:  #fff7bc;\n",
       "            color:  #000000;\n",
       "        }    #T_dbf3d462_fef4_11ea_be99_88e9fe4c695erow188_col0 {\n",
       "            background-color:  #f7fbff;\n",
       "            color:  #000000;\n",
       "        }    #T_dbf3d462_fef4_11ea_be99_88e9fe4c695erow188_col1 {\n",
       "            background-color:  #fff5f0;\n",
       "            color:  #000000;\n",
       "        }    #T_dbf3d462_fef4_11ea_be99_88e9fe4c695erow188_col2 {\n",
       "            background-color:  #ffefac;\n",
       "            color:  #000000;\n",
       "        }    #T_dbf3d462_fef4_11ea_be99_88e9fe4c695erow189_col0 {\n",
       "            background-color:  #f7fbff;\n",
       "            color:  #000000;\n",
       "        }    #T_dbf3d462_fef4_11ea_be99_88e9fe4c695erow189_col1 {\n",
       "            background-color:  #fff5f0;\n",
       "            color:  #000000;\n",
       "        }    #T_dbf3d462_fef4_11ea_be99_88e9fe4c695erow189_col2 {\n",
       "            background-color:  #ffface;\n",
       "            color:  #000000;\n",
       "        }    #T_dbf3d462_fef4_11ea_be99_88e9fe4c695erow190_col0 {\n",
       "            background-color:  #f7fbff;\n",
       "            color:  #000000;\n",
       "        }    #T_dbf3d462_fef4_11ea_be99_88e9fe4c695erow190_col1 {\n",
       "            background-color:  #fff5f0;\n",
       "            color:  #000000;\n",
       "        }    #T_dbf3d462_fef4_11ea_be99_88e9fe4c695erow190_col2 {\n",
       "            background-color:  #ffffe5;\n",
       "            color:  #000000;\n",
       "        }    #T_dbf3d462_fef4_11ea_be99_88e9fe4c695erow191_col0 {\n",
       "            background-color:  #f7fbff;\n",
       "            color:  #000000;\n",
       "        }    #T_dbf3d462_fef4_11ea_be99_88e9fe4c695erow191_col1 {\n",
       "            background-color:  #fff5f0;\n",
       "            color:  #000000;\n",
       "        }    #T_dbf3d462_fef4_11ea_be99_88e9fe4c695erow191_col2 {\n",
       "            background-color:  #fffddc;\n",
       "            color:  #000000;\n",
       "        }    #T_dbf3d462_fef4_11ea_be99_88e9fe4c695erow192_col0 {\n",
       "            background-color:  #f7fbff;\n",
       "            color:  #000000;\n",
       "        }    #T_dbf3d462_fef4_11ea_be99_88e9fe4c695erow192_col1 {\n",
       "            background-color:  #fff5f0;\n",
       "            color:  #000000;\n",
       "        }    #T_dbf3d462_fef4_11ea_be99_88e9fe4c695erow192_col2 {\n",
       "            background-color:  #fff8c2;\n",
       "            color:  #000000;\n",
       "        }    #T_dbf3d462_fef4_11ea_be99_88e9fe4c695erow193_col0 {\n",
       "            background-color:  #f7fbff;\n",
       "            color:  #000000;\n",
       "        }    #T_dbf3d462_fef4_11ea_be99_88e9fe4c695erow193_col1 {\n",
       "            background-color:  #fff5f0;\n",
       "            color:  #000000;\n",
       "        }    #T_dbf3d462_fef4_11ea_be99_88e9fe4c695erow193_col2 {\n",
       "            background-color:  #fffcd6;\n",
       "            color:  #000000;\n",
       "        }    #T_dbf3d462_fef4_11ea_be99_88e9fe4c695erow194_col0 {\n",
       "            background-color:  #f7fbff;\n",
       "            color:  #000000;\n",
       "        }    #T_dbf3d462_fef4_11ea_be99_88e9fe4c695erow194_col1 {\n",
       "            background-color:  #fff5f0;\n",
       "            color:  #000000;\n",
       "        }    #T_dbf3d462_fef4_11ea_be99_88e9fe4c695erow194_col2 {\n",
       "            background-color:  #fff9c5;\n",
       "            color:  #000000;\n",
       "        }    #T_dbf3d462_fef4_11ea_be99_88e9fe4c695erow195_col0 {\n",
       "            background-color:  #f7fbff;\n",
       "            color:  #000000;\n",
       "        }    #T_dbf3d462_fef4_11ea_be99_88e9fe4c695erow195_col1 {\n",
       "            background-color:  #fff5f0;\n",
       "            color:  #000000;\n",
       "        }    #T_dbf3d462_fef4_11ea_be99_88e9fe4c695erow195_col2 {\n",
       "            background-color:  #fffcd6;\n",
       "            color:  #000000;\n",
       "        }    #T_dbf3d462_fef4_11ea_be99_88e9fe4c695erow196_col0 {\n",
       "            background-color:  #f7fbff;\n",
       "            color:  #000000;\n",
       "        }    #T_dbf3d462_fef4_11ea_be99_88e9fe4c695erow196_col1 {\n",
       "            background-color:  #fff5f0;\n",
       "            color:  #000000;\n",
       "        }    #T_dbf3d462_fef4_11ea_be99_88e9fe4c695erow196_col2 {\n",
       "            background-color:  #ffffe5;\n",
       "            color:  #000000;\n",
       "        }    #T_dbf3d462_fef4_11ea_be99_88e9fe4c695erow197_col0 {\n",
       "            background-color:  #f7fbff;\n",
       "            color:  #000000;\n",
       "        }    #T_dbf3d462_fef4_11ea_be99_88e9fe4c695erow197_col1 {\n",
       "            background-color:  #fff5f0;\n",
       "            color:  #000000;\n",
       "        }    #T_dbf3d462_fef4_11ea_be99_88e9fe4c695erow197_col2 {\n",
       "            background-color:  #fee89d;\n",
       "            color:  #000000;\n",
       "        }    #T_dbf3d462_fef4_11ea_be99_88e9fe4c695erow198_col0 {\n",
       "            background-color:  #f7fbff;\n",
       "            color:  #000000;\n",
       "        }    #T_dbf3d462_fef4_11ea_be99_88e9fe4c695erow198_col1 {\n",
       "            background-color:  #fff5f0;\n",
       "            color:  #000000;\n",
       "        }    #T_dbf3d462_fef4_11ea_be99_88e9fe4c695erow198_col2 {\n",
       "            background-color:  #ffffe5;\n",
       "            color:  #000000;\n",
       "        }    #T_dbf3d462_fef4_11ea_be99_88e9fe4c695erow199_col0 {\n",
       "            background-color:  #f7fbff;\n",
       "            color:  #000000;\n",
       "        }    #T_dbf3d462_fef4_11ea_be99_88e9fe4c695erow199_col1 {\n",
       "            background-color:  #fff5f0;\n",
       "            color:  #000000;\n",
       "        }    #T_dbf3d462_fef4_11ea_be99_88e9fe4c695erow199_col2 {\n",
       "            background-color:  #ffffe5;\n",
       "            color:  #000000;\n",
       "        }    #T_dbf3d462_fef4_11ea_be99_88e9fe4c695erow200_col0 {\n",
       "            background-color:  #f7fbff;\n",
       "            color:  #000000;\n",
       "        }    #T_dbf3d462_fef4_11ea_be99_88e9fe4c695erow200_col1 {\n",
       "            background-color:  #fff5f0;\n",
       "            color:  #000000;\n",
       "        }    #T_dbf3d462_fef4_11ea_be99_88e9fe4c695erow200_col2 {\n",
       "            background-color:  #ffffe5;\n",
       "            color:  #000000;\n",
       "        }    #T_dbf3d462_fef4_11ea_be99_88e9fe4c695erow201_col0 {\n",
       "            background-color:  #f7fbff;\n",
       "            color:  #000000;\n",
       "        }    #T_dbf3d462_fef4_11ea_be99_88e9fe4c695erow201_col1 {\n",
       "            background-color:  #fff5f0;\n",
       "            color:  #000000;\n",
       "        }    #T_dbf3d462_fef4_11ea_be99_88e9fe4c695erow201_col2 {\n",
       "            background-color:  #ffffe5;\n",
       "            color:  #000000;\n",
       "        }    #T_dbf3d462_fef4_11ea_be99_88e9fe4c695erow202_col0 {\n",
       "            background-color:  #f7fbff;\n",
       "            color:  #000000;\n",
       "        }    #T_dbf3d462_fef4_11ea_be99_88e9fe4c695erow202_col1 {\n",
       "            background-color:  #fff5f0;\n",
       "            color:  #000000;\n",
       "        }    #T_dbf3d462_fef4_11ea_be99_88e9fe4c695erow202_col2 {\n",
       "            background-color:  #ffffe5;\n",
       "            color:  #000000;\n",
       "        }    #T_dbf3d462_fef4_11ea_be99_88e9fe4c695erow203_col0 {\n",
       "            background-color:  #f7fbff;\n",
       "            color:  #000000;\n",
       "        }    #T_dbf3d462_fef4_11ea_be99_88e9fe4c695erow203_col1 {\n",
       "            background-color:  #fff5f0;\n",
       "            color:  #000000;\n",
       "        }    #T_dbf3d462_fef4_11ea_be99_88e9fe4c695erow203_col2 {\n",
       "            background-color:  #ffffe5;\n",
       "            color:  #000000;\n",
       "        }    #T_dbf3d462_fef4_11ea_be99_88e9fe4c695erow204_col0 {\n",
       "            background-color:  #f7fbff;\n",
       "            color:  #000000;\n",
       "        }    #T_dbf3d462_fef4_11ea_be99_88e9fe4c695erow204_col1 {\n",
       "            background-color:  #fff5f0;\n",
       "            color:  #000000;\n",
       "        }    #T_dbf3d462_fef4_11ea_be99_88e9fe4c695erow204_col2 {\n",
       "            background-color:  #ffffe5;\n",
       "            color:  #000000;\n",
       "        }    #T_dbf3d462_fef4_11ea_be99_88e9fe4c695erow205_col0 {\n",
       "            background-color:  #f7fbff;\n",
       "            color:  #000000;\n",
       "        }    #T_dbf3d462_fef4_11ea_be99_88e9fe4c695erow205_col1 {\n",
       "            background-color:  #fff5f0;\n",
       "            color:  #000000;\n",
       "        }    #T_dbf3d462_fef4_11ea_be99_88e9fe4c695erow205_col2 {\n",
       "            background-color:  #ffffe5;\n",
       "            color:  #000000;\n",
       "        }    #T_dbf3d462_fef4_11ea_be99_88e9fe4c695erow206_col0 {\n",
       "            background-color:  #f7fbff;\n",
       "            color:  #000000;\n",
       "        }    #T_dbf3d462_fef4_11ea_be99_88e9fe4c695erow206_col1 {\n",
       "            background-color:  #fff5f0;\n",
       "            color:  #000000;\n",
       "        }    #T_dbf3d462_fef4_11ea_be99_88e9fe4c695erow206_col2 {\n",
       "            background-color:  #fedf88;\n",
       "            color:  #000000;\n",
       "        }    #T_dbf3d462_fef4_11ea_be99_88e9fe4c695erow207_col0 {\n",
       "            background-color:  #f7fbff;\n",
       "            color:  #000000;\n",
       "        }    #T_dbf3d462_fef4_11ea_be99_88e9fe4c695erow207_col1 {\n",
       "            background-color:  #fff5f0;\n",
       "            color:  #000000;\n",
       "        }    #T_dbf3d462_fef4_11ea_be99_88e9fe4c695erow207_col2 {\n",
       "            background-color:  #ffffe5;\n",
       "            color:  #000000;\n",
       "        }    #T_dbf3d462_fef4_11ea_be99_88e9fe4c695erow208_col0 {\n",
       "            background-color:  #f7fbff;\n",
       "            color:  #000000;\n",
       "        }    #T_dbf3d462_fef4_11ea_be99_88e9fe4c695erow208_col1 {\n",
       "            background-color:  #fff5f0;\n",
       "            color:  #000000;\n",
       "        }    #T_dbf3d462_fef4_11ea_be99_88e9fe4c695erow208_col2 {\n",
       "            background-color:  #ffffe5;\n",
       "            color:  #000000;\n",
       "        }    #T_dbf3d462_fef4_11ea_be99_88e9fe4c695erow209_col0 {\n",
       "            background-color:  #f7fbff;\n",
       "            color:  #000000;\n",
       "        }    #T_dbf3d462_fef4_11ea_be99_88e9fe4c695erow209_col1 {\n",
       "            background-color:  #fff5f0;\n",
       "            color:  #000000;\n",
       "        }    #T_dbf3d462_fef4_11ea_be99_88e9fe4c695erow209_col2 {\n",
       "            background-color:  #ffffe5;\n",
       "            color:  #000000;\n",
       "        }</style><table id=\"T_dbf3d462_fef4_11ea_be99_88e9fe4c695e\" ><thead>    <tr>        <th class=\"blank level0\" ></th>        <th class=\"col_heading level0 col0\" >cases</th>        <th class=\"col_heading level0 col1\" >deaths</th>        <th class=\"col_heading level0 col2\" >Mortality Rate (per 100)</th>    </tr>    <tr>        <th class=\"index_name level0\" >countriesAndTerritories</th>        <th class=\"blank\" ></th>        <th class=\"blank\" ></th>        <th class=\"blank\" ></th>    </tr></thead><tbody>\n",
       "                <tr>\n",
       "                        <th id=\"T_dbf3d462_fef4_11ea_be99_88e9fe4c695elevel0_row0\" class=\"row_heading level0 row0\" >United_States_of_America</th>\n",
       "                        <td id=\"T_dbf3d462_fef4_11ea_be99_88e9fe4c695erow0_col0\" class=\"data row0 col0\" >6934204</td>\n",
       "                        <td id=\"T_dbf3d462_fef4_11ea_be99_88e9fe4c695erow0_col1\" class=\"data row0 col1\" >201909</td>\n",
       "                        <td id=\"T_dbf3d462_fef4_11ea_be99_88e9fe4c695erow0_col2\" class=\"data row0 col2\" >2.910000</td>\n",
       "            </tr>\n",
       "            <tr>\n",
       "                        <th id=\"T_dbf3d462_fef4_11ea_be99_88e9fe4c695elevel0_row1\" class=\"row_heading level0 row1\" >India</th>\n",
       "                        <td id=\"T_dbf3d462_fef4_11ea_be99_88e9fe4c695erow1_col0\" class=\"data row1 col0\" >5732518</td>\n",
       "                        <td id=\"T_dbf3d462_fef4_11ea_be99_88e9fe4c695erow1_col1\" class=\"data row1 col1\" >91149</td>\n",
       "                        <td id=\"T_dbf3d462_fef4_11ea_be99_88e9fe4c695erow1_col2\" class=\"data row1 col2\" >1.590000</td>\n",
       "            </tr>\n",
       "            <tr>\n",
       "                        <th id=\"T_dbf3d462_fef4_11ea_be99_88e9fe4c695elevel0_row2\" class=\"row_heading level0 row2\" >Brazil</th>\n",
       "                        <td id=\"T_dbf3d462_fef4_11ea_be99_88e9fe4c695erow2_col0\" class=\"data row2 col0\" >4624885</td>\n",
       "                        <td id=\"T_dbf3d462_fef4_11ea_be99_88e9fe4c695erow2_col1\" class=\"data row2 col1\" >138977</td>\n",
       "                        <td id=\"T_dbf3d462_fef4_11ea_be99_88e9fe4c695erow2_col2\" class=\"data row2 col2\" >3.000000</td>\n",
       "            </tr>\n",
       "            <tr>\n",
       "                        <th id=\"T_dbf3d462_fef4_11ea_be99_88e9fe4c695elevel0_row3\" class=\"row_heading level0 row3\" >Russia</th>\n",
       "                        <td id=\"T_dbf3d462_fef4_11ea_be99_88e9fe4c695erow3_col0\" class=\"data row3 col0\" >1122241</td>\n",
       "                        <td id=\"T_dbf3d462_fef4_11ea_be99_88e9fe4c695erow3_col1\" class=\"data row3 col1\" >19799</td>\n",
       "                        <td id=\"T_dbf3d462_fef4_11ea_be99_88e9fe4c695erow3_col2\" class=\"data row3 col2\" >1.760000</td>\n",
       "            </tr>\n",
       "            <tr>\n",
       "                        <th id=\"T_dbf3d462_fef4_11ea_be99_88e9fe4c695elevel0_row4\" class=\"row_heading level0 row4\" >Colombia</th>\n",
       "                        <td id=\"T_dbf3d462_fef4_11ea_be99_88e9fe4c695erow4_col0\" class=\"data row4 col0\" >784268</td>\n",
       "                        <td id=\"T_dbf3d462_fef4_11ea_be99_88e9fe4c695erow4_col1\" class=\"data row4 col1\" >24746</td>\n",
       "                        <td id=\"T_dbf3d462_fef4_11ea_be99_88e9fe4c695erow4_col2\" class=\"data row4 col2\" >3.160000</td>\n",
       "            </tr>\n",
       "            <tr>\n",
       "                        <th id=\"T_dbf3d462_fef4_11ea_be99_88e9fe4c695elevel0_row5\" class=\"row_heading level0 row5\" >Peru</th>\n",
       "                        <td id=\"T_dbf3d462_fef4_11ea_be99_88e9fe4c695erow5_col0\" class=\"data row5 col0\" >782695</td>\n",
       "                        <td id=\"T_dbf3d462_fef4_11ea_be99_88e9fe4c695erow5_col1\" class=\"data row5 col1\" >31870</td>\n",
       "                        <td id=\"T_dbf3d462_fef4_11ea_be99_88e9fe4c695erow5_col2\" class=\"data row5 col2\" >4.070000</td>\n",
       "            </tr>\n",
       "            <tr>\n",
       "                        <th id=\"T_dbf3d462_fef4_11ea_be99_88e9fe4c695elevel0_row6\" class=\"row_heading level0 row6\" >Mexico</th>\n",
       "                        <td id=\"T_dbf3d462_fef4_11ea_be99_88e9fe4c695erow6_col0\" class=\"data row6 col0\" >710049</td>\n",
       "                        <td id=\"T_dbf3d462_fef4_11ea_be99_88e9fe4c695erow6_col1\" class=\"data row6 col1\" >74949</td>\n",
       "                        <td id=\"T_dbf3d462_fef4_11ea_be99_88e9fe4c695erow6_col2\" class=\"data row6 col2\" >10.560000</td>\n",
       "            </tr>\n",
       "            <tr>\n",
       "                        <th id=\"T_dbf3d462_fef4_11ea_be99_88e9fe4c695elevel0_row7\" class=\"row_heading level0 row7\" >Spain</th>\n",
       "                        <td id=\"T_dbf3d462_fef4_11ea_be99_88e9fe4c695erow7_col0\" class=\"data row7 col0\" >693556</td>\n",
       "                        <td id=\"T_dbf3d462_fef4_11ea_be99_88e9fe4c695erow7_col1\" class=\"data row7 col1\" >31034</td>\n",
       "                        <td id=\"T_dbf3d462_fef4_11ea_be99_88e9fe4c695erow7_col2\" class=\"data row7 col2\" >4.470000</td>\n",
       "            </tr>\n",
       "            <tr>\n",
       "                        <th id=\"T_dbf3d462_fef4_11ea_be99_88e9fe4c695elevel0_row8\" class=\"row_heading level0 row8\" >South_Africa</th>\n",
       "                        <td id=\"T_dbf3d462_fef4_11ea_be99_88e9fe4c695erow8_col0\" class=\"data row8 col0\" >665188</td>\n",
       "                        <td id=\"T_dbf3d462_fef4_11ea_be99_88e9fe4c695erow8_col1\" class=\"data row8 col1\" >16206</td>\n",
       "                        <td id=\"T_dbf3d462_fef4_11ea_be99_88e9fe4c695erow8_col2\" class=\"data row8 col2\" >2.440000</td>\n",
       "            </tr>\n",
       "            <tr>\n",
       "                        <th id=\"T_dbf3d462_fef4_11ea_be99_88e9fe4c695elevel0_row9\" class=\"row_heading level0 row9\" >Argentina</th>\n",
       "                        <td id=\"T_dbf3d462_fef4_11ea_be99_88e9fe4c695erow9_col0\" class=\"data row9 col0\" >664799</td>\n",
       "                        <td id=\"T_dbf3d462_fef4_11ea_be99_88e9fe4c695erow9_col1\" class=\"data row9 col1\" >14376</td>\n",
       "                        <td id=\"T_dbf3d462_fef4_11ea_be99_88e9fe4c695erow9_col2\" class=\"data row9 col2\" >2.160000</td>\n",
       "            </tr>\n",
       "            <tr>\n",
       "                        <th id=\"T_dbf3d462_fef4_11ea_be99_88e9fe4c695elevel0_row10\" class=\"row_heading level0 row10\" >France</th>\n",
       "                        <td id=\"T_dbf3d462_fef4_11ea_be99_88e9fe4c695erow10_col0\" class=\"data row10 col0\" >481141</td>\n",
       "                        <td id=\"T_dbf3d462_fef4_11ea_be99_88e9fe4c695erow10_col1\" class=\"data row10 col1\" >31459</td>\n",
       "                        <td id=\"T_dbf3d462_fef4_11ea_be99_88e9fe4c695erow10_col2\" class=\"data row10 col2\" >6.540000</td>\n",
       "            </tr>\n",
       "            <tr>\n",
       "                        <th id=\"T_dbf3d462_fef4_11ea_be99_88e9fe4c695elevel0_row11\" class=\"row_heading level0 row11\" >Chile</th>\n",
       "                        <td id=\"T_dbf3d462_fef4_11ea_be99_88e9fe4c695erow11_col0\" class=\"data row11 col0\" >449903</td>\n",
       "                        <td id=\"T_dbf3d462_fef4_11ea_be99_88e9fe4c695erow11_col1\" class=\"data row11 col1\" >12345</td>\n",
       "                        <td id=\"T_dbf3d462_fef4_11ea_be99_88e9fe4c695erow11_col2\" class=\"data row11 col2\" >2.740000</td>\n",
       "            </tr>\n",
       "            <tr>\n",
       "                        <th id=\"T_dbf3d462_fef4_11ea_be99_88e9fe4c695elevel0_row12\" class=\"row_heading level0 row12\" >Iran</th>\n",
       "                        <td id=\"T_dbf3d462_fef4_11ea_be99_88e9fe4c695erow12_col0\" class=\"data row12 col0\" >432798</td>\n",
       "                        <td id=\"T_dbf3d462_fef4_11ea_be99_88e9fe4c695erow12_col1\" class=\"data row12 col1\" >24840</td>\n",
       "                        <td id=\"T_dbf3d462_fef4_11ea_be99_88e9fe4c695erow12_col2\" class=\"data row12 col2\" >5.740000</td>\n",
       "            </tr>\n",
       "            <tr>\n",
       "                        <th id=\"T_dbf3d462_fef4_11ea_be99_88e9fe4c695elevel0_row13\" class=\"row_heading level0 row13\" >United_Kingdom</th>\n",
       "                        <td id=\"T_dbf3d462_fef4_11ea_be99_88e9fe4c695erow13_col0\" class=\"data row13 col0\" >409729</td>\n",
       "                        <td id=\"T_dbf3d462_fef4_11ea_be99_88e9fe4c695erow13_col1\" class=\"data row13 col1\" >41862</td>\n",
       "                        <td id=\"T_dbf3d462_fef4_11ea_be99_88e9fe4c695erow13_col2\" class=\"data row13 col2\" >10.220000</td>\n",
       "            </tr>\n",
       "            <tr>\n",
       "                        <th id=\"T_dbf3d462_fef4_11ea_be99_88e9fe4c695elevel0_row14\" class=\"row_heading level0 row14\" >Bangladesh</th>\n",
       "                        <td id=\"T_dbf3d462_fef4_11ea_be99_88e9fe4c695erow14_col0\" class=\"data row14 col0\" >353844</td>\n",
       "                        <td id=\"T_dbf3d462_fef4_11ea_be99_88e9fe4c695erow14_col1\" class=\"data row14 col1\" >5044</td>\n",
       "                        <td id=\"T_dbf3d462_fef4_11ea_be99_88e9fe4c695erow14_col2\" class=\"data row14 col2\" >1.430000</td>\n",
       "            </tr>\n",
       "            <tr>\n",
       "                        <th id=\"T_dbf3d462_fef4_11ea_be99_88e9fe4c695elevel0_row15\" class=\"row_heading level0 row15\" >Iraq</th>\n",
       "                        <td id=\"T_dbf3d462_fef4_11ea_be99_88e9fe4c695erow15_col0\" class=\"data row15 col0\" >332635</td>\n",
       "                        <td id=\"T_dbf3d462_fef4_11ea_be99_88e9fe4c695erow15_col1\" class=\"data row15 col1\" >8754</td>\n",
       "                        <td id=\"T_dbf3d462_fef4_11ea_be99_88e9fe4c695erow15_col2\" class=\"data row15 col2\" >2.630000</td>\n",
       "            </tr>\n",
       "            <tr>\n",
       "                        <th id=\"T_dbf3d462_fef4_11ea_be99_88e9fe4c695elevel0_row16\" class=\"row_heading level0 row16\" >Saudi_Arabia</th>\n",
       "                        <td id=\"T_dbf3d462_fef4_11ea_be99_88e9fe4c695erow16_col0\" class=\"data row16 col0\" >331359</td>\n",
       "                        <td id=\"T_dbf3d462_fef4_11ea_be99_88e9fe4c695erow16_col1\" class=\"data row16 col1\" >4569</td>\n",
       "                        <td id=\"T_dbf3d462_fef4_11ea_be99_88e9fe4c695erow16_col2\" class=\"data row16 col2\" >1.380000</td>\n",
       "            </tr>\n",
       "            <tr>\n",
       "                        <th id=\"T_dbf3d462_fef4_11ea_be99_88e9fe4c695elevel0_row17\" class=\"row_heading level0 row17\" >Pakistan</th>\n",
       "                        <td id=\"T_dbf3d462_fef4_11ea_be99_88e9fe4c695erow17_col0\" class=\"data row17 col0\" >308217</td>\n",
       "                        <td id=\"T_dbf3d462_fef4_11ea_be99_88e9fe4c695erow17_col1\" class=\"data row17 col1\" >6437</td>\n",
       "                        <td id=\"T_dbf3d462_fef4_11ea_be99_88e9fe4c695erow17_col2\" class=\"data row17 col2\" >2.090000</td>\n",
       "            </tr>\n",
       "            <tr>\n",
       "                        <th id=\"T_dbf3d462_fef4_11ea_be99_88e9fe4c695elevel0_row18\" class=\"row_heading level0 row18\" >Turkey</th>\n",
       "                        <td id=\"T_dbf3d462_fef4_11ea_be99_88e9fe4c695erow18_col0\" class=\"data row18 col0\" >308069</td>\n",
       "                        <td id=\"T_dbf3d462_fef4_11ea_be99_88e9fe4c695erow18_col1\" class=\"data row18 col1\" >7711</td>\n",
       "                        <td id=\"T_dbf3d462_fef4_11ea_be99_88e9fe4c695erow18_col2\" class=\"data row18 col2\" >2.500000</td>\n",
       "            </tr>\n",
       "            <tr>\n",
       "                        <th id=\"T_dbf3d462_fef4_11ea_be99_88e9fe4c695elevel0_row19\" class=\"row_heading level0 row19\" >Italy</th>\n",
       "                        <td id=\"T_dbf3d462_fef4_11ea_be99_88e9fe4c695erow19_col0\" class=\"data row19 col0\" >302537</td>\n",
       "                        <td id=\"T_dbf3d462_fef4_11ea_be99_88e9fe4c695erow19_col1\" class=\"data row19 col1\" >35758</td>\n",
       "                        <td id=\"T_dbf3d462_fef4_11ea_be99_88e9fe4c695erow19_col2\" class=\"data row19 col2\" >11.820000</td>\n",
       "            </tr>\n",
       "            <tr>\n",
       "                        <th id=\"T_dbf3d462_fef4_11ea_be99_88e9fe4c695elevel0_row20\" class=\"row_heading level0 row20\" >Philippines</th>\n",
       "                        <td id=\"T_dbf3d462_fef4_11ea_be99_88e9fe4c695erow20_col0\" class=\"data row20 col0\" >294591</td>\n",
       "                        <td id=\"T_dbf3d462_fef4_11ea_be99_88e9fe4c695erow20_col1\" class=\"data row20 col1\" >5091</td>\n",
       "                        <td id=\"T_dbf3d462_fef4_11ea_be99_88e9fe4c695erow20_col2\" class=\"data row20 col2\" >1.730000</td>\n",
       "            </tr>\n",
       "            <tr>\n",
       "                        <th id=\"T_dbf3d462_fef4_11ea_be99_88e9fe4c695elevel0_row21\" class=\"row_heading level0 row21\" >Germany</th>\n",
       "                        <td id=\"T_dbf3d462_fef4_11ea_be99_88e9fe4c695erow21_col0\" class=\"data row21 col0\" >278070</td>\n",
       "                        <td id=\"T_dbf3d462_fef4_11ea_be99_88e9fe4c695erow21_col1\" class=\"data row21 col1\" >9428</td>\n",
       "                        <td id=\"T_dbf3d462_fef4_11ea_be99_88e9fe4c695erow21_col2\" class=\"data row21 col2\" >3.390000</td>\n",
       "            </tr>\n",
       "            <tr>\n",
       "                        <th id=\"T_dbf3d462_fef4_11ea_be99_88e9fe4c695elevel0_row22\" class=\"row_heading level0 row22\" >Indonesia</th>\n",
       "                        <td id=\"T_dbf3d462_fef4_11ea_be99_88e9fe4c695erow22_col0\" class=\"data row22 col0\" >257388</td>\n",
       "                        <td id=\"T_dbf3d462_fef4_11ea_be99_88e9fe4c695erow22_col1\" class=\"data row22 col1\" >9977</td>\n",
       "                        <td id=\"T_dbf3d462_fef4_11ea_be99_88e9fe4c695erow22_col2\" class=\"data row22 col2\" >3.880000</td>\n",
       "            </tr>\n",
       "            <tr>\n",
       "                        <th id=\"T_dbf3d462_fef4_11ea_be99_88e9fe4c695elevel0_row23\" class=\"row_heading level0 row23\" >Israel</th>\n",
       "                        <td id=\"T_dbf3d462_fef4_11ea_be99_88e9fe4c695erow23_col0\" class=\"data row23 col0\" >204690</td>\n",
       "                        <td id=\"T_dbf3d462_fef4_11ea_be99_88e9fe4c695erow23_col1\" class=\"data row23 col1\" >1325</td>\n",
       "                        <td id=\"T_dbf3d462_fef4_11ea_be99_88e9fe4c695erow23_col2\" class=\"data row23 col2\" >0.650000</td>\n",
       "            </tr>\n",
       "            <tr>\n",
       "                        <th id=\"T_dbf3d462_fef4_11ea_be99_88e9fe4c695elevel0_row24\" class=\"row_heading level0 row24\" >Ukraine</th>\n",
       "                        <td id=\"T_dbf3d462_fef4_11ea_be99_88e9fe4c695erow24_col0\" class=\"data row24 col0\" >184734</td>\n",
       "                        <td id=\"T_dbf3d462_fef4_11ea_be99_88e9fe4c695erow24_col1\" class=\"data row24 col1\" >3705</td>\n",
       "                        <td id=\"T_dbf3d462_fef4_11ea_be99_88e9fe4c695erow24_col2\" class=\"data row24 col2\" >2.010000</td>\n",
       "            </tr>\n",
       "            <tr>\n",
       "                        <th id=\"T_dbf3d462_fef4_11ea_be99_88e9fe4c695elevel0_row25\" class=\"row_heading level0 row25\" >Canada</th>\n",
       "                        <td id=\"T_dbf3d462_fef4_11ea_be99_88e9fe4c695erow25_col0\" class=\"data row25 col0\" >147753</td>\n",
       "                        <td id=\"T_dbf3d462_fef4_11ea_be99_88e9fe4c695erow25_col1\" class=\"data row25 col1\" >9243</td>\n",
       "                        <td id=\"T_dbf3d462_fef4_11ea_be99_88e9fe4c695erow25_col2\" class=\"data row25 col2\" >6.260000</td>\n",
       "            </tr>\n",
       "            <tr>\n",
       "                        <th id=\"T_dbf3d462_fef4_11ea_be99_88e9fe4c695elevel0_row26\" class=\"row_heading level0 row26\" >Kazakhstan</th>\n",
       "                        <td id=\"T_dbf3d462_fef4_11ea_be99_88e9fe4c695erow26_col0\" class=\"data row26 col0\" >139289</td>\n",
       "                        <td id=\"T_dbf3d462_fef4_11ea_be99_88e9fe4c695erow26_col1\" class=\"data row26 col1\" >2045</td>\n",
       "                        <td id=\"T_dbf3d462_fef4_11ea_be99_88e9fe4c695erow26_col2\" class=\"data row26 col2\" >1.470000</td>\n",
       "            </tr>\n",
       "            <tr>\n",
       "                        <th id=\"T_dbf3d462_fef4_11ea_be99_88e9fe4c695elevel0_row27\" class=\"row_heading level0 row27\" >Bolivia</th>\n",
       "                        <td id=\"T_dbf3d462_fef4_11ea_be99_88e9fe4c695erow27_col0\" class=\"data row27 col0\" >131990</td>\n",
       "                        <td id=\"T_dbf3d462_fef4_11ea_be99_88e9fe4c695erow27_col1\" class=\"data row27 col1\" >7731</td>\n",
       "                        <td id=\"T_dbf3d462_fef4_11ea_be99_88e9fe4c695erow27_col2\" class=\"data row27 col2\" >5.860000</td>\n",
       "            </tr>\n",
       "            <tr>\n",
       "                        <th id=\"T_dbf3d462_fef4_11ea_be99_88e9fe4c695elevel0_row28\" class=\"row_heading level0 row28\" >Ecuador</th>\n",
       "                        <td id=\"T_dbf3d462_fef4_11ea_be99_88e9fe4c695erow28_col0\" class=\"data row28 col0\" >129892</td>\n",
       "                        <td id=\"T_dbf3d462_fef4_11ea_be99_88e9fe4c695erow28_col1\" class=\"data row28 col1\" >11171</td>\n",
       "                        <td id=\"T_dbf3d462_fef4_11ea_be99_88e9fe4c695erow28_col2\" class=\"data row28 col2\" >8.600000</td>\n",
       "            </tr>\n",
       "            <tr>\n",
       "                        <th id=\"T_dbf3d462_fef4_11ea_be99_88e9fe4c695elevel0_row29\" class=\"row_heading level0 row29\" >Qatar</th>\n",
       "                        <td id=\"T_dbf3d462_fef4_11ea_be99_88e9fe4c695erow29_col0\" class=\"data row29 col0\" >124175</td>\n",
       "                        <td id=\"T_dbf3d462_fef4_11ea_be99_88e9fe4c695erow29_col1\" class=\"data row29 col1\" >212</td>\n",
       "                        <td id=\"T_dbf3d462_fef4_11ea_be99_88e9fe4c695erow29_col2\" class=\"data row29 col2\" >0.170000</td>\n",
       "            </tr>\n",
       "            <tr>\n",
       "                        <th id=\"T_dbf3d462_fef4_11ea_be99_88e9fe4c695elevel0_row30\" class=\"row_heading level0 row30\" >Romania</th>\n",
       "                        <td id=\"T_dbf3d462_fef4_11ea_be99_88e9fe4c695erow30_col0\" class=\"data row30 col0\" >116415</td>\n",
       "                        <td id=\"T_dbf3d462_fef4_11ea_be99_88e9fe4c695erow30_col1\" class=\"data row30 col1\" >4550</td>\n",
       "                        <td id=\"T_dbf3d462_fef4_11ea_be99_88e9fe4c695erow30_col2\" class=\"data row30 col2\" >3.910000</td>\n",
       "            </tr>\n",
       "            <tr>\n",
       "                        <th id=\"T_dbf3d462_fef4_11ea_be99_88e9fe4c695elevel0_row31\" class=\"row_heading level0 row31\" >Dominican_Republic</th>\n",
       "                        <td id=\"T_dbf3d462_fef4_11ea_be99_88e9fe4c695erow31_col0\" class=\"data row31 col0\" >109737</td>\n",
       "                        <td id=\"T_dbf3d462_fef4_11ea_be99_88e9fe4c695erow31_col1\" class=\"data row31 col1\" >2074</td>\n",
       "                        <td id=\"T_dbf3d462_fef4_11ea_be99_88e9fe4c695erow31_col2\" class=\"data row31 col2\" >1.890000</td>\n",
       "            </tr>\n",
       "            <tr>\n",
       "                        <th id=\"T_dbf3d462_fef4_11ea_be99_88e9fe4c695elevel0_row32\" class=\"row_heading level0 row32\" >Panama</th>\n",
       "                        <td id=\"T_dbf3d462_fef4_11ea_be99_88e9fe4c695erow32_col0\" class=\"data row32 col0\" >107990</td>\n",
       "                        <td id=\"T_dbf3d462_fef4_11ea_be99_88e9fe4c695erow32_col1\" class=\"data row32 col1\" >2291</td>\n",
       "                        <td id=\"T_dbf3d462_fef4_11ea_be99_88e9fe4c695erow32_col2\" class=\"data row32 col2\" >2.120000</td>\n",
       "            </tr>\n",
       "            <tr>\n",
       "                        <th id=\"T_dbf3d462_fef4_11ea_be99_88e9fe4c695elevel0_row33\" class=\"row_heading level0 row33\" >Morocco</th>\n",
       "                        <td id=\"T_dbf3d462_fef4_11ea_be99_88e9fe4c695erow33_col0\" class=\"data row33 col0\" >107743</td>\n",
       "                        <td id=\"T_dbf3d462_fef4_11ea_be99_88e9fe4c695erow33_col1\" class=\"data row33 col1\" >1918</td>\n",
       "                        <td id=\"T_dbf3d462_fef4_11ea_be99_88e9fe4c695erow33_col2\" class=\"data row33 col2\" >1.780000</td>\n",
       "            </tr>\n",
       "            <tr>\n",
       "                        <th id=\"T_dbf3d462_fef4_11ea_be99_88e9fe4c695elevel0_row34\" class=\"row_heading level0 row34\" >Belgium</th>\n",
       "                        <td id=\"T_dbf3d462_fef4_11ea_be99_88e9fe4c695erow34_col0\" class=\"data row34 col0\" >106793</td>\n",
       "                        <td id=\"T_dbf3d462_fef4_11ea_be99_88e9fe4c695erow34_col1\" class=\"data row34 col1\" >9959</td>\n",
       "                        <td id=\"T_dbf3d462_fef4_11ea_be99_88e9fe4c695erow34_col2\" class=\"data row34 col2\" >9.330000</td>\n",
       "            </tr>\n",
       "            <tr>\n",
       "                        <th id=\"T_dbf3d462_fef4_11ea_be99_88e9fe4c695elevel0_row35\" class=\"row_heading level0 row35\" >Egypt</th>\n",
       "                        <td id=\"T_dbf3d462_fef4_11ea_be99_88e9fe4c695erow35_col0\" class=\"data row35 col0\" >102375</td>\n",
       "                        <td id=\"T_dbf3d462_fef4_11ea_be99_88e9fe4c695erow35_col1\" class=\"data row35 col1\" >5822</td>\n",
       "                        <td id=\"T_dbf3d462_fef4_11ea_be99_88e9fe4c695erow35_col2\" class=\"data row35 col2\" >5.690000</td>\n",
       "            </tr>\n",
       "            <tr>\n",
       "                        <th id=\"T_dbf3d462_fef4_11ea_be99_88e9fe4c695elevel0_row36\" class=\"row_heading level0 row36\" >Kuwait</th>\n",
       "                        <td id=\"T_dbf3d462_fef4_11ea_be99_88e9fe4c695erow36_col0\" class=\"data row36 col0\" >101299</td>\n",
       "                        <td id=\"T_dbf3d462_fef4_11ea_be99_88e9fe4c695erow36_col1\" class=\"data row36 col1\" >590</td>\n",
       "                        <td id=\"T_dbf3d462_fef4_11ea_be99_88e9fe4c695erow36_col2\" class=\"data row36 col2\" >0.580000</td>\n",
       "            </tr>\n",
       "            <tr>\n",
       "                        <th id=\"T_dbf3d462_fef4_11ea_be99_88e9fe4c695elevel0_row37\" class=\"row_heading level0 row37\" >Netherlands</th>\n",
       "                        <td id=\"T_dbf3d462_fef4_11ea_be99_88e9fe4c695erow37_col0\" class=\"data row37 col0\" >100493</td>\n",
       "                        <td id=\"T_dbf3d462_fef4_11ea_be99_88e9fe4c695erow37_col1\" class=\"data row37 col1\" >6287</td>\n",
       "                        <td id=\"T_dbf3d462_fef4_11ea_be99_88e9fe4c695erow37_col2\" class=\"data row37 col2\" >6.260000</td>\n",
       "            </tr>\n",
       "            <tr>\n",
       "                        <th id=\"T_dbf3d462_fef4_11ea_be99_88e9fe4c695elevel0_row38\" class=\"row_heading level0 row38\" >Oman</th>\n",
       "                        <td id=\"T_dbf3d462_fef4_11ea_be99_88e9fe4c695erow38_col0\" class=\"data row38 col0\" >95339</td>\n",
       "                        <td id=\"T_dbf3d462_fef4_11ea_be99_88e9fe4c695erow38_col1\" class=\"data row38 col1\" >875</td>\n",
       "                        <td id=\"T_dbf3d462_fef4_11ea_be99_88e9fe4c695erow38_col2\" class=\"data row38 col2\" >0.920000</td>\n",
       "            </tr>\n",
       "            <tr>\n",
       "                        <th id=\"T_dbf3d462_fef4_11ea_be99_88e9fe4c695elevel0_row39\" class=\"row_heading level0 row39\" >China</th>\n",
       "                        <td id=\"T_dbf3d462_fef4_11ea_be99_88e9fe4c695erow39_col0\" class=\"data row39 col0\" >90409</td>\n",
       "                        <td id=\"T_dbf3d462_fef4_11ea_be99_88e9fe4c695erow39_col1\" class=\"data row39 col1\" >4738</td>\n",
       "                        <td id=\"T_dbf3d462_fef4_11ea_be99_88e9fe4c695erow39_col2\" class=\"data row39 col2\" >5.240000</td>\n",
       "            </tr>\n",
       "            <tr>\n",
       "                        <th id=\"T_dbf3d462_fef4_11ea_be99_88e9fe4c695elevel0_row40\" class=\"row_heading level0 row40\" >Sweden</th>\n",
       "                        <td id=\"T_dbf3d462_fef4_11ea_be99_88e9fe4c695erow40_col0\" class=\"data row40 col0\" >89756</td>\n",
       "                        <td id=\"T_dbf3d462_fef4_11ea_be99_88e9fe4c695erow40_col1\" class=\"data row40 col1\" >5876</td>\n",
       "                        <td id=\"T_dbf3d462_fef4_11ea_be99_88e9fe4c695erow40_col2\" class=\"data row40 col2\" >6.550000</td>\n",
       "            </tr>\n",
       "            <tr>\n",
       "                        <th id=\"T_dbf3d462_fef4_11ea_be99_88e9fe4c695elevel0_row41\" class=\"row_heading level0 row41\" >United_Arab_Emirates</th>\n",
       "                        <td id=\"T_dbf3d462_fef4_11ea_be99_88e9fe4c695erow41_col0\" class=\"data row41 col0\" >87530</td>\n",
       "                        <td id=\"T_dbf3d462_fef4_11ea_be99_88e9fe4c695erow41_col1\" class=\"data row41 col1\" >406</td>\n",
       "                        <td id=\"T_dbf3d462_fef4_11ea_be99_88e9fe4c695erow41_col2\" class=\"data row41 col2\" >0.460000</td>\n",
       "            </tr>\n",
       "            <tr>\n",
       "                        <th id=\"T_dbf3d462_fef4_11ea_be99_88e9fe4c695elevel0_row42\" class=\"row_heading level0 row42\" >Guatemala</th>\n",
       "                        <td id=\"T_dbf3d462_fef4_11ea_be99_88e9fe4c695erow42_col0\" class=\"data row42 col0\" >87442</td>\n",
       "                        <td id=\"T_dbf3d462_fef4_11ea_be99_88e9fe4c695erow42_col1\" class=\"data row42 col1\" >3154</td>\n",
       "                        <td id=\"T_dbf3d462_fef4_11ea_be99_88e9fe4c695erow42_col2\" class=\"data row42 col2\" >3.610000</td>\n",
       "            </tr>\n",
       "            <tr>\n",
       "                        <th id=\"T_dbf3d462_fef4_11ea_be99_88e9fe4c695elevel0_row43\" class=\"row_heading level0 row43\" >Poland</th>\n",
       "                        <td id=\"T_dbf3d462_fef4_11ea_be99_88e9fe4c695erow43_col0\" class=\"data row43 col0\" >81673</td>\n",
       "                        <td id=\"T_dbf3d462_fef4_11ea_be99_88e9fe4c695erow43_col1\" class=\"data row43 col1\" >2344</td>\n",
       "                        <td id=\"T_dbf3d462_fef4_11ea_be99_88e9fe4c695erow43_col2\" class=\"data row43 col2\" >2.870000</td>\n",
       "            </tr>\n",
       "            <tr>\n",
       "                        <th id=\"T_dbf3d462_fef4_11ea_be99_88e9fe4c695elevel0_row44\" class=\"row_heading level0 row44\" >Japan</th>\n",
       "                        <td id=\"T_dbf3d462_fef4_11ea_be99_88e9fe4c695erow44_col0\" class=\"data row44 col0\" >80041</td>\n",
       "                        <td id=\"T_dbf3d462_fef4_11ea_be99_88e9fe4c695erow44_col1\" class=\"data row44 col1\" >1520</td>\n",
       "                        <td id=\"T_dbf3d462_fef4_11ea_be99_88e9fe4c695erow44_col2\" class=\"data row44 col2\" >1.900000</td>\n",
       "            </tr>\n",
       "            <tr>\n",
       "                        <th id=\"T_dbf3d462_fef4_11ea_be99_88e9fe4c695elevel0_row45\" class=\"row_heading level0 row45\" >Belarus</th>\n",
       "                        <td id=\"T_dbf3d462_fef4_11ea_be99_88e9fe4c695erow45_col0\" class=\"data row45 col0\" >76357</td>\n",
       "                        <td id=\"T_dbf3d462_fef4_11ea_be99_88e9fe4c695erow45_col1\" class=\"data row45 col1\" >796</td>\n",
       "                        <td id=\"T_dbf3d462_fef4_11ea_be99_88e9fe4c695erow45_col2\" class=\"data row45 col2\" >1.040000</td>\n",
       "            </tr>\n",
       "            <tr>\n",
       "                        <th id=\"T_dbf3d462_fef4_11ea_be99_88e9fe4c695elevel0_row46\" class=\"row_heading level0 row46\" >Honduras</th>\n",
       "                        <td id=\"T_dbf3d462_fef4_11ea_be99_88e9fe4c695erow46_col0\" class=\"data row46 col0\" >72675</td>\n",
       "                        <td id=\"T_dbf3d462_fef4_11ea_be99_88e9fe4c695erow46_col1\" class=\"data row46 col1\" >2222</td>\n",
       "                        <td id=\"T_dbf3d462_fef4_11ea_be99_88e9fe4c695erow46_col2\" class=\"data row46 col2\" >3.060000</td>\n",
       "            </tr>\n",
       "            <tr>\n",
       "                        <th id=\"T_dbf3d462_fef4_11ea_be99_88e9fe4c695elevel0_row47\" class=\"row_heading level0 row47\" >Ethiopia</th>\n",
       "                        <td id=\"T_dbf3d462_fef4_11ea_be99_88e9fe4c695erow47_col0\" class=\"data row47 col0\" >71083</td>\n",
       "                        <td id=\"T_dbf3d462_fef4_11ea_be99_88e9fe4c695erow47_col1\" class=\"data row47 col1\" >1141</td>\n",
       "                        <td id=\"T_dbf3d462_fef4_11ea_be99_88e9fe4c695erow47_col2\" class=\"data row47 col2\" >1.610000</td>\n",
       "            </tr>\n",
       "            <tr>\n",
       "                        <th id=\"T_dbf3d462_fef4_11ea_be99_88e9fe4c695elevel0_row48\" class=\"row_heading level0 row48\" >Portugal</th>\n",
       "                        <td id=\"T_dbf3d462_fef4_11ea_be99_88e9fe4c695erow48_col0\" class=\"data row48 col0\" >70465</td>\n",
       "                        <td id=\"T_dbf3d462_fef4_11ea_be99_88e9fe4c695erow48_col1\" class=\"data row48 col1\" >1928</td>\n",
       "                        <td id=\"T_dbf3d462_fef4_11ea_be99_88e9fe4c695erow48_col2\" class=\"data row48 col2\" >2.740000</td>\n",
       "            </tr>\n",
       "            <tr>\n",
       "                        <th id=\"T_dbf3d462_fef4_11ea_be99_88e9fe4c695elevel0_row49\" class=\"row_heading level0 row49\" >Venezuela</th>\n",
       "                        <td id=\"T_dbf3d462_fef4_11ea_be99_88e9fe4c695erow49_col0\" class=\"data row49 col0\" >69439</td>\n",
       "                        <td id=\"T_dbf3d462_fef4_11ea_be99_88e9fe4c695erow49_col1\" class=\"data row49 col1\" >574</td>\n",
       "                        <td id=\"T_dbf3d462_fef4_11ea_be99_88e9fe4c695erow49_col2\" class=\"data row49 col2\" >0.830000</td>\n",
       "            </tr>\n",
       "            <tr>\n",
       "                        <th id=\"T_dbf3d462_fef4_11ea_be99_88e9fe4c695elevel0_row50\" class=\"row_heading level0 row50\" >Costa_Rica</th>\n",
       "                        <td id=\"T_dbf3d462_fef4_11ea_be99_88e9fe4c695erow50_col0\" class=\"data row50 col0\" >68059</td>\n",
       "                        <td id=\"T_dbf3d462_fef4_11ea_be99_88e9fe4c695erow50_col1\" class=\"data row50 col1\" >781</td>\n",
       "                        <td id=\"T_dbf3d462_fef4_11ea_be99_88e9fe4c695erow50_col2\" class=\"data row50 col2\" >1.150000</td>\n",
       "            </tr>\n",
       "            <tr>\n",
       "                        <th id=\"T_dbf3d462_fef4_11ea_be99_88e9fe4c695elevel0_row51\" class=\"row_heading level0 row51\" >Nepal</th>\n",
       "                        <td id=\"T_dbf3d462_fef4_11ea_be99_88e9fe4c695erow51_col0\" class=\"data row51 col0\" >67804</td>\n",
       "                        <td id=\"T_dbf3d462_fef4_11ea_be99_88e9fe4c695erow51_col1\" class=\"data row51 col1\" >436</td>\n",
       "                        <td id=\"T_dbf3d462_fef4_11ea_be99_88e9fe4c695erow51_col2\" class=\"data row51 col2\" >0.640000</td>\n",
       "            </tr>\n",
       "            <tr>\n",
       "                        <th id=\"T_dbf3d462_fef4_11ea_be99_88e9fe4c695elevel0_row52\" class=\"row_heading level0 row52\" >Bahrain</th>\n",
       "                        <td id=\"T_dbf3d462_fef4_11ea_be99_88e9fe4c695erow52_col0\" class=\"data row52 col0\" >66402</td>\n",
       "                        <td id=\"T_dbf3d462_fef4_11ea_be99_88e9fe4c695erow52_col1\" class=\"data row52 col1\" >231</td>\n",
       "                        <td id=\"T_dbf3d462_fef4_11ea_be99_88e9fe4c695erow52_col2\" class=\"data row52 col2\" >0.350000</td>\n",
       "            </tr>\n",
       "            <tr>\n",
       "                        <th id=\"T_dbf3d462_fef4_11ea_be99_88e9fe4c695elevel0_row53\" class=\"row_heading level0 row53\" >Nigeria</th>\n",
       "                        <td id=\"T_dbf3d462_fef4_11ea_be99_88e9fe4c695erow53_col0\" class=\"data row53 col0\" >57724</td>\n",
       "                        <td id=\"T_dbf3d462_fef4_11ea_be99_88e9fe4c695erow53_col1\" class=\"data row53 col1\" >1102</td>\n",
       "                        <td id=\"T_dbf3d462_fef4_11ea_be99_88e9fe4c695erow53_col2\" class=\"data row53 col2\" >1.910000</td>\n",
       "            </tr>\n",
       "            <tr>\n",
       "                        <th id=\"T_dbf3d462_fef4_11ea_be99_88e9fe4c695elevel0_row54\" class=\"row_heading level0 row54\" >Singapore</th>\n",
       "                        <td id=\"T_dbf3d462_fef4_11ea_be99_88e9fe4c695erow54_col0\" class=\"data row54 col0\" >57639</td>\n",
       "                        <td id=\"T_dbf3d462_fef4_11ea_be99_88e9fe4c695erow54_col1\" class=\"data row54 col1\" >27</td>\n",
       "                        <td id=\"T_dbf3d462_fef4_11ea_be99_88e9fe4c695erow54_col2\" class=\"data row54 col2\" >0.050000</td>\n",
       "            </tr>\n",
       "            <tr>\n",
       "                        <th id=\"T_dbf3d462_fef4_11ea_be99_88e9fe4c695elevel0_row55\" class=\"row_heading level0 row55\" >Czechia</th>\n",
       "                        <td id=\"T_dbf3d462_fef4_11ea_be99_88e9fe4c695erow55_col0\" class=\"data row55 col0\" >55464</td>\n",
       "                        <td id=\"T_dbf3d462_fef4_11ea_be99_88e9fe4c695erow55_col1\" class=\"data row55 col1\" >555</td>\n",
       "                        <td id=\"T_dbf3d462_fef4_11ea_be99_88e9fe4c695erow55_col2\" class=\"data row55 col2\" >1.000000</td>\n",
       "            </tr>\n",
       "            <tr>\n",
       "                        <th id=\"T_dbf3d462_fef4_11ea_be99_88e9fe4c695elevel0_row56\" class=\"row_heading level0 row56\" >Uzbekistan</th>\n",
       "                        <td id=\"T_dbf3d462_fef4_11ea_be99_88e9fe4c695erow56_col0\" class=\"data row56 col0\" >53667</td>\n",
       "                        <td id=\"T_dbf3d462_fef4_11ea_be99_88e9fe4c695erow56_col1\" class=\"data row56 col1\" >445</td>\n",
       "                        <td id=\"T_dbf3d462_fef4_11ea_be99_88e9fe4c695erow56_col2\" class=\"data row56 col2\" >0.830000</td>\n",
       "            </tr>\n",
       "            <tr>\n",
       "                        <th id=\"T_dbf3d462_fef4_11ea_be99_88e9fe4c695elevel0_row57\" class=\"row_heading level0 row57\" >Switzerland</th>\n",
       "                        <td id=\"T_dbf3d462_fef4_11ea_be99_88e9fe4c695erow57_col0\" class=\"data row57 col0\" >50984</td>\n",
       "                        <td id=\"T_dbf3d462_fef4_11ea_be99_88e9fe4c695erow57_col1\" class=\"data row57 col1\" >1772</td>\n",
       "                        <td id=\"T_dbf3d462_fef4_11ea_be99_88e9fe4c695erow57_col2\" class=\"data row57 col2\" >3.480000</td>\n",
       "            </tr>\n",
       "            <tr>\n",
       "                        <th id=\"T_dbf3d462_fef4_11ea_be99_88e9fe4c695elevel0_row58\" class=\"row_heading level0 row58\" >Algeria</th>\n",
       "                        <td id=\"T_dbf3d462_fef4_11ea_be99_88e9fe4c695erow58_col0\" class=\"data row58 col0\" >50400</td>\n",
       "                        <td id=\"T_dbf3d462_fef4_11ea_be99_88e9fe4c695erow58_col1\" class=\"data row58 col1\" >1698</td>\n",
       "                        <td id=\"T_dbf3d462_fef4_11ea_be99_88e9fe4c695erow58_col2\" class=\"data row58 col2\" >3.370000</td>\n",
       "            </tr>\n",
       "            <tr>\n",
       "                        <th id=\"T_dbf3d462_fef4_11ea_be99_88e9fe4c695elevel0_row59\" class=\"row_heading level0 row59\" >Moldova</th>\n",
       "                        <td id=\"T_dbf3d462_fef4_11ea_be99_88e9fe4c695erow59_col0\" class=\"data row59 col0\" >48232</td>\n",
       "                        <td id=\"T_dbf3d462_fef4_11ea_be99_88e9fe4c695erow59_col1\" class=\"data row59 col1\" >1244</td>\n",
       "                        <td id=\"T_dbf3d462_fef4_11ea_be99_88e9fe4c695erow59_col2\" class=\"data row59 col2\" >2.580000</td>\n",
       "            </tr>\n",
       "            <tr>\n",
       "                        <th id=\"T_dbf3d462_fef4_11ea_be99_88e9fe4c695elevel0_row60\" class=\"row_heading level0 row60\" >Armenia</th>\n",
       "                        <td id=\"T_dbf3d462_fef4_11ea_be99_88e9fe4c695erow60_col0\" class=\"data row60 col0\" >47877</td>\n",
       "                        <td id=\"T_dbf3d462_fef4_11ea_be99_88e9fe4c695erow60_col1\" class=\"data row60 col1\" >942</td>\n",
       "                        <td id=\"T_dbf3d462_fef4_11ea_be99_88e9fe4c695erow60_col2\" class=\"data row60 col2\" >1.970000</td>\n",
       "            </tr>\n",
       "            <tr>\n",
       "                        <th id=\"T_dbf3d462_fef4_11ea_be99_88e9fe4c695elevel0_row61\" class=\"row_heading level0 row61\" >Palestine</th>\n",
       "                        <td id=\"T_dbf3d462_fef4_11ea_be99_88e9fe4c695erow61_col0\" class=\"data row61 col0\" >47117</td>\n",
       "                        <td id=\"T_dbf3d462_fef4_11ea_be99_88e9fe4c695erow61_col1\" class=\"data row61 col1\" >317</td>\n",
       "                        <td id=\"T_dbf3d462_fef4_11ea_be99_88e9fe4c695erow61_col2\" class=\"data row61 col2\" >0.670000</td>\n",
       "            </tr>\n",
       "            <tr>\n",
       "                        <th id=\"T_dbf3d462_fef4_11ea_be99_88e9fe4c695elevel0_row62\" class=\"row_heading level0 row62\" >Ghana</th>\n",
       "                        <td id=\"T_dbf3d462_fef4_11ea_be99_88e9fe4c695erow62_col0\" class=\"data row62 col0\" >46153</td>\n",
       "                        <td id=\"T_dbf3d462_fef4_11ea_be99_88e9fe4c695erow62_col1\" class=\"data row62 col1\" >299</td>\n",
       "                        <td id=\"T_dbf3d462_fef4_11ea_be99_88e9fe4c695erow62_col2\" class=\"data row62 col2\" >0.650000</td>\n",
       "            </tr>\n",
       "            <tr>\n",
       "                        <th id=\"T_dbf3d462_fef4_11ea_be99_88e9fe4c695elevel0_row63\" class=\"row_heading level0 row63\" >Kyrgyzstan</th>\n",
       "                        <td id=\"T_dbf3d462_fef4_11ea_be99_88e9fe4c695erow63_col0\" class=\"data row63 col0\" >45757</td>\n",
       "                        <td id=\"T_dbf3d462_fef4_11ea_be99_88e9fe4c695erow63_col1\" class=\"data row63 col1\" >1063</td>\n",
       "                        <td id=\"T_dbf3d462_fef4_11ea_be99_88e9fe4c695erow63_col2\" class=\"data row63 col2\" >2.320000</td>\n",
       "            </tr>\n",
       "            <tr>\n",
       "                        <th id=\"T_dbf3d462_fef4_11ea_be99_88e9fe4c695elevel0_row64\" class=\"row_heading level0 row64\" >Puerto_Rico</th>\n",
       "                        <td id=\"T_dbf3d462_fef4_11ea_be99_88e9fe4c695erow64_col0\" class=\"data row64 col0\" >42651</td>\n",
       "                        <td id=\"T_dbf3d462_fef4_11ea_be99_88e9fe4c695erow64_col1\" class=\"data row64 col1\" >617</td>\n",
       "                        <td id=\"T_dbf3d462_fef4_11ea_be99_88e9fe4c695erow64_col2\" class=\"data row64 col2\" >1.450000</td>\n",
       "            </tr>\n",
       "            <tr>\n",
       "                        <th id=\"T_dbf3d462_fef4_11ea_be99_88e9fe4c695elevel0_row65\" class=\"row_heading level0 row65\" >Austria</th>\n",
       "                        <td id=\"T_dbf3d462_fef4_11ea_be99_88e9fe4c695erow65_col0\" class=\"data row65 col0\" >40558</td>\n",
       "                        <td id=\"T_dbf3d462_fef4_11ea_be99_88e9fe4c695erow65_col1\" class=\"data row65 col1\" >777</td>\n",
       "                        <td id=\"T_dbf3d462_fef4_11ea_be99_88e9fe4c695erow65_col2\" class=\"data row65 col2\" >1.920000</td>\n",
       "            </tr>\n",
       "            <tr>\n",
       "                        <th id=\"T_dbf3d462_fef4_11ea_be99_88e9fe4c695elevel0_row66\" class=\"row_heading level0 row66\" >Azerbaijan</th>\n",
       "                        <td id=\"T_dbf3d462_fef4_11ea_be99_88e9fe4c695erow66_col0\" class=\"data row66 col0\" >39524</td>\n",
       "                        <td id=\"T_dbf3d462_fef4_11ea_be99_88e9fe4c695erow66_col1\" class=\"data row66 col1\" >580</td>\n",
       "                        <td id=\"T_dbf3d462_fef4_11ea_be99_88e9fe4c695erow66_col2\" class=\"data row66 col2\" >1.470000</td>\n",
       "            </tr>\n",
       "            <tr>\n",
       "                        <th id=\"T_dbf3d462_fef4_11ea_be99_88e9fe4c695elevel0_row67\" class=\"row_heading level0 row67\" >Afghanistan</th>\n",
       "                        <td id=\"T_dbf3d462_fef4_11ea_be99_88e9fe4c695erow67_col0\" class=\"data row67 col0\" >39170</td>\n",
       "                        <td id=\"T_dbf3d462_fef4_11ea_be99_88e9fe4c695erow67_col1\" class=\"data row67 col1\" >1451</td>\n",
       "                        <td id=\"T_dbf3d462_fef4_11ea_be99_88e9fe4c695erow67_col2\" class=\"data row67 col2\" >3.700000</td>\n",
       "            </tr>\n",
       "            <tr>\n",
       "                        <th id=\"T_dbf3d462_fef4_11ea_be99_88e9fe4c695elevel0_row68\" class=\"row_heading level0 row68\" >Kenya</th>\n",
       "                        <td id=\"T_dbf3d462_fef4_11ea_be99_88e9fe4c695erow68_col0\" class=\"data row68 col0\" >37348</td>\n",
       "                        <td id=\"T_dbf3d462_fef4_11ea_be99_88e9fe4c695erow68_col1\" class=\"data row68 col1\" >664</td>\n",
       "                        <td id=\"T_dbf3d462_fef4_11ea_be99_88e9fe4c695erow68_col2\" class=\"data row68 col2\" >1.780000</td>\n",
       "            </tr>\n",
       "            <tr>\n",
       "                        <th id=\"T_dbf3d462_fef4_11ea_be99_88e9fe4c695elevel0_row69\" class=\"row_heading level0 row69\" >Paraguay</th>\n",
       "                        <td id=\"T_dbf3d462_fef4_11ea_be99_88e9fe4c695erow69_col0\" class=\"data row69 col0\" >35571</td>\n",
       "                        <td id=\"T_dbf3d462_fef4_11ea_be99_88e9fe4c695erow69_col1\" class=\"data row69 col1\" >727</td>\n",
       "                        <td id=\"T_dbf3d462_fef4_11ea_be99_88e9fe4c695erow69_col2\" class=\"data row69 col2\" >2.040000</td>\n",
       "            </tr>\n",
       "            <tr>\n",
       "                        <th id=\"T_dbf3d462_fef4_11ea_be99_88e9fe4c695elevel0_row70\" class=\"row_heading level0 row70\" >Ireland</th>\n",
       "                        <td id=\"T_dbf3d462_fef4_11ea_be99_88e9fe4c695erow70_col0\" class=\"data row70 col0\" >33675</td>\n",
       "                        <td id=\"T_dbf3d462_fef4_11ea_be99_88e9fe4c695erow70_col1\" class=\"data row70 col1\" >1794</td>\n",
       "                        <td id=\"T_dbf3d462_fef4_11ea_be99_88e9fe4c695erow70_col2\" class=\"data row70 col2\" >5.330000</td>\n",
       "            </tr>\n",
       "            <tr>\n",
       "                        <th id=\"T_dbf3d462_fef4_11ea_be99_88e9fe4c695elevel0_row71\" class=\"row_heading level0 row71\" >Serbia</th>\n",
       "                        <td id=\"T_dbf3d462_fef4_11ea_be99_88e9fe4c695erow71_col0\" class=\"data row71 col0\" >33080</td>\n",
       "                        <td id=\"T_dbf3d462_fef4_11ea_be99_88e9fe4c695erow71_col1\" class=\"data row71 col1\" >744</td>\n",
       "                        <td id=\"T_dbf3d462_fef4_11ea_be99_88e9fe4c695erow71_col2\" class=\"data row71 col2\" >2.250000</td>\n",
       "            </tr>\n",
       "            <tr>\n",
       "                        <th id=\"T_dbf3d462_fef4_11ea_be99_88e9fe4c695elevel0_row72\" class=\"row_heading level0 row72\" >Lebanon</th>\n",
       "                        <td id=\"T_dbf3d462_fef4_11ea_be99_88e9fe4c695erow72_col0\" class=\"data row72 col0\" >31792</td>\n",
       "                        <td id=\"T_dbf3d462_fef4_11ea_be99_88e9fe4c695erow72_col1\" class=\"data row72 col1\" >328</td>\n",
       "                        <td id=\"T_dbf3d462_fef4_11ea_be99_88e9fe4c695erow72_col2\" class=\"data row72 col2\" >1.030000</td>\n",
       "            </tr>\n",
       "            <tr>\n",
       "                        <th id=\"T_dbf3d462_fef4_11ea_be99_88e9fe4c695elevel0_row73\" class=\"row_heading level0 row73\" >Libya</th>\n",
       "                        <td id=\"T_dbf3d462_fef4_11ea_be99_88e9fe4c695erow73_col0\" class=\"data row73 col0\" >30097</td>\n",
       "                        <td id=\"T_dbf3d462_fef4_11ea_be99_88e9fe4c695erow73_col1\" class=\"data row73 col1\" >473</td>\n",
       "                        <td id=\"T_dbf3d462_fef4_11ea_be99_88e9fe4c695erow73_col2\" class=\"data row73 col2\" >1.570000</td>\n",
       "            </tr>\n",
       "            <tr>\n",
       "                        <th id=\"T_dbf3d462_fef4_11ea_be99_88e9fe4c695elevel0_row74\" class=\"row_heading level0 row74\" >El_Salvador</th>\n",
       "                        <td id=\"T_dbf3d462_fef4_11ea_be99_88e9fe4c695erow74_col0\" class=\"data row74 col0\" >27954</td>\n",
       "                        <td id=\"T_dbf3d462_fef4_11ea_be99_88e9fe4c695erow74_col1\" class=\"data row74 col1\" >819</td>\n",
       "                        <td id=\"T_dbf3d462_fef4_11ea_be99_88e9fe4c695erow74_col2\" class=\"data row74 col2\" >2.930000</td>\n",
       "            </tr>\n",
       "            <tr>\n",
       "                        <th id=\"T_dbf3d462_fef4_11ea_be99_88e9fe4c695elevel0_row75\" class=\"row_heading level0 row75\" >Australia</th>\n",
       "                        <td id=\"T_dbf3d462_fef4_11ea_be99_88e9fe4c695erow75_col0\" class=\"data row75 col0\" >26973</td>\n",
       "                        <td id=\"T_dbf3d462_fef4_11ea_be99_88e9fe4c695erow75_col1\" class=\"data row75 col1\" >859</td>\n",
       "                        <td id=\"T_dbf3d462_fef4_11ea_be99_88e9fe4c695erow75_col2\" class=\"data row75 col2\" >3.180000</td>\n",
       "            </tr>\n",
       "            <tr>\n",
       "                        <th id=\"T_dbf3d462_fef4_11ea_be99_88e9fe4c695elevel0_row76\" class=\"row_heading level0 row76\" >Bosnia_and_Herzegovina</th>\n",
       "                        <td id=\"T_dbf3d462_fef4_11ea_be99_88e9fe4c695erow76_col0\" class=\"data row76 col0\" >26081</td>\n",
       "                        <td id=\"T_dbf3d462_fef4_11ea_be99_88e9fe4c695erow76_col1\" class=\"data row76 col1\" >790</td>\n",
       "                        <td id=\"T_dbf3d462_fef4_11ea_be99_88e9fe4c695erow76_col2\" class=\"data row76 col2\" >3.030000</td>\n",
       "            </tr>\n",
       "            <tr>\n",
       "                        <th id=\"T_dbf3d462_fef4_11ea_be99_88e9fe4c695elevel0_row77\" class=\"row_heading level0 row77\" >Denmark</th>\n",
       "                        <td id=\"T_dbf3d462_fef4_11ea_be99_88e9fe4c695erow77_col0\" class=\"data row77 col0\" >24357</td>\n",
       "                        <td id=\"T_dbf3d462_fef4_11ea_be99_88e9fe4c695erow77_col1\" class=\"data row77 col1\" >643</td>\n",
       "                        <td id=\"T_dbf3d462_fef4_11ea_be99_88e9fe4c695erow77_col2\" class=\"data row77 col2\" >2.640000</td>\n",
       "            </tr>\n",
       "            <tr>\n",
       "                        <th id=\"T_dbf3d462_fef4_11ea_be99_88e9fe4c695elevel0_row78\" class=\"row_heading level0 row78\" >South_Korea</th>\n",
       "                        <td id=\"T_dbf3d462_fef4_11ea_be99_88e9fe4c695erow78_col0\" class=\"data row78 col0\" >23341</td>\n",
       "                        <td id=\"T_dbf3d462_fef4_11ea_be99_88e9fe4c695erow78_col1\" class=\"data row78 col1\" >393</td>\n",
       "                        <td id=\"T_dbf3d462_fef4_11ea_be99_88e9fe4c695erow78_col2\" class=\"data row78 col2\" >1.680000</td>\n",
       "            </tr>\n",
       "            <tr>\n",
       "                        <th id=\"T_dbf3d462_fef4_11ea_be99_88e9fe4c695elevel0_row79\" class=\"row_heading level0 row79\" >Hungary</th>\n",
       "                        <td id=\"T_dbf3d462_fef4_11ea_be99_88e9fe4c695erow79_col0\" class=\"data row79 col0\" >21200</td>\n",
       "                        <td id=\"T_dbf3d462_fef4_11ea_be99_88e9fe4c695erow79_col1\" class=\"data row79 col1\" >709</td>\n",
       "                        <td id=\"T_dbf3d462_fef4_11ea_be99_88e9fe4c695erow79_col2\" class=\"data row79 col2\" >3.340000</td>\n",
       "            </tr>\n",
       "            <tr>\n",
       "                        <th id=\"T_dbf3d462_fef4_11ea_be99_88e9fe4c695elevel0_row80\" class=\"row_heading level0 row80\" >Cameroon</th>\n",
       "                        <td id=\"T_dbf3d462_fef4_11ea_be99_88e9fe4c695erow80_col0\" class=\"data row80 col0\" >20690</td>\n",
       "                        <td id=\"T_dbf3d462_fef4_11ea_be99_88e9fe4c695erow80_col1\" class=\"data row80 col1\" >416</td>\n",
       "                        <td id=\"T_dbf3d462_fef4_11ea_be99_88e9fe4c695erow80_col2\" class=\"data row80 col2\" >2.010000</td>\n",
       "            </tr>\n",
       "            <tr>\n",
       "                        <th id=\"T_dbf3d462_fef4_11ea_be99_88e9fe4c695elevel0_row81\" class=\"row_heading level0 row81\" >Cote_dIvoire</th>\n",
       "                        <td id=\"T_dbf3d462_fef4_11ea_be99_88e9fe4c695erow81_col0\" class=\"data row81 col0\" >19430</td>\n",
       "                        <td id=\"T_dbf3d462_fef4_11ea_be99_88e9fe4c695erow81_col1\" class=\"data row81 col1\" >120</td>\n",
       "                        <td id=\"T_dbf3d462_fef4_11ea_be99_88e9fe4c695erow81_col2\" class=\"data row81 col2\" >0.620000</td>\n",
       "            </tr>\n",
       "            <tr>\n",
       "                        <th id=\"T_dbf3d462_fef4_11ea_be99_88e9fe4c695elevel0_row82\" class=\"row_heading level0 row82\" >Bulgaria</th>\n",
       "                        <td id=\"T_dbf3d462_fef4_11ea_be99_88e9fe4c695erow82_col0\" class=\"data row82 col0\" >19283</td>\n",
       "                        <td id=\"T_dbf3d462_fef4_11ea_be99_88e9fe4c695erow82_col1\" class=\"data row82 col1\" >779</td>\n",
       "                        <td id=\"T_dbf3d462_fef4_11ea_be99_88e9fe4c695erow82_col2\" class=\"data row82 col2\" >4.040000</td>\n",
       "            </tr>\n",
       "            <tr>\n",
       "                        <th id=\"T_dbf3d462_fef4_11ea_be99_88e9fe4c695elevel0_row83\" class=\"row_heading level0 row83\" >North_Macedonia</th>\n",
       "                        <td id=\"T_dbf3d462_fef4_11ea_be99_88e9fe4c695erow83_col0\" class=\"data row83 col0\" >17049</td>\n",
       "                        <td id=\"T_dbf3d462_fef4_11ea_be99_88e9fe4c695erow83_col1\" class=\"data row83 col1\" >710</td>\n",
       "                        <td id=\"T_dbf3d462_fef4_11ea_be99_88e9fe4c695erow83_col2\" class=\"data row83 col2\" >4.160000</td>\n",
       "            </tr>\n",
       "            <tr>\n",
       "                        <th id=\"T_dbf3d462_fef4_11ea_be99_88e9fe4c695elevel0_row84\" class=\"row_heading level0 row84\" >Greece</th>\n",
       "                        <td id=\"T_dbf3d462_fef4_11ea_be99_88e9fe4c695erow84_col0\" class=\"data row84 col0\" >16286</td>\n",
       "                        <td id=\"T_dbf3d462_fef4_11ea_be99_88e9fe4c695erow84_col1\" class=\"data row84 col1\" >357</td>\n",
       "                        <td id=\"T_dbf3d462_fef4_11ea_be99_88e9fe4c695erow84_col2\" class=\"data row84 col2\" >2.190000</td>\n",
       "            </tr>\n",
       "            <tr>\n",
       "                        <th id=\"T_dbf3d462_fef4_11ea_be99_88e9fe4c695elevel0_row85\" class=\"row_heading level0 row85\" >Madagascar</th>\n",
       "                        <td id=\"T_dbf3d462_fef4_11ea_be99_88e9fe4c695erow85_col0\" class=\"data row85 col0\" >16167</td>\n",
       "                        <td id=\"T_dbf3d462_fef4_11ea_be99_88e9fe4c695erow85_col1\" class=\"data row85 col1\" >226</td>\n",
       "                        <td id=\"T_dbf3d462_fef4_11ea_be99_88e9fe4c695erow85_col2\" class=\"data row85 col2\" >1.400000</td>\n",
       "            </tr>\n",
       "            <tr>\n",
       "                        <th id=\"T_dbf3d462_fef4_11ea_be99_88e9fe4c695elevel0_row86\" class=\"row_heading level0 row86\" >Croatia</th>\n",
       "                        <td id=\"T_dbf3d462_fef4_11ea_be99_88e9fe4c695erow86_col0\" class=\"data row86 col0\" >15340</td>\n",
       "                        <td id=\"T_dbf3d462_fef4_11ea_be99_88e9fe4c695erow86_col1\" class=\"data row86 col1\" >257</td>\n",
       "                        <td id=\"T_dbf3d462_fef4_11ea_be99_88e9fe4c695erow86_col2\" class=\"data row86 col2\" >1.680000</td>\n",
       "            </tr>\n",
       "            <tr>\n",
       "                        <th id=\"T_dbf3d462_fef4_11ea_be99_88e9fe4c695elevel0_row87\" class=\"row_heading level0 row87\" >Kosovo</th>\n",
       "                        <td id=\"T_dbf3d462_fef4_11ea_be99_88e9fe4c695erow87_col0\" class=\"data row87 col0\" >15270</td>\n",
       "                        <td id=\"T_dbf3d462_fef4_11ea_be99_88e9fe4c695erow87_col1\" class=\"data row87 col1\" >616</td>\n",
       "                        <td id=\"T_dbf3d462_fef4_11ea_be99_88e9fe4c695erow87_col2\" class=\"data row87 col2\" >4.030000</td>\n",
       "            </tr>\n",
       "            <tr>\n",
       "                        <th id=\"T_dbf3d462_fef4_11ea_be99_88e9fe4c695elevel0_row88\" class=\"row_heading level0 row88\" >Senegal</th>\n",
       "                        <td id=\"T_dbf3d462_fef4_11ea_be99_88e9fe4c695erow88_col0\" class=\"data row88 col0\" >14795</td>\n",
       "                        <td id=\"T_dbf3d462_fef4_11ea_be99_88e9fe4c695erow88_col1\" class=\"data row88 col1\" >303</td>\n",
       "                        <td id=\"T_dbf3d462_fef4_11ea_be99_88e9fe4c695erow88_col2\" class=\"data row88 col2\" >2.050000</td>\n",
       "            </tr>\n",
       "            <tr>\n",
       "                        <th id=\"T_dbf3d462_fef4_11ea_be99_88e9fe4c695elevel0_row89\" class=\"row_heading level0 row89\" >Zambia</th>\n",
       "                        <td id=\"T_dbf3d462_fef4_11ea_be99_88e9fe4c695erow89_col0\" class=\"data row89 col0\" >14443</td>\n",
       "                        <td id=\"T_dbf3d462_fef4_11ea_be99_88e9fe4c695erow89_col1\" class=\"data row89 col1\" >332</td>\n",
       "                        <td id=\"T_dbf3d462_fef4_11ea_be99_88e9fe4c695erow89_col2\" class=\"data row89 col2\" >2.300000</td>\n",
       "            </tr>\n",
       "            <tr>\n",
       "                        <th id=\"T_dbf3d462_fef4_11ea_be99_88e9fe4c695elevel0_row90\" class=\"row_heading level0 row90\" >Sudan</th>\n",
       "                        <td id=\"T_dbf3d462_fef4_11ea_be99_88e9fe4c695erow90_col0\" class=\"data row90 col0\" >13578</td>\n",
       "                        <td id=\"T_dbf3d462_fef4_11ea_be99_88e9fe4c695erow90_col1\" class=\"data row90 col1\" >836</td>\n",
       "                        <td id=\"T_dbf3d462_fef4_11ea_be99_88e9fe4c695erow90_col2\" class=\"data row90 col2\" >6.160000</td>\n",
       "            </tr>\n",
       "            <tr>\n",
       "                        <th id=\"T_dbf3d462_fef4_11ea_be99_88e9fe4c695elevel0_row91\" class=\"row_heading level0 row91\" >Norway</th>\n",
       "                        <td id=\"T_dbf3d462_fef4_11ea_be99_88e9fe4c695erow91_col0\" class=\"data row91 col0\" >13152</td>\n",
       "                        <td id=\"T_dbf3d462_fef4_11ea_be99_88e9fe4c695erow91_col1\" class=\"data row91 col1\" >267</td>\n",
       "                        <td id=\"T_dbf3d462_fef4_11ea_be99_88e9fe4c695erow91_col2\" class=\"data row91 col2\" >2.030000</td>\n",
       "            </tr>\n",
       "            <tr>\n",
       "                        <th id=\"T_dbf3d462_fef4_11ea_be99_88e9fe4c695elevel0_row92\" class=\"row_heading level0 row92\" >Albania</th>\n",
       "                        <td id=\"T_dbf3d462_fef4_11ea_be99_88e9fe4c695erow92_col0\" class=\"data row92 col0\" >12787</td>\n",
       "                        <td id=\"T_dbf3d462_fef4_11ea_be99_88e9fe4c695erow92_col1\" class=\"data row92 col1\" >370</td>\n",
       "                        <td id=\"T_dbf3d462_fef4_11ea_be99_88e9fe4c695erow92_col2\" class=\"data row92 col2\" >2.890000</td>\n",
       "            </tr>\n",
       "            <tr>\n",
       "                        <th id=\"T_dbf3d462_fef4_11ea_be99_88e9fe4c695elevel0_row93\" class=\"row_heading level0 row93\" >Tunisia</th>\n",
       "                        <td id=\"T_dbf3d462_fef4_11ea_be99_88e9fe4c695erow93_col0\" class=\"data row93 col0\" >12479</td>\n",
       "                        <td id=\"T_dbf3d462_fef4_11ea_be99_88e9fe4c695erow93_col1\" class=\"data row93 col1\" >174</td>\n",
       "                        <td id=\"T_dbf3d462_fef4_11ea_be99_88e9fe4c695erow93_col2\" class=\"data row93 col2\" >1.390000</td>\n",
       "            </tr>\n",
       "            <tr>\n",
       "                        <th id=\"T_dbf3d462_fef4_11ea_be99_88e9fe4c695elevel0_row94\" class=\"row_heading level0 row94\" >Namibia</th>\n",
       "                        <td id=\"T_dbf3d462_fef4_11ea_be99_88e9fe4c695erow94_col0\" class=\"data row94 col0\" >10663</td>\n",
       "                        <td id=\"T_dbf3d462_fef4_11ea_be99_88e9fe4c695erow94_col1\" class=\"data row94 col1\" >117</td>\n",
       "                        <td id=\"T_dbf3d462_fef4_11ea_be99_88e9fe4c695erow94_col2\" class=\"data row94 col2\" >1.100000</td>\n",
       "            </tr>\n",
       "            <tr>\n",
       "                        <th id=\"T_dbf3d462_fef4_11ea_be99_88e9fe4c695elevel0_row95\" class=\"row_heading level0 row95\" >Democratic_Republic_of_the_Congo</th>\n",
       "                        <td id=\"T_dbf3d462_fef4_11ea_be99_88e9fe4c695erow95_col0\" class=\"data row95 col0\" >10536</td>\n",
       "                        <td id=\"T_dbf3d462_fef4_11ea_be99_88e9fe4c695erow95_col1\" class=\"data row95 col1\" >270</td>\n",
       "                        <td id=\"T_dbf3d462_fef4_11ea_be99_88e9fe4c695erow95_col2\" class=\"data row95 col2\" >2.560000</td>\n",
       "            </tr>\n",
       "            <tr>\n",
       "                        <th id=\"T_dbf3d462_fef4_11ea_be99_88e9fe4c695elevel0_row96\" class=\"row_heading level0 row96\" >Malaysia</th>\n",
       "                        <td id=\"T_dbf3d462_fef4_11ea_be99_88e9fe4c695erow96_col0\" class=\"data row96 col0\" >10505</td>\n",
       "                        <td id=\"T_dbf3d462_fef4_11ea_be99_88e9fe4c695erow96_col1\" class=\"data row96 col1\" >133</td>\n",
       "                        <td id=\"T_dbf3d462_fef4_11ea_be99_88e9fe4c695erow96_col2\" class=\"data row96 col2\" >1.270000</td>\n",
       "            </tr>\n",
       "            <tr>\n",
       "                        <th id=\"T_dbf3d462_fef4_11ea_be99_88e9fe4c695elevel0_row97\" class=\"row_heading level0 row97\" >Guinea</th>\n",
       "                        <td id=\"T_dbf3d462_fef4_11ea_be99_88e9fe4c695erow97_col0\" class=\"data row97 col0\" >10434</td>\n",
       "                        <td id=\"T_dbf3d462_fef4_11ea_be99_88e9fe4c695erow97_col1\" class=\"data row97 col1\" >65</td>\n",
       "                        <td id=\"T_dbf3d462_fef4_11ea_be99_88e9fe4c695erow97_col2\" class=\"data row97 col2\" >0.620000</td>\n",
       "            </tr>\n",
       "            <tr>\n",
       "                        <th id=\"T_dbf3d462_fef4_11ea_be99_88e9fe4c695elevel0_row98\" class=\"row_heading level0 row98\" >Maldives</th>\n",
       "                        <td id=\"T_dbf3d462_fef4_11ea_be99_88e9fe4c695erow98_col0\" class=\"data row98 col0\" >9885</td>\n",
       "                        <td id=\"T_dbf3d462_fef4_11ea_be99_88e9fe4c695erow98_col1\" class=\"data row98 col1\" >34</td>\n",
       "                        <td id=\"T_dbf3d462_fef4_11ea_be99_88e9fe4c695erow98_col2\" class=\"data row98 col2\" >0.340000</td>\n",
       "            </tr>\n",
       "            <tr>\n",
       "                        <th id=\"T_dbf3d462_fef4_11ea_be99_88e9fe4c695elevel0_row99\" class=\"row_heading level0 row99\" >Tajikistan</th>\n",
       "                        <td id=\"T_dbf3d462_fef4_11ea_be99_88e9fe4c695erow99_col0\" class=\"data row99 col0\" >9475</td>\n",
       "                        <td id=\"T_dbf3d462_fef4_11ea_be99_88e9fe4c695erow99_col1\" class=\"data row99 col1\" >74</td>\n",
       "                        <td id=\"T_dbf3d462_fef4_11ea_be99_88e9fe4c695erow99_col2\" class=\"data row99 col2\" >0.780000</td>\n",
       "            </tr>\n",
       "            <tr>\n",
       "                        <th id=\"T_dbf3d462_fef4_11ea_be99_88e9fe4c695elevel0_row100\" class=\"row_heading level0 row100\" >Montenegro</th>\n",
       "                        <td id=\"T_dbf3d462_fef4_11ea_be99_88e9fe4c695erow100_col0\" class=\"data row100 col0\" >9428</td>\n",
       "                        <td id=\"T_dbf3d462_fef4_11ea_be99_88e9fe4c695erow100_col1\" class=\"data row100 col1\" >151</td>\n",
       "                        <td id=\"T_dbf3d462_fef4_11ea_be99_88e9fe4c695erow100_col2\" class=\"data row100 col2\" >1.600000</td>\n",
       "            </tr>\n",
       "            <tr>\n",
       "                        <th id=\"T_dbf3d462_fef4_11ea_be99_88e9fe4c695elevel0_row101\" class=\"row_heading level0 row101\" >Finland</th>\n",
       "                        <td id=\"T_dbf3d462_fef4_11ea_be99_88e9fe4c695erow101_col0\" class=\"data row101 col0\" >9288</td>\n",
       "                        <td id=\"T_dbf3d462_fef4_11ea_be99_88e9fe4c695erow101_col1\" class=\"data row101 col1\" >343</td>\n",
       "                        <td id=\"T_dbf3d462_fef4_11ea_be99_88e9fe4c695erow101_col2\" class=\"data row101 col2\" >3.690000</td>\n",
       "            </tr>\n",
       "            <tr>\n",
       "                        <th id=\"T_dbf3d462_fef4_11ea_be99_88e9fe4c695elevel0_row102\" class=\"row_heading level0 row102\" >Gabon</th>\n",
       "                        <td id=\"T_dbf3d462_fef4_11ea_be99_88e9fe4c695erow102_col0\" class=\"data row102 col0\" >8716</td>\n",
       "                        <td id=\"T_dbf3d462_fef4_11ea_be99_88e9fe4c695erow102_col1\" class=\"data row102 col1\" >54</td>\n",
       "                        <td id=\"T_dbf3d462_fef4_11ea_be99_88e9fe4c695erow102_col2\" class=\"data row102 col2\" >0.620000</td>\n",
       "            </tr>\n",
       "            <tr>\n",
       "                        <th id=\"T_dbf3d462_fef4_11ea_be99_88e9fe4c695elevel0_row103\" class=\"row_heading level0 row103\" >Haiti</th>\n",
       "                        <td id=\"T_dbf3d462_fef4_11ea_be99_88e9fe4c695erow103_col0\" class=\"data row103 col0\" >8646</td>\n",
       "                        <td id=\"T_dbf3d462_fef4_11ea_be99_88e9fe4c695erow103_col1\" class=\"data row103 col1\" >225</td>\n",
       "                        <td id=\"T_dbf3d462_fef4_11ea_be99_88e9fe4c695erow103_col2\" class=\"data row103 col2\" >2.600000</td>\n",
       "            </tr>\n",
       "            <tr>\n",
       "                        <th id=\"T_dbf3d462_fef4_11ea_be99_88e9fe4c695elevel0_row104\" class=\"row_heading level0 row104\" >Luxembourg</th>\n",
       "                        <td id=\"T_dbf3d462_fef4_11ea_be99_88e9fe4c695erow104_col0\" class=\"data row104 col0\" >8090</td>\n",
       "                        <td id=\"T_dbf3d462_fef4_11ea_be99_88e9fe4c695erow104_col1\" class=\"data row104 col1\" >124</td>\n",
       "                        <td id=\"T_dbf3d462_fef4_11ea_be99_88e9fe4c695erow104_col2\" class=\"data row104 col2\" >1.530000</td>\n",
       "            </tr>\n",
       "            <tr>\n",
       "                        <th id=\"T_dbf3d462_fef4_11ea_be99_88e9fe4c695elevel0_row105\" class=\"row_heading level0 row105\" >Myanmar</th>\n",
       "                        <td id=\"T_dbf3d462_fef4_11ea_be99_88e9fe4c695erow105_col0\" class=\"data row105 col0\" >7827</td>\n",
       "                        <td id=\"T_dbf3d462_fef4_11ea_be99_88e9fe4c695erow105_col1\" class=\"data row105 col1\" >133</td>\n",
       "                        <td id=\"T_dbf3d462_fef4_11ea_be99_88e9fe4c695erow105_col2\" class=\"data row105 col2\" >1.700000</td>\n",
       "            </tr>\n",
       "            <tr>\n",
       "                        <th id=\"T_dbf3d462_fef4_11ea_be99_88e9fe4c695elevel0_row106\" class=\"row_heading level0 row106\" >Zimbabwe</th>\n",
       "                        <td id=\"T_dbf3d462_fef4_11ea_be99_88e9fe4c695erow106_col0\" class=\"data row106 col0\" >7725</td>\n",
       "                        <td id=\"T_dbf3d462_fef4_11ea_be99_88e9fe4c695erow106_col1\" class=\"data row106 col1\" >227</td>\n",
       "                        <td id=\"T_dbf3d462_fef4_11ea_be99_88e9fe4c695erow106_col2\" class=\"data row106 col2\" >2.940000</td>\n",
       "            </tr>\n",
       "            <tr>\n",
       "                        <th id=\"T_dbf3d462_fef4_11ea_be99_88e9fe4c695elevel0_row107\" class=\"row_heading level0 row107\" >Mauritania</th>\n",
       "                        <td id=\"T_dbf3d462_fef4_11ea_be99_88e9fe4c695erow107_col0\" class=\"data row107 col0\" >7425</td>\n",
       "                        <td id=\"T_dbf3d462_fef4_11ea_be99_88e9fe4c695erow107_col1\" class=\"data row107 col1\" >161</td>\n",
       "                        <td id=\"T_dbf3d462_fef4_11ea_be99_88e9fe4c695erow107_col2\" class=\"data row107 col2\" >2.170000</td>\n",
       "            </tr>\n",
       "            <tr>\n",
       "                        <th id=\"T_dbf3d462_fef4_11ea_be99_88e9fe4c695elevel0_row108\" class=\"row_heading level0 row108\" >Slovakia</th>\n",
       "                        <td id=\"T_dbf3d462_fef4_11ea_be99_88e9fe4c695erow108_col0\" class=\"data row108 col0\" >7269</td>\n",
       "                        <td id=\"T_dbf3d462_fef4_11ea_be99_88e9fe4c695erow108_col1\" class=\"data row108 col1\" >41</td>\n",
       "                        <td id=\"T_dbf3d462_fef4_11ea_be99_88e9fe4c695erow108_col2\" class=\"data row108 col2\" >0.560000</td>\n",
       "            </tr>\n",
       "            <tr>\n",
       "                        <th id=\"T_dbf3d462_fef4_11ea_be99_88e9fe4c695elevel0_row109\" class=\"row_heading level0 row109\" >Mozambique</th>\n",
       "                        <td id=\"T_dbf3d462_fef4_11ea_be99_88e9fe4c695erow109_col0\" class=\"data row109 col0\" >7262</td>\n",
       "                        <td id=\"T_dbf3d462_fef4_11ea_be99_88e9fe4c695erow109_col1\" class=\"data row109 col1\" >49</td>\n",
       "                        <td id=\"T_dbf3d462_fef4_11ea_be99_88e9fe4c695erow109_col2\" class=\"data row109 col2\" >0.670000</td>\n",
       "            </tr>\n",
       "            <tr>\n",
       "                        <th id=\"T_dbf3d462_fef4_11ea_be99_88e9fe4c695elevel0_row110\" class=\"row_heading level0 row110\" >Uganda</th>\n",
       "                        <td id=\"T_dbf3d462_fef4_11ea_be99_88e9fe4c695erow110_col0\" class=\"data row110 col0\" >6879</td>\n",
       "                        <td id=\"T_dbf3d462_fef4_11ea_be99_88e9fe4c695erow110_col1\" class=\"data row110 col1\" >69</td>\n",
       "                        <td id=\"T_dbf3d462_fef4_11ea_be99_88e9fe4c695erow110_col2\" class=\"data row110 col2\" >1.000000</td>\n",
       "            </tr>\n",
       "            <tr>\n",
       "                        <th id=\"T_dbf3d462_fef4_11ea_be99_88e9fe4c695elevel0_row111\" class=\"row_heading level0 row111\" >Jordan</th>\n",
       "                        <td id=\"T_dbf3d462_fef4_11ea_be99_88e9fe4c695erow111_col0\" class=\"data row111 col0\" >6042</td>\n",
       "                        <td id=\"T_dbf3d462_fef4_11ea_be99_88e9fe4c695erow111_col1\" class=\"data row111 col1\" >35</td>\n",
       "                        <td id=\"T_dbf3d462_fef4_11ea_be99_88e9fe4c695erow111_col2\" class=\"data row111 col2\" >0.580000</td>\n",
       "            </tr>\n",
       "            <tr>\n",
       "                        <th id=\"T_dbf3d462_fef4_11ea_be99_88e9fe4c695elevel0_row112\" class=\"row_heading level0 row112\" >Malawi</th>\n",
       "                        <td id=\"T_dbf3d462_fef4_11ea_be99_88e9fe4c695erow112_col0\" class=\"data row112 col0\" >5746</td>\n",
       "                        <td id=\"T_dbf3d462_fef4_11ea_be99_88e9fe4c695erow112_col1\" class=\"data row112 col1\" >179</td>\n",
       "                        <td id=\"T_dbf3d462_fef4_11ea_be99_88e9fe4c695erow112_col2\" class=\"data row112 col2\" >3.120000</td>\n",
       "            </tr>\n",
       "            <tr>\n",
       "                        <th id=\"T_dbf3d462_fef4_11ea_be99_88e9fe4c695elevel0_row113\" class=\"row_heading level0 row113\" >Cape_Verde</th>\n",
       "                        <td id=\"T_dbf3d462_fef4_11ea_be99_88e9fe4c695erow113_col0\" class=\"data row113 col0\" >5412</td>\n",
       "                        <td id=\"T_dbf3d462_fef4_11ea_be99_88e9fe4c695erow113_col1\" class=\"data row113 col1\" >54</td>\n",
       "                        <td id=\"T_dbf3d462_fef4_11ea_be99_88e9fe4c695erow113_col2\" class=\"data row113 col2\" >1.000000</td>\n",
       "            </tr>\n",
       "            <tr>\n",
       "                        <th id=\"T_dbf3d462_fef4_11ea_be99_88e9fe4c695elevel0_row114\" class=\"row_heading level0 row114\" >Djibouti</th>\n",
       "                        <td id=\"T_dbf3d462_fef4_11ea_be99_88e9fe4c695erow114_col0\" class=\"data row114 col0\" >5407</td>\n",
       "                        <td id=\"T_dbf3d462_fef4_11ea_be99_88e9fe4c695erow114_col1\" class=\"data row114 col1\" >61</td>\n",
       "                        <td id=\"T_dbf3d462_fef4_11ea_be99_88e9fe4c695erow114_col2\" class=\"data row114 col2\" >1.130000</td>\n",
       "            </tr>\n",
       "            <tr>\n",
       "                        <th id=\"T_dbf3d462_fef4_11ea_be99_88e9fe4c695elevel0_row115\" class=\"row_heading level0 row115\" >Jamaica</th>\n",
       "                        <td id=\"T_dbf3d462_fef4_11ea_be99_88e9fe4c695erow115_col0\" class=\"data row115 col0\" >5373</td>\n",
       "                        <td id=\"T_dbf3d462_fef4_11ea_be99_88e9fe4c695erow115_col1\" class=\"data row115 col1\" >76</td>\n",
       "                        <td id=\"T_dbf3d462_fef4_11ea_be99_88e9fe4c695erow115_col2\" class=\"data row115 col2\" >1.410000</td>\n",
       "            </tr>\n",
       "            <tr>\n",
       "                        <th id=\"T_dbf3d462_fef4_11ea_be99_88e9fe4c695elevel0_row116\" class=\"row_heading level0 row116\" >Eswatini</th>\n",
       "                        <td id=\"T_dbf3d462_fef4_11ea_be99_88e9fe4c695erow116_col0\" class=\"data row116 col0\" >5343</td>\n",
       "                        <td id=\"T_dbf3d462_fef4_11ea_be99_88e9fe4c695erow116_col1\" class=\"data row116 col1\" >108</td>\n",
       "                        <td id=\"T_dbf3d462_fef4_11ea_be99_88e9fe4c695erow116_col2\" class=\"data row116 col2\" >2.020000</td>\n",
       "            </tr>\n",
       "            <tr>\n",
       "                        <th id=\"T_dbf3d462_fef4_11ea_be99_88e9fe4c695elevel0_row117\" class=\"row_heading level0 row117\" >Cuba</th>\n",
       "                        <td id=\"T_dbf3d462_fef4_11ea_be99_88e9fe4c695erow117_col0\" class=\"data row117 col0\" >5270</td>\n",
       "                        <td id=\"T_dbf3d462_fef4_11ea_be99_88e9fe4c695erow117_col1\" class=\"data row117 col1\" >118</td>\n",
       "                        <td id=\"T_dbf3d462_fef4_11ea_be99_88e9fe4c695erow117_col2\" class=\"data row117 col2\" >2.240000</td>\n",
       "            </tr>\n",
       "            <tr>\n",
       "                        <th id=\"T_dbf3d462_fef4_11ea_be99_88e9fe4c695elevel0_row118\" class=\"row_heading level0 row118\" >Nicaragua</th>\n",
       "                        <td id=\"T_dbf3d462_fef4_11ea_be99_88e9fe4c695erow118_col0\" class=\"data row118 col0\" >5086</td>\n",
       "                        <td id=\"T_dbf3d462_fef4_11ea_be99_88e9fe4c695erow118_col1\" class=\"data row118 col1\" >149</td>\n",
       "                        <td id=\"T_dbf3d462_fef4_11ea_be99_88e9fe4c695erow118_col2\" class=\"data row118 col2\" >2.930000</td>\n",
       "            </tr>\n",
       "            <tr>\n",
       "                        <th id=\"T_dbf3d462_fef4_11ea_be99_88e9fe4c695elevel0_row119\" class=\"row_heading level0 row119\" >Equatorial_Guinea</th>\n",
       "                        <td id=\"T_dbf3d462_fef4_11ea_be99_88e9fe4c695erow119_col0\" class=\"data row119 col0\" >5018</td>\n",
       "                        <td id=\"T_dbf3d462_fef4_11ea_be99_88e9fe4c695erow119_col1\" class=\"data row119 col1\" >83</td>\n",
       "                        <td id=\"T_dbf3d462_fef4_11ea_be99_88e9fe4c695erow119_col2\" class=\"data row119 col2\" >1.650000</td>\n",
       "            </tr>\n",
       "            <tr>\n",
       "                        <th id=\"T_dbf3d462_fef4_11ea_be99_88e9fe4c695elevel0_row120\" class=\"row_heading level0 row120\" >Congo</th>\n",
       "                        <td id=\"T_dbf3d462_fef4_11ea_be99_88e9fe4c695erow120_col0\" class=\"data row120 col0\" >5005</td>\n",
       "                        <td id=\"T_dbf3d462_fef4_11ea_be99_88e9fe4c695erow120_col1\" class=\"data row120 col1\" >89</td>\n",
       "                        <td id=\"T_dbf3d462_fef4_11ea_be99_88e9fe4c695erow120_col2\" class=\"data row120 col2\" >1.780000</td>\n",
       "            </tr>\n",
       "            <tr>\n",
       "                        <th id=\"T_dbf3d462_fef4_11ea_be99_88e9fe4c695elevel0_row121\" class=\"row_heading level0 row121\" >Central_African_Republic</th>\n",
       "                        <td id=\"T_dbf3d462_fef4_11ea_be99_88e9fe4c695erow121_col0\" class=\"data row121 col0\" >4802</td>\n",
       "                        <td id=\"T_dbf3d462_fef4_11ea_be99_88e9fe4c695erow121_col1\" class=\"data row121 col1\" >62</td>\n",
       "                        <td id=\"T_dbf3d462_fef4_11ea_be99_88e9fe4c695erow121_col2\" class=\"data row121 col2\" >1.290000</td>\n",
       "            </tr>\n",
       "            <tr>\n",
       "                        <th id=\"T_dbf3d462_fef4_11ea_be99_88e9fe4c695elevel0_row122\" class=\"row_heading level0 row122\" >Suriname</th>\n",
       "                        <td id=\"T_dbf3d462_fef4_11ea_be99_88e9fe4c695erow122_col0\" class=\"data row122 col0\" >4779</td>\n",
       "                        <td id=\"T_dbf3d462_fef4_11ea_be99_88e9fe4c695erow122_col1\" class=\"data row122 col1\" >101</td>\n",
       "                        <td id=\"T_dbf3d462_fef4_11ea_be99_88e9fe4c695erow122_col2\" class=\"data row122 col2\" >2.110000</td>\n",
       "            </tr>\n",
       "            <tr>\n",
       "                        <th id=\"T_dbf3d462_fef4_11ea_be99_88e9fe4c695elevel0_row123\" class=\"row_heading level0 row123\" >Rwanda</th>\n",
       "                        <td id=\"T_dbf3d462_fef4_11ea_be99_88e9fe4c695erow123_col0\" class=\"data row123 col0\" >4779</td>\n",
       "                        <td id=\"T_dbf3d462_fef4_11ea_be99_88e9fe4c695erow123_col1\" class=\"data row123 col1\" >27</td>\n",
       "                        <td id=\"T_dbf3d462_fef4_11ea_be99_88e9fe4c695erow123_col2\" class=\"data row123 col2\" >0.560000</td>\n",
       "            </tr>\n",
       "            <tr>\n",
       "                        <th id=\"T_dbf3d462_fef4_11ea_be99_88e9fe4c695elevel0_row124\" class=\"row_heading level0 row124\" >Slovenia</th>\n",
       "                        <td id=\"T_dbf3d462_fef4_11ea_be99_88e9fe4c695erow124_col0\" class=\"data row124 col0\" >4694</td>\n",
       "                        <td id=\"T_dbf3d462_fef4_11ea_be99_88e9fe4c695erow124_col1\" class=\"data row124 col1\" >133</td>\n",
       "                        <td id=\"T_dbf3d462_fef4_11ea_be99_88e9fe4c695erow124_col2\" class=\"data row124 col2\" >2.830000</td>\n",
       "            </tr>\n",
       "            <tr>\n",
       "                        <th id=\"T_dbf3d462_fef4_11ea_be99_88e9fe4c695elevel0_row125\" class=\"row_heading level0 row125\" >Georgia</th>\n",
       "                        <td id=\"T_dbf3d462_fef4_11ea_be99_88e9fe4c695erow125_col0\" class=\"data row125 col0\" >4399</td>\n",
       "                        <td id=\"T_dbf3d462_fef4_11ea_be99_88e9fe4c695erow125_col1\" class=\"data row125 col1\" >25</td>\n",
       "                        <td id=\"T_dbf3d462_fef4_11ea_be99_88e9fe4c695erow125_col2\" class=\"data row125 col2\" >0.570000</td>\n",
       "            </tr>\n",
       "            <tr>\n",
       "                        <th id=\"T_dbf3d462_fef4_11ea_be99_88e9fe4c695elevel0_row126\" class=\"row_heading level0 row126\" >Angola</th>\n",
       "                        <td id=\"T_dbf3d462_fef4_11ea_be99_88e9fe4c695erow126_col0\" class=\"data row126 col0\" >4236</td>\n",
       "                        <td id=\"T_dbf3d462_fef4_11ea_be99_88e9fe4c695erow126_col1\" class=\"data row126 col1\" >155</td>\n",
       "                        <td id=\"T_dbf3d462_fef4_11ea_be99_88e9fe4c695erow126_col2\" class=\"data row126 col2\" >3.660000</td>\n",
       "            </tr>\n",
       "            <tr>\n",
       "                        <th id=\"T_dbf3d462_fef4_11ea_be99_88e9fe4c695elevel0_row127\" class=\"row_heading level0 row127\" >Trinidad_and_Tobago</th>\n",
       "                        <td id=\"T_dbf3d462_fef4_11ea_be99_88e9fe4c695erow127_col0\" class=\"data row127 col0\" >4136</td>\n",
       "                        <td id=\"T_dbf3d462_fef4_11ea_be99_88e9fe4c695erow127_col1\" class=\"data row127 col1\" >67</td>\n",
       "                        <td id=\"T_dbf3d462_fef4_11ea_be99_88e9fe4c695erow127_col2\" class=\"data row127 col2\" >1.620000</td>\n",
       "            </tr>\n",
       "            <tr>\n",
       "                        <th id=\"T_dbf3d462_fef4_11ea_be99_88e9fe4c695elevel0_row128\" class=\"row_heading level0 row128\" >Lithuania</th>\n",
       "                        <td id=\"T_dbf3d462_fef4_11ea_be99_88e9fe4c695erow128_col0\" class=\"data row128 col0\" >3932</td>\n",
       "                        <td id=\"T_dbf3d462_fef4_11ea_be99_88e9fe4c695erow128_col1\" class=\"data row128 col1\" >87</td>\n",
       "                        <td id=\"T_dbf3d462_fef4_11ea_be99_88e9fe4c695erow128_col2\" class=\"data row128 col2\" >2.210000</td>\n",
       "            </tr>\n",
       "            <tr>\n",
       "                        <th id=\"T_dbf3d462_fef4_11ea_be99_88e9fe4c695elevel0_row129\" class=\"row_heading level0 row129\" >Syria</th>\n",
       "                        <td id=\"T_dbf3d462_fef4_11ea_be99_88e9fe4c695erow129_col0\" class=\"data row129 col0\" >3924</td>\n",
       "                        <td id=\"T_dbf3d462_fef4_11ea_be99_88e9fe4c695erow129_col1\" class=\"data row129 col1\" >181</td>\n",
       "                        <td id=\"T_dbf3d462_fef4_11ea_be99_88e9fe4c695erow129_col2\" class=\"data row129 col2\" >4.610000</td>\n",
       "            </tr>\n",
       "            <tr>\n",
       "                        <th id=\"T_dbf3d462_fef4_11ea_be99_88e9fe4c695elevel0_row130\" class=\"row_heading level0 row130\" >Aruba</th>\n",
       "                        <td id=\"T_dbf3d462_fef4_11ea_be99_88e9fe4c695erow130_col0\" class=\"data row130 col0\" >3721</td>\n",
       "                        <td id=\"T_dbf3d462_fef4_11ea_be99_88e9fe4c695erow130_col1\" class=\"data row130 col1\" >25</td>\n",
       "                        <td id=\"T_dbf3d462_fef4_11ea_be99_88e9fe4c695erow130_col2\" class=\"data row130 col2\" >0.670000</td>\n",
       "            </tr>\n",
       "            <tr>\n",
       "                        <th id=\"T_dbf3d462_fef4_11ea_be99_88e9fe4c695elevel0_row131\" class=\"row_heading level0 row131\" >Bahamas</th>\n",
       "                        <td id=\"T_dbf3d462_fef4_11ea_be99_88e9fe4c695erow131_col0\" class=\"data row131 col0\" >3618</td>\n",
       "                        <td id=\"T_dbf3d462_fef4_11ea_be99_88e9fe4c695erow131_col1\" class=\"data row131 col1\" >80</td>\n",
       "                        <td id=\"T_dbf3d462_fef4_11ea_be99_88e9fe4c695erow131_col2\" class=\"data row131 col2\" >2.210000</td>\n",
       "            </tr>\n",
       "            <tr>\n",
       "                        <th id=\"T_dbf3d462_fef4_11ea_be99_88e9fe4c695elevel0_row132\" class=\"row_heading level0 row132\" >Gambia</th>\n",
       "                        <td id=\"T_dbf3d462_fef4_11ea_be99_88e9fe4c695erow132_col0\" class=\"data row132 col0\" >3542</td>\n",
       "                        <td id=\"T_dbf3d462_fef4_11ea_be99_88e9fe4c695erow132_col1\" class=\"data row132 col1\" >110</td>\n",
       "                        <td id=\"T_dbf3d462_fef4_11ea_be99_88e9fe4c695erow132_col2\" class=\"data row132 col2\" >3.110000</td>\n",
       "            </tr>\n",
       "            <tr>\n",
       "                        <th id=\"T_dbf3d462_fef4_11ea_be99_88e9fe4c695elevel0_row133\" class=\"row_heading level0 row133\" >Thailand</th>\n",
       "                        <td id=\"T_dbf3d462_fef4_11ea_be99_88e9fe4c695erow133_col0\" class=\"data row133 col0\" >3516</td>\n",
       "                        <td id=\"T_dbf3d462_fef4_11ea_be99_88e9fe4c695erow133_col1\" class=\"data row133 col1\" >59</td>\n",
       "                        <td id=\"T_dbf3d462_fef4_11ea_be99_88e9fe4c695erow133_col2\" class=\"data row133 col2\" >1.680000</td>\n",
       "            </tr>\n",
       "            <tr>\n",
       "                        <th id=\"T_dbf3d462_fef4_11ea_be99_88e9fe4c695elevel0_row134\" class=\"row_heading level0 row134\" >Somalia</th>\n",
       "                        <td id=\"T_dbf3d462_fef4_11ea_be99_88e9fe4c695erow134_col0\" class=\"data row134 col0\" >3465</td>\n",
       "                        <td id=\"T_dbf3d462_fef4_11ea_be99_88e9fe4c695erow134_col1\" class=\"data row134 col1\" >98</td>\n",
       "                        <td id=\"T_dbf3d462_fef4_11ea_be99_88e9fe4c695erow134_col2\" class=\"data row134 col2\" >2.830000</td>\n",
       "            </tr>\n",
       "            <tr>\n",
       "                        <th id=\"T_dbf3d462_fef4_11ea_be99_88e9fe4c695elevel0_row135\" class=\"row_heading level0 row135\" >Sri_Lanka</th>\n",
       "                        <td id=\"T_dbf3d462_fef4_11ea_be99_88e9fe4c695erow135_col0\" class=\"data row135 col0\" >3324</td>\n",
       "                        <td id=\"T_dbf3d462_fef4_11ea_be99_88e9fe4c695erow135_col1\" class=\"data row135 col1\" >13</td>\n",
       "                        <td id=\"T_dbf3d462_fef4_11ea_be99_88e9fe4c695erow135_col2\" class=\"data row135 col2\" >0.390000</td>\n",
       "            </tr>\n",
       "            <tr>\n",
       "                        <th id=\"T_dbf3d462_fef4_11ea_be99_88e9fe4c695elevel0_row136\" class=\"row_heading level0 row136\" >Mali</th>\n",
       "                        <td id=\"T_dbf3d462_fef4_11ea_be99_88e9fe4c695erow136_col0\" class=\"data row136 col0\" >3034</td>\n",
       "                        <td id=\"T_dbf3d462_fef4_11ea_be99_88e9fe4c695erow136_col1\" class=\"data row136 col1\" >130</td>\n",
       "                        <td id=\"T_dbf3d462_fef4_11ea_be99_88e9fe4c695erow136_col2\" class=\"data row136 col2\" >4.280000</td>\n",
       "            </tr>\n",
       "            <tr>\n",
       "                        <th id=\"T_dbf3d462_fef4_11ea_be99_88e9fe4c695elevel0_row137\" class=\"row_heading level0 row137\" >Estonia</th>\n",
       "                        <td id=\"T_dbf3d462_fef4_11ea_be99_88e9fe4c695erow137_col0\" class=\"data row137 col0\" >3033</td>\n",
       "                        <td id=\"T_dbf3d462_fef4_11ea_be99_88e9fe4c695erow137_col1\" class=\"data row137 col1\" >64</td>\n",
       "                        <td id=\"T_dbf3d462_fef4_11ea_be99_88e9fe4c695erow137_col2\" class=\"data row137 col2\" >2.110000</td>\n",
       "            </tr>\n",
       "            <tr>\n",
       "                        <th id=\"T_dbf3d462_fef4_11ea_be99_88e9fe4c695elevel0_row138\" class=\"row_heading level0 row138\" >Malta</th>\n",
       "                        <td id=\"T_dbf3d462_fef4_11ea_be99_88e9fe4c695erow138_col0\" class=\"data row138 col0\" >2857</td>\n",
       "                        <td id=\"T_dbf3d462_fef4_11ea_be99_88e9fe4c695erow138_col1\" class=\"data row138 col1\" >25</td>\n",
       "                        <td id=\"T_dbf3d462_fef4_11ea_be99_88e9fe4c695erow138_col2\" class=\"data row138 col2\" >0.880000</td>\n",
       "            </tr>\n",
       "            <tr>\n",
       "                        <th id=\"T_dbf3d462_fef4_11ea_be99_88e9fe4c695elevel0_row139\" class=\"row_heading level0 row139\" >South_Sudan</th>\n",
       "                        <td id=\"T_dbf3d462_fef4_11ea_be99_88e9fe4c695erow139_col0\" class=\"data row139 col0\" >2660</td>\n",
       "                        <td id=\"T_dbf3d462_fef4_11ea_be99_88e9fe4c695erow139_col1\" class=\"data row139 col1\" >49</td>\n",
       "                        <td id=\"T_dbf3d462_fef4_11ea_be99_88e9fe4c695erow139_col2\" class=\"data row139 col2\" >1.840000</td>\n",
       "            </tr>\n",
       "            <tr>\n",
       "                        <th id=\"T_dbf3d462_fef4_11ea_be99_88e9fe4c695elevel0_row140\" class=\"row_heading level0 row140\" >Botswana</th>\n",
       "                        <td id=\"T_dbf3d462_fef4_11ea_be99_88e9fe4c695erow140_col0\" class=\"data row140 col0\" >2567</td>\n",
       "                        <td id=\"T_dbf3d462_fef4_11ea_be99_88e9fe4c695erow140_col1\" class=\"data row140 col1\" >13</td>\n",
       "                        <td id=\"T_dbf3d462_fef4_11ea_be99_88e9fe4c695erow140_col2\" class=\"data row140 col2\" >0.510000</td>\n",
       "            </tr>\n",
       "            <tr>\n",
       "                        <th id=\"T_dbf3d462_fef4_11ea_be99_88e9fe4c695elevel0_row141\" class=\"row_heading level0 row141\" >Guyana</th>\n",
       "                        <td id=\"T_dbf3d462_fef4_11ea_be99_88e9fe4c695erow141_col0\" class=\"data row141 col0\" >2535</td>\n",
       "                        <td id=\"T_dbf3d462_fef4_11ea_be99_88e9fe4c695erow141_col1\" class=\"data row141 col1\" >69</td>\n",
       "                        <td id=\"T_dbf3d462_fef4_11ea_be99_88e9fe4c695erow141_col2\" class=\"data row141 col2\" >2.720000</td>\n",
       "            </tr>\n",
       "            <tr>\n",
       "                        <th id=\"T_dbf3d462_fef4_11ea_be99_88e9fe4c695elevel0_row142\" class=\"row_heading level0 row142\" >Iceland</th>\n",
       "                        <td id=\"T_dbf3d462_fef4_11ea_be99_88e9fe4c695erow142_col0\" class=\"data row142 col0\" >2476</td>\n",
       "                        <td id=\"T_dbf3d462_fef4_11ea_be99_88e9fe4c695erow142_col1\" class=\"data row142 col1\" >10</td>\n",
       "                        <td id=\"T_dbf3d462_fef4_11ea_be99_88e9fe4c695erow142_col2\" class=\"data row142 col2\" >0.400000</td>\n",
       "            </tr>\n",
       "            <tr>\n",
       "                        <th id=\"T_dbf3d462_fef4_11ea_be99_88e9fe4c695elevel0_row143\" class=\"row_heading level0 row143\" >Benin</th>\n",
       "                        <td id=\"T_dbf3d462_fef4_11ea_be99_88e9fe4c695erow143_col0\" class=\"data row143 col0\" >2325</td>\n",
       "                        <td id=\"T_dbf3d462_fef4_11ea_be99_88e9fe4c695erow143_col1\" class=\"data row143 col1\" >40</td>\n",
       "                        <td id=\"T_dbf3d462_fef4_11ea_be99_88e9fe4c695erow143_col2\" class=\"data row143 col2\" >1.720000</td>\n",
       "            </tr>\n",
       "            <tr>\n",
       "                        <th id=\"T_dbf3d462_fef4_11ea_be99_88e9fe4c695elevel0_row144\" class=\"row_heading level0 row144\" >Guinea_Bissau</th>\n",
       "                        <td id=\"T_dbf3d462_fef4_11ea_be99_88e9fe4c695erow144_col0\" class=\"data row144 col0\" >2303</td>\n",
       "                        <td id=\"T_dbf3d462_fef4_11ea_be99_88e9fe4c695erow144_col1\" class=\"data row144 col1\" >39</td>\n",
       "                        <td id=\"T_dbf3d462_fef4_11ea_be99_88e9fe4c695erow144_col2\" class=\"data row144 col2\" >1.690000</td>\n",
       "            </tr>\n",
       "            <tr>\n",
       "                        <th id=\"T_dbf3d462_fef4_11ea_be99_88e9fe4c695elevel0_row145\" class=\"row_heading level0 row145\" >Guam</th>\n",
       "                        <td id=\"T_dbf3d462_fef4_11ea_be99_88e9fe4c695erow145_col0\" class=\"data row145 col0\" >2235</td>\n",
       "                        <td id=\"T_dbf3d462_fef4_11ea_be99_88e9fe4c695erow145_col1\" class=\"data row145 col1\" >38</td>\n",
       "                        <td id=\"T_dbf3d462_fef4_11ea_be99_88e9fe4c695erow145_col2\" class=\"data row145 col2\" >1.700000</td>\n",
       "            </tr>\n",
       "            <tr>\n",
       "                        <th id=\"T_dbf3d462_fef4_11ea_be99_88e9fe4c695elevel0_row146\" class=\"row_heading level0 row146\" >Sierra_Leone</th>\n",
       "                        <td id=\"T_dbf3d462_fef4_11ea_be99_88e9fe4c695erow146_col0\" class=\"data row146 col0\" >2183</td>\n",
       "                        <td id=\"T_dbf3d462_fef4_11ea_be99_88e9fe4c695erow146_col1\" class=\"data row146 col1\" >72</td>\n",
       "                        <td id=\"T_dbf3d462_fef4_11ea_be99_88e9fe4c695erow146_col2\" class=\"data row146 col2\" >3.300000</td>\n",
       "            </tr>\n",
       "            <tr>\n",
       "                        <th id=\"T_dbf3d462_fef4_11ea_be99_88e9fe4c695elevel0_row147\" class=\"row_heading level0 row147\" >Yemen</th>\n",
       "                        <td id=\"T_dbf3d462_fef4_11ea_be99_88e9fe4c695erow147_col0\" class=\"data row147 col0\" >2032</td>\n",
       "                        <td id=\"T_dbf3d462_fef4_11ea_be99_88e9fe4c695erow147_col1\" class=\"data row147 col1\" >587</td>\n",
       "                        <td id=\"T_dbf3d462_fef4_11ea_be99_88e9fe4c695erow147_col2\" class=\"data row147 col2\" >28.890000</td>\n",
       "            </tr>\n",
       "            <tr>\n",
       "                        <th id=\"T_dbf3d462_fef4_11ea_be99_88e9fe4c695elevel0_row148\" class=\"row_heading level0 row148\" >Uruguay</th>\n",
       "                        <td id=\"T_dbf3d462_fef4_11ea_be99_88e9fe4c695erow148_col0\" class=\"data row148 col0\" >1946</td>\n",
       "                        <td id=\"T_dbf3d462_fef4_11ea_be99_88e9fe4c695erow148_col1\" class=\"data row148 col1\" >47</td>\n",
       "                        <td id=\"T_dbf3d462_fef4_11ea_be99_88e9fe4c695erow148_col2\" class=\"data row148 col2\" >2.420000</td>\n",
       "            </tr>\n",
       "            <tr>\n",
       "                        <th id=\"T_dbf3d462_fef4_11ea_be99_88e9fe4c695elevel0_row149\" class=\"row_heading level0 row149\" >Burkina_Faso</th>\n",
       "                        <td id=\"T_dbf3d462_fef4_11ea_be99_88e9fe4c695erow149_col0\" class=\"data row149 col0\" >1929</td>\n",
       "                        <td id=\"T_dbf3d462_fef4_11ea_be99_88e9fe4c695erow149_col1\" class=\"data row149 col1\" >56</td>\n",
       "                        <td id=\"T_dbf3d462_fef4_11ea_be99_88e9fe4c695erow149_col2\" class=\"data row149 col2\" >2.900000</td>\n",
       "            </tr>\n",
       "            <tr>\n",
       "                        <th id=\"T_dbf3d462_fef4_11ea_be99_88e9fe4c695elevel0_row150\" class=\"row_heading level0 row150\" >Andorra</th>\n",
       "                        <td id=\"T_dbf3d462_fef4_11ea_be99_88e9fe4c695erow150_col0\" class=\"data row150 col0\" >1753</td>\n",
       "                        <td id=\"T_dbf3d462_fef4_11ea_be99_88e9fe4c695erow150_col1\" class=\"data row150 col1\" >53</td>\n",
       "                        <td id=\"T_dbf3d462_fef4_11ea_be99_88e9fe4c695erow150_col2\" class=\"data row150 col2\" >3.020000</td>\n",
       "            </tr>\n",
       "            <tr>\n",
       "                        <th id=\"T_dbf3d462_fef4_11ea_be99_88e9fe4c695elevel0_row151\" class=\"row_heading level0 row151\" >Belize</th>\n",
       "                        <td id=\"T_dbf3d462_fef4_11ea_be99_88e9fe4c695erow151_col0\" class=\"data row151 col0\" >1706</td>\n",
       "                        <td id=\"T_dbf3d462_fef4_11ea_be99_88e9fe4c695erow151_col1\" class=\"data row151 col1\" >22</td>\n",
       "                        <td id=\"T_dbf3d462_fef4_11ea_be99_88e9fe4c695erow151_col2\" class=\"data row151 col2\" >1.290000</td>\n",
       "            </tr>\n",
       "            <tr>\n",
       "                        <th id=\"T_dbf3d462_fef4_11ea_be99_88e9fe4c695elevel0_row152\" class=\"row_heading level0 row152\" >Togo</th>\n",
       "                        <td id=\"T_dbf3d462_fef4_11ea_be99_88e9fe4c695erow152_col0\" class=\"data row152 col0\" >1701</td>\n",
       "                        <td id=\"T_dbf3d462_fef4_11ea_be99_88e9fe4c695erow152_col1\" class=\"data row152 col1\" >41</td>\n",
       "                        <td id=\"T_dbf3d462_fef4_11ea_be99_88e9fe4c695erow152_col2\" class=\"data row152 col2\" >2.410000</td>\n",
       "            </tr>\n",
       "            <tr>\n",
       "                        <th id=\"T_dbf3d462_fef4_11ea_be99_88e9fe4c695elevel0_row153\" class=\"row_heading level0 row153\" >Cyprus</th>\n",
       "                        <td id=\"T_dbf3d462_fef4_11ea_be99_88e9fe4c695erow153_col0\" class=\"data row153 col0\" >1654</td>\n",
       "                        <td id=\"T_dbf3d462_fef4_11ea_be99_88e9fe4c695erow153_col1\" class=\"data row153 col1\" >22</td>\n",
       "                        <td id=\"T_dbf3d462_fef4_11ea_be99_88e9fe4c695erow153_col2\" class=\"data row153 col2\" >1.330000</td>\n",
       "            </tr>\n",
       "            <tr>\n",
       "                        <th id=\"T_dbf3d462_fef4_11ea_be99_88e9fe4c695elevel0_row154\" class=\"row_heading level0 row154\" >Latvia</th>\n",
       "                        <td id=\"T_dbf3d462_fef4_11ea_be99_88e9fe4c695erow154_col0\" class=\"data row154 col0\" >1572</td>\n",
       "                        <td id=\"T_dbf3d462_fef4_11ea_be99_88e9fe4c695erow154_col1\" class=\"data row154 col1\" >36</td>\n",
       "                        <td id=\"T_dbf3d462_fef4_11ea_be99_88e9fe4c695erow154_col2\" class=\"data row154 col2\" >2.290000</td>\n",
       "            </tr>\n",
       "            <tr>\n",
       "                        <th id=\"T_dbf3d462_fef4_11ea_be99_88e9fe4c695elevel0_row155\" class=\"row_heading level0 row155\" >New_Zealand</th>\n",
       "                        <td id=\"T_dbf3d462_fef4_11ea_be99_88e9fe4c695erow155_col0\" class=\"data row155 col0\" >1471</td>\n",
       "                        <td id=\"T_dbf3d462_fef4_11ea_be99_88e9fe4c695erow155_col1\" class=\"data row155 col1\" >25</td>\n",
       "                        <td id=\"T_dbf3d462_fef4_11ea_be99_88e9fe4c695erow155_col2\" class=\"data row155 col2\" >1.700000</td>\n",
       "            </tr>\n",
       "            <tr>\n",
       "                        <th id=\"T_dbf3d462_fef4_11ea_be99_88e9fe4c695elevel0_row156\" class=\"row_heading level0 row156\" >Lesotho</th>\n",
       "                        <td id=\"T_dbf3d462_fef4_11ea_be99_88e9fe4c695erow156_col0\" class=\"data row156 col0\" >1424</td>\n",
       "                        <td id=\"T_dbf3d462_fef4_11ea_be99_88e9fe4c695erow156_col1\" class=\"data row156 col1\" >33</td>\n",
       "                        <td id=\"T_dbf3d462_fef4_11ea_be99_88e9fe4c695erow156_col2\" class=\"data row156 col2\" >2.320000</td>\n",
       "            </tr>\n",
       "            <tr>\n",
       "                        <th id=\"T_dbf3d462_fef4_11ea_be99_88e9fe4c695elevel0_row157\" class=\"row_heading level0 row157\" >Liberia</th>\n",
       "                        <td id=\"T_dbf3d462_fef4_11ea_be99_88e9fe4c695erow157_col0\" class=\"data row157 col0\" >1337</td>\n",
       "                        <td id=\"T_dbf3d462_fef4_11ea_be99_88e9fe4c695erow157_col1\" class=\"data row157 col1\" >82</td>\n",
       "                        <td id=\"T_dbf3d462_fef4_11ea_be99_88e9fe4c695erow157_col2\" class=\"data row157 col2\" >6.130000</td>\n",
       "            </tr>\n",
       "            <tr>\n",
       "                        <th id=\"T_dbf3d462_fef4_11ea_be99_88e9fe4c695elevel0_row158\" class=\"row_heading level0 row158\" >French_Polynesia</th>\n",
       "                        <td id=\"T_dbf3d462_fef4_11ea_be99_88e9fe4c695erow158_col0\" class=\"data row158 col0\" >1332</td>\n",
       "                        <td id=\"T_dbf3d462_fef4_11ea_be99_88e9fe4c695erow158_col1\" class=\"data row158 col1\" >5</td>\n",
       "                        <td id=\"T_dbf3d462_fef4_11ea_be99_88e9fe4c695erow158_col2\" class=\"data row158 col2\" >0.380000</td>\n",
       "            </tr>\n",
       "            <tr>\n",
       "                        <th id=\"T_dbf3d462_fef4_11ea_be99_88e9fe4c695elevel0_row159\" class=\"row_heading level0 row159\" >United_States_Virgin_Islands</th>\n",
       "                        <td id=\"T_dbf3d462_fef4_11ea_be99_88e9fe4c695erow159_col0\" class=\"data row159 col0\" >1290</td>\n",
       "                        <td id=\"T_dbf3d462_fef4_11ea_be99_88e9fe4c695erow159_col1\" class=\"data row159 col1\" >19</td>\n",
       "                        <td id=\"T_dbf3d462_fef4_11ea_be99_88e9fe4c695erow159_col2\" class=\"data row159 col2\" >1.470000</td>\n",
       "            </tr>\n",
       "            <tr>\n",
       "                        <th id=\"T_dbf3d462_fef4_11ea_be99_88e9fe4c695elevel0_row160\" class=\"row_heading level0 row160\" >Niger</th>\n",
       "                        <td id=\"T_dbf3d462_fef4_11ea_be99_88e9fe4c695erow160_col0\" class=\"data row160 col0\" >1193</td>\n",
       "                        <td id=\"T_dbf3d462_fef4_11ea_be99_88e9fe4c695erow160_col1\" class=\"data row160 col1\" >69</td>\n",
       "                        <td id=\"T_dbf3d462_fef4_11ea_be99_88e9fe4c695erow160_col2\" class=\"data row160 col2\" >5.780000</td>\n",
       "            </tr>\n",
       "            <tr>\n",
       "                        <th id=\"T_dbf3d462_fef4_11ea_be99_88e9fe4c695elevel0_row161\" class=\"row_heading level0 row161\" >Chad</th>\n",
       "                        <td id=\"T_dbf3d462_fef4_11ea_be99_88e9fe4c695erow161_col0\" class=\"data row161 col0\" >1164</td>\n",
       "                        <td id=\"T_dbf3d462_fef4_11ea_be99_88e9fe4c695erow161_col1\" class=\"data row161 col1\" >82</td>\n",
       "                        <td id=\"T_dbf3d462_fef4_11ea_be99_88e9fe4c695erow161_col2\" class=\"data row161 col2\" >7.040000</td>\n",
       "            </tr>\n",
       "            <tr>\n",
       "                        <th id=\"T_dbf3d462_fef4_11ea_be99_88e9fe4c695elevel0_row162\" class=\"row_heading level0 row162\" >Vietnam</th>\n",
       "                        <td id=\"T_dbf3d462_fef4_11ea_be99_88e9fe4c695erow162_col0\" class=\"data row162 col0\" >1069</td>\n",
       "                        <td id=\"T_dbf3d462_fef4_11ea_be99_88e9fe4c695erow162_col1\" class=\"data row162 col1\" >35</td>\n",
       "                        <td id=\"T_dbf3d462_fef4_11ea_be99_88e9fe4c695erow162_col2\" class=\"data row162 col2\" >3.270000</td>\n",
       "            </tr>\n",
       "            <tr>\n",
       "                        <th id=\"T_dbf3d462_fef4_11ea_be99_88e9fe4c695elevel0_row163\" class=\"row_heading level0 row163\" >Sao_Tome_and_Principe</th>\n",
       "                        <td id=\"T_dbf3d462_fef4_11ea_be99_88e9fe4c695erow163_col0\" class=\"data row163 col0\" >908</td>\n",
       "                        <td id=\"T_dbf3d462_fef4_11ea_be99_88e9fe4c695erow163_col1\" class=\"data row163 col1\" >15</td>\n",
       "                        <td id=\"T_dbf3d462_fef4_11ea_be99_88e9fe4c695erow163_col2\" class=\"data row163 col2\" >1.650000</td>\n",
       "            </tr>\n",
       "            <tr>\n",
       "                        <th id=\"T_dbf3d462_fef4_11ea_be99_88e9fe4c695elevel0_row164\" class=\"row_heading level0 row164\" >Western_Sahara</th>\n",
       "                        <td id=\"T_dbf3d462_fef4_11ea_be99_88e9fe4c695erow164_col0\" class=\"data row164 col0\" >766</td>\n",
       "                        <td id=\"T_dbf3d462_fef4_11ea_be99_88e9fe4c695erow164_col1\" class=\"data row164 col1\" >1</td>\n",
       "                        <td id=\"T_dbf3d462_fef4_11ea_be99_88e9fe4c695erow164_col2\" class=\"data row164 col2\" >0.130000</td>\n",
       "            </tr>\n",
       "            <tr>\n",
       "                        <th id=\"T_dbf3d462_fef4_11ea_be99_88e9fe4c695elevel0_row165\" class=\"row_heading level0 row165\" >San_Marino</th>\n",
       "                        <td id=\"T_dbf3d462_fef4_11ea_be99_88e9fe4c695erow165_col0\" class=\"data row165 col0\" >723</td>\n",
       "                        <td id=\"T_dbf3d462_fef4_11ea_be99_88e9fe4c695erow165_col1\" class=\"data row165 col1\" >42</td>\n",
       "                        <td id=\"T_dbf3d462_fef4_11ea_be99_88e9fe4c695erow165_col2\" class=\"data row165 col2\" >5.810000</td>\n",
       "            </tr>\n",
       "            <tr>\n",
       "                        <th id=\"T_dbf3d462_fef4_11ea_be99_88e9fe4c695elevel0_row166\" class=\"row_heading level0 row166\" >Cases_on_an_international_conveyance_Japan</th>\n",
       "                        <td id=\"T_dbf3d462_fef4_11ea_be99_88e9fe4c695erow166_col0\" class=\"data row166 col0\" >696</td>\n",
       "                        <td id=\"T_dbf3d462_fef4_11ea_be99_88e9fe4c695erow166_col1\" class=\"data row166 col1\" >7</td>\n",
       "                        <td id=\"T_dbf3d462_fef4_11ea_be99_88e9fe4c695erow166_col2\" class=\"data row166 col2\" >1.010000</td>\n",
       "            </tr>\n",
       "            <tr>\n",
       "                        <th id=\"T_dbf3d462_fef4_11ea_be99_88e9fe4c695elevel0_row167\" class=\"row_heading level0 row167\" >Turks_and_Caicos_islands</th>\n",
       "                        <td id=\"T_dbf3d462_fef4_11ea_be99_88e9fe4c695erow167_col0\" class=\"data row167 col0\" >676</td>\n",
       "                        <td id=\"T_dbf3d462_fef4_11ea_be99_88e9fe4c695erow167_col1\" class=\"data row167 col1\" >5</td>\n",
       "                        <td id=\"T_dbf3d462_fef4_11ea_be99_88e9fe4c695erow167_col2\" class=\"data row167 col2\" >0.740000</td>\n",
       "            </tr>\n",
       "            <tr>\n",
       "                        <th id=\"T_dbf3d462_fef4_11ea_be99_88e9fe4c695elevel0_row168\" class=\"row_heading level0 row168\" >Sint_Maarten</th>\n",
       "                        <td id=\"T_dbf3d462_fef4_11ea_be99_88e9fe4c695erow168_col0\" class=\"data row168 col0\" >616</td>\n",
       "                        <td id=\"T_dbf3d462_fef4_11ea_be99_88e9fe4c695erow168_col1\" class=\"data row168 col1\" >21</td>\n",
       "                        <td id=\"T_dbf3d462_fef4_11ea_be99_88e9fe4c695erow168_col2\" class=\"data row168 col2\" >3.410000</td>\n",
       "            </tr>\n",
       "            <tr>\n",
       "                        <th id=\"T_dbf3d462_fef4_11ea_be99_88e9fe4c695elevel0_row169\" class=\"row_heading level0 row169\" >Papua_New_Guinea</th>\n",
       "                        <td id=\"T_dbf3d462_fef4_11ea_be99_88e9fe4c695erow169_col0\" class=\"data row169 col0\" >531</td>\n",
       "                        <td id=\"T_dbf3d462_fef4_11ea_be99_88e9fe4c695erow169_col1\" class=\"data row169 col1\" >7</td>\n",
       "                        <td id=\"T_dbf3d462_fef4_11ea_be99_88e9fe4c695erow169_col2\" class=\"data row169 col2\" >1.320000</td>\n",
       "            </tr>\n",
       "            <tr>\n",
       "                        <th id=\"T_dbf3d462_fef4_11ea_be99_88e9fe4c695elevel0_row170\" class=\"row_heading level0 row170\" >Taiwan</th>\n",
       "                        <td id=\"T_dbf3d462_fef4_11ea_be99_88e9fe4c695erow170_col0\" class=\"data row170 col0\" >509</td>\n",
       "                        <td id=\"T_dbf3d462_fef4_11ea_be99_88e9fe4c695erow170_col1\" class=\"data row170 col1\" >7</td>\n",
       "                        <td id=\"T_dbf3d462_fef4_11ea_be99_88e9fe4c695erow170_col2\" class=\"data row170 col2\" >1.380000</td>\n",
       "            </tr>\n",
       "            <tr>\n",
       "                        <th id=\"T_dbf3d462_fef4_11ea_be99_88e9fe4c695elevel0_row171\" class=\"row_heading level0 row171\" >United_Republic_of_Tanzania</th>\n",
       "                        <td id=\"T_dbf3d462_fef4_11ea_be99_88e9fe4c695erow171_col0\" class=\"data row171 col0\" >509</td>\n",
       "                        <td id=\"T_dbf3d462_fef4_11ea_be99_88e9fe4c695erow171_col1\" class=\"data row171 col1\" >21</td>\n",
       "                        <td id=\"T_dbf3d462_fef4_11ea_be99_88e9fe4c695erow171_col2\" class=\"data row171 col2\" >4.130000</td>\n",
       "            </tr>\n",
       "            <tr>\n",
       "                        <th id=\"T_dbf3d462_fef4_11ea_be99_88e9fe4c695elevel0_row172\" class=\"row_heading level0 row172\" >Burundi</th>\n",
       "                        <td id=\"T_dbf3d462_fef4_11ea_be99_88e9fe4c695erow172_col0\" class=\"data row172 col0\" >476</td>\n",
       "                        <td id=\"T_dbf3d462_fef4_11ea_be99_88e9fe4c695erow172_col1\" class=\"data row172 col1\" >1</td>\n",
       "                        <td id=\"T_dbf3d462_fef4_11ea_be99_88e9fe4c695erow172_col2\" class=\"data row172 col2\" >0.210000</td>\n",
       "            </tr>\n",
       "            <tr>\n",
       "                        <th id=\"T_dbf3d462_fef4_11ea_be99_88e9fe4c695elevel0_row173\" class=\"row_heading level0 row173\" >Comoros</th>\n",
       "                        <td id=\"T_dbf3d462_fef4_11ea_be99_88e9fe4c695erow173_col0\" class=\"data row173 col0\" >470</td>\n",
       "                        <td id=\"T_dbf3d462_fef4_11ea_be99_88e9fe4c695erow173_col1\" class=\"data row173 col1\" >7</td>\n",
       "                        <td id=\"T_dbf3d462_fef4_11ea_be99_88e9fe4c695erow173_col2\" class=\"data row173 col2\" >1.490000</td>\n",
       "            </tr>\n",
       "            <tr>\n",
       "                        <th id=\"T_dbf3d462_fef4_11ea_be99_88e9fe4c695elevel0_row174\" class=\"row_heading level0 row174\" >Faroe_Islands</th>\n",
       "                        <td id=\"T_dbf3d462_fef4_11ea_be99_88e9fe4c695erow174_col0\" class=\"data row174 col0\" >451</td>\n",
       "                        <td id=\"T_dbf3d462_fef4_11ea_be99_88e9fe4c695erow174_col1\" class=\"data row174 col1\" >0</td>\n",
       "                        <td id=\"T_dbf3d462_fef4_11ea_be99_88e9fe4c695erow174_col2\" class=\"data row174 col2\" >0.000000</td>\n",
       "            </tr>\n",
       "            <tr>\n",
       "                        <th id=\"T_dbf3d462_fef4_11ea_be99_88e9fe4c695elevel0_row175\" class=\"row_heading level0 row175\" >Jersey</th>\n",
       "                        <td id=\"T_dbf3d462_fef4_11ea_be99_88e9fe4c695erow175_col0\" class=\"data row175 col0\" >399</td>\n",
       "                        <td id=\"T_dbf3d462_fef4_11ea_be99_88e9fe4c695erow175_col1\" class=\"data row175 col1\" >32</td>\n",
       "                        <td id=\"T_dbf3d462_fef4_11ea_be99_88e9fe4c695erow175_col2\" class=\"data row175 col2\" >8.020000</td>\n",
       "            </tr>\n",
       "            <tr>\n",
       "                        <th id=\"T_dbf3d462_fef4_11ea_be99_88e9fe4c695elevel0_row176\" class=\"row_heading level0 row176\" >Mauritius</th>\n",
       "                        <td id=\"T_dbf3d462_fef4_11ea_be99_88e9fe4c695erow176_col0\" class=\"data row176 col0\" >367</td>\n",
       "                        <td id=\"T_dbf3d462_fef4_11ea_be99_88e9fe4c695erow176_col1\" class=\"data row176 col1\" >10</td>\n",
       "                        <td id=\"T_dbf3d462_fef4_11ea_be99_88e9fe4c695erow176_col2\" class=\"data row176 col2\" >2.720000</td>\n",
       "            </tr>\n",
       "            <tr>\n",
       "                        <th id=\"T_dbf3d462_fef4_11ea_be99_88e9fe4c695elevel0_row177\" class=\"row_heading level0 row177\" >Eritrea</th>\n",
       "                        <td id=\"T_dbf3d462_fef4_11ea_be99_88e9fe4c695erow177_col0\" class=\"data row177 col0\" >364</td>\n",
       "                        <td id=\"T_dbf3d462_fef4_11ea_be99_88e9fe4c695erow177_col1\" class=\"data row177 col1\" >0</td>\n",
       "                        <td id=\"T_dbf3d462_fef4_11ea_be99_88e9fe4c695erow177_col2\" class=\"data row177 col2\" >0.000000</td>\n",
       "            </tr>\n",
       "            <tr>\n",
       "                        <th id=\"T_dbf3d462_fef4_11ea_be99_88e9fe4c695elevel0_row178\" class=\"row_heading level0 row178\" >Gibraltar</th>\n",
       "                        <td id=\"T_dbf3d462_fef4_11ea_be99_88e9fe4c695erow178_col0\" class=\"data row178 col0\" >357</td>\n",
       "                        <td id=\"T_dbf3d462_fef4_11ea_be99_88e9fe4c695erow178_col1\" class=\"data row178 col1\" >0</td>\n",
       "                        <td id=\"T_dbf3d462_fef4_11ea_be99_88e9fe4c695erow178_col2\" class=\"data row178 col2\" >0.000000</td>\n",
       "            </tr>\n",
       "            <tr>\n",
       "                        <th id=\"T_dbf3d462_fef4_11ea_be99_88e9fe4c695elevel0_row179\" class=\"row_heading level0 row179\" >Isle_of_Man</th>\n",
       "                        <td id=\"T_dbf3d462_fef4_11ea_be99_88e9fe4c695erow179_col0\" class=\"data row179 col0\" >340</td>\n",
       "                        <td id=\"T_dbf3d462_fef4_11ea_be99_88e9fe4c695erow179_col1\" class=\"data row179 col1\" >24</td>\n",
       "                        <td id=\"T_dbf3d462_fef4_11ea_be99_88e9fe4c695erow179_col2\" class=\"data row179 col2\" >7.060000</td>\n",
       "            </tr>\n",
       "            <tr>\n",
       "                        <th id=\"T_dbf3d462_fef4_11ea_be99_88e9fe4c695elevel0_row180\" class=\"row_heading level0 row180\" >Mongolia</th>\n",
       "                        <td id=\"T_dbf3d462_fef4_11ea_be99_88e9fe4c695erow180_col0\" class=\"data row180 col0\" >313</td>\n",
       "                        <td id=\"T_dbf3d462_fef4_11ea_be99_88e9fe4c695erow180_col1\" class=\"data row180 col1\" >0</td>\n",
       "                        <td id=\"T_dbf3d462_fef4_11ea_be99_88e9fe4c695erow180_col2\" class=\"data row180 col2\" >0.000000</td>\n",
       "            </tr>\n",
       "            <tr>\n",
       "                        <th id=\"T_dbf3d462_fef4_11ea_be99_88e9fe4c695elevel0_row181\" class=\"row_heading level0 row181\" >Curaçao</th>\n",
       "                        <td id=\"T_dbf3d462_fef4_11ea_be99_88e9fe4c695erow181_col0\" class=\"data row181 col0\" >301</td>\n",
       "                        <td id=\"T_dbf3d462_fef4_11ea_be99_88e9fe4c695erow181_col1\" class=\"data row181 col1\" >1</td>\n",
       "                        <td id=\"T_dbf3d462_fef4_11ea_be99_88e9fe4c695erow181_col2\" class=\"data row181 col2\" >0.330000</td>\n",
       "            </tr>\n",
       "            <tr>\n",
       "                        <th id=\"T_dbf3d462_fef4_11ea_be99_88e9fe4c695elevel0_row182\" class=\"row_heading level0 row182\" >Cambodia</th>\n",
       "                        <td id=\"T_dbf3d462_fef4_11ea_be99_88e9fe4c695erow182_col0\" class=\"data row182 col0\" >275</td>\n",
       "                        <td id=\"T_dbf3d462_fef4_11ea_be99_88e9fe4c695erow182_col1\" class=\"data row182 col1\" >0</td>\n",
       "                        <td id=\"T_dbf3d462_fef4_11ea_be99_88e9fe4c695erow182_col2\" class=\"data row182 col2\" >0.000000</td>\n",
       "            </tr>\n",
       "            <tr>\n",
       "                        <th id=\"T_dbf3d462_fef4_11ea_be99_88e9fe4c695elevel0_row183\" class=\"row_heading level0 row183\" >Bhutan</th>\n",
       "                        <td id=\"T_dbf3d462_fef4_11ea_be99_88e9fe4c695erow183_col0\" class=\"data row183 col0\" >261</td>\n",
       "                        <td id=\"T_dbf3d462_fef4_11ea_be99_88e9fe4c695erow183_col1\" class=\"data row183 col1\" >0</td>\n",
       "                        <td id=\"T_dbf3d462_fef4_11ea_be99_88e9fe4c695erow183_col2\" class=\"data row183 col2\" >0.000000</td>\n",
       "            </tr>\n",
       "            <tr>\n",
       "                        <th id=\"T_dbf3d462_fef4_11ea_be99_88e9fe4c695elevel0_row184\" class=\"row_heading level0 row184\" >Guernsey</th>\n",
       "                        <td id=\"T_dbf3d462_fef4_11ea_be99_88e9fe4c695erow184_col0\" class=\"data row184 col0\" >256</td>\n",
       "                        <td id=\"T_dbf3d462_fef4_11ea_be99_88e9fe4c695erow184_col1\" class=\"data row184 col1\" >13</td>\n",
       "                        <td id=\"T_dbf3d462_fef4_11ea_be99_88e9fe4c695erow184_col2\" class=\"data row184 col2\" >5.080000</td>\n",
       "            </tr>\n",
       "            <tr>\n",
       "                        <th id=\"T_dbf3d462_fef4_11ea_be99_88e9fe4c695elevel0_row185\" class=\"row_heading level0 row185\" >Cayman_Islands</th>\n",
       "                        <td id=\"T_dbf3d462_fef4_11ea_be99_88e9fe4c695erow185_col0\" class=\"data row185 col0\" >210</td>\n",
       "                        <td id=\"T_dbf3d462_fef4_11ea_be99_88e9fe4c695erow185_col1\" class=\"data row185 col1\" >1</td>\n",
       "                        <td id=\"T_dbf3d462_fef4_11ea_be99_88e9fe4c695erow185_col2\" class=\"data row185 col2\" >0.480000</td>\n",
       "            </tr>\n",
       "            <tr>\n",
       "                        <th id=\"T_dbf3d462_fef4_11ea_be99_88e9fe4c695elevel0_row186\" class=\"row_heading level0 row186\" >Monaco</th>\n",
       "                        <td id=\"T_dbf3d462_fef4_11ea_be99_88e9fe4c695erow186_col0\" class=\"data row186 col0\" >199</td>\n",
       "                        <td id=\"T_dbf3d462_fef4_11ea_be99_88e9fe4c695erow186_col1\" class=\"data row186 col1\" >1</td>\n",
       "                        <td id=\"T_dbf3d462_fef4_11ea_be99_88e9fe4c695erow186_col2\" class=\"data row186 col2\" >0.500000</td>\n",
       "            </tr>\n",
       "            <tr>\n",
       "                        <th id=\"T_dbf3d462_fef4_11ea_be99_88e9fe4c695elevel0_row187\" class=\"row_heading level0 row187\" >Barbados</th>\n",
       "                        <td id=\"T_dbf3d462_fef4_11ea_be99_88e9fe4c695erow187_col0\" class=\"data row187 col0\" >189</td>\n",
       "                        <td id=\"T_dbf3d462_fef4_11ea_be99_88e9fe4c695erow187_col1\" class=\"data row187 col1\" >7</td>\n",
       "                        <td id=\"T_dbf3d462_fef4_11ea_be99_88e9fe4c695erow187_col2\" class=\"data row187 col2\" >3.700000</td>\n",
       "            </tr>\n",
       "            <tr>\n",
       "                        <th id=\"T_dbf3d462_fef4_11ea_be99_88e9fe4c695elevel0_row188\" class=\"row_heading level0 row188\" >Bermuda</th>\n",
       "                        <td id=\"T_dbf3d462_fef4_11ea_be99_88e9fe4c695erow188_col0\" class=\"data row188 col0\" >181</td>\n",
       "                        <td id=\"T_dbf3d462_fef4_11ea_be99_88e9fe4c695erow188_col1\" class=\"data row188 col1\" >9</td>\n",
       "                        <td id=\"T_dbf3d462_fef4_11ea_be99_88e9fe4c695erow188_col2\" class=\"data row188 col2\" >4.970000</td>\n",
       "            </tr>\n",
       "            <tr>\n",
       "                        <th id=\"T_dbf3d462_fef4_11ea_be99_88e9fe4c695elevel0_row189\" class=\"row_heading level0 row189\" >Brunei_Darussalam</th>\n",
       "                        <td id=\"T_dbf3d462_fef4_11ea_be99_88e9fe4c695erow189_col0\" class=\"data row189 col0\" >145</td>\n",
       "                        <td id=\"T_dbf3d462_fef4_11ea_be99_88e9fe4c695erow189_col1\" class=\"data row189 col1\" >3</td>\n",
       "                        <td id=\"T_dbf3d462_fef4_11ea_be99_88e9fe4c695erow189_col2\" class=\"data row189 col2\" >2.070000</td>\n",
       "            </tr>\n",
       "            <tr>\n",
       "                        <th id=\"T_dbf3d462_fef4_11ea_be99_88e9fe4c695elevel0_row190\" class=\"row_heading level0 row190\" >Seychelles</th>\n",
       "                        <td id=\"T_dbf3d462_fef4_11ea_be99_88e9fe4c695erow190_col0\" class=\"data row190 col0\" >143</td>\n",
       "                        <td id=\"T_dbf3d462_fef4_11ea_be99_88e9fe4c695erow190_col1\" class=\"data row190 col1\" >0</td>\n",
       "                        <td id=\"T_dbf3d462_fef4_11ea_be99_88e9fe4c695erow190_col2\" class=\"data row190 col2\" >0.000000</td>\n",
       "            </tr>\n",
       "            <tr>\n",
       "                        <th id=\"T_dbf3d462_fef4_11ea_be99_88e9fe4c695elevel0_row191\" class=\"row_heading level0 row191\" >Liechtenstein</th>\n",
       "                        <td id=\"T_dbf3d462_fef4_11ea_be99_88e9fe4c695erow191_col0\" class=\"data row191 col0\" >117</td>\n",
       "                        <td id=\"T_dbf3d462_fef4_11ea_be99_88e9fe4c695erow191_col1\" class=\"data row191 col1\" >1</td>\n",
       "                        <td id=\"T_dbf3d462_fef4_11ea_be99_88e9fe4c695erow191_col2\" class=\"data row191 col2\" >0.850000</td>\n",
       "            </tr>\n",
       "            <tr>\n",
       "                        <th id=\"T_dbf3d462_fef4_11ea_be99_88e9fe4c695elevel0_row192\" class=\"row_heading level0 row192\" >Antigua_and_Barbuda</th>\n",
       "                        <td id=\"T_dbf3d462_fef4_11ea_be99_88e9fe4c695erow192_col0\" class=\"data row192 col0\" >97</td>\n",
       "                        <td id=\"T_dbf3d462_fef4_11ea_be99_88e9fe4c695erow192_col1\" class=\"data row192 col1\" >3</td>\n",
       "                        <td id=\"T_dbf3d462_fef4_11ea_be99_88e9fe4c695erow192_col2\" class=\"data row192 col2\" >3.090000</td>\n",
       "            </tr>\n",
       "            <tr>\n",
       "                        <th id=\"T_dbf3d462_fef4_11ea_be99_88e9fe4c695elevel0_row193\" class=\"row_heading level0 row193\" >British_Virgin_Islands</th>\n",
       "                        <td id=\"T_dbf3d462_fef4_11ea_be99_88e9fe4c695erow193_col0\" class=\"data row193 col0\" >71</td>\n",
       "                        <td id=\"T_dbf3d462_fef4_11ea_be99_88e9fe4c695erow193_col1\" class=\"data row193 col1\" >1</td>\n",
       "                        <td id=\"T_dbf3d462_fef4_11ea_be99_88e9fe4c695erow193_col2\" class=\"data row193 col2\" >1.410000</td>\n",
       "            </tr>\n",
       "            <tr>\n",
       "                        <th id=\"T_dbf3d462_fef4_11ea_be99_88e9fe4c695elevel0_row194\" class=\"row_heading level0 row194\" >Northern_Mariana_Islands</th>\n",
       "                        <td id=\"T_dbf3d462_fef4_11ea_be99_88e9fe4c695erow194_col0\" class=\"data row194 col0\" >69</td>\n",
       "                        <td id=\"T_dbf3d462_fef4_11ea_be99_88e9fe4c695erow194_col1\" class=\"data row194 col1\" >2</td>\n",
       "                        <td id=\"T_dbf3d462_fef4_11ea_be99_88e9fe4c695erow194_col2\" class=\"data row194 col2\" >2.900000</td>\n",
       "            </tr>\n",
       "            <tr>\n",
       "                        <th id=\"T_dbf3d462_fef4_11ea_be99_88e9fe4c695elevel0_row195\" class=\"row_heading level0 row195\" >Bonaire, Saint Eustatius and Saba</th>\n",
       "                        <td id=\"T_dbf3d462_fef4_11ea_be99_88e9fe4c695erow195_col0\" class=\"data row195 col0\" >69</td>\n",
       "                        <td id=\"T_dbf3d462_fef4_11ea_be99_88e9fe4c695erow195_col1\" class=\"data row195 col1\" >1</td>\n",
       "                        <td id=\"T_dbf3d462_fef4_11ea_be99_88e9fe4c695erow195_col2\" class=\"data row195 col2\" >1.450000</td>\n",
       "            </tr>\n",
       "            <tr>\n",
       "                        <th id=\"T_dbf3d462_fef4_11ea_be99_88e9fe4c695elevel0_row196\" class=\"row_heading level0 row196\" >Saint_Vincent_and_the_Grenadines</th>\n",
       "                        <td id=\"T_dbf3d462_fef4_11ea_be99_88e9fe4c695erow196_col0\" class=\"data row196 col0\" >64</td>\n",
       "                        <td id=\"T_dbf3d462_fef4_11ea_be99_88e9fe4c695erow196_col1\" class=\"data row196 col1\" >0</td>\n",
       "                        <td id=\"T_dbf3d462_fef4_11ea_be99_88e9fe4c695erow196_col2\" class=\"data row196 col2\" >0.000000</td>\n",
       "            </tr>\n",
       "            <tr>\n",
       "                        <th id=\"T_dbf3d462_fef4_11ea_be99_88e9fe4c695elevel0_row197\" class=\"row_heading level0 row197\" >Fiji</th>\n",
       "                        <td id=\"T_dbf3d462_fef4_11ea_be99_88e9fe4c695erow197_col0\" class=\"data row197 col0\" >32</td>\n",
       "                        <td id=\"T_dbf3d462_fef4_11ea_be99_88e9fe4c695erow197_col1\" class=\"data row197 col1\" >2</td>\n",
       "                        <td id=\"T_dbf3d462_fef4_11ea_be99_88e9fe4c695erow197_col2\" class=\"data row197 col2\" >6.250000</td>\n",
       "            </tr>\n",
       "            <tr>\n",
       "                        <th id=\"T_dbf3d462_fef4_11ea_be99_88e9fe4c695elevel0_row198\" class=\"row_heading level0 row198\" >Timor_Leste</th>\n",
       "                        <td id=\"T_dbf3d462_fef4_11ea_be99_88e9fe4c695erow198_col0\" class=\"data row198 col0\" >27</td>\n",
       "                        <td id=\"T_dbf3d462_fef4_11ea_be99_88e9fe4c695erow198_col1\" class=\"data row198 col1\" >0</td>\n",
       "                        <td id=\"T_dbf3d462_fef4_11ea_be99_88e9fe4c695erow198_col2\" class=\"data row198 col2\" >0.000000</td>\n",
       "            </tr>\n",
       "            <tr>\n",
       "                        <th id=\"T_dbf3d462_fef4_11ea_be99_88e9fe4c695elevel0_row199\" class=\"row_heading level0 row199\" >Saint_Lucia</th>\n",
       "                        <td id=\"T_dbf3d462_fef4_11ea_be99_88e9fe4c695erow199_col0\" class=\"data row199 col0\" >27</td>\n",
       "                        <td id=\"T_dbf3d462_fef4_11ea_be99_88e9fe4c695erow199_col1\" class=\"data row199 col1\" >0</td>\n",
       "                        <td id=\"T_dbf3d462_fef4_11ea_be99_88e9fe4c695erow199_col2\" class=\"data row199 col2\" >0.000000</td>\n",
       "            </tr>\n",
       "            <tr>\n",
       "                        <th id=\"T_dbf3d462_fef4_11ea_be99_88e9fe4c695elevel0_row200\" class=\"row_heading level0 row200\" >New_Caledonia</th>\n",
       "                        <td id=\"T_dbf3d462_fef4_11ea_be99_88e9fe4c695erow200_col0\" class=\"data row200 col0\" >26</td>\n",
       "                        <td id=\"T_dbf3d462_fef4_11ea_be99_88e9fe4c695erow200_col1\" class=\"data row200 col1\" >0</td>\n",
       "                        <td id=\"T_dbf3d462_fef4_11ea_be99_88e9fe4c695erow200_col2\" class=\"data row200 col2\" >0.000000</td>\n",
       "            </tr>\n",
       "            <tr>\n",
       "                        <th id=\"T_dbf3d462_fef4_11ea_be99_88e9fe4c695elevel0_row201\" class=\"row_heading level0 row201\" >Grenada</th>\n",
       "                        <td id=\"T_dbf3d462_fef4_11ea_be99_88e9fe4c695erow201_col0\" class=\"data row201 col0\" >24</td>\n",
       "                        <td id=\"T_dbf3d462_fef4_11ea_be99_88e9fe4c695erow201_col1\" class=\"data row201 col1\" >0</td>\n",
       "                        <td id=\"T_dbf3d462_fef4_11ea_be99_88e9fe4c695erow201_col2\" class=\"data row201 col2\" >0.000000</td>\n",
       "            </tr>\n",
       "            <tr>\n",
       "                        <th id=\"T_dbf3d462_fef4_11ea_be99_88e9fe4c695elevel0_row202\" class=\"row_heading level0 row202\" >Dominica</th>\n",
       "                        <td id=\"T_dbf3d462_fef4_11ea_be99_88e9fe4c695erow202_col0\" class=\"data row202 col0\" >24</td>\n",
       "                        <td id=\"T_dbf3d462_fef4_11ea_be99_88e9fe4c695erow202_col1\" class=\"data row202 col1\" >0</td>\n",
       "                        <td id=\"T_dbf3d462_fef4_11ea_be99_88e9fe4c695erow202_col2\" class=\"data row202 col2\" >0.000000</td>\n",
       "            </tr>\n",
       "            <tr>\n",
       "                        <th id=\"T_dbf3d462_fef4_11ea_be99_88e9fe4c695elevel0_row203\" class=\"row_heading level0 row203\" >Laos</th>\n",
       "                        <td id=\"T_dbf3d462_fef4_11ea_be99_88e9fe4c695erow203_col0\" class=\"data row203 col0\" >23</td>\n",
       "                        <td id=\"T_dbf3d462_fef4_11ea_be99_88e9fe4c695erow203_col1\" class=\"data row203 col1\" >0</td>\n",
       "                        <td id=\"T_dbf3d462_fef4_11ea_be99_88e9fe4c695erow203_col2\" class=\"data row203 col2\" >0.000000</td>\n",
       "            </tr>\n",
       "            <tr>\n",
       "                        <th id=\"T_dbf3d462_fef4_11ea_be99_88e9fe4c695elevel0_row204\" class=\"row_heading level0 row204\" >Saint_Kitts_and_Nevis</th>\n",
       "                        <td id=\"T_dbf3d462_fef4_11ea_be99_88e9fe4c695erow204_col0\" class=\"data row204 col0\" >19</td>\n",
       "                        <td id=\"T_dbf3d462_fef4_11ea_be99_88e9fe4c695erow204_col1\" class=\"data row204 col1\" >0</td>\n",
       "                        <td id=\"T_dbf3d462_fef4_11ea_be99_88e9fe4c695erow204_col2\" class=\"data row204 col2\" >0.000000</td>\n",
       "            </tr>\n",
       "            <tr>\n",
       "                        <th id=\"T_dbf3d462_fef4_11ea_be99_88e9fe4c695elevel0_row205\" class=\"row_heading level0 row205\" >Greenland</th>\n",
       "                        <td id=\"T_dbf3d462_fef4_11ea_be99_88e9fe4c695erow205_col0\" class=\"data row205 col0\" >14</td>\n",
       "                        <td id=\"T_dbf3d462_fef4_11ea_be99_88e9fe4c695erow205_col1\" class=\"data row205 col1\" >0</td>\n",
       "                        <td id=\"T_dbf3d462_fef4_11ea_be99_88e9fe4c695erow205_col2\" class=\"data row205 col2\" >0.000000</td>\n",
       "            </tr>\n",
       "            <tr>\n",
       "                        <th id=\"T_dbf3d462_fef4_11ea_be99_88e9fe4c695elevel0_row206\" class=\"row_heading level0 row206\" >Montserrat</th>\n",
       "                        <td id=\"T_dbf3d462_fef4_11ea_be99_88e9fe4c695erow206_col0\" class=\"data row206 col0\" >13</td>\n",
       "                        <td id=\"T_dbf3d462_fef4_11ea_be99_88e9fe4c695erow206_col1\" class=\"data row206 col1\" >1</td>\n",
       "                        <td id=\"T_dbf3d462_fef4_11ea_be99_88e9fe4c695erow206_col2\" class=\"data row206 col2\" >7.690000</td>\n",
       "            </tr>\n",
       "            <tr>\n",
       "                        <th id=\"T_dbf3d462_fef4_11ea_be99_88e9fe4c695elevel0_row207\" class=\"row_heading level0 row207\" >Falkland_Islands_(Malvinas)</th>\n",
       "                        <td id=\"T_dbf3d462_fef4_11ea_be99_88e9fe4c695erow207_col0\" class=\"data row207 col0\" >13</td>\n",
       "                        <td id=\"T_dbf3d462_fef4_11ea_be99_88e9fe4c695erow207_col1\" class=\"data row207 col1\" >0</td>\n",
       "                        <td id=\"T_dbf3d462_fef4_11ea_be99_88e9fe4c695erow207_col2\" class=\"data row207 col2\" >0.000000</td>\n",
       "            </tr>\n",
       "            <tr>\n",
       "                        <th id=\"T_dbf3d462_fef4_11ea_be99_88e9fe4c695elevel0_row208\" class=\"row_heading level0 row208\" >Holy_See</th>\n",
       "                        <td id=\"T_dbf3d462_fef4_11ea_be99_88e9fe4c695erow208_col0\" class=\"data row208 col0\" >12</td>\n",
       "                        <td id=\"T_dbf3d462_fef4_11ea_be99_88e9fe4c695erow208_col1\" class=\"data row208 col1\" >0</td>\n",
       "                        <td id=\"T_dbf3d462_fef4_11ea_be99_88e9fe4c695erow208_col2\" class=\"data row208 col2\" >0.000000</td>\n",
       "            </tr>\n",
       "            <tr>\n",
       "                        <th id=\"T_dbf3d462_fef4_11ea_be99_88e9fe4c695elevel0_row209\" class=\"row_heading level0 row209\" >Anguilla</th>\n",
       "                        <td id=\"T_dbf3d462_fef4_11ea_be99_88e9fe4c695erow209_col0\" class=\"data row209 col0\" >3</td>\n",
       "                        <td id=\"T_dbf3d462_fef4_11ea_be99_88e9fe4c695erow209_col1\" class=\"data row209 col1\" >0</td>\n",
       "                        <td id=\"T_dbf3d462_fef4_11ea_be99_88e9fe4c695erow209_col2\" class=\"data row209 col2\" >0.000000</td>\n",
       "            </tr>\n",
       "    </tbody></table>"
      ],
      "text/plain": [
       "<pandas.io.formats.style.Styler at 0x11f38f650>"
      ]
     },
     "execution_count": 32,
     "metadata": {},
     "output_type": "execute_result"
    }
   ],
   "source": [
    "cases_and_deaths_in_each_country.sort_values('cases', ascending = False).style.background_gradient(cmap='Blues', subset=['cases'])\\\n",
    "                        .background_gradient(cmap='Reds',subset=[\"deaths\"])\\\n",
    "                        .background_gradient(cmap='YlOrBr',subset=[\"Mortality Rate (per 100)\"])\\\n"
   ]
  },
  {
   "cell_type": "markdown",
   "metadata": {},
   "source": [
    "### Top 15 countries with confirmed cases and confirmed death"
   ]
  },
  {
   "cell_type": "code",
   "execution_count": 33,
   "metadata": {},
   "outputs": [
    {
     "data": {
      "image/png": "[encoded data removed]",
      "text/plain": [
       "<Figure size 720x576 with 1 Axes>"
      ]
     },
     "metadata": {
      "needs_background": "light"
     },
     "output_type": "display_data"
    }
   ],
   "source": [
    "#number of confirmed cases per country\n",
    "f = plt.figure(figsize=(10,8))\n",
    "f.add_subplot(111)\n",
    "plt.axes(axisbelow=True)\n",
    "#plot first 15 countries based on the number of cases\n",
    "plt.barh(cases_and_deaths_in_each_country.sort_values('cases', ascending=False).index[:15], cases_and_deaths_in_each_country.sort_values('deaths', ascending=False)['deaths'][:15], color=\"darkblue\") \n",
    "plt.gca().invert_yaxis()\n",
    "plt.tick_params(size=5,labelsize = 13)\n",
    "plt.xlabel(\"Confirmed Cases (in million)\",fontsize=18)\n",
    "plt.title(\"Top 15 Countries (Confirmed Cases)\",fontsize=20)\n",
    "plt.grid(alpha=0.3)"
   ]
  },
  {
   "cell_type": "code",
   "execution_count": 34,
   "metadata": {},
   "outputs": [
    {
     "data": {
      "image/png": "[encoded data removed]",
      "text/plain": [
       "<Figure size 720x576 with 1 Axes>"
      ]
     },
     "metadata": {
      "needs_background": "light"
     },
     "output_type": "display_data"
    }
   ],
   "source": [
    "f = plt.figure(figsize=(10,8))\n",
    "f.add_subplot(111)\n",
    "plt.axes(axisbelow=True)\n",
    "#plot first 15 countries based on the number of deaths\n",
    "plt.barh(cases_and_deaths_in_each_country.sort_values('deaths', ascending=False).index[:15], cases_and_deaths_in_each_country.sort_values('deaths', ascending=False)['deaths'][:15], color=\"red\")\n",
    "plt.gca().invert_yaxis()\n",
    "plt.tick_params(size=5,labelsize = 13)\n",
    "plt.xlabel(\"Confirmed death (in thousand)\",fontsize=18)\n",
    "plt.title(\"Top 15 Countries (Confirmed deaths)\",fontsize=20)\n",
    "plt.grid(alpha=0.3)"
   ]
  },
  {
   "cell_type": "markdown",
   "metadata": {},
   "source": [
    "### Correlation analysis for countries"
   ]
  },
  {
   "cell_type": "code",
   "execution_count": 35,
   "metadata": {},
   "outputs": [
    {
     "data": {
      "text/html": [
       "<style  type=\"text/css\" >\n",
       "    #T_dc46f368_fef4_11ea_be99_88e9fe4c695erow0_col0 {\n",
       "            background-color:  #67001f;\n",
       "            color:  #f1f1f1;\n",
       "        }    #T_dc46f368_fef4_11ea_be99_88e9fe4c695erow0_col1 {\n",
       "            background-color:  #a21328;\n",
       "            color:  #f1f1f1;\n",
       "        }    #T_dc46f368_fef4_11ea_be99_88e9fe4c695erow0_col2 {\n",
       "            background-color:  #053061;\n",
       "            color:  #f1f1f1;\n",
       "        }    #T_dc46f368_fef4_11ea_be99_88e9fe4c695erow1_col0 {\n",
       "            background-color:  #9c1127;\n",
       "            color:  #f1f1f1;\n",
       "        }    #T_dc46f368_fef4_11ea_be99_88e9fe4c695erow1_col1 {\n",
       "            background-color:  #67001f;\n",
       "            color:  #f1f1f1;\n",
       "        }    #T_dc46f368_fef4_11ea_be99_88e9fe4c695erow1_col2 {\n",
       "            background-color:  #2c75b4;\n",
       "            color:  #000000;\n",
       "        }    #T_dc46f368_fef4_11ea_be99_88e9fe4c695erow2_col0 {\n",
       "            background-color:  #053061;\n",
       "            color:  #f1f1f1;\n",
       "        }    #T_dc46f368_fef4_11ea_be99_88e9fe4c695erow2_col1 {\n",
       "            background-color:  #053061;\n",
       "            color:  #f1f1f1;\n",
       "        }    #T_dc46f368_fef4_11ea_be99_88e9fe4c695erow2_col2 {\n",
       "            background-color:  #67001f;\n",
       "            color:  #f1f1f1;\n",
       "        }</style><table id=\"T_dc46f368_fef4_11ea_be99_88e9fe4c695e\" ><thead>    <tr>        <th class=\"blank level0\" ></th>        <th class=\"col_heading level0 col0\" >cases</th>        <th class=\"col_heading level0 col1\" >deaths</th>        <th class=\"col_heading level0 col2\" >Mortality Rate (per 100)</th>    </tr></thead><tbody>\n",
       "                <tr>\n",
       "                        <th id=\"T_dc46f368_fef4_11ea_be99_88e9fe4c695elevel0_row0\" class=\"row_heading level0 row0\" >cases</th>\n",
       "                        <td id=\"T_dc46f368_fef4_11ea_be99_88e9fe4c695erow0_col0\" class=\"data row0 col0\" >1.000</td>\n",
       "                        <td id=\"T_dc46f368_fef4_11ea_be99_88e9fe4c695erow0_col1\" class=\"data row0 col1\" >0.932</td>\n",
       "                        <td id=\"T_dc46f368_fef4_11ea_be99_88e9fe4c695erow0_col2\" class=\"data row0 col2\" >0.044</td>\n",
       "            </tr>\n",
       "            <tr>\n",
       "                        <th id=\"T_dc46f368_fef4_11ea_be99_88e9fe4c695elevel0_row1\" class=\"row_heading level0 row1\" >deaths</th>\n",
       "                        <td id=\"T_dc46f368_fef4_11ea_be99_88e9fe4c695erow1_col0\" class=\"data row1 col0\" >0.932</td>\n",
       "                        <td id=\"T_dc46f368_fef4_11ea_be99_88e9fe4c695erow1_col1\" class=\"data row1 col1\" >1.000</td>\n",
       "                        <td id=\"T_dc46f368_fef4_11ea_be99_88e9fe4c695erow1_col2\" class=\"data row1 col2\" >0.172</td>\n",
       "            </tr>\n",
       "            <tr>\n",
       "                        <th id=\"T_dc46f368_fef4_11ea_be99_88e9fe4c695elevel0_row2\" class=\"row_heading level0 row2\" >Mortality Rate (per 100)</th>\n",
       "                        <td id=\"T_dc46f368_fef4_11ea_be99_88e9fe4c695erow2_col0\" class=\"data row2 col0\" >0.044</td>\n",
       "                        <td id=\"T_dc46f368_fef4_11ea_be99_88e9fe4c695erow2_col1\" class=\"data row2 col1\" >0.172</td>\n",
       "                        <td id=\"T_dc46f368_fef4_11ea_be99_88e9fe4c695erow2_col2\" class=\"data row2 col2\" >1.000</td>\n",
       "            </tr>\n",
       "    </tbody></table>"
      ],
      "text/plain": [
       "<pandas.io.formats.style.Styler at 0x11f908bd0>"
      ]
     },
     "execution_count": 35,
     "metadata": {},
     "output_type": "execute_result"
    }
   ],
   "source": [
    "cases_and_deaths_in_each_country.loc[:,:].corr().style.background_gradient(cmap='RdBu_r').format(\"{:.3f}\")"
   ]
  },
  {
   "cell_type": "markdown",
   "metadata": {},
   "source": [
    "### Correlation analysis for continent"
   ]
  },
  {
   "cell_type": "code",
   "execution_count": 36,
   "metadata": {},
   "outputs": [
    {
     "data": {
      "text/html": [
       "<style  type=\"text/css\" >\n",
       "    #T_dc514db8_fef4_11ea_be99_88e9fe4c695erow0_col0 {\n",
       "            background-color:  #67001f;\n",
       "            color:  #f1f1f1;\n",
       "        }    #T_dc514db8_fef4_11ea_be99_88e9fe4c695erow0_col1 {\n",
       "            background-color:  #b3192c;\n",
       "            color:  #f1f1f1;\n",
       "        }    #T_dc514db8_fef4_11ea_be99_88e9fe4c695erow0_col2 {\n",
       "            background-color:  #053061;\n",
       "            color:  #f1f1f1;\n",
       "        }    #T_dc514db8_fef4_11ea_be99_88e9fe4c695erow1_col0 {\n",
       "            background-color:  #9c1127;\n",
       "            color:  #f1f1f1;\n",
       "        }    #T_dc514db8_fef4_11ea_be99_88e9fe4c695erow1_col1 {\n",
       "            background-color:  #67001f;\n",
       "            color:  #f1f1f1;\n",
       "        }    #T_dc514db8_fef4_11ea_be99_88e9fe4c695erow1_col2 {\n",
       "            background-color:  #81bad8;\n",
       "            color:  #000000;\n",
       "        }    #T_dc514db8_fef4_11ea_be99_88e9fe4c695erow2_col0 {\n",
       "            background-color:  #053061;\n",
       "            color:  #f1f1f1;\n",
       "        }    #T_dc514db8_fef4_11ea_be99_88e9fe4c695erow2_col1 {\n",
       "            background-color:  #053061;\n",
       "            color:  #f1f1f1;\n",
       "        }    #T_dc514db8_fef4_11ea_be99_88e9fe4c695erow2_col2 {\n",
       "            background-color:  #67001f;\n",
       "            color:  #f1f1f1;\n",
       "        }</style><table id=\"T_dc514db8_fef4_11ea_be99_88e9fe4c695e\" ><thead>    <tr>        <th class=\"blank level0\" ></th>        <th class=\"col_heading level0 col0\" >cases</th>        <th class=\"col_heading level0 col1\" >deaths</th>        <th class=\"col_heading level0 col2\" >Mortality Rate (per 100)</th>    </tr></thead><tbody>\n",
       "                <tr>\n",
       "                        <th id=\"T_dc514db8_fef4_11ea_be99_88e9fe4c695elevel0_row0\" class=\"row_heading level0 row0\" >cases</th>\n",
       "                        <td id=\"T_dc514db8_fef4_11ea_be99_88e9fe4c695erow0_col0\" class=\"data row0 col0\" >1.000</td>\n",
       "                        <td id=\"T_dc514db8_fef4_11ea_be99_88e9fe4c695erow0_col1\" class=\"data row0 col1\" >0.947</td>\n",
       "                        <td id=\"T_dc514db8_fef4_11ea_be99_88e9fe4c695erow0_col2\" class=\"data row0 col2\" >0.284</td>\n",
       "            </tr>\n",
       "            <tr>\n",
       "                        <th id=\"T_dc514db8_fef4_11ea_be99_88e9fe4c695elevel0_row1\" class=\"row_heading level0 row1\" >deaths</th>\n",
       "                        <td id=\"T_dc514db8_fef4_11ea_be99_88e9fe4c695erow1_col0\" class=\"data row1 col0\" >0.947</td>\n",
       "                        <td id=\"T_dc514db8_fef4_11ea_be99_88e9fe4c695erow1_col1\" class=\"data row1 col1\" >1.000</td>\n",
       "                        <td id=\"T_dc514db8_fef4_11ea_be99_88e9fe4c695erow1_col2\" class=\"data row1 col2\" >0.486</td>\n",
       "            </tr>\n",
       "            <tr>\n",
       "                        <th id=\"T_dc514db8_fef4_11ea_be99_88e9fe4c695elevel0_row2\" class=\"row_heading level0 row2\" >Mortality Rate (per 100)</th>\n",
       "                        <td id=\"T_dc514db8_fef4_11ea_be99_88e9fe4c695erow2_col0\" class=\"data row2 col0\" >0.284</td>\n",
       "                        <td id=\"T_dc514db8_fef4_11ea_be99_88e9fe4c695erow2_col1\" class=\"data row2 col1\" >0.486</td>\n",
       "                        <td id=\"T_dc514db8_fef4_11ea_be99_88e9fe4c695erow2_col2\" class=\"data row2 col2\" >1.000</td>\n",
       "            </tr>\n",
       "    </tbody></table>"
      ],
      "text/plain": [
       "<pandas.io.formats.style.Styler at 0x11f915b10>"
      ]
     },
     "execution_count": 36,
     "metadata": {},
     "output_type": "execute_result"
    }
   ],
   "source": [
    "death_and_cases_per_continent.corr().style.background_gradient(cmap='RdBu_r').format(\"{:.3f}\")"
   ]
  },
  {
   "cell_type": "markdown",
   "metadata": {},
   "source": [
    "### Confirmed Covid19 cases and deaths in each country (log scale"
   ]
  },
  {
   "cell_type": "code",
   "execution_count": 37,
   "metadata": {},
   "outputs": [],
   "source": [
    "#reset index first and rename the countriesandTerritories column to Country\n",
    "cases_and_deaths_in_each_country = cases_and_deaths_in_each_country.reset_index().rename(columns= {'countriesAndTerritories' : 'Country'})"
   ]
  },
  {
   "cell_type": "code",
   "execution_count": 38,
   "metadata": {},
   "outputs": [],
   "source": [
    "#Create country code from column\n",
    "cases_and_deaths_in_each_country['Country_code'] = cases_and_deaths_in_each_country['Country'].apply(lambda x: x[:3].upper())"
   ]
  },
  {
   "cell_type": "code",
   "execution_count": 39,
   "metadata": {},
   "outputs": [],
   "source": [
    "cc = coco.CountryConverter()"
   ]
  },
  {
   "cell_type": "code",
   "execution_count": 40,
   "metadata": {},
   "outputs": [
    {
     "name": "stderr",
     "output_type": "stream",
     "text": [
      "WARNING:root:Cape_Verde not found in regex\n",
      "WARNING:root:Isle_of_Man not found in regex\n",
      "WARNING:root:Saint_Lucia not found in regex\n",
      "WARNING:root:South_Korea not found in regex\n"
     ]
    }
   ],
   "source": [
    "#Generate country code\n",
    "cases_and_deaths_in_each_country['Country_code'] = cases_and_deaths_in_each_country['Country'].apply(lambda x: cc.convert(names = x, to = 'ISO3'))"
   ]
  },
  {
   "cell_type": "code",
   "execution_count": 41,
   "metadata": {},
   "outputs": [
    {
     "data": {
      "text/html": [
       "<div>\n",
       "<style scoped>\n",
       "    .dataframe tbody tr th:only-of-type {\n",
       "        vertical-align: middle;\n",
       "    }\n",
       "\n",
       "    .dataframe tbody tr th {\n",
       "        vertical-align: top;\n",
       "    }\n",
       "\n",
       "    .dataframe thead th {\n",
       "        text-align: right;\n",
       "    }\n",
       "</style>\n",
       "<table border=\"1\" class=\"dataframe\">\n",
       "  <thead>\n",
       "    <tr style=\"text-align: right;\">\n",
       "      <th></th>\n",
       "      <th>Country</th>\n",
       "      <th>cases</th>\n",
       "      <th>deaths</th>\n",
       "      <th>Mortality Rate (per 100)</th>\n",
       "      <th>Country_code</th>\n",
       "    </tr>\n",
       "  </thead>\n",
       "  <tbody>\n",
       "    <tr>\n",
       "      <th>0</th>\n",
       "      <td>Afghanistan</td>\n",
       "      <td>39170</td>\n",
       "      <td>1451</td>\n",
       "      <td>3.70</td>\n",
       "      <td>AFG</td>\n",
       "    </tr>\n",
       "    <tr>\n",
       "      <th>1</th>\n",
       "      <td>Albania</td>\n",
       "      <td>12787</td>\n",
       "      <td>370</td>\n",
       "      <td>2.89</td>\n",
       "      <td>ALB</td>\n",
       "    </tr>\n",
       "    <tr>\n",
       "      <th>2</th>\n",
       "      <td>Algeria</td>\n",
       "      <td>50400</td>\n",
       "      <td>1698</td>\n",
       "      <td>3.37</td>\n",
       "      <td>DZA</td>\n",
       "    </tr>\n",
       "    <tr>\n",
       "      <th>3</th>\n",
       "      <td>Andorra</td>\n",
       "      <td>1753</td>\n",
       "      <td>53</td>\n",
       "      <td>3.02</td>\n",
       "      <td>AND</td>\n",
       "    </tr>\n",
       "    <tr>\n",
       "      <th>4</th>\n",
       "      <td>Angola</td>\n",
       "      <td>4236</td>\n",
       "      <td>155</td>\n",
       "      <td>3.66</td>\n",
       "      <td>AGO</td>\n",
       "    </tr>\n",
       "    <tr>\n",
       "      <th>...</th>\n",
       "      <td>...</td>\n",
       "      <td>...</td>\n",
       "      <td>...</td>\n",
       "      <td>...</td>\n",
       "      <td>...</td>\n",
       "    </tr>\n",
       "    <tr>\n",
       "      <th>205</th>\n",
       "      <td>Vietnam</td>\n",
       "      <td>1069</td>\n",
       "      <td>35</td>\n",
       "      <td>3.27</td>\n",
       "      <td>VNM</td>\n",
       "    </tr>\n",
       "    <tr>\n",
       "      <th>206</th>\n",
       "      <td>Western_Sahara</td>\n",
       "      <td>766</td>\n",
       "      <td>1</td>\n",
       "      <td>0.13</td>\n",
       "      <td>ESH</td>\n",
       "    </tr>\n",
       "    <tr>\n",
       "      <th>207</th>\n",
       "      <td>Yemen</td>\n",
       "      <td>2032</td>\n",
       "      <td>587</td>\n",
       "      <td>28.89</td>\n",
       "      <td>YEM</td>\n",
       "    </tr>\n",
       "    <tr>\n",
       "      <th>208</th>\n",
       "      <td>Zambia</td>\n",
       "      <td>14443</td>\n",
       "      <td>332</td>\n",
       "      <td>2.30</td>\n",
       "      <td>ZMB</td>\n",
       "    </tr>\n",
       "    <tr>\n",
       "      <th>209</th>\n",
       "      <td>Zimbabwe</td>\n",
       "      <td>7725</td>\n",
       "      <td>227</td>\n",
       "      <td>2.94</td>\n",
       "      <td>ZWE</td>\n",
       "    </tr>\n",
       "  </tbody>\n",
       "</table>\n",
       "<p>210 rows × 5 columns</p>\n",
       "</div>"
      ],
      "text/plain": [
       "            Country  cases  deaths  Mortality Rate (per 100) Country_code\n",
       "0       Afghanistan  39170    1451                      3.70          AFG\n",
       "1           Albania  12787     370                      2.89          ALB\n",
       "2           Algeria  50400    1698                      3.37          DZA\n",
       "3           Andorra   1753      53                      3.02          AND\n",
       "4            Angola   4236     155                      3.66          AGO\n",
       "..              ...    ...     ...                       ...          ...\n",
       "205         Vietnam   1069      35                      3.27          VNM\n",
       "206  Western_Sahara    766       1                      0.13          ESH\n",
       "207           Yemen   2032     587                     28.89          YEM\n",
       "208          Zambia  14443     332                      2.30          ZMB\n",
       "209        Zimbabwe   7725     227                      2.94          ZWE\n",
       "\n",
       "[210 rows x 5 columns]"
      ]
     },
     "execution_count": 41,
     "metadata": {},
     "output_type": "execute_result"
    }
   ],
   "source": [
    "cases_and_deaths_in_each_country"
   ]
  },
  {
   "cell_type": "code",
   "execution_count": 42,
   "metadata": {},
   "outputs": [
    {
     "data": {
      "application/vnd.plotly.v1+json": {
       "config": {
        "plotlyServerURL": "https://plotly.com"
       },
       "data": [
        {
         "coloraxis": "coloraxis",
         "customdata": [
          [
           39170
          ],
          [
           12787
          ],
          [
           50400
          ],
          [
           1753
          ],
          [
           4236
          ],
          [
           3
          ],
          [
           97
          ],
          [
           664799
          ],
          [
           47877
          ],
          [
           3721
          ],
          [
           26973
          ],
          [
           40558
          ],
          [
           39524
          ],
          [
           3618
          ],
          [
           66402
          ],
          [
           353844
          ],
          [
           189
          ],
          [
           76357
          ],
          [
           106793
          ],
          [
           1706
          ],
          [
           2325
          ],
          [
           181
          ],
          [
           261
          ],
          [
           131990
          ],
          [
           69
          ],
          [
           26081
          ],
          [
           2567
          ],
          [
           4624885
          ],
          [
           71
          ],
          [
           145
          ],
          [
           19283
          ],
          [
           1929
          ],
          [
           476
          ],
          [
           275
          ],
          [
           20690
          ],
          [
           147753
          ],
          [
           5412
          ],
          [
           696
          ],
          [
           210
          ],
          [
           4802
          ],
          [
           1164
          ],
          [
           449903
          ],
          [
           90409
          ],
          [
           784268
          ],
          [
           470
          ],
          [
           5005
          ],
          [
           68059
          ],
          [
           19430
          ],
          [
           15340
          ],
          [
           5270
          ],
          [
           301
          ],
          [
           1654
          ],
          [
           55464
          ],
          [
           10536
          ],
          [
           24357
          ],
          [
           5407
          ],
          [
           24
          ],
          [
           109737
          ],
          [
           129892
          ],
          [
           102375
          ],
          [
           27954
          ],
          [
           5018
          ],
          [
           364
          ],
          [
           3033
          ],
          [
           5343
          ],
          [
           71083
          ],
          [
           13
          ],
          [
           451
          ],
          [
           32
          ],
          [
           9288
          ],
          [
           481141
          ],
          [
           1332
          ],
          [
           8716
          ],
          [
           3542
          ],
          [
           4399
          ],
          [
           278070
          ],
          [
           46153
          ],
          [
           357
          ],
          [
           16286
          ],
          [
           14
          ],
          [
           24
          ],
          [
           2235
          ],
          [
           87442
          ],
          [
           256
          ],
          [
           10434
          ],
          [
           2303
          ],
          [
           2535
          ],
          [
           8646
          ],
          [
           12
          ],
          [
           72675
          ],
          [
           21200
          ],
          [
           2476
          ],
          [
           5732518
          ],
          [
           257388
          ],
          [
           432798
          ],
          [
           332635
          ],
          [
           33675
          ],
          [
           340
          ],
          [
           204690
          ],
          [
           302537
          ],
          [
           5373
          ],
          [
           80041
          ],
          [
           399
          ],
          [
           6042
          ],
          [
           139289
          ],
          [
           37348
          ],
          [
           15270
          ],
          [
           101299
          ],
          [
           45757
          ],
          [
           23
          ],
          [
           1572
          ],
          [
           31792
          ],
          [
           1424
          ],
          [
           1337
          ],
          [
           30097
          ],
          [
           117
          ],
          [
           3932
          ],
          [
           8090
          ],
          [
           16167
          ],
          [
           5746
          ],
          [
           10505
          ],
          [
           9885
          ],
          [
           3034
          ],
          [
           2857
          ],
          [
           7425
          ],
          [
           367
          ],
          [
           710049
          ],
          [
           48232
          ],
          [
           199
          ],
          [
           313
          ],
          [
           9428
          ],
          [
           13
          ],
          [
           107743
          ],
          [
           7262
          ],
          [
           7827
          ],
          [
           10663
          ],
          [
           67804
          ],
          [
           100493
          ],
          [
           26
          ],
          [
           1471
          ],
          [
           5086
          ],
          [
           1193
          ],
          [
           57724
          ],
          [
           17049
          ],
          [
           69
          ],
          [
           13152
          ],
          [
           95339
          ],
          [
           308217
          ],
          [
           47117
          ],
          [
           107990
          ],
          [
           531
          ],
          [
           35571
          ],
          [
           782695
          ],
          [
           294591
          ],
          [
           81673
          ],
          [
           70465
          ],
          [
           42651
          ],
          [
           124175
          ],
          [
           116415
          ],
          [
           1122241
          ],
          [
           4779
          ],
          [
           19
          ],
          [
           27
          ],
          [
           64
          ],
          [
           723
          ],
          [
           908
          ],
          [
           331359
          ],
          [
           14795
          ],
          [
           33080
          ],
          [
           143
          ],
          [
           2183
          ],
          [
           57639
          ],
          [
           616
          ],
          [
           7269
          ],
          [
           4694
          ],
          [
           3465
          ],
          [
           665188
          ],
          [
           23341
          ],
          [
           2660
          ],
          [
           693556
          ],
          [
           3324
          ],
          [
           13578
          ],
          [
           4779
          ],
          [
           89756
          ],
          [
           50984
          ],
          [
           3924
          ],
          [
           509
          ],
          [
           9475
          ],
          [
           3516
          ],
          [
           27
          ],
          [
           1701
          ],
          [
           4136
          ],
          [
           12479
          ],
          [
           308069
          ],
          [
           676
          ],
          [
           6879
          ],
          [
           184734
          ],
          [
           87530
          ],
          [
           409729
          ],
          [
           509
          ],
          [
           1290
          ],
          [
           6934204
          ],
          [
           1946
          ],
          [
           53667
          ],
          [
           69439
          ],
          [
           1069
          ],
          [
           766
          ],
          [
           2032
          ],
          [
           14443
          ],
          [
           7725
          ]
         ],
         "geo": "geo",
         "hovertemplate": "<b>%{hovertext}</b><br><br>Country_code=%{location}<br>cases=%{customdata[0]}<br>color=%{z}<extra></extra>",
         "hovertext": [
          "Afghanistan",
          "Albania",
          "Algeria",
          "Andorra",
          "Angola",
          "Anguilla",
          "Antigua_and_Barbuda",
          "Argentina",
          "Armenia",
          "Aruba",
          "Australia",
          "Austria",
          "Azerbaijan",
          "Bahamas",
          "Bahrain",
          "Bangladesh",
          "Barbados",
          "Belarus",
          "Belgium",
          "Belize",
          "Benin",
          "Bermuda",
          "Bhutan",
          "Bolivia",
          "Bonaire, Saint Eustatius and Saba",
          "Bosnia_and_Herzegovina",
          "Botswana",
          "Brazil",
          "British_Virgin_Islands",
          "Brunei_Darussalam",
          "Bulgaria",
          "Burkina_Faso",
          "Burundi",
          "Cambodia",
          "Cameroon",
          "Canada",
          "Cape_Verde",
          "Cases_on_an_international_conveyance_Japan",
          "Cayman_Islands",
          "Central_African_Republic",
          "Chad",
          "Chile",
          "China",
          "Colombia",
          "Comoros",
          "Congo",
          "Costa_Rica",
          "Cote_dIvoire",
          "Croatia",
          "Cuba",
          "Curaçao",
          "Cyprus",
          "Czechia",
          "Democratic_Republic_of_the_Congo",
          "Denmark",
          "Djibouti",
          "Dominica",
          "Dominican_Republic",
          "Ecuador",
          "Egypt",
          "El_Salvador",
          "Equatorial_Guinea",
          "Eritrea",
          "Estonia",
          "Eswatini",
          "Ethiopia",
          "Falkland_Islands_(Malvinas)",
          "Faroe_Islands",
          "Fiji",
          "Finland",
          "France",
          "French_Polynesia",
          "Gabon",
          "Gambia",
          "Georgia",
          "Germany",
          "Ghana",
          "Gibraltar",
          "Greece",
          "Greenland",
          "Grenada",
          "Guam",
          "Guatemala",
          "Guernsey",
          "Guinea",
          "Guinea_Bissau",
          "Guyana",
          "Haiti",
          "Holy_See",
          "Honduras",
          "Hungary",
          "Iceland",
          "India",
          "Indonesia",
          "Iran",
          "Iraq",
          "Ireland",
          "Isle_of_Man",
          "Israel",
          "Italy",
          "Jamaica",
          "Japan",
          "Jersey",
          "Jordan",
          "Kazakhstan",
          "Kenya",
          "Kosovo",
          "Kuwait",
          "Kyrgyzstan",
          "Laos",
          "Latvia",
          "Lebanon",
          "Lesotho",
          "Liberia",
          "Libya",
          "Liechtenstein",
          "Lithuania",
          "Luxembourg",
          "Madagascar",
          "Malawi",
          "Malaysia",
          "Maldives",
          "Mali",
          "Malta",
          "Mauritania",
          "Mauritius",
          "Mexico",
          "Moldova",
          "Monaco",
          "Mongolia",
          "Montenegro",
          "Montserrat",
          "Morocco",
          "Mozambique",
          "Myanmar",
          "Namibia",
          "Nepal",
          "Netherlands",
          "New_Caledonia",
          "New_Zealand",
          "Nicaragua",
          "Niger",
          "Nigeria",
          "North_Macedonia",
          "Northern_Mariana_Islands",
          "Norway",
          "Oman",
          "Pakistan",
          "Palestine",
          "Panama",
          "Papua_New_Guinea",
          "Paraguay",
          "Peru",
          "Philippines",
          "Poland",
          "Portugal",
          "Puerto_Rico",
          "Qatar",
          "Romania",
          "Russia",
          "Rwanda",
          "Saint_Kitts_and_Nevis",
          "Saint_Lucia",
          "Saint_Vincent_and_the_Grenadines",
          "San_Marino",
          "Sao_Tome_and_Principe",
          "Saudi_Arabia",
          "Senegal",
          "Serbia",
          "Seychelles",
          "Sierra_Leone",
          "Singapore",
          "Sint_Maarten",
          "Slovakia",
          "Slovenia",
          "Somalia",
          "South_Africa",
          "South_Korea",
          "South_Sudan",
          "Spain",
          "Sri_Lanka",
          "Sudan",
          "Suriname",
          "Sweden",
          "Switzerland",
          "Syria",
          "Taiwan",
          "Tajikistan",
          "Thailand",
          "Timor_Leste",
          "Togo",
          "Trinidad_and_Tobago",
          "Tunisia",
          "Turkey",
          "Turks_and_Caicos_islands",
          "Uganda",
          "Ukraine",
          "United_Arab_Emirates",
          "United_Kingdom",
          "United_Republic_of_Tanzania",
          "United_States_Virgin_Islands",
          "United_States_of_America",
          "Uruguay",
          "Uzbekistan",
          "Venezuela",
          "Vietnam",
          "Western_Sahara",
          "Yemen",
          "Zambia",
          "Zimbabwe"
         ],
         "locations": [
          "AFG",
          "ALB",
          "DZA",
          "AND",
          "AGO",
          "AIA",
          "ATG",
          "ARG",
          "ARM",
          "ABW",
          "AUS",
          "AUT",
          "AZE",
          "BHS",
          "BHR",
          "BGD",
          "BRB",
          "BLR",
          "BEL",
          "BLZ",
          "BEN",
          "BMU",
          "BTN",
          "BOL",
          "BES",
          "BIH",
          "BWA",
          "BRA",
          "VGB",
          "BRN",
          "BGR",
          "BFA",
          "BDI",
          "KHM",
          "CMR",
          "CAN",
          "not found",
          "JPN",
          "CYM",
          "CAF",
          "TCD",
          "CHL",
          "CHN",
          "COL",
          "COM",
          "COG",
          "CRI",
          "CIV",
          "HRV",
          "CUB",
          "CUW",
          "CYP",
          "CZE",
          "COD",
          "DNK",
          "DJI",
          "DMA",
          "DOM",
          "ECU",
          "EGY",
          "SLV",
          "GNQ",
          "ERI",
          "EST",
          "SWZ",
          "ETH",
          "FLK",
          "FRO",
          "FJI",
          "FIN",
          "FRA",
          "PYF",
          "GAB",
          "GMB",
          "GEO",
          "DEU",
          "GHA",
          "GIB",
          "GRC",
          "GRL",
          "GRD",
          "GUM",
          "GTM",
          "GGY",
          "GIN",
          "GNB",
          "GUY",
          "HTI",
          "VAT",
          "HND",
          "HUN",
          "ISL",
          "IND",
          "IDN",
          "IRN",
          "IRQ",
          "IRL",
          "not found",
          "ISR",
          "ITA",
          "JAM",
          "JPN",
          "JEY",
          "JOR",
          "KAZ",
          "KEN",
          "XKX",
          "KWT",
          "KGZ",
          "LAO",
          "LVA",
          "LBN",
          "LSO",
          "LBR",
          "LBY",
          "LIE",
          "LTU",
          "LUX",
          "MDG",
          "MWI",
          "MYS",
          "MDV",
          "MLI",
          "MLT",
          "MRT",
          "MUS",
          "MEX",
          "MDA",
          "MCO",
          "MNG",
          "MNE",
          "MSR",
          "MAR",
          "MOZ",
          "MMR",
          "NAM",
          "NPL",
          "NLD",
          "NCL",
          "NZL",
          "NIC",
          "NER",
          "NGA",
          "MKD",
          "MNP",
          "NOR",
          "OMN",
          "PAK",
          "PSE",
          "PAN",
          "PNG",
          "PRY",
          "PER",
          "PHL",
          "POL",
          "PRT",
          "PRI",
          "QAT",
          "ROU",
          "RUS",
          "RWA",
          "KNA",
          "not found",
          "VCT",
          "SMR",
          "STP",
          "SAU",
          "SEN",
          "SRB",
          "SYC",
          "SLE",
          "SGP",
          "SXM",
          "SVK",
          "SVN",
          "SOM",
          "ZAF",
          "not found",
          "SSD",
          "ESP",
          "LKA",
          "SDN",
          "SUR",
          "SWE",
          "CHE",
          "SYR",
          "TWN",
          "TJK",
          "THA",
          "TLS",
          "TGO",
          "TTO",
          "TUN",
          "TUR",
          "TCA",
          "UGA",
          "UKR",
          "ARE",
          "GBR",
          "TZA",
          "VIR",
          "USA",
          "URY",
          "UZB",
          "VEN",
          "VNM",
          "ESH",
          "YEM",
          "ZMB",
          "ZWE"
         ],
         "name": "",
         "type": "choropleth",
         "z": [
          4.5929535715478655,
          4.106768665176806,
          4.702430536445525,
          3.243781916093795,
          3.6269559514354475,
          0.47712125471966244,
          1.9867717342662448,
          5.822690357504682,
          4.680126929448146,
          3.5706596700215343,
          4.43092925238497,
          4.608076530882,
          4.596860890622566,
          3.558468562523795,
          4.82218116033011,
          5.548811835835063,
          2.2764618041732443,
          4.882848857005024,
          5.028542786765523,
          3.231979026831504,
          3.3664229572259727,
          2.2576785748691846,
          2.416640507338281,
          5.120541028862419,
          1.8388490907372552,
          4.416324239136413,
          3.4094258686714434,
          6.665100938267192,
          1.8512583487190752,
          2.161368002234975,
          4.28517460125202,
          3.2853322276438846,
          2.677606952720493,
          2.439332693830263,
          4.315760490665735,
          5.1695363076258385,
          3.7333577879255855,
          2.842609239610562,
          2.322219294733919,
          3.6814221557210085,
          3.06595298031387,
          5.653118889096,
          4.956211665605698,
          5.894464495123643,
          2.6720978579357175,
          3.6994040818153375,
          4.832885563659696,
          4.2884728005997825,
          4.185825359612962,
          3.7218106152125467,
          2.4785664955938436,
          3.218535505216528,
          4.744011187190715,
          4.022675761953727,
          4.386623796125078,
          3.7329563695756245,
          1.380211241711606,
          5.040353083240644,
          5.1135824038609785,
          5.010193914768475,
          4.446443960831864,
          3.7005306569785916,
          2.561101383649056,
          3.4818724103106633,
          3.727785174182906,
          4.851765748564212,
          1.1139433523068367,
          2.6541765418779604,
          1.505149978319906,
          3.9679222067305173,
          5.682272366495314,
          3.1245042248342823,
          3.940317221574218,
          3.549248556854056,
          3.643353961976863,
          5.444154136878365,
          4.664199935938319,
          2.552668216112193,
          4.211814430456818,
          1.146128035678238,
          1.380211241711606,
          3.3492775274679554,
          4.941720082370631,
          2.4082399653118496,
          4.018450832386356,
          3.362293937964231,
          3.403977963669355,
          3.9368152311976328,
          1.0791812460476249,
          4.861385040442466,
          4.326335860928752,
          3.39375064034808,
          6.75834542708072,
          5.410588295267406,
          5.636285245187767,
          5.521967943942872,
          4.527307604395023,
          2.531478917042255,
          5.311096625999569,
          5.480778496056867,
          3.730216840568694,
          4.9033125058983185,
          2.6009728956867484,
          3.7811807209372614,
          5.143916820458915,
          4.572267350134817,
          4.183839037056421,
          5.005605158128044,
          4.660457542748348,
          1.3617278360175928,
          3.196452541703389,
          4.50231784976574,
          3.1535099893008374,
          3.1261314072619846,
          4.478523208272323,
          2.0681858617461617,
          3.594613509160098,
          3.9079485216122722,
          4.208629438315688,
          3.759365621655929,
          4.021396056741971,
          3.994976673649691,
          3.4820155764507117,
          3.455910240382743,
          3.8706964579892498,
          2.5646660642520893,
          5.851288320120938,
          4.683335270857296,
          2.298853076409707,
          2.4955443375464483,
          3.9744195738522863,
          1.1139433523068367,
          5.032389063889598,
          3.8610562445768735,
          3.893595333819883,
          4.027879409207207,
          4.831255315204607,
          5.0021358113361,
          1.414973347970818,
          3.16761267272753,
          3.7063763558396903,
          3.076640443670342,
          4.761356418016348,
          4.2316989107643925,
          1.8388490907372552,
          4.1189918001959756,
          4.979270592349157,
          5.4888565889657235,
          4.673177630571002,
          5.033383541173119,
          2.725094521081469,
          4.551096074586321,
          5.893592559475504,
          5.469219474651749,
          4.912078508319208,
          4.847973456264566,
          4.629929218138726,
          5.094034168667261,
          5.066008942491887,
          6.050086131190189,
          3.6793370305207937,
          1.2787536009528289,
          1.4313637641589874,
          1.806179973983887,
          2.859138297294531,
          2.958085848521085,
          5.520298770904951,
          4.170114969496652,
          4.519565500880509,
          2.155336037465062,
          3.339053735709139,
          4.7607164374741995,
          2.7895807121644256,
          3.8614746688571686,
          3.6715430852625737,
          3.5397032389478253,
          5.822944405940159,
          4.368119458615029,
          3.424881636631067,
          5.841081533194599,
          3.5216610151120733,
          4.132835804338372,
          3.6793370305207937,
          4.953063489894306,
          4.7074339054718095,
          3.593728998707911,
          2.7067177823367587,
          3.97657921864011,
          3.5460488664017342,
          1.4313637641589874,
          3.230704313612569,
          3.616580530085886,
          4.096179784714798,
          5.488647998848287,
          2.829946695941636,
          3.8375253094496014,
          5.2665468340080315,
          4.94215692846749,
          5.612496703748733,
          2.7067177823367587,
          3.110589710299249,
          6.840996614183815,
          3.289142835932333,
          4.7297073187850645,
          4.841603457882591,
          3.028977705208778,
          2.884228769632604,
          3.307923703611882,
          4.1596574112477045,
          3.887898488096872
         ]
        }
       ],
       "layout": {
        "autosize": true,
        "coloraxis": {
         "colorbar": {
          "title": {
           "text": "Confirmed cases (log scale)"
          }
         },
         "colorscale": [
          [
           0,
           "rgb(247,251,255)"
          ],
          [
           0.125,
           "rgb(222,235,247)"
          ],
          [
           0.25,
           "rgb(198,219,239)"
          ],
          [
           0.375,
           "rgb(158,202,225)"
          ],
          [
           0.5,
           "rgb(107,174,214)"
          ],
          [
           0.625,
           "rgb(66,146,198)"
          ],
          [
           0.75,
           "rgb(33,113,181)"
          ],
          [
           0.875,
           "rgb(8,81,156)"
          ],
          [
           1,
           "rgb(8,48,107)"
          ]
         ]
        },
        "geo": {
         "center": {},
         "domain": {
          "x": [
           0,
           1
          ],
          "y": [
           0,
           1
          ]
         },
         "fitbounds": "locations",
         "visible": false
        },
        "legend": {
         "tracegroupgap": 0
        },
        "margin": {
         "t": 60
        },
        "template": {
         "data": {
          "bar": [
           {
            "error_x": {
             "color": "#2a3f5f"
            },
            "error_y": {
             "color": "#2a3f5f"
            },
            "marker": {
             "line": {
              "color": "#E5ECF6",
              "width": 0.5
             }
            },
            "type": "bar"
           }
          ],
          "barpolar": [
           {
            "marker": {
             "line": {
              "color": "#E5ECF6",
              "width": 0.5
             }
            },
            "type": "barpolar"
           }
          ],
          "carpet": [
           {
            "aaxis": {
             "endlinecolor": "#2a3f5f",
             "gridcolor": "white",
             "linecolor": "white",
             "minorgridcolor": "white",
             "startlinecolor": "#2a3f5f"
            },
            "baxis": {
             "endlinecolor": "#2a3f5f",
             "gridcolor": "white",
             "linecolor": "white",
             "minorgridcolor": "white",
             "startlinecolor": "#2a3f5f"
            },
            "type": "carpet"
           }
          ],
          "choropleth": [
           {
            "colorbar": {
             "outlinewidth": 0,
             "ticks": ""
            },
            "type": "choropleth"
           }
          ],
          "contour": [
           {
            "colorbar": {
             "outlinewidth": 0,
             "ticks": ""
            },
            "colorscale": [
             [
              0,
              "#0d0887"
             ],
             [
              0.1111111111111111,
              "#46039f"
             ],
             [
              0.2222222222222222,
              "#7201a8"
             ],
             [
              0.3333333333333333,
              "#9c179e"
             ],
             [
              0.4444444444444444,
              "#bd3786"
             ],
             [
              0.5555555555555556,
              "#d8576b"
             ],
             [
              0.6666666666666666,
              "#ed7953"
             ],
             [
              0.7777777777777778,
              "#fb9f3a"
             ],
             [
              0.8888888888888888,
              "#fdca26"
             ],
             [
              1,
              "#f0f921"
             ]
            ],
            "type": "contour"
           }
          ],
          "contourcarpet": [
           {
            "colorbar": {
             "outlinewidth": 0,
             "ticks": ""
            },
            "type": "contourcarpet"
           }
          ],
          "heatmap": [
           {
            "colorbar": {
             "outlinewidth": 0,
             "ticks": ""
            },
            "colorscale": [
             [
              0,
              "#0d0887"
             ],
             [
              0.1111111111111111,
              "#46039f"
             ],
             [
              0.2222222222222222,
              "#7201a8"
             ],
             [
              0.3333333333333333,
              "#9c179e"
             ],
             [
              0.4444444444444444,
              "#bd3786"
             ],
             [
              0.5555555555555556,
              "#d8576b"
             ],
             [
              0.6666666666666666,
              "#ed7953"
             ],
             [
              0.7777777777777778,
              "#fb9f3a"
             ],
             [
              0.8888888888888888,
              "#fdca26"
             ],
             [
              1,
              "#f0f921"
             ]
            ],
            "type": "heatmap"
           }
          ],
          "heatmapgl": [
           {
            "colorbar": {
             "outlinewidth": 0,
             "ticks": ""
            },
            "colorscale": [
             [
              0,
              "#0d0887"
             ],
             [
              0.1111111111111111,
              "#46039f"
             ],
             [
              0.2222222222222222,
              "#7201a8"
             ],
             [
              0.3333333333333333,
              "#9c179e"
             ],
             [
              0.4444444444444444,
              "#bd3786"
             ],
             [
              0.5555555555555556,
              "#d8576b"
             ],
             [
              0.6666666666666666,
              "#ed7953"
             ],
             [
              0.7777777777777778,
              "#fb9f3a"
             ],
             [
              0.8888888888888888,
              "#fdca26"
             ],
             [
              1,
              "#f0f921"
             ]
            ],
            "type": "heatmapgl"
           }
          ],
          "histogram": [
           {
            "marker": {
             "colorbar": {
              "outlinewidth": 0,
              "ticks": ""
             }
            },
            "type": "histogram"
           }
          ],
          "histogram2d": [
           {
            "colorbar": {
             "outlinewidth": 0,
             "ticks": ""
            },
            "colorscale": [
             [
              0,
              "#0d0887"
             ],
             [
              0.1111111111111111,
              "#46039f"
             ],
             [
              0.2222222222222222,
              "#7201a8"
             ],
             [
              0.3333333333333333,
              "#9c179e"
             ],
             [
              0.4444444444444444,
              "#bd3786"
             ],
             [
              0.5555555555555556,
              "#d8576b"
             ],
             [
              0.6666666666666666,
              "#ed7953"
             ],
             [
              0.7777777777777778,
              "#fb9f3a"
             ],
             [
              0.8888888888888888,
              "#fdca26"
             ],
             [
              1,
              "#f0f921"
             ]
            ],
            "type": "histogram2d"
           }
          ],
          "histogram2dcontour": [
           {
            "colorbar": {
             "outlinewidth": 0,
             "ticks": ""
            },
            "colorscale": [
             [
              0,
              "#0d0887"
             ],
             [
              0.1111111111111111,
              "#46039f"
             ],
             [
              0.2222222222222222,
              "#7201a8"
             ],
             [
              0.3333333333333333,
              "#9c179e"
             ],
             [
              0.4444444444444444,
              "#bd3786"
             ],
             [
              0.5555555555555556,
              "#d8576b"
             ],
             [
              0.6666666666666666,
              "#ed7953"
             ],
             [
              0.7777777777777778,
              "#fb9f3a"
             ],
             [
              0.8888888888888888,
              "#fdca26"
             ],
             [
              1,
              "#f0f921"
             ]
            ],
            "type": "histogram2dcontour"
           }
          ],
          "mesh3d": [
           {
            "colorbar": {
             "outlinewidth": 0,
             "ticks": ""
            },
            "type": "mesh3d"
           }
          ],
          "parcoords": [
           {
            "line": {
             "colorbar": {
              "outlinewidth": 0,
              "ticks": ""
             }
            },
            "type": "parcoords"
           }
          ],
          "pie": [
           {
            "automargin": true,
            "type": "pie"
           }
          ],
          "scatter": [
           {
            "marker": {
             "colorbar": {
              "outlinewidth": 0,
              "ticks": ""
             }
            },
            "type": "scatter"
           }
          ],
          "scatter3d": [
           {
            "line": {
             "colorbar": {
              "outlinewidth": 0,
              "ticks": ""
             }
            },
            "marker": {
             "colorbar": {
              "outlinewidth": 0,
              "ticks": ""
             }
            },
            "type": "scatter3d"
           }
          ],
          "scattercarpet": [
           {
            "marker": {
             "colorbar": {
              "outlinewidth": 0,
              "ticks": ""
             }
            },
            "type": "scattercarpet"
           }
          ],
          "scattergeo": [
           {
            "marker": {
             "colorbar": {
              "outlinewidth": 0,
              "ticks": ""
             }
            },
            "type": "scattergeo"
           }
          ],
          "scattergl": [
           {
            "marker": {
             "colorbar": {
              "outlinewidth": 0,
              "ticks": ""
             }
            },
            "type": "scattergl"
           }
          ],
          "scattermapbox": [
           {
            "marker": {
             "colorbar": {
              "outlinewidth": 0,
              "ticks": ""
             }
            },
            "type": "scattermapbox"
           }
          ],
          "scatterpolar": [
           {
            "marker": {
             "colorbar": {
              "outlinewidth": 0,
              "ticks": ""
             }
            },
            "type": "scatterpolar"
           }
          ],
          "scatterpolargl": [
           {
            "marker": {
             "colorbar": {
              "outlinewidth": 0,
              "ticks": ""
             }
            },
            "type": "scatterpolargl"
           }
          ],
          "scatterternary": [
           {
            "marker": {
             "colorbar": {
              "outlinewidth": 0,
              "ticks": ""
             }
            },
            "type": "scatterternary"
           }
          ],
          "surface": [
           {
            "colorbar": {
             "outlinewidth": 0,
             "ticks": ""
            },
            "colorscale": [
             [
              0,
              "#0d0887"
             ],
             [
              0.1111111111111111,
              "#46039f"
             ],
             [
              0.2222222222222222,
              "#7201a8"
             ],
             [
              0.3333333333333333,
              "#9c179e"
             ],
             [
              0.4444444444444444,
              "#bd3786"
             ],
             [
              0.5555555555555556,
              "#d8576b"
             ],
             [
              0.6666666666666666,
              "#ed7953"
             ],
             [
              0.7777777777777778,
              "#fb9f3a"
             ],
             [
              0.8888888888888888,
              "#fdca26"
             ],
             [
              1,
              "#f0f921"
             ]
            ],
            "type": "surface"
           }
          ],
          "table": [
           {
            "cells": {
             "fill": {
              "color": "#EBF0F8"
             },
             "line": {
              "color": "white"
             }
            },
            "header": {
             "fill": {
              "color": "#C8D4E3"
             },
             "line": {
              "color": "white"
             }
            },
            "type": "table"
           }
          ]
         },
         "layout": {
          "annotationdefaults": {
           "arrowcolor": "#2a3f5f",
           "arrowhead": 0,
           "arrowwidth": 1
          },
          "coloraxis": {
           "colorbar": {
            "outlinewidth": 0,
            "ticks": ""
           }
          },
          "colorscale": {
           "diverging": [
            [
             0,
             "#8e0152"
            ],
            [
             0.1,
             "#c51b7d"
            ],
            [
             0.2,
             "#de77ae"
            ],
            [
             0.3,
             "#f1b6da"
            ],
            [
             0.4,
             "#fde0ef"
            ],
            [
             0.5,
             "#f7f7f7"
            ],
            [
             0.6,
             "#e6f5d0"
            ],
            [
             0.7,
             "#b8e186"
            ],
            [
             0.8,
             "#7fbc41"
            ],
            [
             0.9,
             "#4d9221"
            ],
            [
             1,
             "#276419"
            ]
           ],
           "sequential": [
            [
             0,
             "#0d0887"
            ],
            [
             0.1111111111111111,
             "#46039f"
            ],
            [
             0.2222222222222222,
             "#7201a8"
            ],
            [
             0.3333333333333333,
             "#9c179e"
            ],
            [
             0.4444444444444444,
             "#bd3786"
            ],
            [
             0.5555555555555556,
             "#d8576b"
            ],
            [
             0.6666666666666666,
             "#ed7953"
            ],
            [
             0.7777777777777778,
             "#fb9f3a"
            ],
            [
             0.8888888888888888,
             "#fdca26"
            ],
            [
             1,
             "#f0f921"
            ]
           ],
           "sequentialminus": [
            [
             0,
             "#0d0887"
            ],
            [
             0.1111111111111111,
             "#46039f"
            ],
            [
             0.2222222222222222,
             "#7201a8"
            ],
            [
             0.3333333333333333,
             "#9c179e"
            ],
            [
             0.4444444444444444,
             "#bd3786"
            ],
            [
             0.5555555555555556,
             "#d8576b"
            ],
            [
             0.6666666666666666,
             "#ed7953"
            ],
            [
             0.7777777777777778,
             "#fb9f3a"
            ],
            [
             0.8888888888888888,
             "#fdca26"
            ],
            [
             1,
             "#f0f921"
            ]
           ]
          },
          "colorway": [
           "#636efa",
           "#EF553B",
           "#00cc96",
           "#ab63fa",
           "#FFA15A",
           "#19d3f3",
           "#FF6692",
           "#B6E880",
           "#FF97FF",
           "#FECB52"
          ],
          "font": {
           "color": "#2a3f5f"
          },
          "geo": {
           "bgcolor": "white",
           "lakecolor": "white",
           "landcolor": "#E5ECF6",
           "showlakes": true,
           "showland": true,
           "subunitcolor": "white"
          },
          "hoverlabel": {
           "align": "left"
          },
          "hovermode": "closest",
          "mapbox": {
           "style": "light"
          },
          "paper_bgcolor": "white",
          "plot_bgcolor": "#E5ECF6",
          "polar": {
           "angularaxis": {
            "gridcolor": "white",
            "linecolor": "white",
            "ticks": ""
           },
           "bgcolor": "#E5ECF6",
           "radialaxis": {
            "gridcolor": "white",
            "linecolor": "white",
            "ticks": ""
           }
          },
          "scene": {
           "xaxis": {
            "backgroundcolor": "#E5ECF6",
            "gridcolor": "white",
            "gridwidth": 2,
            "linecolor": "white",
            "showbackground": true,
            "ticks": "",
            "zerolinecolor": "white"
           },
           "yaxis": {
            "backgroundcolor": "#E5ECF6",
            "gridcolor": "white",
            "gridwidth": 2,
            "linecolor": "white",
            "showbackground": true,
            "ticks": "",
            "zerolinecolor": "white"
           },
           "zaxis": {
            "backgroundcolor": "#E5ECF6",
            "gridcolor": "white",
            "gridwidth": 2,
            "linecolor": "white",
            "showbackground": true,
            "ticks": "",
            "zerolinecolor": "white"
           }
          },
          "shapedefaults": {
           "line": {
            "color": "#2a3f5f"
           }
          },
          "ternary": {
           "aaxis": {
            "gridcolor": "white",
            "linecolor": "white",
            "ticks": ""
           },
           "baxis": {
            "gridcolor": "white",
            "linecolor": "white",
            "ticks": ""
           },
           "bgcolor": "#E5ECF6",
           "caxis": {
            "gridcolor": "white",
            "linecolor": "white",
            "ticks": ""
           }
          },
          "title": {
           "x": 0.05
          },
          "xaxis": {
           "automargin": true,
           "gridcolor": "white",
           "linecolor": "white",
           "ticks": "",
           "title": {
            "standoff": 15
           },
           "zerolinecolor": "white",
           "zerolinewidth": 2
          },
          "yaxis": {
           "automargin": true,
           "gridcolor": "white",
           "linecolor": "white",
           "ticks": "",
           "title": {
            "standoff": 15
           },
           "zerolinecolor": "white",
           "zerolinewidth": 2
          }
         }
        },
        "title": {
         "text": "Confirmed cases of covid 19 (log scale)"
        }
       }
      },
      "image/png": "[encoded data removed]",
      "text/html": [
       "<div>                            <div id=\"a4315d33-6798-4ae6-8931-455b52cd2acc\" class=\"plotly-graph-div\" style=\"height:525px; width:100%;\"></div>            <script type=\"text/javascript\">                require([\"plotly\"], function(Plotly) {                    window.PLOTLYENV=window.PLOTLYENV || {};                                    if (document.getElementById(\"a4315d33-6798-4ae6-8931-455b52cd2acc\")) {                    Plotly.newPlot(                        \"a4315d33-6798-4ae6-8931-455b52cd2acc\",                        [{\"coloraxis\": \"coloraxis\", \"customdata\": [[39170], [12787], [50400], [1753], [4236], [3], [97], [664799], [47877], [3721], [26973], [40558], [39524], [3618], [66402], [353844], [189], [76357], [106793], [1706], [2325], [181], [261], [131990], [69], [26081], [2567], [4624885], [71], [145], [19283], [1929], [476], [275], [20690], [147753], [5412], [696], [210], [4802], [1164], [449903], [90409], [784268], [470], [5005], [68059], [19430], [15340], [5270], [301], [1654], [55464], [10536], [24357], [5407], [24], [109737], [129892], [102375], [27954], [5018], [364], [3033], [5343], [71083], [13], [451], [32], [9288], [481141], [1332], [8716], [3542], [4399], [278070], [46153], [357], [16286], [14], [24], [2235], [87442], [256], [10434], [2303], [2535], [8646], [12], [72675], [21200], [2476], [5732518], [257388], [432798], [332635], [33675], [340], [204690], [302537], [5373], [80041], [399], [6042], [139289], [37348], [15270], [101299], [45757], [23], [1572], [31792], [1424], [1337], [30097], [117], [3932], [8090], [16167], [5746], [10505], [9885], [3034], [2857], [7425], [367], [710049], [48232], [199], [313], [9428], [13], [107743], [7262], [7827], [10663], [67804], [100493], [26], [1471], [5086], [1193], [57724], [17049], [69], [13152], [95339], [308217], [47117], [107990], [531], [35571], [782695], [294591], [81673], [70465], [42651], [124175], [116415], [1122241], [4779], [19], [27], [64], [723], [908], [331359], [14795], [33080], [143], [2183], [57639], [616], [7269], [4694], [3465], [665188], [23341], [2660], [693556], [3324], [13578], [4779], [89756], [50984], [3924], [509], [9475], [3516], [27], [1701], [4136], [12479], [308069], [676], [6879], [184734], [87530], [409729], [509], [1290], [6934204], [1946], [53667], [69439], [1069], [766], [2032], [14443], [7725]], \"geo\": \"geo\", \"hovertemplate\": \"<b>%{hovertext}</b><br><br>Country_code=%{location}<br>cases=%{customdata[0]}<br>color=%{z}<extra></extra>\", \"hovertext\": [\"Afghanistan\", \"Albania\", \"Algeria\", \"Andorra\", \"Angola\", \"Anguilla\", \"Antigua_and_Barbuda\", \"Argentina\", \"Armenia\", \"Aruba\", \"Australia\", \"Austria\", \"Azerbaijan\", \"Bahamas\", \"Bahrain\", \"Bangladesh\", \"Barbados\", \"Belarus\", \"Belgium\", \"Belize\", \"Benin\", \"Bermuda\", \"Bhutan\", \"Bolivia\", \"Bonaire, Saint Eustatius and Saba\", \"Bosnia_and_Herzegovina\", \"Botswana\", \"Brazil\", \"British_Virgin_Islands\", \"Brunei_Darussalam\", \"Bulgaria\", \"Burkina_Faso\", \"Burundi\", \"Cambodia\", \"Cameroon\", \"Canada\", \"Cape_Verde\", \"Cases_on_an_international_conveyance_Japan\", \"Cayman_Islands\", \"Central_African_Republic\", \"Chad\", \"Chile\", \"China\", \"Colombia\", \"Comoros\", \"Congo\", \"Costa_Rica\", \"Cote_dIvoire\", \"Croatia\", \"Cuba\", \"Cura\\u00e7ao\", \"Cyprus\", \"Czechia\", \"Democratic_Republic_of_the_Congo\", \"Denmark\", \"Djibouti\", \"Dominica\", \"Dominican_Republic\", \"Ecuador\", \"Egypt\", \"El_Salvador\", \"Equatorial_Guinea\", \"Eritrea\", \"Estonia\", \"Eswatini\", \"Ethiopia\", \"Falkland_Islands_(Malvinas)\", \"Faroe_Islands\", \"Fiji\", \"Finland\", \"France\", \"French_Polynesia\", \"Gabon\", \"Gambia\", \"Georgia\", \"Germany\", \"Ghana\", \"Gibraltar\", \"Greece\", \"Greenland\", \"Grenada\", \"Guam\", \"Guatemala\", \"Guernsey\", \"Guinea\", \"Guinea_Bissau\", \"Guyana\", \"Haiti\", \"Holy_See\", \"Honduras\", \"Hungary\", \"Iceland\", \"India\", \"Indonesia\", \"Iran\", \"Iraq\", \"Ireland\", \"Isle_of_Man\", \"Israel\", \"Italy\", \"Jamaica\", \"Japan\", \"Jersey\", \"Jordan\", \"Kazakhstan\", \"Kenya\", \"Kosovo\", \"Kuwait\", \"Kyrgyzstan\", \"Laos\", \"Latvia\", \"Lebanon\", \"Lesotho\", \"Liberia\", \"Libya\", \"Liechtenstein\", \"Lithuania\", \"Luxembourg\", \"Madagascar\", \"Malawi\", \"Malaysia\", \"Maldives\", \"Mali\", \"Malta\", \"Mauritania\", \"Mauritius\", \"Mexico\", \"Moldova\", \"Monaco\", \"Mongolia\", \"Montenegro\", \"Montserrat\", \"Morocco\", \"Mozambique\", \"Myanmar\", \"Namibia\", \"Nepal\", \"Netherlands\", \"New_Caledonia\", \"New_Zealand\", \"Nicaragua\", \"Niger\", \"Nigeria\", \"North_Macedonia\", \"Northern_Mariana_Islands\", \"Norway\", \"Oman\", \"Pakistan\", \"Palestine\", \"Panama\", \"Papua_New_Guinea\", \"Paraguay\", \"Peru\", \"Philippines\", \"Poland\", \"Portugal\", \"Puerto_Rico\", \"Qatar\", \"Romania\", \"Russia\", \"Rwanda\", \"Saint_Kitts_and_Nevis\", \"Saint_Lucia\", \"Saint_Vincent_and_the_Grenadines\", \"San_Marino\", \"Sao_Tome_and_Principe\", \"Saudi_Arabia\", \"Senegal\", \"Serbia\", \"Seychelles\", \"Sierra_Leone\", \"Singapore\", \"Sint_Maarten\", \"Slovakia\", \"Slovenia\", \"Somalia\", \"South_Africa\", \"South_Korea\", \"South_Sudan\", \"Spain\", \"Sri_Lanka\", \"Sudan\", \"Suriname\", \"Sweden\", \"Switzerland\", \"Syria\", \"Taiwan\", \"Tajikistan\", \"Thailand\", \"Timor_Leste\", \"Togo\", \"Trinidad_and_Tobago\", \"Tunisia\", \"Turkey\", \"Turks_and_Caicos_islands\", \"Uganda\", \"Ukraine\", \"United_Arab_Emirates\", \"United_Kingdom\", \"United_Republic_of_Tanzania\", \"United_States_Virgin_Islands\", \"United_States_of_America\", \"Uruguay\", \"Uzbekistan\", \"Venezuela\", \"Vietnam\", \"Western_Sahara\", \"Yemen\", \"Zambia\", \"Zimbabwe\"], \"locations\": [\"AFG\", \"ALB\", \"DZA\", \"AND\", \"AGO\", \"AIA\", \"ATG\", \"ARG\", \"ARM\", \"ABW\", \"AUS\", \"AUT\", \"AZE\", \"BHS\", \"BHR\", \"BGD\", \"BRB\", \"BLR\", \"BEL\", \"BLZ\", \"BEN\", \"BMU\", \"BTN\", \"BOL\", \"BES\", \"BIH\", \"BWA\", \"BRA\", \"VGB\", \"BRN\", \"BGR\", \"BFA\", \"BDI\", \"KHM\", \"CMR\", \"CAN\", \"not found\", \"JPN\", \"CYM\", \"CAF\", \"TCD\", \"CHL\", \"CHN\", \"COL\", \"COM\", \"COG\", \"CRI\", \"CIV\", \"HRV\", \"CUB\", \"CUW\", \"CYP\", \"CZE\", \"COD\", \"DNK\", \"DJI\", \"DMA\", \"DOM\", \"ECU\", \"EGY\", \"SLV\", \"GNQ\", \"ERI\", \"EST\", \"SWZ\", \"ETH\", \"FLK\", \"FRO\", \"FJI\", \"FIN\", \"FRA\", \"PYF\", \"GAB\", \"GMB\", \"GEO\", \"DEU\", \"GHA\", \"GIB\", \"GRC\", \"GRL\", \"GRD\", \"GUM\", \"GTM\", \"GGY\", \"GIN\", \"GNB\", \"GUY\", \"HTI\", \"VAT\", \"HND\", \"HUN\", \"ISL\", \"IND\", \"IDN\", \"IRN\", \"IRQ\", \"IRL\", \"not found\", \"ISR\", \"ITA\", \"JAM\", \"JPN\", \"JEY\", \"JOR\", \"KAZ\", \"KEN\", \"XKX\", \"KWT\", \"KGZ\", \"LAO\", \"LVA\", \"LBN\", \"LSO\", \"LBR\", \"LBY\", \"LIE\", \"LTU\", \"LUX\", \"MDG\", \"MWI\", \"MYS\", \"MDV\", \"MLI\", \"MLT\", \"MRT\", \"MUS\", \"MEX\", \"MDA\", \"MCO\", \"MNG\", \"MNE\", \"MSR\", \"MAR\", \"MOZ\", \"MMR\", \"NAM\", \"NPL\", \"NLD\", \"NCL\", \"NZL\", \"NIC\", \"NER\", \"NGA\", \"MKD\", \"MNP\", \"NOR\", \"OMN\", \"PAK\", \"PSE\", \"PAN\", \"PNG\", \"PRY\", \"PER\", \"PHL\", \"POL\", \"PRT\", \"PRI\", \"QAT\", \"ROU\", \"RUS\", \"RWA\", \"KNA\", \"not found\", \"VCT\", \"SMR\", \"STP\", \"SAU\", \"SEN\", \"SRB\", \"SYC\", \"SLE\", \"SGP\", \"SXM\", \"SVK\", \"SVN\", \"SOM\", \"ZAF\", \"not found\", \"SSD\", \"ESP\", \"LKA\", \"SDN\", \"SUR\", \"SWE\", \"CHE\", \"SYR\", \"TWN\", \"TJK\", \"THA\", \"TLS\", \"TGO\", \"TTO\", \"TUN\", \"TUR\", \"TCA\", \"UGA\", \"UKR\", \"ARE\", \"GBR\", \"TZA\", \"VIR\", \"USA\", \"URY\", \"UZB\", \"VEN\", \"VNM\", \"ESH\", \"YEM\", \"ZMB\", \"ZWE\"], \"name\": \"\", \"type\": \"choropleth\", \"z\": [4.5929535715478655, 4.106768665176806, 4.702430536445525, 3.243781916093795, 3.6269559514354475, 0.47712125471966244, 1.9867717342662448, 5.822690357504682, 4.680126929448146, 3.5706596700215343, 4.43092925238497, 4.608076530882, 4.596860890622566, 3.558468562523795, 4.82218116033011, 5.548811835835063, 2.2764618041732443, 4.882848857005024, 5.028542786765523, 3.231979026831504, 3.3664229572259727, 2.2576785748691846, 2.416640507338281, 5.120541028862419, 1.8388490907372552, 4.416324239136413, 3.4094258686714434, 6.665100938267192, 1.8512583487190752, 2.161368002234975, 4.28517460125202, 3.2853322276438846, 2.677606952720493, 2.439332693830263, 4.315760490665735, 5.1695363076258385, 3.7333577879255855, 2.842609239610562, 2.322219294733919, 3.6814221557210085, 3.06595298031387, 5.653118889096, 4.956211665605698, 5.894464495123643, 2.6720978579357175, 3.6994040818153375, 4.832885563659696, 4.2884728005997825, 4.185825359612962, 3.7218106152125467, 2.4785664955938436, 3.218535505216528, 4.744011187190715, 4.022675761953727, 4.386623796125078, 3.7329563695756245, 1.380211241711606, 5.040353083240644, 5.1135824038609785, 5.010193914768475, 4.446443960831864, 3.7005306569785916, 2.561101383649056, 3.4818724103106633, 3.727785174182906, 4.851765748564212, 1.1139433523068367, 2.6541765418779604, 1.505149978319906, 3.9679222067305173, 5.682272366495314, 3.1245042248342823, 3.940317221574218, 3.549248556854056, 3.643353961976863, 5.444154136878365, 4.664199935938319, 2.552668216112193, 4.211814430456818, 1.146128035678238, 1.380211241711606, 3.3492775274679554, 4.941720082370631, 2.4082399653118496, 4.018450832386356, 3.362293937964231, 3.403977963669355, 3.9368152311976328, 1.0791812460476249, 4.861385040442466, 4.326335860928752, 3.39375064034808, 6.75834542708072, 5.410588295267406, 5.636285245187767, 5.521967943942872, 4.527307604395023, 2.531478917042255, 5.311096625999569, 5.480778496056867, 3.730216840568694, 4.9033125058983185, 2.6009728956867484, 3.7811807209372614, 5.143916820458915, 4.572267350134817, 4.183839037056421, 5.005605158128044, 4.660457542748348, 1.3617278360175928, 3.196452541703389, 4.50231784976574, 3.1535099893008374, 3.1261314072619846, 4.478523208272323, 2.0681858617461617, 3.594613509160098, 3.9079485216122722, 4.208629438315688, 3.759365621655929, 4.021396056741971, 3.994976673649691, 3.4820155764507117, 3.455910240382743, 3.8706964579892498, 2.5646660642520893, 5.851288320120938, 4.683335270857296, 2.298853076409707, 2.4955443375464483, 3.9744195738522863, 1.1139433523068367, 5.032389063889598, 3.8610562445768735, 3.893595333819883, 4.027879409207207, 4.831255315204607, 5.0021358113361, 1.414973347970818, 3.16761267272753, 3.7063763558396903, 3.076640443670342, 4.761356418016348, 4.2316989107643925, 1.8388490907372552, 4.1189918001959756, 4.979270592349157, 5.4888565889657235, 4.673177630571002, 5.033383541173119, 2.725094521081469, 4.551096074586321, 5.893592559475504, 5.469219474651749, 4.912078508319208, 4.847973456264566, 4.629929218138726, 5.094034168667261, 5.066008942491887, 6.050086131190189, 3.6793370305207937, 1.2787536009528289, 1.4313637641589874, 1.806179973983887, 2.859138297294531, 2.958085848521085, 5.520298770904951, 4.170114969496652, 4.519565500880509, 2.155336037465062, 3.339053735709139, 4.7607164374741995, 2.7895807121644256, 3.8614746688571686, 3.6715430852625737, 3.5397032389478253, 5.822944405940159, 4.368119458615029, 3.424881636631067, 5.841081533194599, 3.5216610151120733, 4.132835804338372, 3.6793370305207937, 4.953063489894306, 4.7074339054718095, 3.593728998707911, 2.7067177823367587, 3.97657921864011, 3.5460488664017342, 1.4313637641589874, 3.230704313612569, 3.616580530085886, 4.096179784714798, 5.488647998848287, 2.829946695941636, 3.8375253094496014, 5.2665468340080315, 4.94215692846749, 5.612496703748733, 2.7067177823367587, 3.110589710299249, 6.840996614183815, 3.289142835932333, 4.7297073187850645, 4.841603457882591, 3.028977705208778, 2.884228769632604, 3.307923703611882, 4.1596574112477045, 3.887898488096872]}],                        {\"coloraxis\": {\"colorbar\": {\"title\": {\"text\": \"Confirmed cases (log scale)\"}}, \"colorscale\": [[0.0, \"rgb(247,251,255)\"], [0.125, \"rgb(222,235,247)\"], [0.25, \"rgb(198,219,239)\"], [0.375, \"rgb(158,202,225)\"], [0.5, \"rgb(107,174,214)\"], [0.625, \"rgb(66,146,198)\"], [0.75, \"rgb(33,113,181)\"], [0.875, \"rgb(8,81,156)\"], [1.0, \"rgb(8,48,107)\"]]}, \"geo\": {\"center\": {}, \"domain\": {\"x\": [0.0, 1.0], \"y\": [0.0, 1.0]}, \"fitbounds\": \"locations\", \"visible\": false}, \"legend\": {\"tracegroupgap\": 0}, \"margin\": {\"t\": 60}, \"template\": {\"data\": {\"bar\": [{\"error_x\": {\"color\": \"#2a3f5f\"}, \"error_y\": {\"color\": \"#2a3f5f\"}, \"marker\": {\"line\": {\"color\": \"#E5ECF6\", \"width\": 0.5}}, \"type\": \"bar\"}], \"barpolar\": [{\"marker\": {\"line\": {\"color\": \"#E5ECF6\", \"width\": 0.5}}, \"type\": \"barpolar\"}], \"carpet\": [{\"aaxis\": {\"endlinecolor\": \"#2a3f5f\", \"gridcolor\": \"white\", \"linecolor\": \"white\", \"minorgridcolor\": \"white\", \"startlinecolor\": \"#2a3f5f\"}, \"baxis\": {\"endlinecolor\": \"#2a3f5f\", \"gridcolor\": \"white\", \"linecolor\": \"white\", \"minorgridcolor\": \"white\", \"startlinecolor\": \"#2a3f5f\"}, \"type\": \"carpet\"}], \"choropleth\": [{\"colorbar\": {\"outlinewidth\": 0, \"ticks\": \"\"}, \"type\": \"choropleth\"}], \"contour\": [{\"colorbar\": {\"outlinewidth\": 0, \"ticks\": \"\"}, \"colorscale\": [[0.0, \"#0d0887\"], [0.1111111111111111, \"#46039f\"], [0.2222222222222222, \"#7201a8\"], [0.3333333333333333, \"#9c179e\"], [0.4444444444444444, \"#bd3786\"], [0.5555555555555556, \"#d8576b\"], [0.6666666666666666, \"#ed7953\"], [0.7777777777777778, \"#fb9f3a\"], [0.8888888888888888, \"#fdca26\"], [1.0, \"#f0f921\"]], \"type\": \"contour\"}], \"contourcarpet\": [{\"colorbar\": {\"outlinewidth\": 0, \"ticks\": \"\"}, \"type\": \"contourcarpet\"}], \"heatmap\": [{\"colorbar\": {\"outlinewidth\": 0, \"ticks\": \"\"}, \"colorscale\": [[0.0, \"#0d0887\"], [0.1111111111111111, \"#46039f\"], [0.2222222222222222, \"#7201a8\"], [0.3333333333333333, \"#9c179e\"], [0.4444444444444444, \"#bd3786\"], [0.5555555555555556, \"#d8576b\"], [0.6666666666666666, \"#ed7953\"], [0.7777777777777778, \"#fb9f3a\"], [0.8888888888888888, \"#fdca26\"], [1.0, \"#f0f921\"]], \"type\": \"heatmap\"}], \"heatmapgl\": [{\"colorbar\": {\"outlinewidth\": 0, \"ticks\": \"\"}, \"colorscale\": [[0.0, \"#0d0887\"], [0.1111111111111111, \"#46039f\"], [0.2222222222222222, \"#7201a8\"], [0.3333333333333333, \"#9c179e\"], [0.4444444444444444, \"#bd3786\"], [0.5555555555555556, \"#d8576b\"], [0.6666666666666666, \"#ed7953\"], [0.7777777777777778, \"#fb9f3a\"], [0.8888888888888888, \"#fdca26\"], [1.0, \"#f0f921\"]], \"type\": \"heatmapgl\"}], \"histogram\": [{\"marker\": {\"colorbar\": {\"outlinewidth\": 0, \"ticks\": \"\"}}, \"type\": \"histogram\"}], \"histogram2d\": [{\"colorbar\": {\"outlinewidth\": 0, \"ticks\": \"\"}, \"colorscale\": [[0.0, \"#0d0887\"], [0.1111111111111111, \"#46039f\"], [0.2222222222222222, \"#7201a8\"], [0.3333333333333333, \"#9c179e\"], [0.4444444444444444, \"#bd3786\"], [0.5555555555555556, \"#d8576b\"], [0.6666666666666666, \"#ed7953\"], [0.7777777777777778, \"#fb9f3a\"], [0.8888888888888888, \"#fdca26\"], [1.0, \"#f0f921\"]], \"type\": \"histogram2d\"}], \"histogram2dcontour\": [{\"colorbar\": {\"outlinewidth\": 0, \"ticks\": \"\"}, \"colorscale\": [[0.0, \"#0d0887\"], [0.1111111111111111, \"#46039f\"], [0.2222222222222222, \"#7201a8\"], [0.3333333333333333, \"#9c179e\"], [0.4444444444444444, \"#bd3786\"], [0.5555555555555556, \"#d8576b\"], [0.6666666666666666, \"#ed7953\"], [0.7777777777777778, \"#fb9f3a\"], [0.8888888888888888, \"#fdca26\"], [1.0, \"#f0f921\"]], \"type\": \"histogram2dcontour\"}], \"mesh3d\": [{\"colorbar\": {\"outlinewidth\": 0, \"ticks\": \"\"}, \"type\": \"mesh3d\"}], \"parcoords\": [{\"line\": {\"colorbar\": {\"outlinewidth\": 0, \"ticks\": \"\"}}, \"type\": \"parcoords\"}], \"pie\": [{\"automargin\": true, \"type\": \"pie\"}], \"scatter\": [{\"marker\": {\"colorbar\": {\"outlinewidth\": 0, \"ticks\": \"\"}}, \"type\": \"scatter\"}], \"scatter3d\": [{\"line\": {\"colorbar\": {\"outlinewidth\": 0, \"ticks\": \"\"}}, \"marker\": {\"colorbar\": {\"outlinewidth\": 0, \"ticks\": \"\"}}, \"type\": \"scatter3d\"}], \"scattercarpet\": [{\"marker\": {\"colorbar\": {\"outlinewidth\": 0, \"ticks\": \"\"}}, \"type\": \"scattercarpet\"}], \"scattergeo\": [{\"marker\": {\"colorbar\": {\"outlinewidth\": 0, \"ticks\": \"\"}}, \"type\": \"scattergeo\"}], \"scattergl\": [{\"marker\": {\"colorbar\": {\"outlinewidth\": 0, \"ticks\": \"\"}}, \"type\": \"scattergl\"}], \"scattermapbox\": [{\"marker\": {\"colorbar\": {\"outlinewidth\": 0, \"ticks\": \"\"}}, \"type\": \"scattermapbox\"}], \"scatterpolar\": [{\"marker\": {\"colorbar\": {\"outlinewidth\": 0, \"ticks\": \"\"}}, \"type\": \"scatterpolar\"}], \"scatterpolargl\": [{\"marker\": {\"colorbar\": {\"outlinewidth\": 0, \"ticks\": \"\"}}, \"type\": \"scatterpolargl\"}], \"scatterternary\": [{\"marker\": {\"colorbar\": {\"outlinewidth\": 0, \"ticks\": \"\"}}, \"type\": \"scatterternary\"}], \"surface\": [{\"colorbar\": {\"outlinewidth\": 0, \"ticks\": \"\"}, \"colorscale\": [[0.0, \"#0d0887\"], [0.1111111111111111, \"#46039f\"], [0.2222222222222222, \"#7201a8\"], [0.3333333333333333, \"#9c179e\"], [0.4444444444444444, \"#bd3786\"], [0.5555555555555556, \"#d8576b\"], [0.6666666666666666, \"#ed7953\"], [0.7777777777777778, \"#fb9f3a\"], [0.8888888888888888, \"#fdca26\"], [1.0, \"#f0f921\"]], \"type\": \"surface\"}], \"table\": [{\"cells\": {\"fill\": {\"color\": \"#EBF0F8\"}, \"line\": {\"color\": \"white\"}}, \"header\": {\"fill\": {\"color\": \"#C8D4E3\"}, \"line\": {\"color\": \"white\"}}, \"type\": \"table\"}]}, \"layout\": {\"annotationdefaults\": {\"arrowcolor\": \"#2a3f5f\", \"arrowhead\": 0, \"arrowwidth\": 1}, \"coloraxis\": {\"colorbar\": {\"outlinewidth\": 0, \"ticks\": \"\"}}, \"colorscale\": {\"diverging\": [[0, \"#8e0152\"], [0.1, \"#c51b7d\"], [0.2, \"#de77ae\"], [0.3, \"#f1b6da\"], [0.4, \"#fde0ef\"], [0.5, \"#f7f7f7\"], [0.6, \"#e6f5d0\"], [0.7, \"#b8e186\"], [0.8, \"#7fbc41\"], [0.9, \"#4d9221\"], [1, \"#276419\"]], \"sequential\": [[0.0, \"#0d0887\"], [0.1111111111111111, \"#46039f\"], [0.2222222222222222, \"#7201a8\"], [0.3333333333333333, \"#9c179e\"], [0.4444444444444444, \"#bd3786\"], [0.5555555555555556, \"#d8576b\"], [0.6666666666666666, \"#ed7953\"], [0.7777777777777778, \"#fb9f3a\"], [0.8888888888888888, \"#fdca26\"], [1.0, \"#f0f921\"]], \"sequentialminus\": [[0.0, \"#0d0887\"], [0.1111111111111111, \"#46039f\"], [0.2222222222222222, \"#7201a8\"], [0.3333333333333333, \"#9c179e\"], [0.4444444444444444, \"#bd3786\"], [0.5555555555555556, \"#d8576b\"], [0.6666666666666666, \"#ed7953\"], [0.7777777777777778, \"#fb9f3a\"], [0.8888888888888888, \"#fdca26\"], [1.0, \"#f0f921\"]]}, \"colorway\": [\"#636efa\", \"#EF553B\", \"#00cc96\", \"#ab63fa\", \"#FFA15A\", \"#19d3f3\", \"#FF6692\", \"#B6E880\", \"#FF97FF\", \"#FECB52\"], \"font\": {\"color\": \"#2a3f5f\"}, \"geo\": {\"bgcolor\": \"white\", \"lakecolor\": \"white\", \"landcolor\": \"#E5ECF6\", \"showlakes\": true, \"showland\": true, \"subunitcolor\": \"white\"}, \"hoverlabel\": {\"align\": \"left\"}, \"hovermode\": \"closest\", \"mapbox\": {\"style\": \"light\"}, \"paper_bgcolor\": \"white\", \"plot_bgcolor\": \"#E5ECF6\", \"polar\": {\"angularaxis\": {\"gridcolor\": \"white\", \"linecolor\": \"white\", \"ticks\": \"\"}, \"bgcolor\": \"#E5ECF6\", \"radialaxis\": {\"gridcolor\": \"white\", \"linecolor\": \"white\", \"ticks\": \"\"}}, \"scene\": {\"xaxis\": {\"backgroundcolor\": \"#E5ECF6\", \"gridcolor\": \"white\", \"gridwidth\": 2, \"linecolor\": \"white\", \"showbackground\": true, \"ticks\": \"\", \"zerolinecolor\": \"white\"}, \"yaxis\": {\"backgroundcolor\": \"#E5ECF6\", \"gridcolor\": \"white\", \"gridwidth\": 2, \"linecolor\": \"white\", \"showbackground\": true, \"ticks\": \"\", \"zerolinecolor\": \"white\"}, \"zaxis\": {\"backgroundcolor\": \"#E5ECF6\", \"gridcolor\": \"white\", \"gridwidth\": 2, \"linecolor\": \"white\", \"showbackground\": true, \"ticks\": \"\", \"zerolinecolor\": \"white\"}}, \"shapedefaults\": {\"line\": {\"color\": \"#2a3f5f\"}}, \"ternary\": {\"aaxis\": {\"gridcolor\": \"white\", \"linecolor\": \"white\", \"ticks\": \"\"}, \"baxis\": {\"gridcolor\": \"white\", \"linecolor\": \"white\", \"ticks\": \"\"}, \"bgcolor\": \"#E5ECF6\", \"caxis\": {\"gridcolor\": \"white\", \"linecolor\": \"white\", \"ticks\": \"\"}}, \"title\": {\"x\": 0.05}, \"xaxis\": {\"automargin\": true, \"gridcolor\": \"white\", \"linecolor\": \"white\", \"ticks\": \"\", \"title\": {\"standoff\": 15}, \"zerolinecolor\": \"white\", \"zerolinewidth\": 2}, \"yaxis\": {\"automargin\": true, \"gridcolor\": \"white\", \"linecolor\": \"white\", \"ticks\": \"\", \"title\": {\"standoff\": 15}, \"zerolinecolor\": \"white\", \"zerolinewidth\": 2}}}, \"title\": {\"text\": \"Confirmed cases of covid 19 (log scale)\"}},                        {\"responsive\": true}                    ).then(function(){\n",
       "                            \n",
       "var gd = document.getElementById('a4315d33-6798-4ae6-8931-455b52cd2acc');\n",
       "var x = new MutationObserver(function (mutations, observer) {{\n",
       "        var display = window.getComputedStyle(gd).display;\n",
       "        if (!display || display === 'none') {{\n",
       "            console.log([gd, 'removed!']);\n",
       "            Plotly.purge(gd);\n",
       "            observer.disconnect();\n",
       "        }}\n",
       "}});\n",
       "\n",
       "// Listen for the removal of the full notebook cells\n",
       "var notebookContainer = gd.closest('#notebook-container');\n",
       "if (notebookContainer) {{\n",
       "    x.observe(notebookContainer, {childList: true});\n",
       "}}\n",
       "\n",
       "// Listen for the clearing of the current output cell\n",
       "var outputEl = gd.closest('.output');\n",
       "if (outputEl) {{\n",
       "    x.observe(outputEl, {childList: true});\n",
       "}}\n",
       "\n",
       "                        })                };                });            </script>        </div>"
      ]
     },
     "metadata": {},
     "output_type": "display_data"
    }
   ],
   "source": [
    "fig1 = px.choropleth(cases_and_deaths_in_each_country, locations=cases_and_deaths_in_each_country['Country_code'],\n",
    "                    color=np.log10(cases_and_deaths_in_each_country[\"cases\"]), # lifeExp is a column of gapminder\n",
    "                    hover_name=\"Country\", \n",
    "                    hover_data = ['cases'],\n",
    "                    color_continuous_scale='Blues') # column to add to hover information\n",
    "fig1.update_geos(fitbounds = 'locations', visible=False)\n",
    "fig1.update_layout(title_text = 'Confirmed cases of covid 19 (log scale)')\n",
    "fig1.update_coloraxes(colorbar_title = 'Confirmed cases (log scale)')\n"
   ]
  },
  {
   "cell_type": "code",
   "execution_count": 43,
   "metadata": {},
   "outputs": [
    {
     "data": {
      "application/vnd.plotly.v1+json": {
       "config": {
        "plotlyServerURL": "https://plotly.com"
       },
       "data": [
        {
         "coloraxis": "coloraxis",
         "customdata": [
          [
           1451
          ],
          [
           370
          ],
          [
           1698
          ],
          [
           53
          ],
          [
           155
          ],
          [
           0
          ],
          [
           3
          ],
          [
           14376
          ],
          [
           942
          ],
          [
           25
          ],
          [
           859
          ],
          [
           777
          ],
          [
           580
          ],
          [
           80
          ],
          [
           231
          ],
          [
           5044
          ],
          [
           7
          ],
          [
           796
          ],
          [
           9959
          ],
          [
           22
          ],
          [
           40
          ],
          [
           9
          ],
          [
           0
          ],
          [
           7731
          ],
          [
           1
          ],
          [
           790
          ],
          [
           13
          ],
          [
           138977
          ],
          [
           1
          ],
          [
           3
          ],
          [
           779
          ],
          [
           56
          ],
          [
           1
          ],
          [
           0
          ],
          [
           416
          ],
          [
           9243
          ],
          [
           54
          ],
          [
           7
          ],
          [
           1
          ],
          [
           62
          ],
          [
           82
          ],
          [
           12345
          ],
          [
           4738
          ],
          [
           24746
          ],
          [
           7
          ],
          [
           89
          ],
          [
           781
          ],
          [
           120
          ],
          [
           257
          ],
          [
           118
          ],
          [
           1
          ],
          [
           22
          ],
          [
           555
          ],
          [
           270
          ],
          [
           643
          ],
          [
           61
          ],
          [
           0
          ],
          [
           2074
          ],
          [
           11171
          ],
          [
           5822
          ],
          [
           819
          ],
          [
           83
          ],
          [
           0
          ],
          [
           64
          ],
          [
           108
          ],
          [
           1141
          ],
          [
           0
          ],
          [
           0
          ],
          [
           2
          ],
          [
           343
          ],
          [
           31459
          ],
          [
           5
          ],
          [
           54
          ],
          [
           110
          ],
          [
           25
          ],
          [
           9428
          ],
          [
           299
          ],
          [
           0
          ],
          [
           357
          ],
          [
           0
          ],
          [
           0
          ],
          [
           38
          ],
          [
           3154
          ],
          [
           13
          ],
          [
           65
          ],
          [
           39
          ],
          [
           69
          ],
          [
           225
          ],
          [
           0
          ],
          [
           2222
          ],
          [
           709
          ],
          [
           10
          ],
          [
           91149
          ],
          [
           9977
          ],
          [
           24840
          ],
          [
           8754
          ],
          [
           1794
          ],
          [
           24
          ],
          [
           1325
          ],
          [
           35758
          ],
          [
           76
          ],
          [
           1520
          ],
          [
           32
          ],
          [
           35
          ],
          [
           2045
          ],
          [
           664
          ],
          [
           616
          ],
          [
           590
          ],
          [
           1063
          ],
          [
           0
          ],
          [
           36
          ],
          [
           328
          ],
          [
           33
          ],
          [
           82
          ],
          [
           473
          ],
          [
           1
          ],
          [
           87
          ],
          [
           124
          ],
          [
           226
          ],
          [
           179
          ],
          [
           133
          ],
          [
           34
          ],
          [
           130
          ],
          [
           25
          ],
          [
           161
          ],
          [
           10
          ],
          [
           74949
          ],
          [
           1244
          ],
          [
           1
          ],
          [
           0
          ],
          [
           151
          ],
          [
           1
          ],
          [
           1918
          ],
          [
           49
          ],
          [
           133
          ],
          [
           117
          ],
          [
           436
          ],
          [
           6287
          ],
          [
           0
          ],
          [
           25
          ],
          [
           149
          ],
          [
           69
          ],
          [
           1102
          ],
          [
           710
          ],
          [
           2
          ],
          [
           267
          ],
          [
           875
          ],
          [
           6437
          ],
          [
           317
          ],
          [
           2291
          ],
          [
           7
          ],
          [
           727
          ],
          [
           31870
          ],
          [
           5091
          ],
          [
           2344
          ],
          [
           1928
          ],
          [
           617
          ],
          [
           212
          ],
          [
           4550
          ],
          [
           19799
          ],
          [
           27
          ],
          [
           0
          ],
          [
           0
          ],
          [
           0
          ],
          [
           42
          ],
          [
           15
          ],
          [
           4569
          ],
          [
           303
          ],
          [
           744
          ],
          [
           0
          ],
          [
           72
          ],
          [
           27
          ],
          [
           21
          ],
          [
           41
          ],
          [
           133
          ],
          [
           98
          ],
          [
           16206
          ],
          [
           393
          ],
          [
           49
          ],
          [
           31034
          ],
          [
           13
          ],
          [
           836
          ],
          [
           101
          ],
          [
           5876
          ],
          [
           1772
          ],
          [
           181
          ],
          [
           7
          ],
          [
           74
          ],
          [
           59
          ],
          [
           0
          ],
          [
           41
          ],
          [
           67
          ],
          [
           174
          ],
          [
           7711
          ],
          [
           5
          ],
          [
           69
          ],
          [
           3705
          ],
          [
           406
          ],
          [
           41862
          ],
          [
           21
          ],
          [
           19
          ],
          [
           201909
          ],
          [
           47
          ],
          [
           445
          ],
          [
           574
          ],
          [
           35
          ],
          [
           1
          ],
          [
           587
          ],
          [
           332
          ],
          [
           227
          ]
         ],
         "geo": "geo",
         "hovertemplate": "<b>%{hovertext}</b><br><br>Country_code=%{location}<br>deaths=%{customdata[0]}<br>color=%{z}<extra></extra>",
         "hovertext": [
          "Afghanistan",
          "Albania",
          "Algeria",
          "Andorra",
          "Angola",
          "Anguilla",
          "Antigua_and_Barbuda",
          "Argentina",
          "Armenia",
          "Aruba",
          "Australia",
          "Austria",
          "Azerbaijan",
          "Bahamas",
          "Bahrain",
          "Bangladesh",
          "Barbados",
          "Belarus",
          "Belgium",
          "Belize",
          "Benin",
          "Bermuda",
          "Bhutan",
          "Bolivia",
          "Bonaire, Saint Eustatius and Saba",
          "Bosnia_and_Herzegovina",
          "Botswana",
          "Brazil",
          "British_Virgin_Islands",
          "Brunei_Darussalam",
          "Bulgaria",
          "Burkina_Faso",
          "Burundi",
          "Cambodia",
          "Cameroon",
          "Canada",
          "Cape_Verde",
          "Cases_on_an_international_conveyance_Japan",
          "Cayman_Islands",
          "Central_African_Republic",
          "Chad",
          "Chile",
          "China",
          "Colombia",
          "Comoros",
          "Congo",
          "Costa_Rica",
          "Cote_dIvoire",
          "Croatia",
          "Cuba",
          "Curaçao",
          "Cyprus",
          "Czechia",
          "Democratic_Republic_of_the_Congo",
          "Denmark",
          "Djibouti",
          "Dominica",
          "Dominican_Republic",
          "Ecuador",
          "Egypt",
          "El_Salvador",
          "Equatorial_Guinea",
          "Eritrea",
          "Estonia",
          "Eswatini",
          "Ethiopia",
          "Falkland_Islands_(Malvinas)",
          "Faroe_Islands",
          "Fiji",
          "Finland",
          "France",
          "French_Polynesia",
          "Gabon",
          "Gambia",
          "Georgia",
          "Germany",
          "Ghana",
          "Gibraltar",
          "Greece",
          "Greenland",
          "Grenada",
          "Guam",
          "Guatemala",
          "Guernsey",
          "Guinea",
          "Guinea_Bissau",
          "Guyana",
          "Haiti",
          "Holy_See",
          "Honduras",
          "Hungary",
          "Iceland",
          "India",
          "Indonesia",
          "Iran",
          "Iraq",
          "Ireland",
          "Isle_of_Man",
          "Israel",
          "Italy",
          "Jamaica",
          "Japan",
          "Jersey",
          "Jordan",
          "Kazakhstan",
          "Kenya",
          "Kosovo",
          "Kuwait",
          "Kyrgyzstan",
          "Laos",
          "Latvia",
          "Lebanon",
          "Lesotho",
          "Liberia",
          "Libya",
          "Liechtenstein",
          "Lithuania",
          "Luxembourg",
          "Madagascar",
          "Malawi",
          "Malaysia",
          "Maldives",
          "Mali",
          "Malta",
          "Mauritania",
          "Mauritius",
          "Mexico",
          "Moldova",
          "Monaco",
          "Mongolia",
          "Montenegro",
          "Montserrat",
          "Morocco",
          "Mozambique",
          "Myanmar",
          "Namibia",
          "Nepal",
          "Netherlands",
          "New_Caledonia",
          "New_Zealand",
          "Nicaragua",
          "Niger",
          "Nigeria",
          "North_Macedonia",
          "Northern_Mariana_Islands",
          "Norway",
          "Oman",
          "Pakistan",
          "Palestine",
          "Panama",
          "Papua_New_Guinea",
          "Paraguay",
          "Peru",
          "Philippines",
          "Poland",
          "Portugal",
          "Puerto_Rico",
          "Qatar",
          "Romania",
          "Russia",
          "Rwanda",
          "Saint_Kitts_and_Nevis",
          "Saint_Lucia",
          "Saint_Vincent_and_the_Grenadines",
          "San_Marino",
          "Sao_Tome_and_Principe",
          "Saudi_Arabia",
          "Senegal",
          "Serbia",
          "Seychelles",
          "Sierra_Leone",
          "Singapore",
          "Sint_Maarten",
          "Slovakia",
          "Slovenia",
          "Somalia",
          "South_Africa",
          "South_Korea",
          "South_Sudan",
          "Spain",
          "Sri_Lanka",
          "Sudan",
          "Suriname",
          "Sweden",
          "Switzerland",
          "Syria",
          "Taiwan",
          "Tajikistan",
          "Thailand",
          "Timor_Leste",
          "Togo",
          "Trinidad_and_Tobago",
          "Tunisia",
          "Turkey",
          "Turks_and_Caicos_islands",
          "Uganda",
          "Ukraine",
          "United_Arab_Emirates",
          "United_Kingdom",
          "United_Republic_of_Tanzania",
          "United_States_Virgin_Islands",
          "United_States_of_America",
          "Uruguay",
          "Uzbekistan",
          "Venezuela",
          "Vietnam",
          "Western_Sahara",
          "Yemen",
          "Zambia",
          "Zimbabwe"
         ],
         "locations": [
          "AFG",
          "ALB",
          "DZA",
          "AND",
          "AGO",
          "AIA",
          "ATG",
          "ARG",
          "ARM",
          "ABW",
          "AUS",
          "AUT",
          "AZE",
          "BHS",
          "BHR",
          "BGD",
          "BRB",
          "BLR",
          "BEL",
          "BLZ",
          "BEN",
          "BMU",
          "BTN",
          "BOL",
          "BES",
          "BIH",
          "BWA",
          "BRA",
          "VGB",
          "BRN",
          "BGR",
          "BFA",
          "BDI",
          "KHM",
          "CMR",
          "CAN",
          "not found",
          "JPN",
          "CYM",
          "CAF",
          "TCD",
          "CHL",
          "CHN",
          "COL",
          "COM",
          "COG",
          "CRI",
          "CIV",
          "HRV",
          "CUB",
          "CUW",
          "CYP",
          "CZE",
          "COD",
          "DNK",
          "DJI",
          "DMA",
          "DOM",
          "ECU",
          "EGY",
          "SLV",
          "GNQ",
          "ERI",
          "EST",
          "SWZ",
          "ETH",
          "FLK",
          "FRO",
          "FJI",
          "FIN",
          "FRA",
          "PYF",
          "GAB",
          "GMB",
          "GEO",
          "DEU",
          "GHA",
          "GIB",
          "GRC",
          "GRL",
          "GRD",
          "GUM",
          "GTM",
          "GGY",
          "GIN",
          "GNB",
          "GUY",
          "HTI",
          "VAT",
          "HND",
          "HUN",
          "ISL",
          "IND",
          "IDN",
          "IRN",
          "IRQ",
          "IRL",
          "not found",
          "ISR",
          "ITA",
          "JAM",
          "JPN",
          "JEY",
          "JOR",
          "KAZ",
          "KEN",
          "XKX",
          "KWT",
          "KGZ",
          "LAO",
          "LVA",
          "LBN",
          "LSO",
          "LBR",
          "LBY",
          "LIE",
          "LTU",
          "LUX",
          "MDG",
          "MWI",
          "MYS",
          "MDV",
          "MLI",
          "MLT",
          "MRT",
          "MUS",
          "MEX",
          "MDA",
          "MCO",
          "MNG",
          "MNE",
          "MSR",
          "MAR",
          "MOZ",
          "MMR",
          "NAM",
          "NPL",
          "NLD",
          "NCL",
          "NZL",
          "NIC",
          "NER",
          "NGA",
          "MKD",
          "MNP",
          "NOR",
          "OMN",
          "PAK",
          "PSE",
          "PAN",
          "PNG",
          "PRY",
          "PER",
          "PHL",
          "POL",
          "PRT",
          "PRI",
          "QAT",
          "ROU",
          "RUS",
          "RWA",
          "KNA",
          "not found",
          "VCT",
          "SMR",
          "STP",
          "SAU",
          "SEN",
          "SRB",
          "SYC",
          "SLE",
          "SGP",
          "SXM",
          "SVK",
          "SVN",
          "SOM",
          "ZAF",
          "not found",
          "SSD",
          "ESP",
          "LKA",
          "SDN",
          "SUR",
          "SWE",
          "CHE",
          "SYR",
          "TWN",
          "TJK",
          "THA",
          "TLS",
          "TGO",
          "TTO",
          "TUN",
          "TUR",
          "TCA",
          "UGA",
          "UKR",
          "ARE",
          "GBR",
          "TZA",
          "VIR",
          "USA",
          "URY",
          "UZB",
          "VEN",
          "VNM",
          "ESH",
          "YEM",
          "ZMB",
          "ZWE"
         ],
         "name": "",
         "type": "choropleth",
         "z": [
          3.161667412437736,
          2.568201724066995,
          3.229937685907934,
          1.724275869600789,
          2.1903316981702914,
          null,
          0.47712125471966244,
          4.157638064100917,
          2.9740509027928774,
          1.3979400086720377,
          2.9339931638312424,
          2.890421018800914,
          2.7634279935629373,
          1.9030899869919435,
          2.3636119798921444,
          3.702775077901044,
          0.8450980400142568,
          2.900913067737669,
          3.998215732370958,
          1.3424226808222062,
          1.6020599913279623,
          0.9542425094393249,
          null,
          3.888235673270567,
          0,
          2.8976270912904414,
          1.1139433523068367,
          5.142942932631187,
          0,
          0.47712125471966244,
          2.8915374576725643,
          1.7481880270062005,
          0,
          null,
          2.6190933306267428,
          3.965812953036603,
          1.7323937598229686,
          0.8450980400142568,
          0,
          1.792391689498254,
          1.9138138523837167,
          4.091491094267951,
          3.6755950563867463,
          4.393505008589961,
          0.8450980400142568,
          1.9493900066449128,
          2.8926510338773004,
          2.0791812460476247,
          2.4099331233312946,
          2.0718820073061255,
          0,
          1.3424226808222062,
          2.7442929831226763,
          2.4313637641589874,
          2.808210972924222,
          1.7853298350107671,
          null,
          3.316808752053022,
          4.048092051812373,
          3.765072201102792,
          2.9132839017604186,
          1.919078092376074,
          null,
          1.806179973983887,
          2.03342375548695,
          3.0572856444182146,
          null,
          null,
          0.3010299956639812,
          2.5352941200427703,
          4.497744913411732,
          0.6989700043360189,
          1.7323937598229686,
          2.041392685158225,
          1.3979400086720377,
          3.9744195738522863,
          2.4756711883244296,
          null,
          2.552668216112193,
          null,
          null,
          1.5797835966168101,
          3.498861688992884,
          1.1139433523068367,
          1.8129133566428555,
          1.591064607026499,
          1.8388490907372552,
          2.3521825181113627,
          null,
          3.346744054604849,
          2.8506462351830666,
          1,
          4.959751908351783,
          3.9989999722183205,
          4.3951515915045425,
          3.9422065422770953,
          3.2538224387080734,
          1.380211241711606,
          3.1222158782728267,
          4.553373220044067,
          1.8808135922807914,
          3.1818435879447726,
          1.505149978319906,
          1.5440680443502757,
          3.3106933123433606,
          2.8221680793680175,
          2.7895807121644256,
          2.7708520116421442,
          3.0265332645232967,
          null,
          1.5563025007672873,
          2.515873843711679,
          1.5185139398778875,
          1.9138138523837167,
          2.6748611407378116,
          0,
          1.9395192526186185,
          2.093421685162235,
          2.3541084391474008,
          2.2528530309798933,
          2.123851640967086,
          1.5314789170422551,
          2.113943352306837,
          1.3979400086720377,
          2.2068258760318495,
          1,
          4.8747658426895795,
          3.0948203803548,
          0,
          null,
          2.1789769472931693,
          0,
          3.282848602834645,
          1.6901960800285136,
          2.123851640967086,
          2.0681858617461617,
          2.639486489268586,
          3.7984434603501875,
          null,
          1.3979400086720377,
          2.173186268412274,
          1.8388490907372552,
          3.042181594515766,
          2.8512583487190755,
          0.3010299956639812,
          2.4265112613645754,
          2.942008053022313,
          3.808683509128969,
          2.5010592622177517,
          3.3600250891893975,
          0.8450980400142568,
          2.8615344108590377,
          4.503382063473732,
          3.706803097037338,
          3.369957607346053,
          3.285107029566812,
          2.7902851640332416,
          2.326335860928751,
          3.6580113966571126,
          4.29664325564288,
          1.4313637641589874,
          null,
          null,
          null,
          1.6232492903979006,
          1.1760912590556813,
          3.659821158055705,
          2.481442628502305,
          2.8715729355458786,
          null,
          1.8573324964312685,
          1.4313637641589874,
          1.3222192947339193,
          1.6127838567197355,
          2.123851640967086,
          1.9912260756924949,
          4.209675834571095,
          2.5943925503754266,
          1.6901960800285136,
          4.491837755795883,
          1.1139433523068367,
          2.9222062774390163,
          2.0043213737826426,
          3.769081787118219,
          3.248463717551032,
          2.2576785748691846,
          0.8450980400142568,
          1.8692317197309762,
          1.7708520116421442,
          null,
          1.6127838567197355,
          1.8260748027008264,
          2.2405492482826,
          3.8871107031248835,
          0.6989700043360189,
          1.8388490907372552,
          3.568788212315347,
          2.6085260335771943,
          4.621819973362787,
          1.3222192947339193,
          1.2787536009528289,
          5.305155677850141,
          1.6720978579357175,
          2.6483600109809315,
          2.7589118923979736,
          1.5440680443502757,
          0,
          2.7686381012476144,
          2.5211380837040362,
          2.3560258571931225
         ]
        }
       ],
       "layout": {
        "autosize": true,
        "coloraxis": {
         "colorbar": {
          "title": {
           "text": "Confirmed deaths (log scale)"
          }
         },
         "colorscale": [
          [
           0,
           "rgb(255,245,240)"
          ],
          [
           0.125,
           "rgb(254,224,210)"
          ],
          [
           0.25,
           "rgb(252,187,161)"
          ],
          [
           0.375,
           "rgb(252,146,114)"
          ],
          [
           0.5,
           "rgb(251,106,74)"
          ],
          [
           0.625,
           "rgb(239,59,44)"
          ],
          [
           0.75,
           "rgb(203,24,29)"
          ],
          [
           0.875,
           "rgb(165,15,21)"
          ],
          [
           1,
           "rgb(103,0,13)"
          ]
         ]
        },
        "geo": {
         "center": {},
         "domain": {
          "x": [
           0,
           1
          ],
          "y": [
           0,
           1
          ]
         },
         "fitbounds": "locations",
         "visible": false
        },
        "legend": {
         "tracegroupgap": 0
        },
        "margin": {
         "t": 60
        },
        "template": {
         "data": {
          "bar": [
           {
            "error_x": {
             "color": "#2a3f5f"
            },
            "error_y": {
             "color": "#2a3f5f"
            },
            "marker": {
             "line": {
              "color": "#E5ECF6",
              "width": 0.5
             }
            },
            "type": "bar"
           }
          ],
          "barpolar": [
           {
            "marker": {
             "line": {
              "color": "#E5ECF6",
              "width": 0.5
             }
            },
            "type": "barpolar"
           }
          ],
          "carpet": [
           {
            "aaxis": {
             "endlinecolor": "#2a3f5f",
             "gridcolor": "white",
             "linecolor": "white",
             "minorgridcolor": "white",
             "startlinecolor": "#2a3f5f"
            },
            "baxis": {
             "endlinecolor": "#2a3f5f",
             "gridcolor": "white",
             "linecolor": "white",
             "minorgridcolor": "white",
             "startlinecolor": "#2a3f5f"
            },
            "type": "carpet"
           }
          ],
          "choropleth": [
           {
            "colorbar": {
             "outlinewidth": 0,
             "ticks": ""
            },
            "type": "choropleth"
           }
          ],
          "contour": [
           {
            "colorbar": {
             "outlinewidth": 0,
             "ticks": ""
            },
            "colorscale": [
             [
              0,
              "#0d0887"
             ],
             [
              0.1111111111111111,
              "#46039f"
             ],
             [
              0.2222222222222222,
              "#7201a8"
             ],
             [
              0.3333333333333333,
              "#9c179e"
             ],
             [
              0.4444444444444444,
              "#bd3786"
             ],
             [
              0.5555555555555556,
              "#d8576b"
             ],
             [
              0.6666666666666666,
              "#ed7953"
             ],
             [
              0.7777777777777778,
              "#fb9f3a"
             ],
             [
              0.8888888888888888,
              "#fdca26"
             ],
             [
              1,
              "#f0f921"
             ]
            ],
            "type": "contour"
           }
          ],
          "contourcarpet": [
           {
            "colorbar": {
             "outlinewidth": 0,
             "ticks": ""
            },
            "type": "contourcarpet"
           }
          ],
          "heatmap": [
           {
            "colorbar": {
             "outlinewidth": 0,
             "ticks": ""
            },
            "colorscale": [
             [
              0,
              "#0d0887"
             ],
             [
              0.1111111111111111,
              "#46039f"
             ],
             [
              0.2222222222222222,
              "#7201a8"
             ],
             [
              0.3333333333333333,
              "#9c179e"
             ],
             [
              0.4444444444444444,
              "#bd3786"
             ],
             [
              0.5555555555555556,
              "#d8576b"
             ],
             [
              0.6666666666666666,
              "#ed7953"
             ],
             [
              0.7777777777777778,
              "#fb9f3a"
             ],
             [
              0.8888888888888888,
              "#fdca26"
             ],
             [
              1,
              "#f0f921"
             ]
            ],
            "type": "heatmap"
           }
          ],
          "heatmapgl": [
           {
            "colorbar": {
             "outlinewidth": 0,
             "ticks": ""
            },
            "colorscale": [
             [
              0,
              "#0d0887"
             ],
             [
              0.1111111111111111,
              "#46039f"
             ],
             [
              0.2222222222222222,
              "#7201a8"
             ],
             [
              0.3333333333333333,
              "#9c179e"
             ],
             [
              0.4444444444444444,
              "#bd3786"
             ],
             [
              0.5555555555555556,
              "#d8576b"
             ],
             [
              0.6666666666666666,
              "#ed7953"
             ],
             [
              0.7777777777777778,
              "#fb9f3a"
             ],
             [
              0.8888888888888888,
              "#fdca26"
             ],
             [
              1,
              "#f0f921"
             ]
            ],
            "type": "heatmapgl"
           }
          ],
          "histogram": [
           {
            "marker": {
             "colorbar": {
              "outlinewidth": 0,
              "ticks": ""
             }
            },
            "type": "histogram"
           }
          ],
          "histogram2d": [
           {
            "colorbar": {
             "outlinewidth": 0,
             "ticks": ""
            },
            "colorscale": [
             [
              0,
              "#0d0887"
             ],
             [
              0.1111111111111111,
              "#46039f"
             ],
             [
              0.2222222222222222,
              "#7201a8"
             ],
             [
              0.3333333333333333,
              "#9c179e"
             ],
             [
              0.4444444444444444,
              "#bd3786"
             ],
             [
              0.5555555555555556,
              "#d8576b"
             ],
             [
              0.6666666666666666,
              "#ed7953"
             ],
             [
              0.7777777777777778,
              "#fb9f3a"
             ],
             [
              0.8888888888888888,
              "#fdca26"
             ],
             [
              1,
              "#f0f921"
             ]
            ],
            "type": "histogram2d"
           }
          ],
          "histogram2dcontour": [
           {
            "colorbar": {
             "outlinewidth": 0,
             "ticks": ""
            },
            "colorscale": [
             [
              0,
              "#0d0887"
             ],
             [
              0.1111111111111111,
              "#46039f"
             ],
             [
              0.2222222222222222,
              "#7201a8"
             ],
             [
              0.3333333333333333,
              "#9c179e"
             ],
             [
              0.4444444444444444,
              "#bd3786"
             ],
             [
              0.5555555555555556,
              "#d8576b"
             ],
             [
              0.6666666666666666,
              "#ed7953"
             ],
             [
              0.7777777777777778,
              "#fb9f3a"
             ],
             [
              0.8888888888888888,
              "#fdca26"
             ],
             [
              1,
              "#f0f921"
             ]
            ],
            "type": "histogram2dcontour"
           }
          ],
          "mesh3d": [
           {
            "colorbar": {
             "outlinewidth": 0,
             "ticks": ""
            },
            "type": "mesh3d"
           }
          ],
          "parcoords": [
           {
            "line": {
             "colorbar": {
              "outlinewidth": 0,
              "ticks": ""
             }
            },
            "type": "parcoords"
           }
          ],
          "pie": [
           {
            "automargin": true,
            "type": "pie"
           }
          ],
          "scatter": [
           {
            "marker": {
             "colorbar": {
              "outlinewidth": 0,
              "ticks": ""
             }
            },
            "type": "scatter"
           }
          ],
          "scatter3d": [
           {
            "line": {
             "colorbar": {
              "outlinewidth": 0,
              "ticks": ""
             }
            },
            "marker": {
             "colorbar": {
              "outlinewidth": 0,
              "ticks": ""
             }
            },
            "type": "scatter3d"
           }
          ],
          "scattercarpet": [
           {
            "marker": {
             "colorbar": {
              "outlinewidth": 0,
              "ticks": ""
             }
            },
            "type": "scattercarpet"
           }
          ],
          "scattergeo": [
           {
            "marker": {
             "colorbar": {
              "outlinewidth": 0,
              "ticks": ""
             }
            },
            "type": "scattergeo"
           }
          ],
          "scattergl": [
           {
            "marker": {
             "colorbar": {
              "outlinewidth": 0,
              "ticks": ""
             }
            },
            "type": "scattergl"
           }
          ],
          "scattermapbox": [
           {
            "marker": {
             "colorbar": {
              "outlinewidth": 0,
              "ticks": ""
             }
            },
            "type": "scattermapbox"
           }
          ],
          "scatterpolar": [
           {
            "marker": {
             "colorbar": {
              "outlinewidth": 0,
              "ticks": ""
             }
            },
            "type": "scatterpolar"
           }
          ],
          "scatterpolargl": [
           {
            "marker": {
             "colorbar": {
              "outlinewidth": 0,
              "ticks": ""
             }
            },
            "type": "scatterpolargl"
           }
          ],
          "scatterternary": [
           {
            "marker": {
             "colorbar": {
              "outlinewidth": 0,
              "ticks": ""
             }
            },
            "type": "scatterternary"
           }
          ],
          "surface": [
           {
            "colorbar": {
             "outlinewidth": 0,
             "ticks": ""
            },
            "colorscale": [
             [
              0,
              "#0d0887"
             ],
             [
              0.1111111111111111,
              "#46039f"
             ],
             [
              0.2222222222222222,
              "#7201a8"
             ],
             [
              0.3333333333333333,
              "#9c179e"
             ],
             [
              0.4444444444444444,
              "#bd3786"
             ],
             [
              0.5555555555555556,
              "#d8576b"
             ],
             [
              0.6666666666666666,
              "#ed7953"
             ],
             [
              0.7777777777777778,
              "#fb9f3a"
             ],
             [
              0.8888888888888888,
              "#fdca26"
             ],
             [
              1,
              "#f0f921"
             ]
            ],
            "type": "surface"
           }
          ],
          "table": [
           {
            "cells": {
             "fill": {
              "color": "#EBF0F8"
             },
             "line": {
              "color": "white"
             }
            },
            "header": {
             "fill": {
              "color": "#C8D4E3"
             },
             "line": {
              "color": "white"
             }
            },
            "type": "table"
           }
          ]
         },
         "layout": {
          "annotationdefaults": {
           "arrowcolor": "#2a3f5f",
           "arrowhead": 0,
           "arrowwidth": 1
          },
          "coloraxis": {
           "colorbar": {
            "outlinewidth": 0,
            "ticks": ""
           }
          },
          "colorscale": {
           "diverging": [
            [
             0,
             "#8e0152"
            ],
            [
             0.1,
             "#c51b7d"
            ],
            [
             0.2,
             "#de77ae"
            ],
            [
             0.3,
             "#f1b6da"
            ],
            [
             0.4,
             "#fde0ef"
            ],
            [
             0.5,
             "#f7f7f7"
            ],
            [
             0.6,
             "#e6f5d0"
            ],
            [
             0.7,
             "#b8e186"
            ],
            [
             0.8,
             "#7fbc41"
            ],
            [
             0.9,
             "#4d9221"
            ],
            [
             1,
             "#276419"
            ]
           ],
           "sequential": [
            [
             0,
             "#0d0887"
            ],
            [
             0.1111111111111111,
             "#46039f"
            ],
            [
             0.2222222222222222,
             "#7201a8"
            ],
            [
             0.3333333333333333,
             "#9c179e"
            ],
            [
             0.4444444444444444,
             "#bd3786"
            ],
            [
             0.5555555555555556,
             "#d8576b"
            ],
            [
             0.6666666666666666,
             "#ed7953"
            ],
            [
             0.7777777777777778,
             "#fb9f3a"
            ],
            [
             0.8888888888888888,
             "#fdca26"
            ],
            [
             1,
             "#f0f921"
            ]
           ],
           "sequentialminus": [
            [
             0,
             "#0d0887"
            ],
            [
             0.1111111111111111,
             "#46039f"
            ],
            [
             0.2222222222222222,
             "#7201a8"
            ],
            [
             0.3333333333333333,
             "#9c179e"
            ],
            [
             0.4444444444444444,
             "#bd3786"
            ],
            [
             0.5555555555555556,
             "#d8576b"
            ],
            [
             0.6666666666666666,
             "#ed7953"
            ],
            [
             0.7777777777777778,
             "#fb9f3a"
            ],
            [
             0.8888888888888888,
             "#fdca26"
            ],
            [
             1,
             "#f0f921"
            ]
           ]
          },
          "colorway": [
           "#636efa",
           "#EF553B",
           "#00cc96",
           "#ab63fa",
           "#FFA15A",
           "#19d3f3",
           "#FF6692",
           "#B6E880",
           "#FF97FF",
           "#FECB52"
          ],
          "font": {
           "color": "#2a3f5f"
          },
          "geo": {
           "bgcolor": "white",
           "lakecolor": "white",
           "landcolor": "#E5ECF6",
           "showlakes": true,
           "showland": true,
           "subunitcolor": "white"
          },
          "hoverlabel": {
           "align": "left"
          },
          "hovermode": "closest",
          "mapbox": {
           "style": "light"
          },
          "paper_bgcolor": "white",
          "plot_bgcolor": "#E5ECF6",
          "polar": {
           "angularaxis": {
            "gridcolor": "white",
            "linecolor": "white",
            "ticks": ""
           },
           "bgcolor": "#E5ECF6",
           "radialaxis": {
            "gridcolor": "white",
            "linecolor": "white",
            "ticks": ""
           }
          },
          "scene": {
           "xaxis": {
            "backgroundcolor": "#E5ECF6",
            "gridcolor": "white",
            "gridwidth": 2,
            "linecolor": "white",
            "showbackground": true,
            "ticks": "",
            "zerolinecolor": "white"
           },
           "yaxis": {
            "backgroundcolor": "#E5ECF6",
            "gridcolor": "white",
            "gridwidth": 2,
            "linecolor": "white",
            "showbackground": true,
            "ticks": "",
            "zerolinecolor": "white"
           },
           "zaxis": {
            "backgroundcolor": "#E5ECF6",
            "gridcolor": "white",
            "gridwidth": 2,
            "linecolor": "white",
            "showbackground": true,
            "ticks": "",
            "zerolinecolor": "white"
           }
          },
          "shapedefaults": {
           "line": {
            "color": "#2a3f5f"
           }
          },
          "ternary": {
           "aaxis": {
            "gridcolor": "white",
            "linecolor": "white",
            "ticks": ""
           },
           "baxis": {
            "gridcolor": "white",
            "linecolor": "white",
            "ticks": ""
           },
           "bgcolor": "#E5ECF6",
           "caxis": {
            "gridcolor": "white",
            "linecolor": "white",
            "ticks": ""
           }
          },
          "title": {
           "x": 0.05
          },
          "xaxis": {
           "automargin": true,
           "gridcolor": "white",
           "linecolor": "white",
           "ticks": "",
           "title": {
            "standoff": 15
           },
           "zerolinecolor": "white",
           "zerolinewidth": 2
          },
          "yaxis": {
           "automargin": true,
           "gridcolor": "white",
           "linecolor": "white",
           "ticks": "",
           "title": {
            "standoff": 15
           },
           "zerolinecolor": "white",
           "zerolinewidth": 2
          }
         }
        },
        "title": {
         "text": "Confirmed covid 19 deaths (log scale)"
        }
       }
      },
      "image/png": "[encoded data removed]",
      "text/html": [
       "<div>                            <div id=\"1c5f93bf-20ca-4048-9fba-4a209406ccdd\" class=\"plotly-graph-div\" style=\"height:525px; width:100%;\"></div>            <script type=\"text/javascript\">                require([\"plotly\"], function(Plotly) {                    window.PLOTLYENV=window.PLOTLYENV || {};                                    if (document.getElementById(\"1c5f93bf-20ca-4048-9fba-4a209406ccdd\")) {                    Plotly.newPlot(                        \"1c5f93bf-20ca-4048-9fba-4a209406ccdd\",                        [{\"coloraxis\": \"coloraxis\", \"customdata\": [[1451], [370], [1698], [53], [155], [0], [3], [14376], [942], [25], [859], [777], [580], [80], [231], [5044], [7], [796], [9959], [22], [40], [9], [0], [7731], [1], [790], [13], [138977], [1], [3], [779], [56], [1], [0], [416], [9243], [54], [7], [1], [62], [82], [12345], [4738], [24746], [7], [89], [781], [120], [257], [118], [1], [22], [555], [270], [643], [61], [0], [2074], [11171], [5822], [819], [83], [0], [64], [108], [1141], [0], [0], [2], [343], [31459], [5], [54], [110], [25], [9428], [299], [0], [357], [0], [0], [38], [3154], [13], [65], [39], [69], [225], [0], [2222], [709], [10], [91149], [9977], [24840], [8754], [1794], [24], [1325], [35758], [76], [1520], [32], [35], [2045], [664], [616], [590], [1063], [0], [36], [328], [33], [82], [473], [1], [87], [124], [226], [179], [133], [34], [130], [25], [161], [10], [74949], [1244], [1], [0], [151], [1], [1918], [49], [133], [117], [436], [6287], [0], [25], [149], [69], [1102], [710], [2], [267], [875], [6437], [317], [2291], [7], [727], [31870], [5091], [2344], [1928], [617], [212], [4550], [19799], [27], [0], [0], [0], [42], [15], [4569], [303], [744], [0], [72], [27], [21], [41], [133], [98], [16206], [393], [49], [31034], [13], [836], [101], [5876], [1772], [181], [7], [74], [59], [0], [41], [67], [174], [7711], [5], [69], [3705], [406], [41862], [21], [19], [201909], [47], [445], [574], [35], [1], [587], [332], [227]], \"geo\": \"geo\", \"hovertemplate\": \"<b>%{hovertext}</b><br><br>Country_code=%{location}<br>deaths=%{customdata[0]}<br>color=%{z}<extra></extra>\", \"hovertext\": [\"Afghanistan\", \"Albania\", \"Algeria\", \"Andorra\", \"Angola\", \"Anguilla\", \"Antigua_and_Barbuda\", \"Argentina\", \"Armenia\", \"Aruba\", \"Australia\", \"Austria\", \"Azerbaijan\", \"Bahamas\", \"Bahrain\", \"Bangladesh\", \"Barbados\", \"Belarus\", \"Belgium\", \"Belize\", \"Benin\", \"Bermuda\", \"Bhutan\", \"Bolivia\", \"Bonaire, Saint Eustatius and Saba\", \"Bosnia_and_Herzegovina\", \"Botswana\", \"Brazil\", \"British_Virgin_Islands\", \"Brunei_Darussalam\", \"Bulgaria\", \"Burkina_Faso\", \"Burundi\", \"Cambodia\", \"Cameroon\", \"Canada\", \"Cape_Verde\", \"Cases_on_an_international_conveyance_Japan\", \"Cayman_Islands\", \"Central_African_Republic\", \"Chad\", \"Chile\", \"China\", \"Colombia\", \"Comoros\", \"Congo\", \"Costa_Rica\", \"Cote_dIvoire\", \"Croatia\", \"Cuba\", \"Cura\\u00e7ao\", \"Cyprus\", \"Czechia\", \"Democratic_Republic_of_the_Congo\", \"Denmark\", \"Djibouti\", \"Dominica\", \"Dominican_Republic\", \"Ecuador\", \"Egypt\", \"El_Salvador\", \"Equatorial_Guinea\", \"Eritrea\", \"Estonia\", \"Eswatini\", \"Ethiopia\", \"Falkland_Islands_(Malvinas)\", \"Faroe_Islands\", \"Fiji\", \"Finland\", \"France\", \"French_Polynesia\", \"Gabon\", \"Gambia\", \"Georgia\", \"Germany\", \"Ghana\", \"Gibraltar\", \"Greece\", \"Greenland\", \"Grenada\", \"Guam\", \"Guatemala\", \"Guernsey\", \"Guinea\", \"Guinea_Bissau\", \"Guyana\", \"Haiti\", \"Holy_See\", \"Honduras\", \"Hungary\", \"Iceland\", \"India\", \"Indonesia\", \"Iran\", \"Iraq\", \"Ireland\", \"Isle_of_Man\", \"Israel\", \"Italy\", \"Jamaica\", \"Japan\", \"Jersey\", \"Jordan\", \"Kazakhstan\", \"Kenya\", \"Kosovo\", \"Kuwait\", \"Kyrgyzstan\", \"Laos\", \"Latvia\", \"Lebanon\", \"Lesotho\", \"Liberia\", \"Libya\", \"Liechtenstein\", \"Lithuania\", \"Luxembourg\", \"Madagascar\", \"Malawi\", \"Malaysia\", \"Maldives\", \"Mali\", \"Malta\", \"Mauritania\", \"Mauritius\", \"Mexico\", \"Moldova\", \"Monaco\", \"Mongolia\", \"Montenegro\", \"Montserrat\", \"Morocco\", \"Mozambique\", \"Myanmar\", \"Namibia\", \"Nepal\", \"Netherlands\", \"New_Caledonia\", \"New_Zealand\", \"Nicaragua\", \"Niger\", \"Nigeria\", \"North_Macedonia\", \"Northern_Mariana_Islands\", \"Norway\", \"Oman\", \"Pakistan\", \"Palestine\", \"Panama\", \"Papua_New_Guinea\", \"Paraguay\", \"Peru\", \"Philippines\", \"Poland\", \"Portugal\", \"Puerto_Rico\", \"Qatar\", \"Romania\", \"Russia\", \"Rwanda\", \"Saint_Kitts_and_Nevis\", \"Saint_Lucia\", \"Saint_Vincent_and_the_Grenadines\", \"San_Marino\", \"Sao_Tome_and_Principe\", \"Saudi_Arabia\", \"Senegal\", \"Serbia\", \"Seychelles\", \"Sierra_Leone\", \"Singapore\", \"Sint_Maarten\", \"Slovakia\", \"Slovenia\", \"Somalia\", \"South_Africa\", \"South_Korea\", \"South_Sudan\", \"Spain\", \"Sri_Lanka\", \"Sudan\", \"Suriname\", \"Sweden\", \"Switzerland\", \"Syria\", \"Taiwan\", \"Tajikistan\", \"Thailand\", \"Timor_Leste\", \"Togo\", \"Trinidad_and_Tobago\", \"Tunisia\", \"Turkey\", \"Turks_and_Caicos_islands\", \"Uganda\", \"Ukraine\", \"United_Arab_Emirates\", \"United_Kingdom\", \"United_Republic_of_Tanzania\", \"United_States_Virgin_Islands\", \"United_States_of_America\", \"Uruguay\", \"Uzbekistan\", \"Venezuela\", \"Vietnam\", \"Western_Sahara\", \"Yemen\", \"Zambia\", \"Zimbabwe\"], \"locations\": [\"AFG\", \"ALB\", \"DZA\", \"AND\", \"AGO\", \"AIA\", \"ATG\", \"ARG\", \"ARM\", \"ABW\", \"AUS\", \"AUT\", \"AZE\", \"BHS\", \"BHR\", \"BGD\", \"BRB\", \"BLR\", \"BEL\", \"BLZ\", \"BEN\", \"BMU\", \"BTN\", \"BOL\", \"BES\", \"BIH\", \"BWA\", \"BRA\", \"VGB\", \"BRN\", \"BGR\", \"BFA\", \"BDI\", \"KHM\", \"CMR\", \"CAN\", \"not found\", \"JPN\", \"CYM\", \"CAF\", \"TCD\", \"CHL\", \"CHN\", \"COL\", \"COM\", \"COG\", \"CRI\", \"CIV\", \"HRV\", \"CUB\", \"CUW\", \"CYP\", \"CZE\", \"COD\", \"DNK\", \"DJI\", \"DMA\", \"DOM\", \"ECU\", \"EGY\", \"SLV\", \"GNQ\", \"ERI\", \"EST\", \"SWZ\", \"ETH\", \"FLK\", \"FRO\", \"FJI\", \"FIN\", \"FRA\", \"PYF\", \"GAB\", \"GMB\", \"GEO\", \"DEU\", \"GHA\", \"GIB\", \"GRC\", \"GRL\", \"GRD\", \"GUM\", \"GTM\", \"GGY\", \"GIN\", \"GNB\", \"GUY\", \"HTI\", \"VAT\", \"HND\", \"HUN\", \"ISL\", \"IND\", \"IDN\", \"IRN\", \"IRQ\", \"IRL\", \"not found\", \"ISR\", \"ITA\", \"JAM\", \"JPN\", \"JEY\", \"JOR\", \"KAZ\", \"KEN\", \"XKX\", \"KWT\", \"KGZ\", \"LAO\", \"LVA\", \"LBN\", \"LSO\", \"LBR\", \"LBY\", \"LIE\", \"LTU\", \"LUX\", \"MDG\", \"MWI\", \"MYS\", \"MDV\", \"MLI\", \"MLT\", \"MRT\", \"MUS\", \"MEX\", \"MDA\", \"MCO\", \"MNG\", \"MNE\", \"MSR\", \"MAR\", \"MOZ\", \"MMR\", \"NAM\", \"NPL\", \"NLD\", \"NCL\", \"NZL\", \"NIC\", \"NER\", \"NGA\", \"MKD\", \"MNP\", \"NOR\", \"OMN\", \"PAK\", \"PSE\", \"PAN\", \"PNG\", \"PRY\", \"PER\", \"PHL\", \"POL\", \"PRT\", \"PRI\", \"QAT\", \"ROU\", \"RUS\", \"RWA\", \"KNA\", \"not found\", \"VCT\", \"SMR\", \"STP\", \"SAU\", \"SEN\", \"SRB\", \"SYC\", \"SLE\", \"SGP\", \"SXM\", \"SVK\", \"SVN\", \"SOM\", \"ZAF\", \"not found\", \"SSD\", \"ESP\", \"LKA\", \"SDN\", \"SUR\", \"SWE\", \"CHE\", \"SYR\", \"TWN\", \"TJK\", \"THA\", \"TLS\", \"TGO\", \"TTO\", \"TUN\", \"TUR\", \"TCA\", \"UGA\", \"UKR\", \"ARE\", \"GBR\", \"TZA\", \"VIR\", \"USA\", \"URY\", \"UZB\", \"VEN\", \"VNM\", \"ESH\", \"YEM\", \"ZMB\", \"ZWE\"], \"name\": \"\", \"type\": \"choropleth\", \"z\": [3.161667412437736, 2.568201724066995, 3.229937685907934, 1.724275869600789, 2.1903316981702914, null, 0.47712125471966244, 4.157638064100917, 2.9740509027928774, 1.3979400086720377, 2.9339931638312424, 2.890421018800914, 2.7634279935629373, 1.9030899869919435, 2.3636119798921444, 3.702775077901044, 0.8450980400142568, 2.900913067737669, 3.998215732370958, 1.3424226808222062, 1.6020599913279623, 0.9542425094393249, null, 3.888235673270567, 0.0, 2.8976270912904414, 1.1139433523068367, 5.142942932631187, 0.0, 0.47712125471966244, 2.8915374576725643, 1.7481880270062005, 0.0, null, 2.6190933306267428, 3.965812953036603, 1.7323937598229686, 0.8450980400142568, 0.0, 1.792391689498254, 1.9138138523837167, 4.091491094267951, 3.6755950563867463, 4.393505008589961, 0.8450980400142568, 1.9493900066449128, 2.8926510338773004, 2.0791812460476247, 2.4099331233312946, 2.0718820073061255, 0.0, 1.3424226808222062, 2.7442929831226763, 2.4313637641589874, 2.808210972924222, 1.7853298350107671, null, 3.316808752053022, 4.048092051812373, 3.765072201102792, 2.9132839017604186, 1.919078092376074, null, 1.806179973983887, 2.03342375548695, 3.0572856444182146, null, null, 0.3010299956639812, 2.5352941200427703, 4.497744913411732, 0.6989700043360189, 1.7323937598229686, 2.041392685158225, 1.3979400086720377, 3.9744195738522863, 2.4756711883244296, null, 2.552668216112193, null, null, 1.5797835966168101, 3.498861688992884, 1.1139433523068367, 1.8129133566428555, 1.591064607026499, 1.8388490907372552, 2.3521825181113627, null, 3.346744054604849, 2.8506462351830666, 1.0, 4.959751908351783, 3.9989999722183205, 4.3951515915045425, 3.9422065422770953, 3.2538224387080734, 1.380211241711606, 3.1222158782728267, 4.553373220044067, 1.8808135922807914, 3.1818435879447726, 1.505149978319906, 1.5440680443502757, 3.3106933123433606, 2.8221680793680175, 2.7895807121644256, 2.7708520116421442, 3.0265332645232967, null, 1.5563025007672873, 2.515873843711679, 1.5185139398778875, 1.9138138523837167, 2.6748611407378116, 0.0, 1.9395192526186185, 2.093421685162235, 2.3541084391474008, 2.2528530309798933, 2.123851640967086, 1.5314789170422551, 2.113943352306837, 1.3979400086720377, 2.2068258760318495, 1.0, 4.8747658426895795, 3.0948203803548, 0.0, null, 2.1789769472931693, 0.0, 3.282848602834645, 1.6901960800285136, 2.123851640967086, 2.0681858617461617, 2.639486489268586, 3.7984434603501875, null, 1.3979400086720377, 2.173186268412274, 1.8388490907372552, 3.042181594515766, 2.8512583487190755, 0.3010299956639812, 2.4265112613645754, 2.942008053022313, 3.808683509128969, 2.5010592622177517, 3.3600250891893975, 0.8450980400142568, 2.8615344108590377, 4.503382063473732, 3.706803097037338, 3.369957607346053, 3.285107029566812, 2.7902851640332416, 2.326335860928751, 3.6580113966571126, 4.29664325564288, 1.4313637641589874, null, null, null, 1.6232492903979006, 1.1760912590556813, 3.659821158055705, 2.481442628502305, 2.8715729355458786, null, 1.8573324964312685, 1.4313637641589874, 1.3222192947339193, 1.6127838567197355, 2.123851640967086, 1.9912260756924949, 4.209675834571095, 2.5943925503754266, 1.6901960800285136, 4.491837755795883, 1.1139433523068367, 2.9222062774390163, 2.0043213737826426, 3.769081787118219, 3.248463717551032, 2.2576785748691846, 0.8450980400142568, 1.8692317197309762, 1.7708520116421442, null, 1.6127838567197355, 1.8260748027008264, 2.2405492482826, 3.8871107031248835, 0.6989700043360189, 1.8388490907372552, 3.568788212315347, 2.6085260335771943, 4.621819973362787, 1.3222192947339193, 1.2787536009528289, 5.305155677850141, 1.6720978579357175, 2.6483600109809315, 2.7589118923979736, 1.5440680443502757, 0.0, 2.7686381012476144, 2.5211380837040362, 2.3560258571931225]}],                        {\"coloraxis\": {\"colorbar\": {\"title\": {\"text\": \"Confirmed deaths (log scale)\"}}, \"colorscale\": [[0.0, \"rgb(255,245,240)\"], [0.125, \"rgb(254,224,210)\"], [0.25, \"rgb(252,187,161)\"], [0.375, \"rgb(252,146,114)\"], [0.5, \"rgb(251,106,74)\"], [0.625, \"rgb(239,59,44)\"], [0.75, \"rgb(203,24,29)\"], [0.875, \"rgb(165,15,21)\"], [1.0, \"rgb(103,0,13)\"]]}, \"geo\": {\"center\": {}, \"domain\": {\"x\": [0.0, 1.0], \"y\": [0.0, 1.0]}, \"fitbounds\": \"locations\", \"visible\": false}, \"legend\": {\"tracegroupgap\": 0}, \"margin\": {\"t\": 60}, \"template\": {\"data\": {\"bar\": [{\"error_x\": {\"color\": \"#2a3f5f\"}, \"error_y\": {\"color\": \"#2a3f5f\"}, \"marker\": {\"line\": {\"color\": \"#E5ECF6\", \"width\": 0.5}}, \"type\": \"bar\"}], \"barpolar\": [{\"marker\": {\"line\": {\"color\": \"#E5ECF6\", \"width\": 0.5}}, \"type\": \"barpolar\"}], \"carpet\": [{\"aaxis\": {\"endlinecolor\": \"#2a3f5f\", \"gridcolor\": \"white\", \"linecolor\": \"white\", \"minorgridcolor\": \"white\", \"startlinecolor\": \"#2a3f5f\"}, \"baxis\": {\"endlinecolor\": \"#2a3f5f\", \"gridcolor\": \"white\", \"linecolor\": \"white\", \"minorgridcolor\": \"white\", \"startlinecolor\": \"#2a3f5f\"}, \"type\": \"carpet\"}], \"choropleth\": [{\"colorbar\": {\"outlinewidth\": 0, \"ticks\": \"\"}, \"type\": \"choropleth\"}], \"contour\": [{\"colorbar\": {\"outlinewidth\": 0, \"ticks\": \"\"}, \"colorscale\": [[0.0, \"#0d0887\"], [0.1111111111111111, \"#46039f\"], [0.2222222222222222, \"#7201a8\"], [0.3333333333333333, \"#9c179e\"], [0.4444444444444444, \"#bd3786\"], [0.5555555555555556, \"#d8576b\"], [0.6666666666666666, \"#ed7953\"], [0.7777777777777778, \"#fb9f3a\"], [0.8888888888888888, \"#fdca26\"], [1.0, \"#f0f921\"]], \"type\": \"contour\"}], \"contourcarpet\": [{\"colorbar\": {\"outlinewidth\": 0, \"ticks\": \"\"}, \"type\": \"contourcarpet\"}], \"heatmap\": [{\"colorbar\": {\"outlinewidth\": 0, \"ticks\": \"\"}, \"colorscale\": [[0.0, \"#0d0887\"], [0.1111111111111111, \"#46039f\"], [0.2222222222222222, \"#7201a8\"], [0.3333333333333333, \"#9c179e\"], [0.4444444444444444, \"#bd3786\"], [0.5555555555555556, \"#d8576b\"], [0.6666666666666666, \"#ed7953\"], [0.7777777777777778, \"#fb9f3a\"], [0.8888888888888888, \"#fdca26\"], [1.0, \"#f0f921\"]], \"type\": \"heatmap\"}], \"heatmapgl\": [{\"colorbar\": {\"outlinewidth\": 0, \"ticks\": \"\"}, \"colorscale\": [[0.0, \"#0d0887\"], [0.1111111111111111, \"#46039f\"], [0.2222222222222222, \"#7201a8\"], [0.3333333333333333, \"#9c179e\"], [0.4444444444444444, \"#bd3786\"], [0.5555555555555556, \"#d8576b\"], [0.6666666666666666, \"#ed7953\"], [0.7777777777777778, \"#fb9f3a\"], [0.8888888888888888, \"#fdca26\"], [1.0, \"#f0f921\"]], \"type\": \"heatmapgl\"}], \"histogram\": [{\"marker\": {\"colorbar\": {\"outlinewidth\": 0, \"ticks\": \"\"}}, \"type\": \"histogram\"}], \"histogram2d\": [{\"colorbar\": {\"outlinewidth\": 0, \"ticks\": \"\"}, \"colorscale\": [[0.0, \"#0d0887\"], [0.1111111111111111, \"#46039f\"], [0.2222222222222222, \"#7201a8\"], [0.3333333333333333, \"#9c179e\"], [0.4444444444444444, \"#bd3786\"], [0.5555555555555556, \"#d8576b\"], [0.6666666666666666, \"#ed7953\"], [0.7777777777777778, \"#fb9f3a\"], [0.8888888888888888, \"#fdca26\"], [1.0, \"#f0f921\"]], \"type\": \"histogram2d\"}], \"histogram2dcontour\": [{\"colorbar\": {\"outlinewidth\": 0, \"ticks\": \"\"}, \"colorscale\": [[0.0, \"#0d0887\"], [0.1111111111111111, \"#46039f\"], [0.2222222222222222, \"#7201a8\"], [0.3333333333333333, \"#9c179e\"], [0.4444444444444444, \"#bd3786\"], [0.5555555555555556, \"#d8576b\"], [0.6666666666666666, \"#ed7953\"], [0.7777777777777778, \"#fb9f3a\"], [0.8888888888888888, \"#fdca26\"], [1.0, \"#f0f921\"]], \"type\": \"histogram2dcontour\"}], \"mesh3d\": [{\"colorbar\": {\"outlinewidth\": 0, \"ticks\": \"\"}, \"type\": \"mesh3d\"}], \"parcoords\": [{\"line\": {\"colorbar\": {\"outlinewidth\": 0, \"ticks\": \"\"}}, \"type\": \"parcoords\"}], \"pie\": [{\"automargin\": true, \"type\": \"pie\"}], \"scatter\": [{\"marker\": {\"colorbar\": {\"outlinewidth\": 0, \"ticks\": \"\"}}, \"type\": \"scatter\"}], \"scatter3d\": [{\"line\": {\"colorbar\": {\"outlinewidth\": 0, \"ticks\": \"\"}}, \"marker\": {\"colorbar\": {\"outlinewidth\": 0, \"ticks\": \"\"}}, \"type\": \"scatter3d\"}], \"scattercarpet\": [{\"marker\": {\"colorbar\": {\"outlinewidth\": 0, \"ticks\": \"\"}}, \"type\": \"scattercarpet\"}], \"scattergeo\": [{\"marker\": {\"colorbar\": {\"outlinewidth\": 0, \"ticks\": \"\"}}, \"type\": \"scattergeo\"}], \"scattergl\": [{\"marker\": {\"colorbar\": {\"outlinewidth\": 0, \"ticks\": \"\"}}, \"type\": \"scattergl\"}], \"scattermapbox\": [{\"marker\": {\"colorbar\": {\"outlinewidth\": 0, \"ticks\": \"\"}}, \"type\": \"scattermapbox\"}], \"scatterpolar\": [{\"marker\": {\"colorbar\": {\"outlinewidth\": 0, \"ticks\": \"\"}}, \"type\": \"scatterpolar\"}], \"scatterpolargl\": [{\"marker\": {\"colorbar\": {\"outlinewidth\": 0, \"ticks\": \"\"}}, \"type\": \"scatterpolargl\"}], \"scatterternary\": [{\"marker\": {\"colorbar\": {\"outlinewidth\": 0, \"ticks\": \"\"}}, \"type\": \"scatterternary\"}], \"surface\": [{\"colorbar\": {\"outlinewidth\": 0, \"ticks\": \"\"}, \"colorscale\": [[0.0, \"#0d0887\"], [0.1111111111111111, \"#46039f\"], [0.2222222222222222, \"#7201a8\"], [0.3333333333333333, \"#9c179e\"], [0.4444444444444444, \"#bd3786\"], [0.5555555555555556, \"#d8576b\"], [0.6666666666666666, \"#ed7953\"], [0.7777777777777778, \"#fb9f3a\"], [0.8888888888888888, \"#fdca26\"], [1.0, \"#f0f921\"]], \"type\": \"surface\"}], \"table\": [{\"cells\": {\"fill\": {\"color\": \"#EBF0F8\"}, \"line\": {\"color\": \"white\"}}, \"header\": {\"fill\": {\"color\": \"#C8D4E3\"}, \"line\": {\"color\": \"white\"}}, \"type\": \"table\"}]}, \"layout\": {\"annotationdefaults\": {\"arrowcolor\": \"#2a3f5f\", \"arrowhead\": 0, \"arrowwidth\": 1}, \"coloraxis\": {\"colorbar\": {\"outlinewidth\": 0, \"ticks\": \"\"}}, \"colorscale\": {\"diverging\": [[0, \"#8e0152\"], [0.1, \"#c51b7d\"], [0.2, \"#de77ae\"], [0.3, \"#f1b6da\"], [0.4, \"#fde0ef\"], [0.5, \"#f7f7f7\"], [0.6, \"#e6f5d0\"], [0.7, \"#b8e186\"], [0.8, \"#7fbc41\"], [0.9, \"#4d9221\"], [1, \"#276419\"]], \"sequential\": [[0.0, \"#0d0887\"], [0.1111111111111111, \"#46039f\"], [0.2222222222222222, \"#7201a8\"], [0.3333333333333333, \"#9c179e\"], [0.4444444444444444, \"#bd3786\"], [0.5555555555555556, \"#d8576b\"], [0.6666666666666666, \"#ed7953\"], [0.7777777777777778, \"#fb9f3a\"], [0.8888888888888888, \"#fdca26\"], [1.0, \"#f0f921\"]], \"sequentialminus\": [[0.0, \"#0d0887\"], [0.1111111111111111, \"#46039f\"], [0.2222222222222222, \"#7201a8\"], [0.3333333333333333, \"#9c179e\"], [0.4444444444444444, \"#bd3786\"], [0.5555555555555556, \"#d8576b\"], [0.6666666666666666, \"#ed7953\"], [0.7777777777777778, \"#fb9f3a\"], [0.8888888888888888, \"#fdca26\"], [1.0, \"#f0f921\"]]}, \"colorway\": [\"#636efa\", \"#EF553B\", \"#00cc96\", \"#ab63fa\", \"#FFA15A\", \"#19d3f3\", \"#FF6692\", \"#B6E880\", \"#FF97FF\", \"#FECB52\"], \"font\": {\"color\": \"#2a3f5f\"}, \"geo\": {\"bgcolor\": \"white\", \"lakecolor\": \"white\", \"landcolor\": \"#E5ECF6\", \"showlakes\": true, \"showland\": true, \"subunitcolor\": \"white\"}, \"hoverlabel\": {\"align\": \"left\"}, \"hovermode\": \"closest\", \"mapbox\": {\"style\": \"light\"}, \"paper_bgcolor\": \"white\", \"plot_bgcolor\": \"#E5ECF6\", \"polar\": {\"angularaxis\": {\"gridcolor\": \"white\", \"linecolor\": \"white\", \"ticks\": \"\"}, \"bgcolor\": \"#E5ECF6\", \"radialaxis\": {\"gridcolor\": \"white\", \"linecolor\": \"white\", \"ticks\": \"\"}}, \"scene\": {\"xaxis\": {\"backgroundcolor\": \"#E5ECF6\", \"gridcolor\": \"white\", \"gridwidth\": 2, \"linecolor\": \"white\", \"showbackground\": true, \"ticks\": \"\", \"zerolinecolor\": \"white\"}, \"yaxis\": {\"backgroundcolor\": \"#E5ECF6\", \"gridcolor\": \"white\", \"gridwidth\": 2, \"linecolor\": \"white\", \"showbackground\": true, \"ticks\": \"\", \"zerolinecolor\": \"white\"}, \"zaxis\": {\"backgroundcolor\": \"#E5ECF6\", \"gridcolor\": \"white\", \"gridwidth\": 2, \"linecolor\": \"white\", \"showbackground\": true, \"ticks\": \"\", \"zerolinecolor\": \"white\"}}, \"shapedefaults\": {\"line\": {\"color\": \"#2a3f5f\"}}, \"ternary\": {\"aaxis\": {\"gridcolor\": \"white\", \"linecolor\": \"white\", \"ticks\": \"\"}, \"baxis\": {\"gridcolor\": \"white\", \"linecolor\": \"white\", \"ticks\": \"\"}, \"bgcolor\": \"#E5ECF6\", \"caxis\": {\"gridcolor\": \"white\", \"linecolor\": \"white\", \"ticks\": \"\"}}, \"title\": {\"x\": 0.05}, \"xaxis\": {\"automargin\": true, \"gridcolor\": \"white\", \"linecolor\": \"white\", \"ticks\": \"\", \"title\": {\"standoff\": 15}, \"zerolinecolor\": \"white\", \"zerolinewidth\": 2}, \"yaxis\": {\"automargin\": true, \"gridcolor\": \"white\", \"linecolor\": \"white\", \"ticks\": \"\", \"title\": {\"standoff\": 15}, \"zerolinecolor\": \"white\", \"zerolinewidth\": 2}}}, \"title\": {\"text\": \"Confirmed covid 19 deaths (log scale)\"}},                        {\"responsive\": true}                    ).then(function(){\n",
       "                            \n",
       "var gd = document.getElementById('1c5f93bf-20ca-4048-9fba-4a209406ccdd');\n",
       "var x = new MutationObserver(function (mutations, observer) {{\n",
       "        var display = window.getComputedStyle(gd).display;\n",
       "        if (!display || display === 'none') {{\n",
       "            console.log([gd, 'removed!']);\n",
       "            Plotly.purge(gd);\n",
       "            observer.disconnect();\n",
       "        }}\n",
       "}});\n",
       "\n",
       "// Listen for the removal of the full notebook cells\n",
       "var notebookContainer = gd.closest('#notebook-container');\n",
       "if (notebookContainer) {{\n",
       "    x.observe(notebookContainer, {childList: true});\n",
       "}}\n",
       "\n",
       "// Listen for the clearing of the current output cell\n",
       "var outputEl = gd.closest('.output');\n",
       "if (outputEl) {{\n",
       "    x.observe(outputEl, {childList: true});\n",
       "}}\n",
       "\n",
       "                        })                };                });            </script>        </div>"
      ]
     },
     "metadata": {},
     "output_type": "display_data"
    }
   ],
   "source": [
    "fig2 = px.choropleth(cases_and_deaths_in_each_country, locations=cases_and_deaths_in_each_country['Country_code'],\n",
    "                    color=np.log10(cases_and_deaths_in_each_country[\"deaths\"]), # lifeExp is a column of gapminder\n",
    "                    hover_name=\"Country\", \n",
    "                    hover_data = ['deaths'],\n",
    "                    color_continuous_scale='Reds') # column to add to hover information\n",
    "fig2.update_geos(fitbounds=\"locations\", visible=False)\n",
    "fig2.update_layout(title_text = 'Confirmed covid 19 deaths (log scale)')\n",
    "fig2.update_coloraxes(colorbar_title = 'Confirmed deaths (log scale)')"
   ]
  },
  {
   "cell_type": "code",
   "execution_count": null,
   "metadata": {},
   "outputs": [],
   "source": []
  }
 ],
 "metadata": {
  "kernelspec": {
   "display_name": "Python 3",
   "language": "python",
   "name": "python3"
  },
  "language_info": {
   "codemirror_mode": {
    "name": "ipython",
    "version": 3
   },
   "file_extension": ".py",
   "mimetype": "text/x-python",
   "name": "python",
   "nbconvert_exporter": "python",
   "pygments_lexer": "ipython3",
   "version": "3.7.6"
  }
 },
 "nbformat": 4,
 "nbformat_minor": 4
}
